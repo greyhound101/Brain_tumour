{
  "nbformat": 4,
  "nbformat_minor": 0,
  "metadata": {
    "colab": {
      "name": "Untitled4.ipynb",
      "provenance": [],
      "authorship_tag": "ABX9TyMxPXL8zZOcGTWEF64hNl4u",
      "include_colab_link": true
    },
    "kernelspec": {
      "name": "python3",
      "display_name": "Python 3"
    },
    "accelerator": "GPU"
  },
  "cells": [
    {
      "cell_type": "markdown",
      "metadata": {
        "id": "view-in-github",
        "colab_type": "text"
      },
      "source": [
        "<a href=\"https://colab.research.google.com/github/greyhound101/internship/blob/master/Untitled4.ipynb\" target=\"_parent\"><img src=\"https://colab.research.google.com/assets/colab-badge.svg\" alt=\"Open In Colab\"/></a>"
      ]
    },
    {
      "cell_type": "code",
      "metadata": {
        "id": "obk9hWD-3j8e",
        "colab_type": "code",
        "outputId": "f713c652-92a5-44ea-d568-d48fd03a3e54",
        "colab": {
          "base_uri": "https://localhost:8080/",
          "height": 332
        }
      },
      "source": [
        "from keras.datasets import mnist\n",
        "import matplotlib.pyplot as plt\n",
        "from sklearn.metrics import accuracy_score\n",
        "import pandas as pd\n",
        "import numpy as np\n",
        "(x_train,y_train),(x_test,y_test)=mnist.load_data()\n",
        "plt.imshow(x_train[0])"
      ],
      "execution_count": 0,
      "outputs": [
        {
          "output_type": "stream",
          "text": [
            "Using TensorFlow backend.\n"
          ],
          "name": "stderr"
        },
        {
          "output_type": "stream",
          "text": [
            "Downloading data from https://s3.amazonaws.com/img-datasets/mnist.npz\n",
            "11493376/11490434 [==============================] - 2s 0us/step\n"
          ],
          "name": "stdout"
        },
        {
          "output_type": "execute_result",
          "data": {
            "text/plain": [
              "<matplotlib.image.AxesImage at 0x7f6d7aa7da58>"
            ]
          },
          "metadata": {
            "tags": []
          },
          "execution_count": 1
        },
        {
          "output_type": "display_data",
          "data": {
            "image/png": "[encoded data removed]",
            "text/plain": [
              "<Figure size 432x288 with 1 Axes>"
            ]
          },
          "metadata": {
            "tags": [],
            "needs_background": "light"
          }
        }
      ]
    },
    {
      "cell_type": "code",
      "metadata": {
        "id": "2UksuyvxKFvv",
        "colab_type": "code",
        "outputId": "c631931c-854a-4df3-bccd-0eeda8936b5b",
        "colab": {
          "base_uri": "https://localhost:8080/",
          "height": 335
        }
      },
      "source": [
        "import seaborn as sns\n",
        "sns.distplot(x_train[0])"
      ],
      "execution_count": 0,
      "outputs": [
        {
          "output_type": "stream",
          "text": [
            "/usr/local/lib/python3.6/dist-packages/statsmodels/tools/_testing.py:19: FutureWarning: pandas.util.testing is deprecated. Use the functions in the public API at pandas.testing instead.\n",
            "  import pandas.util.testing as tm\n"
          ],
          "name": "stderr"
        },
        {
          "output_type": "execute_result",
          "data": {
            "text/plain": [
              "<matplotlib.axes._subplots.AxesSubplot at 0x7f6d799a5550>"
            ]
          },
          "metadata": {
            "tags": []
          },
          "execution_count": 2
        },
        {
          "output_type": "display_data",
          "data": {
            "image/png": "[encoded data removed]",
            "text/plain": [
              "<Figure size 432x288 with 1 Axes>"
            ]
          },
          "metadata": {
            "tags": [],
            "needs_background": "light"
          }
        }
      ]
    },
    {
      "cell_type": "code",
      "metadata": {
        "id": "cG-3FchY4kTX",
        "colab_type": "code",
        "colab": {}
      },
      "source": [
        "from keras.layers import Dense,Flatten,Dropout\n",
        "from keras.models import Model \n",
        "import keras.backend as K\n",
        "from keras.utils import to_categorical\n",
        "# y_train=to_categorical(y_train)\n",
        "# y_test=to_categorical(y_test)"
      ],
      "execution_count": 0,
      "outputs": []
    },
    {
      "cell_type": "code",
      "metadata": {
        "id": "iwie_7ru6gQV",
        "colab_type": "code",
        "outputId": "fb750e66-255f-4eb7-a3a5-190ed03abac0",
        "colab": {
          "base_uri": "https://localhost:8080/",
          "height": 50
        }
      },
      "source": [
        "print(y_train.shape)\n",
        "print(x_train.shape)\n",
        "from keras.layers import Conv2D,Input,MaxPooling2D\n",
        "x_train=x_train/255\n",
        "x_test=x_test/255"
      ],
      "execution_count": 0,
      "outputs": [
        {
          "output_type": "stream",
          "text": [
            "(60000,)\n",
            "(60000, 28, 28)\n"
          ],
          "name": "stdout"
        }
      ]
    },
    {
      "cell_type": "code",
      "metadata": {
        "id": "C9rAhWdAJ7dS",
        "colab_type": "code",
        "outputId": "bf67be43-e92d-4cbf-999c-826bcc86900f",
        "colab": {
          "base_uri": "https://localhost:8080/",
          "height": 265
        }
      },
      "source": [
        "plt.imshow(x_train[0])\n",
        "x_train=x_train.reshape((x_train.shape[0],28,28,1))\n",
        "x_test=x_test.reshape((x_test.shape[0],28,28,1))"
      ],
      "execution_count": 0,
      "outputs": [
        {
          "output_type": "display_data",
          "data": {
            "image/png": "[encoded data removed]",
            "text/plain": [
              "<Figure size 432x288 with 1 Axes>"
            ]
          },
          "metadata": {
            "tags": [],
            "needs_background": "light"
          }
        }
      ]
    },
    {
      "cell_type": "code",
      "metadata": {
        "id": "RAuM_tbnKOLv",
        "colab_type": "code",
        "outputId": "551e20c7-dc64-40c7-8a85-9f81fbab4a38",
        "colab": {
          "base_uri": "https://localhost:8080/",
          "height": 281
        }
      },
      "source": [
        "sns.distplot(x_train[0])"
      ],
      "execution_count": 0,
      "outputs": [
        {
          "output_type": "execute_result",
          "data": {
            "text/plain": [
              "<matplotlib.axes._subplots.AxesSubplot at 0x7f6d798f7b70>"
            ]
          },
          "metadata": {
            "tags": []
          },
          "execution_count": 6
        },
        {
          "output_type": "display_data",
          "data": {
            "image/png": "[encoded data removed]",
            "text/plain": [
              "<Figure size 432x288 with 1 Axes>"
            ]
          },
          "metadata": {
            "tags": [],
            "needs_background": "light"
          }
        }
      ]
    },
    {
      "cell_type": "code",
      "metadata": {
        "id": "R_mp9GaTHaZ9",
        "colab_type": "code",
        "colab": {}
      },
      "source": [
        "from collections import Counter\n",
        "val=Counter(y_test).values()"
      ],
      "execution_count": 0,
      "outputs": []
    },
    {
      "cell_type": "code",
      "metadata": {
        "id": "TshZJMpiIFFs",
        "colab_type": "code",
        "colab": {}
      },
      "source": [
        ""
      ],
      "execution_count": 0,
      "outputs": []
    },
    {
      "cell_type": "code",
      "metadata": {
        "id": "17zOsJS_FCyY",
        "colab_type": "code",
        "colab": {}
      },
      "source": [
        "import seaborn as sns\n",
        "def confusion_matrix(pred,true):\n",
        "  conf=np.zeros((len(np.unique(pred)),len(np.unique(pred))))\n",
        "  for en in range(len(pred)):\n",
        "    conf[pred[en],true[en]]+=1\n",
        "  sns.heatmap(conf/list(Counter(y_test).values()))\n",
        "def roc_curve(a,b):\n",
        "  xs=[]\n",
        "  ys=[]\n",
        "  for val in range(11):\n",
        "    c=[1 if i>(val/10) else 0 for i in a]\n",
        "    tp=0\n",
        "    tn=0\n",
        "    print(c)\n",
        "    print(b)\n",
        "    tp=sum([(c[i]==1)&(b[i]==1) for i in range(5)])\n",
        "    fn=sum([(c[i]==0)&(b[i]==1) for i in range(5)])\n",
        "    xs.append(tp/(tp+fn))\n",
        "    tn=sum([(c[i]==0)&(b[i]==0) for i in range(5)])\n",
        "    fp=sum([(c[i]==1)&(b[i]==0) for i in range(5)])\n",
        "    ys.append(fp/(fp+tn))\n",
        "  sns.scatterplot(xs,ys)"
      ],
      "execution_count": 0,
      "outputs": []
    },
    {
      "cell_type": "code",
      "metadata": {
        "id": "IJ-RSvi6yBMt",
        "colab_type": "code",
        "outputId": "0f19c9a9-e68a-4519-b5a4-067feccddebc",
        "colab": {
          "base_uri": "https://localhost:8080/",
          "height": 616
        }
      },
      "source": [
        "\n",
        "inp=Input((28,28,1))\n",
        "cnv=Conv2D(32,(5,5),input_shape=(28,28,1),activation='relu')(inp)\n",
        "mxp=MaxPooling2D()(cnv)\n",
        "drp=Dropout(0.3)(mxp)\n",
        "flt=Flatten()(drp)\n",
        "dns=Dense(128,activation='relu')(flt)\n",
        "out=Dense(10,activation='softmax')(dns)\n",
        "mod=Model(inputs=inp,outputs=out)\n",
        "mod.compile(loss='categorical_crossentropy',optimizer='adam')\n",
        "mod.fit(x_train,to_categorical(y_train),epochs=10,batch_size=200)\n",
        "pred=mod.predict(x_test)\n",
        "pred_1=np.argmax(pred,1)\n",
        "confusion_matrix(pred_1,y_test)\n",
        "print(\"validation accuracy is = \"+str(accuracy_score(y_test,pred_1)))"
      ],
      "execution_count": 0,
      "outputs": [
        {
          "output_type": "stream",
          "text": [
            "Epoch 1/10\n",
            "60000/60000 [==============================] - 3s 48us/step - loss: 0.2440\n",
            "Epoch 2/10\n",
            "60000/60000 [==============================] - 3s 46us/step - loss: 0.0768\n",
            "Epoch 3/10\n",
            "60000/60000 [==============================] - 3s 45us/step - loss: 0.0533\n",
            "Epoch 4/10\n",
            "60000/60000 [==============================] - 3s 46us/step - loss: 0.0430\n",
            "Epoch 5/10\n",
            "60000/60000 [==============================] - 3s 46us/step - loss: 0.0359\n",
            "Epoch 6/10\n",
            "60000/60000 [==============================] - 3s 46us/step - loss: 0.0294\n",
            "Epoch 7/10\n",
            "60000/60000 [==============================] - 3s 45us/step - loss: 0.0254\n",
            "Epoch 8/10\n",
            "60000/60000 [==============================] - 3s 45us/step - loss: 0.0216\n",
            "Epoch 9/10\n",
            "60000/60000 [==============================] - 3s 45us/step - loss: 0.0194\n",
            "Epoch 10/10\n",
            "60000/60000 [==============================] - 3s 46us/step - loss: 0.0155\n",
            "validation accuracy is = 0.9889\n"
          ],
          "name": "stdout"
        },
        {
          "output_type": "display_data",
          "data": {
            "image/png": "[encoded data removed]",
            "text/plain": [
              "<Figure size 432x288 with 2 Axes>"
            ]
          },
          "metadata": {
            "tags": [],
            "needs_background": "light"
          }
        }
      ]
    },
    {
      "cell_type": "code",
      "metadata": {
        "id": "mCaa7_yX5IiT",
        "colab_type": "code",
        "outputId": "70b94c0e-5c46-4f1d-b05d-a6ed21c769a0",
        "colab": {
          "base_uri": "https://localhost:8080/",
          "height": 616
        }
      },
      "source": [
        "\n",
        "inp=Input((28,28,1))\n",
        "cnv=Conv2D(32,(5,5),input_shape=(28,28,1),activation='relu')(inp)\n",
        "mxp=MaxPooling2D()(cnv)\n",
        "drp=Dropout(0.3)(mxp)\n",
        "flt=Flatten()(drp)\n",
        "dns=Dense(128,activation='relu')(flt)\n",
        "out=Dense(10,activation='softmax')(dns)\n",
        "mod=Model(inputs=inp,outputs=out)\n",
        "mod.compile(loss='categorical_crossentropy',optimizer='sgd')\n",
        "mod.fit(x_train,to_categorical(y_train),epochs=10,batch_size=200)\n",
        "pred=mod.predict(x_test)\n",
        "pred_1=np.argmax(pred,1)\n",
        "confusion_matrix(pred_1,y_test)\n",
        "print(\"validation accuracy is = \"+str(accuracy_score(y_test,pred_1)))"
      ],
      "execution_count": 0,
      "outputs": [
        {
          "output_type": "stream",
          "text": [
            "Epoch 1/10\n",
            "60000/60000 [==============================] - 3s 45us/step - loss: 1.1887\n",
            "Epoch 2/10\n",
            "60000/60000 [==============================] - 3s 42us/step - loss: 0.4527\n",
            "Epoch 3/10\n",
            "60000/60000 [==============================] - 2s 42us/step - loss: 0.3823\n",
            "Epoch 4/10\n",
            "60000/60000 [==============================] - 3s 42us/step - loss: 0.3458\n",
            "Epoch 5/10\n",
            "60000/60000 [==============================] - 2s 41us/step - loss: 0.3157\n",
            "Epoch 6/10\n",
            "60000/60000 [==============================] - 2s 40us/step - loss: 0.2916\n",
            "Epoch 7/10\n",
            "60000/60000 [==============================] - 2s 41us/step - loss: 0.2727\n",
            "Epoch 8/10\n",
            "60000/60000 [==============================] - 2s 40us/step - loss: 0.2528\n",
            "Epoch 9/10\n",
            "60000/60000 [==============================] - 2s 40us/step - loss: 0.2364\n",
            "Epoch 10/10\n",
            "60000/60000 [==============================] - 2s 40us/step - loss: 0.2216\n",
            "validation accuracy is = 0.9485\n"
          ],
          "name": "stdout"
        },
        {
          "output_type": "display_data",
          "data": {
            "image/png": "[encoded data removed]",
            "text/plain": [
              "<Figure size 432x288 with 2 Axes>"
            ]
          },
          "metadata": {
            "tags": [],
            "needs_background": "light"
          }
        }
      ]
    },
    {
      "cell_type": "code",
      "metadata": {
        "id": "SDmWs7ai6ylq",
        "colab_type": "code",
        "outputId": "59ea7879-449f-4cf1-d9a8-8c374508957d",
        "colab": {
          "base_uri": "https://localhost:8080/",
          "height": 616
        }
      },
      "source": [
        "\n",
        "inp=Input((28,28,1))\n",
        "cnv=Conv2D(32,(5,5),input_shape=(28,28,1),activation='relu')(inp)\n",
        "mxp=MaxPooling2D()(cnv)\n",
        "drp=Dropout(0.3)(mxp)\n",
        "flt=Flatten()(drp)\n",
        "dns=Dense(128,activation='relu')(flt)\n",
        "out=Dense(10,activation='softmax')(dns)\n",
        "mod=Model(inputs=inp,outputs=out)\n",
        "mod.compile(loss='categorical_crossentropy',optimizer='rmsprop')\n",
        "mod.fit(x_train,to_categorical(y_train),epochs=10,batch_size=200)\n",
        "pred=mod.predict(x_test)\n",
        "pred_1=np.argmax(pred,1)\n",
        "confusion_matrix(pred_1,y_test)\n",
        "print(\"validation accuracy is = \"+str(accuracy_score(y_test,pred_1)))"
      ],
      "execution_count": 0,
      "outputs": [
        {
          "output_type": "stream",
          "text": [
            "Epoch 1/10\n",
            "60000/60000 [==============================] - 3s 46us/step - loss: 0.2661\n",
            "Epoch 2/10\n",
            "60000/60000 [==============================] - 3s 44us/step - loss: 0.0734\n",
            "Epoch 3/10\n",
            "60000/60000 [==============================] - 3s 44us/step - loss: 0.0499\n",
            "Epoch 4/10\n",
            "60000/60000 [==============================] - 3s 44us/step - loss: 0.0387\n",
            "Epoch 5/10\n",
            "60000/60000 [==============================] - 3s 43us/step - loss: 0.0315\n",
            "Epoch 6/10\n",
            "60000/60000 [==============================] - 3s 44us/step - loss: 0.0251\n",
            "Epoch 7/10\n",
            "60000/60000 [==============================] - 3s 43us/step - loss: 0.0213\n",
            "Epoch 8/10\n",
            "60000/60000 [==============================] - 3s 43us/step - loss: 0.0186\n",
            "Epoch 9/10\n",
            "60000/60000 [==============================] - 3s 43us/step - loss: 0.0159\n",
            "Epoch 10/10\n",
            "60000/60000 [==============================] - 3s 43us/step - loss: 0.0138\n",
            "validation accuracy is = 0.9898\n"
          ],
          "name": "stdout"
        },
        {
          "output_type": "display_data",
          "data": {
            "image/png": "[encoded data removed]",
            "text/plain": [
              "<Figure size 432x288 with 2 Axes>"
            ]
          },
          "metadata": {
            "tags": [],
            "needs_background": "light"
          }
        }
      ]
    },
    {
      "cell_type": "code",
      "metadata": {
        "id": "C7WoKrk2p88O",
        "colab_type": "code",
        "outputId": "a723be69-a486-46f6-920c-304e7871a8f5",
        "colab": {
          "base_uri": "https://localhost:8080/",
          "height": 616
        }
      },
      "source": [
        "\n",
        "inp=Input((28,28,1))\n",
        "cnv=Conv2D(32,(5,5),input_shape=(28,28,1),activation='relu')(inp)\n",
        "mxp=MaxPooling2D()(cnv)\n",
        "flt=Flatten()(mxp)\n",
        "dns=Dense(128,activation='relu')(flt)\n",
        "out=Dense(10,activation='softmax')(dns)\n",
        "mod=Model(inputs=inp,outputs=out)\n",
        "mod.compile(loss='categorical_crossentropy',optimizer='adam')\n",
        "mod.fit(x_train,to_categorical(y_train),epochs=10,batch_size=200)\n",
        "pred=mod.predict(x_test)\n",
        "pred_1=np.argmax(pred,1)\n",
        "confusion_matrix(pred_1,y_test)\n",
        "print(\"validation accuracy is = \"+str(accuracy_score(y_test,pred_1)))"
      ],
      "execution_count": 0,
      "outputs": [
        {
          "output_type": "stream",
          "text": [
            "Epoch 1/10\n",
            "60000/60000 [==============================] - 3s 43us/step - loss: 0.2302\n",
            "Epoch 2/10\n",
            "60000/60000 [==============================] - 2s 42us/step - loss: 0.0643\n",
            "Epoch 3/10\n",
            "60000/60000 [==============================] - 2s 41us/step - loss: 0.0448\n",
            "Epoch 4/10\n",
            "60000/60000 [==============================] - 2s 41us/step - loss: 0.0348\n",
            "Epoch 5/10\n",
            "60000/60000 [==============================] - 3s 42us/step - loss: 0.0263\n",
            "Epoch 6/10\n",
            "60000/60000 [==============================] - 2s 41us/step - loss: 0.0218\n",
            "Epoch 7/10\n",
            "60000/60000 [==============================] - 3s 44us/step - loss: 0.0173\n",
            "Epoch 8/10\n",
            "60000/60000 [==============================] - 3s 44us/step - loss: 0.0133\n",
            "Epoch 9/10\n",
            "60000/60000 [==============================] - 3s 45us/step - loss: 0.0095\n",
            "Epoch 10/10\n",
            "60000/60000 [==============================] - 3s 44us/step - loss: 0.0090\n",
            "validation accuracy is = 0.9878\n"
          ],
          "name": "stdout"
        },
        {
          "output_type": "display_data",
          "data": {
            "image/png": "[encoded data removed]",
            "text/plain": [
              "<Figure size 432x288 with 2 Axes>"
            ]
          },
          "metadata": {
            "tags": [],
            "needs_background": "light"
          }
        }
      ]
    },
    {
      "cell_type": "code",
      "metadata": {
        "id": "fpxWdL1Fz-Ll",
        "colab_type": "code",
        "outputId": "d6edcf2a-bb50-4e98-e9e3-7edba8d7bad2",
        "colab": {
          "base_uri": "https://localhost:8080/",
          "height": 616
        }
      },
      "source": [
        "\n",
        "inp=Input((28,28,1))\n",
        "cnv=Conv2D(32,(5,5),input_shape=(28,28,1),activation='relu')(inp)\n",
        "mxp=MaxPooling2D()(cnv)\n",
        "flt=Flatten()(mxp)\n",
        "dns=Dense(128,activation='relu')(flt)\n",
        "out=Dense(10,activation='softmax')(dns)\n",
        "mod=Model(inputs=inp,outputs=out)\n",
        "mod.compile(loss='categorical_crossentropy',optimizer='sgd')\n",
        "mod.fit(x_train,to_categorical(y_train),epochs=10,batch_size=200)\n",
        "pred=mod.predict(x_test)\n",
        "pred_1=np.argmax(pred,1)\n",
        "confusion_matrix(pred_1,y_test)\n",
        "print(\"validation accuracy is = \"+str(accuracy_score(y_test,pred_1)))"
      ],
      "execution_count": 0,
      "outputs": [
        {
          "output_type": "stream",
          "text": [
            "Epoch 1/10\n",
            "60000/60000 [==============================] - 2s 39us/step - loss: 1.2361\n",
            "Epoch 2/10\n",
            "60000/60000 [==============================] - 2s 37us/step - loss: 0.3832\n",
            "Epoch 3/10\n",
            "60000/60000 [==============================] - 2s 37us/step - loss: 0.3097\n",
            "Epoch 4/10\n",
            "60000/60000 [==============================] - 2s 36us/step - loss: 0.2739\n",
            "Epoch 5/10\n",
            "60000/60000 [==============================] - 2s 38us/step - loss: 0.2476\n",
            "Epoch 6/10\n",
            "60000/60000 [==============================] - 2s 37us/step - loss: 0.2261\n",
            "Epoch 7/10\n",
            "60000/60000 [==============================] - 2s 38us/step - loss: 0.2083\n",
            "Epoch 8/10\n",
            "60000/60000 [==============================] - 2s 37us/step - loss: 0.1927\n",
            "Epoch 9/10\n",
            "60000/60000 [==============================] - 2s 37us/step - loss: 0.1794\n",
            "Epoch 10/10\n",
            "60000/60000 [==============================] - 2s 37us/step - loss: 0.1680\n",
            "validation accuracy is = 0.9547\n"
          ],
          "name": "stdout"
        },
        {
          "output_type": "display_data",
          "data": {
            "image/png": "[encoded data removed]",
            "text/plain": [
              "<Figure size 432x288 with 2 Axes>"
            ]
          },
          "metadata": {
            "tags": [],
            "needs_background": "light"
          }
        }
      ]
    },
    {
      "cell_type": "code",
      "metadata": {
        "id": "wkClFFEFz_jf",
        "colab_type": "code",
        "outputId": "c281bd45-83b8-4a9b-99f3-94a2ff743aa5",
        "colab": {
          "base_uri": "https://localhost:8080/",
          "height": 616
        }
      },
      "source": [
        "\n",
        "inp=Input((28,28,1))\n",
        "cnv=Conv2D(32,(5,5),input_shape=(28,28,1),activation='relu')(inp)\n",
        "mxp=MaxPooling2D()(cnv)\n",
        "flt=Flatten()(mxp)\n",
        "dns=Dense(128,activation='relu')(flt)\n",
        "out=Dense(10,activation='softmax')(dns)\n",
        "mod=Model(inputs=inp,outputs=out)\n",
        "mod.compile(loss='categorical_crossentropy',optimizer='rmsprop')\n",
        "mod.fit(x_train,to_categorical(y_train),epochs=10,batch_size=200)\n",
        "pred=mod.predict(x_test)\n",
        "pred_1=np.argmax(pred,1)\n",
        "confusion_matrix(pred_1,y_test)\n",
        "print(\"validation accuracy is = \"+str(accuracy_score(y_test,pred_1)))"
      ],
      "execution_count": 0,
      "outputs": [
        {
          "output_type": "stream",
          "text": [
            "Epoch 1/10\n",
            "60000/60000 [==============================] - 3s 47us/step - loss: 0.2349\n",
            "Epoch 2/10\n",
            "60000/60000 [==============================] - 3s 42us/step - loss: 0.0630\n",
            "Epoch 3/10\n",
            "60000/60000 [==============================] - 3s 42us/step - loss: 0.0410\n",
            "Epoch 4/10\n",
            "60000/60000 [==============================] - 3s 45us/step - loss: 0.0302\n",
            "Epoch 5/10\n",
            "60000/60000 [==============================] - 3s 44us/step - loss: 0.0223\n",
            "Epoch 6/10\n",
            "60000/60000 [==============================] - 3s 42us/step - loss: 0.0169\n",
            "Epoch 7/10\n",
            "60000/60000 [==============================] - 3s 43us/step - loss: 0.0129\n",
            "Epoch 8/10\n",
            "60000/60000 [==============================] - 2s 41us/step - loss: 0.0096\n",
            "Epoch 9/10\n",
            "60000/60000 [==============================] - 3s 42us/step - loss: 0.0074\n",
            "Epoch 10/10\n",
            "60000/60000 [==============================] - 2s 41us/step - loss: 0.0060\n",
            "validation accuracy is = 0.9885\n"
          ],
          "name": "stdout"
        },
        {
          "output_type": "display_data",
          "data": {
            "image/png": "[encoded data removed]",
            "text/plain": [
              "<Figure size 432x288 with 2 Axes>"
            ]
          },
          "metadata": {
            "tags": [],
            "needs_background": "light"
          }
        }
      ]
    },
    {
      "cell_type": "code",
      "metadata": {
        "id": "-1hR1jnT0AkN",
        "colab_type": "code",
        "outputId": "cad2febc-ad8b-4e99-8ee3-be4eeaa26397",
        "colab": {
          "base_uri": "https://localhost:8080/",
          "height": 616
        }
      },
      "source": [
        "\n",
        "inp=Input((28,28,1))\n",
        "cnv=Conv2D(32,(5,5),input_shape=(28,28,1),activation='relu',padding='same')(inp)\n",
        "mxp=MaxPooling2D()(cnv)\n",
        "cnv1=Conv2D(32,(5,5),input_shape=(28,28,1),activation='relu',padding='same')(mxp)\n",
        "mxp1=MaxPooling2D(pool_size=(2,2), strides=(2,2))(cnv1)\n",
        "flt=Flatten()(mxp1)\n",
        "dns1=Dense(128,activation='relu')(flt)\n",
        "out=Dense(10,activation='softmax')(dns1)\n",
        "mod=Model(inputs=inp,outputs=out)\n",
        "mod.compile(optimizer='adam',loss='categorical_crossentropy')\n",
        "mod.fit(x_train,to_categorical(y_train),epochs=10,batch_size=200)\n",
        "pred=mod.predict(x_test)\n",
        "pred_1=np.argmax(pred,1)\n",
        "confusion_matrix(pred_1,y_test)\n",
        "print(\"validation accuracy is = \"+str(accuracy_score(y_test,pred_1)))"
      ],
      "execution_count": 0,
      "outputs": [
        {
          "output_type": "stream",
          "text": [
            "Epoch 1/10\n",
            "60000/60000 [==============================] - 4s 71us/step - loss: 0.2429\n",
            "Epoch 2/10\n",
            "60000/60000 [==============================] - 4s 66us/step - loss: 0.0555\n",
            "Epoch 3/10\n",
            "60000/60000 [==============================] - 4s 66us/step - loss: 0.0380\n",
            "Epoch 4/10\n",
            "60000/60000 [==============================] - 4s 65us/step - loss: 0.0302\n",
            "Epoch 5/10\n",
            "60000/60000 [==============================] - 4s 66us/step - loss: 0.0248\n",
            "Epoch 6/10\n",
            "60000/60000 [==============================] - 4s 66us/step - loss: 0.0204\n",
            "Epoch 7/10\n",
            "60000/60000 [==============================] - 4s 66us/step - loss: 0.0162\n",
            "Epoch 8/10\n",
            "60000/60000 [==============================] - 4s 65us/step - loss: 0.0133\n",
            "Epoch 9/10\n",
            "60000/60000 [==============================] - 4s 66us/step - loss: 0.0105\n",
            "Epoch 10/10\n",
            "60000/60000 [==============================] - 4s 66us/step - loss: 0.0100\n",
            "validation accuracy is = 0.9928\n"
          ],
          "name": "stdout"
        },
        {
          "output_type": "display_data",
          "data": {
            "image/png": "[encoded data removed]",
            "text/plain": [
              "<Figure size 432x288 with 2 Axes>"
            ]
          },
          "metadata": {
            "tags": [],
            "needs_background": "light"
          }
        }
      ]
    },
    {
      "cell_type": "code",
      "metadata": {
        "id": "bbHDSJtNLO-p",
        "colab_type": "code",
        "outputId": "9ee3b87f-171f-416d-abea-1286d91fd91a",
        "colab": {
          "base_uri": "https://localhost:8080/",
          "height": 351
        }
      },
      "source": [
        "\n",
        "inp=Input((28,28,1))\n",
        "cnv=Conv2D(32,(5,5),input_shape=(28,28,1),activation='relu',padding='same')(inp)\n",
        "mxp=MaxPooling2D()(cnv)\n",
        "drp=Dropout(0.3)(mxp)\n",
        "cnv1=Conv2D(32,(5,5),input_shape=(28,28,1),activation='relu',padding='same')(drp)\n",
        "mxp1=MaxPooling2D(pool_size=(2,2), strides=(2,2))(cnv1)\n",
        "drp1=Dropout(0.3)(mxp1)\n",
        "flt=Flatten()(drp1)\n",
        "dns1=Dense(128,activation='relu')(flt)\n",
        "out=Dense(10,activation='softmax')(dns1)\n",
        "mod=Model(inputs=inp,outputs=out)\n",
        "mod.compile(optimizer='adam',loss='categorical_crossentropy')\n",
        "mod.fit(x_train,to_categorical(y_train),epochs=10,batch_size=200)\n",
        "pred=mod.predict(x_test)\n",
        "pred_1=np.argmax(pred,1)\n",
        "confusion_matrix(pred_1,y_test)\n",
        "print(\"validation accuracy is = \"+str(accuracy_score(y_test,pred_1)))"
      ],
      "execution_count": 0,
      "outputs": [
        {
          "output_type": "stream",
          "text": [
            "Epoch 1/10\n",
            "60000/60000 [==============================] - 5s 77us/step - loss: 0.2981\n",
            "Epoch 2/10\n",
            "60000/60000 [==============================] - 4s 72us/step - loss: 0.0830\n",
            "Epoch 3/10\n",
            "60000/60000 [==============================] - 4s 72us/step - loss: 0.0601\n",
            "Epoch 4/10\n",
            "60000/60000 [==============================] - 4s 72us/step - loss: 0.0495\n",
            "Epoch 5/10\n",
            "60000/60000 [==============================] - 4s 72us/step - loss: 0.0424\n",
            "Epoch 6/10\n",
            "60000/60000 [==============================] - 4s 72us/step - loss: 0.0358\n",
            "Epoch 7/10\n",
            "60000/60000 [==============================] - 4s 72us/step - loss: 0.0327\n",
            "Epoch 8/10\n",
            "60000/60000 [==============================] - 4s 72us/step - loss: 0.0291\n",
            "Epoch 9/10\n",
            "60000/60000 [==============================] - 4s 72us/step - loss: 0.0267\n",
            "Epoch 10/10\n",
            "29800/60000 [=============>................] - ETA: 2s - loss: 0.0233"
          ],
          "name": "stdout"
        }
      ]
    },
    {
      "cell_type": "code",
      "metadata": {
        "id": "4U4lqdjlMhiu",
        "colab_type": "code",
        "colab": {}
      },
      "source": [
        ""
      ],
      "execution_count": 0,
      "outputs": []
    }
  ]
}