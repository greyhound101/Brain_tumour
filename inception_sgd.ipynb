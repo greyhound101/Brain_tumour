{
  "nbformat": 4,
  "nbformat_minor": 0,
  "metadata": {
    "colab": {
      "name": "inception_sgd.ipynb",
      "provenance": [],
      "authorship_tag": "ABX9TyPKOnjEKaFv1sGT5aT8v+S6",
      "include_colab_link": true
    },
    "kernelspec": {
      "name": "python3",
      "display_name": "Python 3"
    }
  },
  "cells": [
    {
      "cell_type": "markdown",
      "metadata": {
        "id": "view-in-github",
        "colab_type": "text"
      },
      "source": [
        "<a href=\"https://colab.research.google.com/github/greyhound101/Brain_tumour/blob/master/inception_sgd.ipynb\" target=\"_parent\"><img src=\"https://colab.research.google.com/assets/colab-badge.svg\" alt=\"Open In Colab\"/></a>"
      ]
    },
    {
      "cell_type": "code",
      "metadata": {
        "id": "ZdICNpvpnUy3",
        "outputId": "c1c0da8c-dc83-4526-aed8-74d80f32bc18",
        "colab": {
          "base_uri": "https://localhost:8080/",
          "height": 50
        }
      },
      "source": [
        "from google.colab import drive\n",
        "drive.mount('/content/gdrive')\n",
        "drive.mount(\"/content/gdrive\", force_remount=True)"
      ],
      "execution_count": 1,
      "outputs": [
        {
          "output_type": "stream",
          "text": [
            "Mounted at /content/gdrive\n",
            "Mounted at /content/gdrive\n"
          ],
          "name": "stdout"
        }
      ]
    },
    {
      "cell_type": "code",
      "metadata": {
        "id": "6-CKz45TnbqF"
      },
      "source": [
        "import numpy as np\n",
        "fold1=list(np.load('/content/actual_predictions1_1e-3_wn (4).npy'))\n",
        "fold2=list(np.load(   '/content/actual_predictions2_1e-3_wn (2).npy'))\n",
        "fold3=list(np.load(  '/content/actual_predictions3_1e-3_wn (1).npy'))\n",
        "fold4=list(np.load( '/content/actual_predictions4_1e-3_wn (3).npy'))\n",
        "fold5=list(np.load(  '/content/actual_predictions5_1e-3_wn (3).npy'))\n",
        "actual=fold1+fold2+fold3+fold4+fold5\n",
        "fold1_pre=list(np.load('/content/predictions_last_fold1_1e-3_wn (4).npy',allow_pickle=True).item()['fold_1'])\n",
        "fold2_pre=list(np.load(  '/content/predictions_last_fold2_1e-3_wn (2).npy',allow_pickle=True).item()['fold_2'])\n",
        "fold3_pre=list(np.load(  '/content/predictions_last_fold3_1e-3_wn (1).npy',allow_pickle=True).item()['fold_3'])\n",
        "fold4_pre=list(np.load( '/content/predictions_last_fold4_1e-3_wn (3).npy',allow_pickle=True).item()['fold_4'])\n",
        "fold5_pre=list(np.load(  '/content/predictions_last_fold5_1e-3_wn (3).npy',allow_pickle=True).item()['fold_5'])\n",
        "\n",
        "predicted=fold1_pre+fold2_pre+fold3_pre+fold4_pre+fold5_pre"
      ],
      "execution_count": 3,
      "outputs": []
    },
    {
      "cell_type": "code",
      "metadata": {
        "id": "Fq8aNVgQoWnw",
        "outputId": "add3b922-c030-4628-8947-8f72e2a71348",
        "colab": {
          "base_uri": "https://localhost:8080/",
          "height": 84
        }
      },
      "source": [
        "from sklearn.metrics import precision_recall_fscore_support\n",
        "precision_recall_fscore_support(actual, predicted)"
      ],
      "execution_count": 4,
      "outputs": [
        {
          "output_type": "execute_result",
          "data": {
            "text/plain": [
              "(array([0.78061911, 0.93222783, 0.93576017]),\n",
              " array([0.81920904, 0.90673212, 0.93978495]),\n",
              " array([0.79944866, 0.91930323, 0.93776824]),\n",
              " array([ 708, 1426,  930]))"
            ]
          },
          "metadata": {
            "tags": []
          },
          "execution_count": 4
        }
      ]
    },
    {
      "cell_type": "code",
      "metadata": {
        "id": "_L2HPEMpob9d",
        "outputId": "aa932edb-4375-49b6-f2c1-c979fb91a0b9",
        "colab": {
          "base_uri": "https://localhost:8080/",
          "height": 67
        }
      },
      "source": [
        "from sklearn.metrics import confusion_matrix\n",
        "confusion_matrix(actual,predicted)"
      ],
      "execution_count": 5,
      "outputs": [
        {
          "output_type": "execute_result",
          "data": {
            "text/plain": [
              "array([[ 580,   72,   56],\n",
              "       [ 129, 1293,    4],\n",
              "       [  34,   22,  874]])"
            ]
          },
          "metadata": {
            "tags": []
          },
          "execution_count": 5
        }
      ]
    },
    {
      "cell_type": "code",
      "metadata": {
        "id": "GDkGaLWHodGF",
        "outputId": "cf8512e7-eb2c-4802-edc6-08376e12cec0",
        "colab": {
          "base_uri": "https://localhost:8080/",
          "height": 34
        }
      },
      "source": [
        "(1293+874+26)/(1293+874+26+128)"
      ],
      "execution_count": 6,
      "outputs": [
        {
          "output_type": "execute_result",
          "data": {
            "text/plain": [
              "0.944851357173632"
            ]
          },
          "metadata": {
            "tags": []
          },
          "execution_count": 6
        }
      ]
    },
    {
      "cell_type": "code",
      "metadata": {
        "id": "rQC5Da_Uov2h",
        "outputId": "1a466c91-d545-4595-ecbe-916c40e45540",
        "colab": {
          "base_uri": "https://localhost:8080/",
          "height": 34
        }
      },
      "source": [
        "(580+874+90)/(580+874+90+133)"
      ],
      "execution_count": 7,
      "outputs": [
        {
          "output_type": "execute_result",
          "data": {
            "text/plain": [
              "0.9206917113893858"
            ]
          },
          "metadata": {
            "tags": []
          },
          "execution_count": 7
        }
      ]
    },
    {
      "cell_type": "code",
      "metadata": {
        "id": "ynX7hTVGo1de",
        "outputId": "c12ae615-45fc-49e6-863f-065be4a61a69",
        "colab": {
          "base_uri": "https://localhost:8080/",
          "height": 34
        }
      },
      "source": [
        "(1293+580+201)/(1293+580+201+56)"
      ],
      "execution_count": 8,
      "outputs": [
        {
          "output_type": "execute_result",
          "data": {
            "text/plain": [
              "0.9737089201877934"
            ]
          },
          "metadata": {
            "tags": []
          },
          "execution_count": 8
        }
      ]
    },
    {
      "cell_type": "code",
      "metadata": {
        "id": "OOY-Q4b0o9Wt",
        "outputId": "39fc68d3-b2db-44ec-b0cb-710fbb24c96e",
        "colab": {
          "base_uri": "https://localhost:8080/",
          "height": 34
        }
      },
      "source": [
        "(0.944851357173632+0.9737089201877934+0.9206917113893858)/3"
      ],
      "execution_count": 9,
      "outputs": [
        {
          "output_type": "execute_result",
          "data": {
            "text/plain": [
              "0.9464173295836037"
            ]
          },
          "metadata": {
            "tags": []
          },
          "execution_count": 9
        }
      ]
    },
    {
      "cell_type": "code",
      "metadata": {
        "id": "UNKttP7tpBKg"
      },
      "source": [
        ""
      ],
      "execution_count": null,
      "outputs": []
    }
  ]
}