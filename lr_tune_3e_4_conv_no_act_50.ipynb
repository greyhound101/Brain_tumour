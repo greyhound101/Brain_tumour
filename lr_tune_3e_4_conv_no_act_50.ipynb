{
  "nbformat": 4,
  "nbformat_minor": 0,
  "metadata": {
    "colab": {
      "name": "lr_tune_3e-4_conv_no_act_50.ipynb",
      "provenance": [],
      "include_colab_link": true
    },
    "kernelspec": {
      "name": "python3",
      "display_name": "Python 3"
    },
    "accelerator": "GPU"
  },
  "cells": [
    {
      "cell_type": "markdown",
      "metadata": {
        "id": "view-in-github",
        "colab_type": "text"
      },
      "source": [
        "<a href=\"https://colab.research.google.com/github/greyhound101/Brain_tumour/blob/master/lr_tune_3e_4_conv_no_act_50.ipynb\" target=\"_parent\"><img src=\"https://colab.research.google.com/assets/colab-badge.svg\" alt=\"Open In Colab\"/></a>"
      ]
    },
    {
      "cell_type": "code",
      "metadata": {
        "id": "hyAd8cKiv5Ej",
        "outputId": "4bc824d6-393b-4454-d4a5-5bd5237d80ad",
        "colab": {
          "base_uri": "https://localhost:8080/",
          "height": 54
        }
      },
      "source": [
        "from google.colab import drive\n",
        "drive.mount('/content/gdrive')\n",
        "drive.mount(\"/content/gdrive\", force_remount=True)"
      ],
      "execution_count": 1,
      "outputs": [
        {
          "output_type": "stream",
          "text": [
            "Drive already mounted at /content/gdrive; to attempt to forcibly remount, call drive.mount(\"/content/gdrive\", force_remount=True).\n",
            "Mounted at /content/gdrive\n"
          ],
          "name": "stdout"
        }
      ]
    },
    {
      "cell_type": "code",
      "metadata": {
        "id": "80WH-bjfv5vK"
      },
      "source": [
        "# import zipfile\n",
        "# with zipfile.ZipFile('/content/gdrive/My Drive/archive.zip', 'r') as zip_ref:\n",
        "#     zip_ref.extractall('')"
      ],
      "execution_count": 2,
      "outputs": []
    },
    {
      "cell_type": "code",
      "metadata": {
        "id": "VaWA_gNvxBJr",
        "outputId": "10e14647-0912-415e-e1fc-0b69384c565a",
        "colab": {
          "base_uri": "https://localhost:8080/",
          "height": 35
        }
      },
      "source": [
        "pip install pydicom"
      ],
      "execution_count": 3,
      "outputs": [
        {
          "output_type": "stream",
          "text": [
            "Requirement already satisfied: pydicom in /usr/local/lib/python3.6/dist-packages (2.0.0)\n"
          ],
          "name": "stdout"
        }
      ]
    },
    {
      "cell_type": "code",
      "metadata": {
        "id": "Re-bThzGw-vj"
      },
      "source": [
        "import copy\n",
        "from datetime import timedelta, datetime\n",
        "import imageio\n",
        "import matplotlib.pyplot as plt\n",
        "from matplotlib import cm\n",
        "import multiprocessing\n",
        "import numpy as np\n",
        "import os\n",
        "from pathlib import Path\n",
        "import pydicom\n",
        "import pytest\n",
        "import scipy.ndimage as ndimage\n",
        "from scipy.ndimage.interpolation import zoom\n",
        "from skimage import measure, morphology, segmentation\n",
        "from time import time, sleep\n",
        "from tqdm import trange, tqdm\n",
        "import torch\n",
        "import torch.nn as nn\n",
        "import torch.nn.functional as F\n",
        "from torch.utils.data import Dataset, random_split, DistributedSampler, DataLoader\n",
        "from torch.utils.tensorboard import SummaryWriter\n",
        "from torchvision import transforms\n",
        "import warnings"
      ],
      "execution_count": 4,
      "outputs": []
    },
    {
      "cell_type": "code",
      "metadata": {
        "id": "2MepiJCewTlF"
      },
      "source": [
        "class CTTensorsDataset(Dataset):\n",
        "    def __init__(self, transform=None):\n",
        "        self.tensor_files = [Path(i) for i in glob.glob('/content/ID*')]\n",
        "        self.transform = transform\n",
        "\n",
        "    def __len__(self):\n",
        "        return len(self.tensor_files)\n",
        "\n",
        "    def __getitem__(self, item):\n",
        "        if torch.is_tensor(item):\n",
        "            item = item.tolist()\n",
        "\n",
        "        image = torch.load(self.tensor_files[item])\n",
        "        if self.transform:\n",
        "            image = self.transform(image)\n",
        "\n",
        "        return {\n",
        "            'patient_id': self.tensor_files[item].stem,\n",
        "            'image': image\n",
        "        }\n",
        "\n",
        "    def mean(self):\n",
        "        cum = 0\n",
        "        for i in range(len(self)):\n",
        "            sample = self[i]['image']\n",
        "            cum += torch.mean(sample).item()\n",
        "\n",
        "        return cum / len(self)\n",
        "\n",
        "    def random_split(self, val_size: float):\n",
        "        num_val = int(val_size * len(self))\n",
        "        num_train = len(self) - num_val\n",
        "        return random_split(self, [num_train, num_val])"
      ],
      "execution_count": 5,
      "outputs": []
    },
    {
      "cell_type": "code",
      "metadata": {
        "id": "rPhMVZeywtjZ"
      },
      "source": [
        "class ZeroCenter:\n",
        "    def __init__(self, pre_calculated_mean):\n",
        "        self.pre_calculated_mean = pre_calculated_mean\n",
        "\n",
        "    def __call__(self, tensor):\n",
        "        return tensor - self.pre_calculated_mean"
      ],
      "execution_count": 6,
      "outputs": []
    },
    {
      "cell_type": "code",
      "metadata": {
        "id": "jCZEkwnKwyg9"
      },
      "source": [
        "root_dir = '/kaggle/input/osic-cached-dataset'\n",
        "test_dir = '/kaggle/input/osic-pulmonary-fibrosis-progression/test'\n",
        "model_file = '/kaggle/working/diophantus.pt'\n",
        "resize_dims = (40, 256, 256)\n",
        "clip_bounds = (-1000, 200)\n",
        "watershed_iterations = 1\n",
        "pre_calculated_mean = 0.02865046213070556\n",
        "latent_features = 10\n",
        "batch_size = 16\n",
        "learning_rate = 3e-4\n",
        "num_epochs = 10\n",
        "val_size = 0.2\n",
        "tensorboard_dir = '/kaggle/working/runs'\n",
        "\n",
        "# Device configuration\n",
        "device = torch.device('cuda' if torch.cuda.is_available() else 'cpu')"
      ],
      "execution_count": 7,
      "outputs": []
    },
    {
      "cell_type": "code",
      "metadata": {
        "id": "R1lVm3VSweak"
      },
      "source": [
        "import glob\n",
        "train = CTTensorsDataset(\n",
        "    transform=ZeroCenter(pre_calculated_mean=pre_calculated_mean)\n",
        ")\n",
        "cum = 0\n",
        "for i in range(len(train)):\n",
        "    sample = train[i]['image']\n",
        "    cum += torch.mean(sample).item()\n",
        "\n",
        "assert cum / len(train) == pytest.approx(0)"
      ],
      "execution_count": 8,
      "outputs": []
    },
    {
      "cell_type": "code",
      "metadata": {
        "id": "sTW4lnVLw2J1"
      },
      "source": [
        "class VarAutoEncoder(nn.Module):\n",
        "    def __init__(self, latent_features=latent_features):\n",
        "        super(VarAutoEncoder, self).__init__()\n",
        "        # Encoder\n",
        "        self.conv1 = nn.Conv3d(1, 16, 3)\n",
        "        self.conv2 = nn.Conv3d(16, 32, 3)\n",
        "        self.conv3 = nn.Conv3d(32, 96, 2)\n",
        "        self.conv4 = nn.Conv3d(96, 1, 1)\n",
        "        self.pool1 = nn.MaxPool3d(kernel_size=2, stride=2, return_indices=True)\n",
        "        self.pool2 = nn.MaxPool3d(kernel_size=3, stride=3, return_indices=True)\n",
        "        self.pool3 = nn.MaxPool3d(kernel_size=2, stride=2, return_indices=True)\n",
        "        self.pool4 = nn.MaxPool3d(kernel_size=2, stride=2, return_indices=True)\n",
        "        self.fc1 = nn.Linear(10 * 10, latent_features)\n",
        "        self.fc2 = nn.Linear(10 * 10, latent_features)\n",
        "        self.act=nn.LeakyReLU(0.1)\n",
        "        # Decoder\n",
        "        self.fc3 = nn.Linear(latent_features, 10 * 10)\n",
        "        self.deconv0 = nn.ConvTranspose3d(1, 96, 1)\n",
        "        self.deconv1 = nn.ConvTranspose3d(96, 32, 2)\n",
        "        self.deconv2 = nn.ConvTranspose3d(32, 16, 3)\n",
        "        self.deconv3 = nn.ConvTranspose3d(16, 1, 3)\n",
        "        self.unpool0 = nn.MaxUnpool3d(kernel_size=2, stride=2)\n",
        "        self.unpool1 = nn.MaxUnpool3d(kernel_size=2, stride=2)\n",
        "        self.unpool2 = nn.MaxUnpool3d(kernel_size=3, stride=3)\n",
        "        self.unpool3 = nn.MaxUnpool3d(kernel_size=2, stride=2)\n",
        "\n",
        "    def encode(self, x, return_partials=True):\n",
        "        # Encoder\n",
        "        x = self.conv1(x)\n",
        "        up3out_shape = x.shape\n",
        "        x, i1 = self.pool1(x)\n",
        "\n",
        "        x = self.conv2(x)\n",
        "        up2out_shape = x.shape\n",
        "        x, i2 = self.pool2(x)\n",
        "\n",
        "        x = self.conv3(x)\n",
        "        up1out_shape = x.shape\n",
        "        x, i3 = self.pool3(x)\n",
        "\n",
        "        x = self.conv4(x)\n",
        "        up0out_shape = x.shape\n",
        "        x, i4 = self.pool4(x)\n",
        "\n",
        "        x = x.view(-1, 10 * 10)\n",
        "        \n",
        "        mu = self.act(self.fc1(x))\n",
        "        log_var = self.act(self.fc2(x))\n",
        "        \n",
        "        if return_partials:\n",
        "            \n",
        "            return mu, log_var, up3out_shape, i1, up2out_shape, i2, up1out_shape, i3, \\\n",
        "                   up0out_shape, i4\n",
        "\n",
        "        else:\n",
        "            return mu, log_var\n",
        "    \n",
        "    def reparameterize(self, mu, log_var):\n",
        "        std = torch.exp(log_var/2)\n",
        "        eps = torch.randn_like(std)\n",
        "        return mu + eps * std\n",
        "    \n",
        "    def forward(self, x):\n",
        "        mu, log_var, up3out_shape, i1, up2out_shape, i2, \\\n",
        "        up1out_shape, i3, up0out_shape, i4 = self.encode(x)\n",
        "        \n",
        "        z = self.reparameterize(mu, log_var)\n",
        "       \n",
        "        # Decoder\n",
        "        x = F.relu(self.fc3(z))\n",
        "        x = x.view(-1, 1, 1, 10, 10)\n",
        "        x = self.unpool0(x, output_size=up0out_shape, indices=i4)\n",
        "        x = self.deconv0(x)\n",
        "        x = self.unpool1(x, output_size=up1out_shape, indices=i3)\n",
        "        x = self.deconv1(x)\n",
        "        x = self.unpool2(x, output_size=up2out_shape, indices=i2)\n",
        "        x = self.deconv2(x)\n",
        "        x = self.unpool3(x, output_size=up3out_shape, indices=i1)\n",
        "        x = (self.deconv3(x))\n",
        "\n",
        "        return x, mu, log_var"
      ],
      "execution_count": 9,
      "outputs": []
    },
    {
      "cell_type": "code",
      "metadata": {
        "id": "7uggc0K_w4Z0"
      },
      "source": [
        "t0 = time()\n",
        "\n",
        "# Load the data\n",
        "data = CTTensorsDataset(\n",
        "    transform=ZeroCenter(pre_calculated_mean=pre_calculated_mean)\n",
        ")\n",
        "train_set, val_set = data.random_split(val_size)\n",
        "datasets = {'train': train_set, 'val': val_set}\n",
        "dataloaders = {\n",
        "    x: DataLoader(\n",
        "        datasets[x],\n",
        "        batch_size=batch_size,\n",
        "        shuffle=(x == 'train'),\n",
        "        num_workers=2\n",
        "    ) for x in ['train', 'val']}\n",
        "\n",
        "dataset_sizes = {x: len(datasets[x]) for x in ['train', 'val']}\n",
        "\n",
        "# Prepare for training\n",
        "device = torch.device(\"cuda:0\" if torch.cuda.is_available() else \"cpu\")\n",
        "model = VarAutoEncoder(latent_features=latent_features).to(device)\n",
        "\n",
        "optimizer = torch.optim.Adam(model.parameters(), lr=learning_rate)\n",
        "best_model_wts = None\n",
        "best_loss = np.inf\n",
        "\n",
        "date_time = datetime.now().strftime(\"%Y%m%d-%H%M\")\n",
        "log_dir = Path(tensorboard_dir) / f'{date_time}'\n",
        "writer = SummaryWriter(log_dir)"
      ],
      "execution_count": 10,
      "outputs": []
    },
    {
      "cell_type": "code",
      "metadata": {
        "id": "BNn3kzUZw4cU",
        "outputId": "2457a001-3dbc-4382-f811-fcbd3292f374",
        "colab": {
          "base_uri": "https://localhost:8080/",
          "height": 1000
        }
      },
      "source": [
        "total_loss=  {'train':[],'val':[]}\n",
        "for epoch in range(100):\n",
        "\n",
        "    # Each epoch has a training and validation phase\n",
        "    for phase in ['train', 'val']:\n",
        "        if phase == 'train':\n",
        "            model.train()  # Set model to training mode\n",
        "        else:\n",
        "            model.eval()   # Set model to evaluate mode\n",
        "\n",
        "        running_loss = 0.0\n",
        "        running_preds = 0\n",
        "\n",
        "        # Iterate over data.\n",
        "        bar = tqdm(dataloaders[phase])\n",
        "        for inputs in bar:\n",
        "            bar.set_description(f'Epoch {epoch + 1} {phase}'.ljust(20))\n",
        "            inputs = inputs['image'].to(device, dtype=torch.float)\n",
        "\n",
        "            # zero the parameter gradients\n",
        "            optimizer.zero_grad()\n",
        "\n",
        "            # forward\n",
        "            # track history if only in train\n",
        "            with torch.set_grad_enabled(phase == 'train'):\n",
        "                outputs, mu, log_var = model(inputs)\n",
        "                \n",
        "                # For KL divergence, see Appendix B in VAE paper or http://yunjey47.tistory.com/43\n",
        "                reconst_loss = F.mse_loss(outputs, inputs, size_average=False)\n",
        "                kl_div = - 0.5 * torch.sum(1 + log_var - mu.pow(2) - log_var.exp())\n",
        "                \n",
        "                loss =  reconst_loss + kl_div\n",
        "\n",
        "                # backward + optimize only if in training phase\n",
        "                if phase == 'train':\n",
        "                    loss.backward()\n",
        "                    optimizer.step()\n",
        "\n",
        "            # statistics\n",
        "            running_loss += loss.item() * inputs.size(0)\n",
        "            running_preds += inputs.size(0)\n",
        "            bar.set_postfix(loss=f'{running_loss / running_preds:0.6f}')\n",
        "        total_loss[phase].append(loss.item()  )\n",
        "        epoch_loss = running_loss / dataset_sizes[phase]\n",
        "        writer.add_scalar(f'Loss/{phase}', epoch_loss, epoch)\n",
        "\n",
        "        # deep copy the model\n",
        "        if phase == 'val' and epoch_loss < best_loss:\n",
        "            best_loss = epoch_loss\n",
        "            best_model_wts = copy.deepcopy(model.state_dict())\n",
        "            torch.save(best_model_wts, model_file)\n",
        "\n",
        "# load best model weights\n",
        "model.load_state_dict(best_model_wts)\n",
        "\n",
        "print(f'Done! Time {timedelta(seconds=time() - t0)}')"
      ],
      "execution_count": 11,
      "outputs": [
        {
          "output_type": "stream",
          "text": [
            "Epoch 1 train       :   0%|          | 0/9 [00:00<?, ?it/s]/usr/local/lib/python3.6/dist-packages/torch/nn/_reduction.py:44: UserWarning: size_average and reduce args will be deprecated, please use reduction='sum' instead.\n",
            "  warnings.warn(warning.format(ret))\n",
            "Epoch 1 train       : 100%|██████████| 9/9 [00:28<00:00,  3.17s/it, loss=1141539.390514]\n",
            "Epoch 1 val         : 100%|██████████| 3/3 [00:03<00:00,  1.12s/it, loss=1048508.919196]\n",
            "Epoch 2 train       : 100%|██████████| 9/9 [00:27<00:00,  3.01s/it, loss=1037393.690603]\n",
            "Epoch 2 val         : 100%|██████████| 3/3 [00:03<00:00,  1.09s/it, loss=947725.550000]\n",
            "Epoch 3 train       : 100%|██████████| 9/9 [00:27<00:00,  3.01s/it, loss=927752.705230]\n",
            "Epoch 3 val         : 100%|██████████| 3/3 [00:03<00:00,  1.10s/it, loss=837146.035714]\n",
            "Epoch 4 train       : 100%|██████████| 9/9 [00:27<00:00,  3.04s/it, loss=810404.707004]\n",
            "Epoch 4 val         : 100%|██████████| 3/3 [00:03<00:00,  1.10s/it, loss=718568.746875]\n",
            "Epoch 5 train       : 100%|██████████| 9/9 [00:27<00:00,  3.02s/it, loss=697159.992021]\n",
            "Epoch 5 val         : 100%|██████████| 3/3 [00:03<00:00,  1.10s/it, loss=632116.758482]\n",
            "Epoch 6 train       : 100%|██████████| 9/9 [00:27<00:00,  3.01s/it, loss=634344.790337]\n",
            "Epoch 6 val         : 100%|██████████| 3/3 [00:03<00:00,  1.10s/it, loss=592012.503125]\n",
            "Epoch 7 train       : 100%|██████████| 9/9 [00:27<00:00,  3.01s/it, loss=599461.663121]\n",
            "Epoch 7 val         : 100%|██████████| 3/3 [00:03<00:00,  1.10s/it, loss=561900.051116]\n",
            "Epoch 8 train       : 100%|██████████| 9/9 [00:27<00:00,  3.02s/it, loss=569626.600177]\n",
            "Epoch 8 val         : 100%|██████████| 3/3 [00:03<00:00,  1.10s/it, loss=535546.628348]\n",
            "Epoch 9 train       : 100%|██████████| 9/9 [00:27<00:00,  3.01s/it, loss=541343.946809]\n",
            "Epoch 9 val         : 100%|██████████| 3/3 [00:03<00:00,  1.09s/it, loss=513688.184598]\n",
            "Epoch 10 train      : 100%|██████████| 9/9 [00:27<00:00,  3.02s/it, loss=521456.806738]\n",
            "Epoch 10 val        : 100%|██████████| 3/3 [00:03<00:00,  1.10s/it, loss=494014.874107]\n",
            "Epoch 11 train      : 100%|██████████| 9/9 [00:27<00:00,  3.02s/it, loss=504683.355053]\n",
            "Epoch 11 val        : 100%|██████████| 3/3 [00:03<00:00,  1.10s/it, loss=477795.870759]\n",
            "Epoch 12 train      : 100%|██████████| 9/9 [00:27<00:00,  3.02s/it, loss=488804.052748]\n",
            "Epoch 12 val        : 100%|██████████| 3/3 [00:03<00:00,  1.10s/it, loss=462814.470982]\n",
            "Epoch 13 train      : 100%|██████████| 9/9 [00:27<00:00,  3.01s/it, loss=472654.415780]\n",
            "Epoch 13 val        : 100%|██████████| 3/3 [00:03<00:00,  1.10s/it, loss=450050.693527]\n",
            "Epoch 14 train      : 100%|██████████| 9/9 [00:27<00:00,  3.02s/it, loss=461111.444814]\n",
            "Epoch 14 val        : 100%|██████████| 3/3 [00:03<00:00,  1.10s/it, loss=438551.185714]\n",
            "Epoch 15 train      : 100%|██████████| 9/9 [00:27<00:00,  3.02s/it, loss=450562.816489]\n",
            "Epoch 15 val        : 100%|██████████| 3/3 [00:03<00:00,  1.11s/it, loss=429575.310491]\n",
            "Epoch 16 train      : 100%|██████████| 9/9 [00:27<00:00,  3.02s/it, loss=439943.876108]\n",
            "Epoch 16 val        : 100%|██████████| 3/3 [00:03<00:00,  1.11s/it, loss=420005.778795]\n",
            "Epoch 17 train      : 100%|██████████| 9/9 [00:27<00:00,  3.02s/it, loss=430061.864362]\n",
            "Epoch 17 val        : 100%|██████████| 3/3 [00:03<00:00,  1.10s/it, loss=410777.021652]\n",
            "Epoch 18 train      : 100%|██████████| 9/9 [00:27<00:00,  3.01s/it, loss=421516.240248]\n",
            "Epoch 18 val        : 100%|██████████| 3/3 [00:03<00:00,  1.10s/it, loss=401887.366518]\n",
            "Epoch 19 train      : 100%|██████████| 9/9 [00:27<00:00,  3.02s/it, loss=413918.926862]\n",
            "Epoch 19 val        : 100%|██████████| 3/3 [00:03<00:00,  1.11s/it, loss=394109.737054]\n",
            "Epoch 20 train      : 100%|██████████| 9/9 [00:27<00:00,  3.01s/it, loss=405761.643174]\n",
            "Epoch 20 val        : 100%|██████████| 3/3 [00:03<00:00,  1.11s/it, loss=386246.220982]\n",
            "Epoch 21 train      : 100%|██████████| 9/9 [00:27<00:00,  3.02s/it, loss=397693.599734]\n",
            "Epoch 21 val        : 100%|██████████| 3/3 [00:03<00:00,  1.11s/it, loss=378751.127455]\n",
            "Epoch 22 train      : 100%|██████████| 9/9 [00:27<00:00,  3.02s/it, loss=389628.017066]\n",
            "Epoch 22 val        : 100%|██████████| 3/3 [00:03<00:00,  1.10s/it, loss=371216.036161]\n",
            "Epoch 23 train      : 100%|██████████| 9/9 [00:27<00:00,  3.02s/it, loss=382357.176197]\n",
            "Epoch 23 val        : 100%|██████████| 3/3 [00:03<00:00,  1.10s/it, loss=364019.404241]\n",
            "Epoch 24 train      : 100%|██████████| 9/9 [00:27<00:00,  3.01s/it, loss=376471.492686]\n",
            "Epoch 24 val        : 100%|██████████| 3/3 [00:03<00:00,  1.09s/it, loss=358631.171875]\n",
            "Epoch 25 train      : 100%|██████████| 9/9 [00:27<00:00,  3.01s/it, loss=369619.230053]\n",
            "Epoch 25 val        : 100%|██████████| 3/3 [00:03<00:00,  1.11s/it, loss=352458.425670]\n",
            "Epoch 26 train      : 100%|██████████| 9/9 [00:27<00:00,  3.02s/it, loss=363299.423537]\n",
            "Epoch 26 val        : 100%|██████████| 3/3 [00:03<00:00,  1.11s/it, loss=347031.224107]\n",
            "Epoch 27 train      : 100%|██████████| 9/9 [00:27<00:00,  3.01s/it, loss=357949.672207]\n",
            "Epoch 27 val        : 100%|██████████| 3/3 [00:03<00:00,  1.14s/it, loss=342877.652232]\n",
            "Epoch 28 train      : 100%|██████████| 9/9 [00:27<00:00,  3.03s/it, loss=353110.097074]\n",
            "Epoch 28 val        : 100%|██████████| 3/3 [00:03<00:00,  1.13s/it, loss=337192.785714]\n",
            "Epoch 29 train      : 100%|██████████| 9/9 [00:27<00:00,  3.03s/it, loss=348919.769725]\n",
            "Epoch 29 val        : 100%|██████████| 3/3 [00:03<00:00,  1.13s/it, loss=332734.064286]\n",
            "Epoch 30 train      : 100%|██████████| 9/9 [00:27<00:00,  3.03s/it, loss=343510.311835]\n",
            "Epoch 30 val        : 100%|██████████| 3/3 [00:03<00:00,  1.13s/it, loss=328876.643527]\n",
            "Epoch 31 train      : 100%|██████████| 9/9 [00:27<00:00,  3.02s/it, loss=340705.479499]\n",
            "Epoch 31 val        : 100%|██████████| 3/3 [00:03<00:00,  1.13s/it, loss=323946.465625]\n",
            "Epoch 32 train      : 100%|██████████| 9/9 [00:27<00:00,  3.03s/it, loss=336250.522717]\n",
            "Epoch 32 val        : 100%|██████████| 3/3 [00:03<00:00,  1.13s/it, loss=320301.837054]\n",
            "Epoch 33 train      : 100%|██████████| 9/9 [00:27<00:00,  3.02s/it, loss=332073.985926]\n",
            "Epoch 33 val        : 100%|██████████| 3/3 [00:03<00:00,  1.14s/it, loss=316025.051339]\n",
            "Epoch 34 train      : 100%|██████████| 9/9 [00:27<00:00,  3.03s/it, loss=327788.382092]\n",
            "Epoch 34 val        : 100%|██████████| 3/3 [00:03<00:00,  1.13s/it, loss=312636.131250]\n",
            "Epoch 35 train      : 100%|██████████| 9/9 [00:27<00:00,  3.02s/it, loss=323672.503546]\n",
            "Epoch 35 val        : 100%|██████████| 3/3 [00:03<00:00,  1.14s/it, loss=309713.936049]\n",
            "Epoch 36 train      : 100%|██████████| 9/9 [00:27<00:00,  3.02s/it, loss=319842.066046]\n",
            "Epoch 36 val        : 100%|██████████| 3/3 [00:03<00:00,  1.13s/it, loss=305629.796875]\n",
            "Epoch 37 train      : 100%|██████████| 9/9 [00:27<00:00,  3.02s/it, loss=317091.001108]\n",
            "Epoch 37 val        : 100%|██████████| 3/3 [00:03<00:00,  1.13s/it, loss=302339.954799]\n",
            "Epoch 38 train      : 100%|██████████| 9/9 [00:27<00:00,  3.02s/it, loss=313067.928635]\n",
            "Epoch 38 val        : 100%|██████████| 3/3 [00:03<00:00,  1.14s/it, loss=299013.632812]\n",
            "Epoch 39 train      : 100%|██████████| 9/9 [00:27<00:00,  3.03s/it, loss=309960.433732]\n",
            "Epoch 39 val        : 100%|██████████| 3/3 [00:03<00:00,  1.13s/it, loss=296327.055580]\n",
            "Epoch 40 train      : 100%|██████████| 9/9 [00:27<00:00,  3.03s/it, loss=305728.617908]\n",
            "Epoch 40 val        : 100%|██████████| 3/3 [00:03<00:00,  1.13s/it, loss=293610.796763]\n",
            "Epoch 41 train      : 100%|██████████| 9/9 [00:27<00:00,  3.03s/it, loss=305300.262079]\n",
            "Epoch 41 val        : 100%|██████████| 3/3 [00:03<00:00,  1.13s/it, loss=290668.801451]\n",
            "Epoch 42 train      : 100%|██████████| 9/9 [00:27<00:00,  3.02s/it, loss=300936.699690]\n",
            "Epoch 42 val        : 100%|██████████| 3/3 [00:03<00:00,  1.13s/it, loss=288622.797879]\n",
            "Epoch 43 train      : 100%|██████████| 9/9 [00:27<00:00,  3.03s/it, loss=299778.833998]\n",
            "Epoch 43 val        : 100%|██████████| 3/3 [00:03<00:00,  1.13s/it, loss=285891.576228]\n",
            "Epoch 44 train      : 100%|██████████| 9/9 [00:27<00:00,  3.03s/it, loss=296921.588652]\n",
            "Epoch 44 val        : 100%|██████████| 3/3 [00:03<00:00,  1.13s/it, loss=283206.084487]\n",
            "Epoch 45 train      : 100%|██████████| 9/9 [00:27<00:00,  3.03s/it, loss=295297.249778]\n",
            "Epoch 45 val        : 100%|██████████| 3/3 [00:03<00:00,  1.13s/it, loss=280892.488951]\n",
            "Epoch 46 train      : 100%|██████████| 9/9 [00:27<00:00,  3.03s/it, loss=292366.259530]\n",
            "Epoch 46 val        : 100%|██████████| 3/3 [00:03<00:00,  1.13s/it, loss=279153.516295]\n",
            "Epoch 47 train      : 100%|██████████| 9/9 [00:27<00:00,  3.03s/it, loss=289268.709663]\n",
            "Epoch 47 val        : 100%|██████████| 3/3 [00:03<00:00,  1.13s/it, loss=276823.026897]\n",
            "Epoch 48 train      : 100%|██████████| 9/9 [00:27<00:00,  3.03s/it, loss=287879.636414]\n",
            "Epoch 48 val        : 100%|██████████| 3/3 [00:03<00:00,  1.13s/it, loss=274544.049554]\n",
            "Epoch 49 train      : 100%|██████████| 9/9 [00:27<00:00,  3.02s/it, loss=284942.218307]\n",
            "Epoch 49 val        : 100%|██████████| 3/3 [00:03<00:00,  1.13s/it, loss=272776.211719]\n",
            "Epoch 50 train      : 100%|██████████| 9/9 [00:27<00:00,  3.02s/it, loss=283228.452460]\n",
            "Epoch 50 val        : 100%|██████████| 3/3 [00:03<00:00,  1.13s/it, loss=270621.649442]\n",
            "Epoch 51 train      : 100%|██████████| 9/9 [00:27<00:00,  3.02s/it, loss=280820.023271]\n",
            "Epoch 51 val        : 100%|██████████| 3/3 [00:03<00:00,  1.14s/it, loss=268700.743638]\n",
            "Epoch 52 train      : 100%|██████████| 9/9 [00:27<00:00,  3.03s/it, loss=279304.319592]\n",
            "Epoch 52 val        : 100%|██████████| 3/3 [00:03<00:00,  1.13s/it, loss=266916.745982]\n",
            "Epoch 53 train      : 100%|██████████| 9/9 [00:27<00:00,  3.03s/it, loss=278063.046099]\n",
            "Epoch 53 val        : 100%|██████████| 3/3 [00:03<00:00,  1.13s/it, loss=264981.197879]\n",
            "Epoch 54 train      : 100%|██████████| 9/9 [00:27<00:00,  3.03s/it, loss=276678.879987]\n",
            "Epoch 54 val        : 100%|██████████| 3/3 [00:03<00:00,  1.14s/it, loss=263113.840960]\n",
            "Epoch 55 train      : 100%|██████████| 9/9 [00:27<00:00,  3.03s/it, loss=274191.963542]\n",
            "Epoch 55 val        : 100%|██████████| 3/3 [00:03<00:00,  1.13s/it, loss=261810.660714]\n",
            "Epoch 56 train      : 100%|██████████| 9/9 [00:27<00:00,  3.03s/it, loss=272392.285683]\n",
            "Epoch 56 val        : 100%|██████████| 3/3 [00:03<00:00,  1.13s/it, loss=259873.443080]\n",
            "Epoch 57 train      : 100%|██████████| 9/9 [00:27<00:00,  3.03s/it, loss=270421.299202]\n",
            "Epoch 57 val        : 100%|██████████| 3/3 [00:03<00:00,  1.12s/it, loss=258299.250893]\n",
            "Epoch 58 train      : 100%|██████████| 9/9 [00:27<00:00,  3.04s/it, loss=268878.958998]\n",
            "Epoch 58 val        : 100%|██████████| 3/3 [00:03<00:00,  1.13s/it, loss=256597.238058]\n",
            "Epoch 59 train      : 100%|██████████| 9/9 [00:27<00:00,  3.03s/it, loss=266598.884087]\n",
            "Epoch 59 val        : 100%|██████████| 3/3 [00:03<00:00,  1.13s/it, loss=254928.661942]\n",
            "Epoch 60 train      : 100%|██████████| 9/9 [00:27<00:00,  3.02s/it, loss=265295.772939]\n",
            "Epoch 60 val        : 100%|██████████| 3/3 [00:03<00:00,  1.13s/it, loss=253368.047768]\n",
            "Epoch 61 train      : 100%|██████████| 9/9 [00:27<00:00,  3.03s/it, loss=263372.093750]\n",
            "Epoch 61 val        : 100%|██████████| 3/3 [00:03<00:00,  1.13s/it, loss=251943.889621]\n",
            "Epoch 62 train      : 100%|██████████| 9/9 [00:27<00:00,  3.02s/it, loss=262957.335882]\n",
            "Epoch 62 val        : 100%|██████████| 3/3 [00:03<00:00,  1.13s/it, loss=250551.736830]\n",
            "Epoch 63 train      : 100%|██████████| 9/9 [00:27<00:00,  3.03s/it, loss=261513.902926]\n",
            "Epoch 63 val        : 100%|██████████| 3/3 [00:03<00:00,  1.14s/it, loss=248917.272768]\n",
            "Epoch 64 train      : 100%|██████████| 9/9 [00:27<00:00,  3.04s/it, loss=258889.428746]\n",
            "Epoch 64 val        : 100%|██████████| 3/3 [00:03<00:00,  1.14s/it, loss=247540.414955]\n",
            "Epoch 65 train      : 100%|██████████| 9/9 [00:27<00:00,  3.02s/it, loss=257667.599069]\n",
            "Epoch 65 val        : 100%|██████████| 3/3 [00:03<00:00,  1.12s/it, loss=246419.044420]\n",
            "Epoch 66 train      : 100%|██████████| 9/9 [00:27<00:00,  3.03s/it, loss=257256.572917]\n",
            "Epoch 66 val        : 100%|██████████| 3/3 [00:03<00:00,  1.13s/it, loss=245165.729576]\n",
            "Epoch 67 train      : 100%|██████████| 9/9 [00:27<00:00,  3.03s/it, loss=254691.939051]\n",
            "Epoch 67 val        : 100%|██████████| 3/3 [00:03<00:00,  1.13s/it, loss=243774.151116]\n",
            "Epoch 68 train      : 100%|██████████| 9/9 [00:27<00:00,  3.02s/it, loss=254047.799978]\n",
            "Epoch 68 val        : 100%|██████████| 3/3 [00:03<00:00,  1.13s/it, loss=242458.921652]\n",
            "Epoch 69 train      : 100%|██████████| 9/9 [00:27<00:00,  3.01s/it, loss=252744.119681]\n",
            "Epoch 69 val        : 100%|██████████| 3/3 [00:03<00:00,  1.13s/it, loss=241470.052121]\n",
            "Epoch 70 train      : 100%|██████████| 9/9 [00:27<00:00,  3.03s/it, loss=251051.883422]\n",
            "Epoch 70 val        : 100%|██████████| 3/3 [00:03<00:00,  1.13s/it, loss=240097.039286]\n",
            "Epoch 71 train      : 100%|██████████| 9/9 [00:27<00:00,  3.03s/it, loss=250701.637301]\n",
            "Epoch 71 val        : 100%|██████████| 3/3 [00:03<00:00,  1.13s/it, loss=238875.017299]\n",
            "Epoch 72 train      : 100%|██████████| 9/9 [00:27<00:00,  3.02s/it, loss=248426.289340]\n",
            "Epoch 72 val        : 100%|██████████| 3/3 [00:03<00:00,  1.14s/it, loss=237629.415737]\n",
            "Epoch 73 train      : 100%|██████████| 9/9 [00:27<00:00,  3.03s/it, loss=248083.750776]\n",
            "Epoch 73 val        : 100%|██████████| 3/3 [00:03<00:00,  1.13s/it, loss=236824.560045]\n",
            "Epoch 74 train      : 100%|██████████| 9/9 [00:27<00:00,  3.01s/it, loss=246833.445922]\n",
            "Epoch 74 val        : 100%|██████████| 3/3 [00:03<00:00,  1.13s/it, loss=235279.826786]\n",
            "Epoch 75 train      : 100%|██████████| 9/9 [00:27<00:00,  3.03s/it, loss=245199.601507]\n",
            "Epoch 75 val        : 100%|██████████| 3/3 [00:03<00:00,  1.13s/it, loss=234515.180022]\n",
            "Epoch 76 train      : 100%|██████████| 9/9 [00:27<00:00,  3.03s/it, loss=244715.333112]\n",
            "Epoch 76 val        : 100%|██████████| 3/3 [00:03<00:00,  1.13s/it, loss=233279.666964]\n",
            "Epoch 77 train      : 100%|██████████| 9/9 [00:27<00:00,  3.02s/it, loss=243313.555851]\n",
            "Epoch 77 val        : 100%|██████████| 3/3 [00:03<00:00,  1.13s/it, loss=232080.514844]\n",
            "Epoch 78 train      : 100%|██████████| 9/9 [00:27<00:00,  3.01s/it, loss=241838.585217]\n",
            "Epoch 78 val        : 100%|██████████| 3/3 [00:03<00:00,  1.13s/it, loss=231356.684040]\n",
            "Epoch 79 train      : 100%|██████████| 9/9 [00:27<00:00,  3.03s/it, loss=241076.064384]\n",
            "Epoch 79 val        : 100%|██████████| 3/3 [00:03<00:00,  1.13s/it, loss=230206.041741]\n",
            "Epoch 80 train      : 100%|██████████| 9/9 [00:27<00:00,  3.03s/it, loss=240702.545878]\n",
            "Epoch 80 val        : 100%|██████████| 3/3 [00:03<00:00,  1.13s/it, loss=229153.411272]\n",
            "Epoch 81 train      : 100%|██████████| 9/9 [00:27<00:00,  3.02s/it, loss=238414.605718]\n",
            "Epoch 81 val        : 100%|██████████| 3/3 [00:03<00:00,  1.13s/it, loss=228297.786942]\n",
            "Epoch 82 train      : 100%|██████████| 9/9 [00:27<00:00,  3.02s/it, loss=238208.961658]\n",
            "Epoch 82 val        : 100%|██████████| 3/3 [00:03<00:00,  1.13s/it, loss=227259.593973]\n",
            "Epoch 83 train      : 100%|██████████| 9/9 [00:27<00:00,  3.02s/it, loss=236843.915891]\n",
            "Epoch 83 val        : 100%|██████████| 3/3 [00:03<00:00,  1.14s/it, loss=226237.224330]\n",
            "Epoch 84 train      : 100%|██████████| 9/9 [00:27<00:00,  3.03s/it, loss=236667.433843]\n",
            "Epoch 84 val        : 100%|██████████| 3/3 [00:03<00:00,  1.13s/it, loss=225625.205357]\n",
            "Epoch 85 train      : 100%|██████████| 9/9 [00:27<00:00,  3.03s/it, loss=234339.378214]\n",
            "Epoch 85 val        : 100%|██████████| 3/3 [00:03<00:00,  1.14s/it, loss=224200.439509]\n",
            "Epoch 86 train      : 100%|██████████| 9/9 [00:27<00:00,  3.02s/it, loss=233968.471742]\n",
            "Epoch 86 val        : 100%|██████████| 3/3 [00:03<00:00,  1.14s/it, loss=223456.637054]\n",
            "Epoch 87 train      : 100%|██████████| 9/9 [00:27<00:00,  3.03s/it, loss=233241.799535]\n",
            "Epoch 87 val        : 100%|██████████| 3/3 [00:03<00:00,  1.14s/it, loss=222412.248661]\n",
            "Epoch 88 train      : 100%|██████████| 9/9 [00:27<00:00,  3.03s/it, loss=232086.531804]\n",
            "Epoch 88 val        : 100%|██████████| 3/3 [00:03<00:00,  1.14s/it, loss=221392.376339]\n",
            "Epoch 89 train      : 100%|██████████| 9/9 [00:27<00:00,  3.04s/it, loss=230918.177305]\n",
            "Epoch 89 val        : 100%|██████████| 3/3 [00:03<00:00,  1.13s/it, loss=221038.903906]\n",
            "Epoch 90 train      : 100%|██████████| 9/9 [00:27<00:00,  3.03s/it, loss=229818.877216]\n",
            "Epoch 90 val        : 100%|██████████| 3/3 [00:03<00:00,  1.14s/it, loss=219754.368638]\n",
            "Epoch 91 train      : 100%|██████████| 9/9 [00:27<00:00,  3.03s/it, loss=229155.401596]\n",
            "Epoch 91 val        : 100%|██████████| 3/3 [00:03<00:00,  1.13s/it, loss=218892.786607]\n",
            "Epoch 92 train      : 100%|██████████| 9/9 [00:27<00:00,  3.03s/it, loss=227559.141179]\n",
            "Epoch 92 val        : 100%|██████████| 3/3 [00:03<00:00,  1.13s/it, loss=218101.907812]\n",
            "Epoch 93 train      : 100%|██████████| 9/9 [00:27<00:00,  3.03s/it, loss=226878.963209]\n",
            "Epoch 93 val        : 100%|██████████| 3/3 [00:03<00:00,  1.12s/it, loss=217338.667076]\n",
            "Epoch 94 train      : 100%|██████████| 9/9 [00:27<00:00,  3.03s/it, loss=226905.440381]\n",
            "Epoch 94 val        : 100%|██████████| 3/3 [00:03<00:00,  1.13s/it, loss=216401.203237]\n",
            "Epoch 95 train      : 100%|██████████| 9/9 [00:27<00:00,  3.03s/it, loss=225104.618462]\n",
            "Epoch 95 val        : 100%|██████████| 3/3 [00:03<00:00,  1.12s/it, loss=215767.184598]\n",
            "Epoch 96 train      : 100%|██████████| 9/9 [00:27<00:00,  3.02s/it, loss=224904.723737]\n",
            "Epoch 96 val        : 100%|██████████| 3/3 [00:03<00:00,  1.13s/it, loss=215206.089397]\n",
            "Epoch 97 train      : 100%|██████████| 9/9 [00:27<00:00,  3.02s/it, loss=224085.661015]\n",
            "Epoch 97 val        : 100%|██████████| 3/3 [00:03<00:00,  1.12s/it, loss=213973.496763]\n",
            "Epoch 98 train      : 100%|██████████| 9/9 [00:27<00:00,  3.04s/it, loss=223520.784131]\n",
            "Epoch 98 val        : 100%|██████████| 3/3 [00:03<00:00,  1.13s/it, loss=213471.977121]\n",
            "Epoch 99 train      : 100%|██████████| 9/9 [00:27<00:00,  3.03s/it, loss=222167.473626]\n",
            "Epoch 99 val        : 100%|██████████| 3/3 [00:03<00:00,  1.13s/it, loss=212419.304688]\n",
            "Epoch 100 train     : 100%|██████████| 9/9 [00:27<00:00,  3.03s/it, loss=221687.797651]\n",
            "Epoch 100 val       : 100%|██████████| 3/3 [00:03<00:00,  1.13s/it, loss=212282.195424]"
          ],
          "name": "stderr"
        },
        {
          "output_type": "stream",
          "text": [
            "Done! Time 0:51:11.488593\n"
          ],
          "name": "stdout"
        },
        {
          "output_type": "stream",
          "text": [
            "\n"
          ],
          "name": "stderr"
        }
      ]
    },
    {
      "cell_type": "code",
      "metadata": {
        "id": "QkYBl9H52A9p",
        "outputId": "a6109d3e-7b46-489b-bd14-8c22d91ffc00",
        "colab": {
          "base_uri": "https://localhost:8080/",
          "height": 287
        }
      },
      "source": [
        "import seaborn as sns\n",
        "sns.lineplot(y=total_loss['train'],x=list(range(len(total_loss['train']))))"
      ],
      "execution_count": 12,
      "outputs": [
        {
          "output_type": "execute_result",
          "data": {
            "text/plain": [
              "<matplotlib.axes._subplots.AxesSubplot at 0x7f281c6075f8>"
            ]
          },
          "metadata": {
            "tags": []
          },
          "execution_count": 12
        },
        {
          "output_type": "display_data",
          "data": {
            "image/png": "[encoded data removed]",
            "text/plain": [
              "<Figure size 432x288 with 1 Axes>"
            ]
          },
          "metadata": {
            "tags": [],
            "needs_background": "light"
          }
        }
      ]
    },
    {
      "cell_type": "code",
      "metadata": {
        "id": "_OtoWy6n5L9i",
        "outputId": "ed03c521-5937-480b-c40e-1ad9198ac890",
        "colab": {
          "base_uri": "https://localhost:8080/",
          "height": 283
        }
      },
      "source": [
        "sns.lineplot(y=total_loss['val'],x=list(range(len(total_loss['val']))))"
      ],
      "execution_count": 13,
      "outputs": [
        {
          "output_type": "execute_result",
          "data": {
            "text/plain": [
              "<matplotlib.axes._subplots.AxesSubplot at 0x7f281c4d0e80>"
            ]
          },
          "metadata": {
            "tags": []
          },
          "execution_count": 13
        },
        {
          "output_type": "display_data",
          "data": {
            "image/png": "[encoded data removed]",
            "text/plain": [
              "<Figure size 432x288 with 1 Axes>"
            ]
          },
          "metadata": {
            "tags": [],
            "needs_background": "light"
          }
        }
      ]
    },
    {
      "cell_type": "code",
      "metadata": {
        "id": "hAyXLc5s7zlM"
      },
      "source": [
        ""
      ],
      "execution_count": 13,
      "outputs": []
    }
  ]
}