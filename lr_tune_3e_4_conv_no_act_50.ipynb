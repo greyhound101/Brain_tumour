{
  "nbformat": 4,
  "nbformat_minor": 0,
  "metadata": {
    "colab": {
      "name": "lr_tune_3e-4_conv_no_act_50.ipynb",
      "provenance": [],
      "include_colab_link": true
    },
    "kernelspec": {
      "name": "python3",
      "display_name": "Python 3"
    },
    "accelerator": "GPU"
  },
  "cells": [
    {
      "cell_type": "markdown",
      "metadata": {
        "id": "view-in-github",
        "colab_type": "text"
      },
      "source": [
        "<a href=\"https://colab.research.google.com/github/greyhound101/Brain_tumour/blob/master/lr_tune_3e_4_conv_no_act_50.ipynb\" target=\"_parent\"><img src=\"https://colab.research.google.com/assets/colab-badge.svg\" alt=\"Open In Colab\"/></a>"
      ]
    },
    {
      "cell_type": "code",
      "metadata": {
        "id": "hyAd8cKiv5Ej",
        "outputId": "0f2dec4f-d2c2-4bd9-ea4e-c5996a7919d4",
        "colab": {
          "base_uri": "https://localhost:8080/",
          "height": 54
        }
      },
      "source": [
        "from google.colab import drive\n",
        "drive.mount('/content/gdrive')\n",
        "drive.mount(\"/content/gdrive\", force_remount=True)"
      ],
      "execution_count": 1,
      "outputs": [
        {
          "output_type": "stream",
          "text": [
            "Mounted at /content/gdrive\n",
            "Mounted at /content/gdrive\n"
          ],
          "name": "stdout"
        }
      ]
    },
    {
      "cell_type": "code",
      "metadata": {
        "id": "80WH-bjfv5vK"
      },
      "source": [
        "import zipfile\n",
        "with zipfile.ZipFile('/content/gdrive/My Drive/archive.zip', 'r') as zip_ref:\n",
        "    zip_ref.extractall('')"
      ],
      "execution_count": 2,
      "outputs": []
    },
    {
      "cell_type": "code",
      "metadata": {
        "id": "VaWA_gNvxBJr",
        "outputId": "bc5a4fbe-0f2b-4b88-df9a-e90df204022e",
        "colab": {
          "base_uri": "https://localhost:8080/",
          "height": 129
        }
      },
      "source": [
        "pip install pydicom"
      ],
      "execution_count": 3,
      "outputs": [
        {
          "output_type": "stream",
          "text": [
            "Collecting pydicom\n",
            "\u001b[?25l  Downloading https://files.pythonhosted.org/packages/d3/56/342e1f8ce5afe63bf65c23d0b2c1cd5a05600caad1c211c39725d3a4cc56/pydicom-2.0.0-py3-none-any.whl (35.4MB)\n",
            "\u001b[K     |████████████████████████████████| 35.5MB 89kB/s \n",
            "\u001b[?25hInstalling collected packages: pydicom\n",
            "Successfully installed pydicom-2.0.0\n"
          ],
          "name": "stdout"
        }
      ]
    },
    {
      "cell_type": "code",
      "metadata": {
        "id": "Re-bThzGw-vj"
      },
      "source": [
        "import copy\n",
        "from datetime import timedelta, datetime\n",
        "import imageio\n",
        "import matplotlib.pyplot as plt\n",
        "from matplotlib import cm\n",
        "import multiprocessing\n",
        "import numpy as np\n",
        "import os\n",
        "from pathlib import Path\n",
        "import pydicom\n",
        "import pytest\n",
        "import scipy.ndimage as ndimage\n",
        "from scipy.ndimage.interpolation import zoom\n",
        "from skimage import measure, morphology, segmentation\n",
        "from time import time, sleep\n",
        "from tqdm import trange, tqdm\n",
        "import torch\n",
        "import torch.nn as nn\n",
        "import torch.nn.functional as F\n",
        "from torch.utils.data import Dataset, random_split, DistributedSampler, DataLoader\n",
        "from torch.utils.tensorboard import SummaryWriter\n",
        "from torchvision import transforms\n",
        "import warnings"
      ],
      "execution_count": 4,
      "outputs": []
    },
    {
      "cell_type": "code",
      "metadata": {
        "id": "2MepiJCewTlF"
      },
      "source": [
        "class CTTensorsDataset(Dataset):\n",
        "    def __init__(self, transform=None):\n",
        "        self.tensor_files = [Path(i) for i in glob.glob('/content/ID*')]\n",
        "        self.transform = transform\n",
        "\n",
        "    def __len__(self):\n",
        "        return len(self.tensor_files)\n",
        "\n",
        "    def __getitem__(self, item):\n",
        "        if torch.is_tensor(item):\n",
        "            item = item.tolist()\n",
        "\n",
        "        image = torch.load(self.tensor_files[item])\n",
        "        if self.transform:\n",
        "            image = self.transform(image)\n",
        "\n",
        "        return {\n",
        "            'patient_id': self.tensor_files[item].stem,\n",
        "            'image': image\n",
        "        }\n",
        "\n",
        "    def mean(self):\n",
        "        cum = 0\n",
        "        for i in range(len(self)):\n",
        "            sample = self[i]['image']\n",
        "            cum += torch.mean(sample).item()\n",
        "\n",
        "        return cum / len(self)\n",
        "\n",
        "    def random_split(self, val_size: float):\n",
        "        num_val = int(val_size * len(self))\n",
        "        num_train = len(self) - num_val\n",
        "        return random_split(self, [num_train, num_val])"
      ],
      "execution_count": 5,
      "outputs": []
    },
    {
      "cell_type": "code",
      "metadata": {
        "id": "rPhMVZeywtjZ"
      },
      "source": [
        "class ZeroCenter:\n",
        "    def __init__(self, pre_calculated_mean):\n",
        "        self.pre_calculated_mean = pre_calculated_mean\n",
        "\n",
        "    def __call__(self, tensor):\n",
        "        return tensor - self.pre_calculated_mean"
      ],
      "execution_count": 6,
      "outputs": []
    },
    {
      "cell_type": "code",
      "metadata": {
        "id": "jCZEkwnKwyg9"
      },
      "source": [
        "root_dir = '/kaggle/input/osic-cached-dataset'\n",
        "test_dir = '/kaggle/input/osic-pulmonary-fibrosis-progression/test'\n",
        "model_file = '/kaggle/working/diophantus.pt'\n",
        "resize_dims = (40, 256, 256)\n",
        "clip_bounds = (-1000, 200)\n",
        "watershed_iterations = 1\n",
        "pre_calculated_mean = 0.02865046213070556\n",
        "latent_features = 10\n",
        "batch_size = 16\n",
        "learning_rate = 3e-4\n",
        "num_epochs = 10\n",
        "val_size = 0.2\n",
        "tensorboard_dir = '/kaggle/working/runs'\n",
        "\n",
        "# Device configuration\n",
        "device = torch.device('cuda' if torch.cuda.is_available() else 'cpu')"
      ],
      "execution_count": 7,
      "outputs": []
    },
    {
      "cell_type": "code",
      "metadata": {
        "id": "R1lVm3VSweak"
      },
      "source": [
        "import glob\n",
        "train = CTTensorsDataset(\n",
        "    transform=ZeroCenter(pre_calculated_mean=pre_calculated_mean)\n",
        ")\n",
        "cum = 0\n",
        "for i in range(len(train)):\n",
        "    sample = train[i]['image']\n",
        "    cum += torch.mean(sample).item()\n",
        "\n",
        "assert cum / len(train) == pytest.approx(0)"
      ],
      "execution_count": 8,
      "outputs": []
    },
    {
      "cell_type": "code",
      "metadata": {
        "id": "sTW4lnVLw2J1"
      },
      "source": [
        "class VarAutoEncoder(nn.Module):\n",
        "    def __init__(self, latent_features=latent_features):\n",
        "        super(VarAutoEncoder, self).__init__()\n",
        "        # Encoder\n",
        "        self.conv1 = nn.Conv3d(1, 16, 3)\n",
        "        self.conv2 = nn.Conv3d(16, 32, 3)\n",
        "        self.conv3 = nn.Conv3d(32, 96, 2)\n",
        "        self.conv4 = nn.Conv3d(96, 1, 1)\n",
        "        self.pool1 = nn.MaxPool3d(kernel_size=2, stride=2, return_indices=True)\n",
        "        self.pool2 = nn.MaxPool3d(kernel_size=3, stride=3, return_indices=True)\n",
        "        self.pool3 = nn.MaxPool3d(kernel_size=2, stride=2, return_indices=True)\n",
        "        self.pool4 = nn.MaxPool3d(kernel_size=2, stride=2, return_indices=True)\n",
        "        self.fc1 = nn.Linear(10 * 10, latent_features)\n",
        "        self.fc2 = nn.Linear(10 * 10, latent_features)\n",
        "        self.act=nn.LeakyReLU(0.1)\n",
        "        # Decoder\n",
        "        self.fc3 = nn.Linear(latent_features, 10 * 10)\n",
        "        self.deconv0 = nn.ConvTranspose3d(1, 96, 1)\n",
        "        self.deconv1 = nn.ConvTranspose3d(96, 32, 2)\n",
        "        self.deconv2 = nn.ConvTranspose3d(32, 16, 3)\n",
        "        self.deconv3 = nn.ConvTranspose3d(16, 1, 3)\n",
        "        self.unpool0 = nn.MaxUnpool3d(kernel_size=2, stride=2)\n",
        "        self.unpool1 = nn.MaxUnpool3d(kernel_size=2, stride=2)\n",
        "        self.unpool2 = nn.MaxUnpool3d(kernel_size=3, stride=3)\n",
        "        self.unpool3 = nn.MaxUnpool3d(kernel_size=2, stride=2)\n",
        "\n",
        "    def encode(self, x, return_partials=True):\n",
        "        # Encoder\n",
        "        x = self.conv1(x)\n",
        "        up3out_shape = x.shape\n",
        "        x, i1 = self.pool1(x)\n",
        "\n",
        "        x = self.conv2(x)\n",
        "        up2out_shape = x.shape\n",
        "        x, i2 = self.pool2(x)\n",
        "\n",
        "        x = self.conv3(x)\n",
        "        up1out_shape = x.shape\n",
        "        x, i3 = self.pool3(x)\n",
        "\n",
        "        x = self.conv4(x)\n",
        "        up0out_shape = x.shape\n",
        "        x, i4 = self.pool4(x)\n",
        "\n",
        "        x = x.view(-1, 10 * 10)\n",
        "        \n",
        "        mu = self.act(self.fc1(x))\n",
        "        log_var = self.act(self.fc2(x))\n",
        "        \n",
        "        if return_partials:\n",
        "            \n",
        "            return mu, log_var, up3out_shape, i1, up2out_shape, i2, up1out_shape, i3, \\\n",
        "                   up0out_shape, i4\n",
        "\n",
        "        else:\n",
        "            return mu, log_var\n",
        "    \n",
        "    def reparameterize(self, mu, log_var):\n",
        "        std = torch.exp(log_var/2)\n",
        "        eps = torch.randn_like(std)\n",
        "        return mu + eps * std\n",
        "    \n",
        "    def forward(self, x):\n",
        "        mu, log_var, up3out_shape, i1, up2out_shape, i2, \\\n",
        "        up1out_shape, i3, up0out_shape, i4 = self.encode(x)\n",
        "        \n",
        "        z = self.reparameterize(mu, log_var)\n",
        "       \n",
        "        # Decoder\n",
        "        x = F.relu(self.fc3(z))\n",
        "        x = x.view(-1, 1, 1, 10, 10)\n",
        "        x = self.unpool0(x, output_size=up0out_shape, indices=i4)\n",
        "        x = self.deconv0(x)\n",
        "        x = self.unpool1(x, output_size=up1out_shape, indices=i3)\n",
        "        x = self.deconv1(x)\n",
        "        x = self.unpool2(x, output_size=up2out_shape, indices=i2)\n",
        "        x = self.deconv2(x)\n",
        "        x = self.unpool3(x, output_size=up3out_shape, indices=i1)\n",
        "        x = (self.deconv3(x))\n",
        "\n",
        "        return x, mu, log_var"
      ],
      "execution_count": 9,
      "outputs": []
    },
    {
      "cell_type": "code",
      "metadata": {
        "id": "7uggc0K_w4Z0"
      },
      "source": [
        "t0 = time()\n",
        "\n",
        "# Load the data\n",
        "data = CTTensorsDataset(\n",
        "    transform=ZeroCenter(pre_calculated_mean=pre_calculated_mean)\n",
        ")\n",
        "train_set, val_set = data.random_split(val_size)\n",
        "datasets = {'train': train_set, 'val': val_set}\n",
        "dataloaders = {\n",
        "    x: DataLoader(\n",
        "        datasets[x],\n",
        "        batch_size=batch_size,\n",
        "        shuffle=(x == 'train'),\n",
        "        num_workers=2\n",
        "    ) for x in ['train', 'val']}\n",
        "\n",
        "dataset_sizes = {x: len(datasets[x]) for x in ['train', 'val']}\n",
        "\n",
        "# Prepare for training\n",
        "device = torch.device(\"cuda:0\" if torch.cuda.is_available() else \"cpu\")\n",
        "model = VarAutoEncoder(latent_features=latent_features).to(device)\n",
        "\n",
        "optimizer = torch.optim.Adam(model.parameters(), lr=learning_rate)\n",
        "best_model_wts = None\n",
        "best_loss = np.inf\n",
        "\n",
        "date_time = datetime.now().strftime(\"%Y%m%d-%H%M\")\n",
        "log_dir = Path(tensorboard_dir) / f'{date_time}'\n",
        "writer = SummaryWriter(log_dir)"
      ],
      "execution_count": 10,
      "outputs": []
    },
    {
      "cell_type": "code",
      "metadata": {
        "id": "BNn3kzUZw4cU",
        "outputId": "691a57e2-ab29-4ff5-f5f5-f4c5272fd336",
        "colab": {
          "base_uri": "https://localhost:8080/",
          "height": 1000
        }
      },
      "source": [
        "total_loss=  {'train':[],'val':[]}\n",
        "for epoch in range(50):\n",
        "\n",
        "    # Each epoch has a training and validation phase\n",
        "    for phase in ['train', 'val']:\n",
        "        if phase == 'train':\n",
        "            model.train()  # Set model to training mode\n",
        "        else:\n",
        "            model.eval()   # Set model to evaluate mode\n",
        "\n",
        "        running_loss = 0.0\n",
        "        running_preds = 0\n",
        "\n",
        "        # Iterate over data.\n",
        "        bar = tqdm(dataloaders[phase])\n",
        "        for inputs in bar:\n",
        "            bar.set_description(f'Epoch {epoch + 1} {phase}'.ljust(20))\n",
        "            inputs = inputs['image'].to(device, dtype=torch.float)\n",
        "\n",
        "            # zero the parameter gradients\n",
        "            optimizer.zero_grad()\n",
        "\n",
        "            # forward\n",
        "            # track history if only in train\n",
        "            with torch.set_grad_enabled(phase == 'train'):\n",
        "                outputs, mu, log_var = model(inputs)\n",
        "                \n",
        "                # For KL divergence, see Appendix B in VAE paper or http://yunjey47.tistory.com/43\n",
        "                reconst_loss = F.mse_loss(outputs, inputs, size_average=False)\n",
        "                kl_div = - 0.5 * torch.sum(1 + log_var - mu.pow(2) - log_var.exp())\n",
        "                \n",
        "                loss =  reconst_loss + kl_div\n",
        "\n",
        "                # backward + optimize only if in training phase\n",
        "                if phase == 'train':\n",
        "                    loss.backward()\n",
        "                    optimizer.step()\n",
        "\n",
        "            # statistics\n",
        "            running_loss += loss.item() * inputs.size(0)\n",
        "            running_preds += inputs.size(0)\n",
        "            bar.set_postfix(loss=f'{running_loss / running_preds:0.6f}')\n",
        "        total_loss[phase].append(loss.item()  )\n",
        "        epoch_loss = running_loss / dataset_sizes[phase]\n",
        "        writer.add_scalar(f'Loss/{phase}', epoch_loss, epoch)\n",
        "\n",
        "        # deep copy the model\n",
        "        if phase == 'val' and epoch_loss < best_loss:\n",
        "            best_loss = epoch_loss\n",
        "            best_model_wts = copy.deepcopy(model.state_dict())\n",
        "            torch.save(best_model_wts, model_file)\n",
        "\n",
        "# load best model weights\n",
        "model.load_state_dict(best_model_wts)\n",
        "\n",
        "print(f'Done! Time {timedelta(seconds=time() - t0)}')"
      ],
      "execution_count": 11,
      "outputs": [
        {
          "output_type": "stream",
          "text": [
            "Epoch 1 train       :   0%|          | 0/9 [00:07<?, ?it/s]/usr/local/lib/python3.6/dist-packages/torch/nn/_reduction.py:44: UserWarning: size_average and reduce args will be deprecated, please use reduction='sum' instead.\n",
            "  warnings.warn(warning.format(ret))\n",
            "Epoch 1 train       : 100%|██████████| 9/9 [01:06<00:00,  7.34s/it, loss=1204912.931738]\n",
            "Epoch 1 val         : 100%|██████████| 3/3 [00:22<00:00,  7.33s/it, loss=1107056.622768]\n",
            "Epoch 2 train       : 100%|██████████| 9/9 [00:30<00:00,  3.35s/it, loss=1112851.574025]\n",
            "Epoch 2 val         : 100%|██████████| 3/3 [00:06<00:00,  2.17s/it, loss=1018026.396429]\n",
            "Epoch 3 train       : 100%|██████████| 9/9 [00:27<00:00,  3.06s/it, loss=1014815.318706]\n",
            "Epoch 3 val         : 100%|██████████| 3/3 [00:03<00:00,  1.10s/it, loss=922500.256250]\n",
            "Epoch 4 train       : 100%|██████████| 9/9 [00:26<00:00,  3.00s/it, loss=913796.029255]\n",
            "Epoch 4 val         : 100%|██████████| 3/3 [00:03<00:00,  1.08s/it, loss=816934.258036]\n",
            "Epoch 5 train       : 100%|██████████| 9/9 [00:27<00:00,  3.00s/it, loss=801540.293883]\n",
            "Epoch 5 val         : 100%|██████████| 3/3 [00:03<00:00,  1.10s/it, loss=713045.386607]\n",
            "Epoch 6 train       : 100%|██████████| 9/9 [00:27<00:00,  3.02s/it, loss=706545.786348]\n",
            "Epoch 6 val         : 100%|██████████| 3/3 [00:03<00:00,  1.09s/it, loss=649346.292188]\n",
            "Epoch 7 train       : 100%|██████████| 9/9 [00:27<00:00,  3.00s/it, loss=662720.829787]\n",
            "Epoch 7 val         : 100%|██████████| 3/3 [00:03<00:00,  1.08s/it, loss=625807.131920]\n",
            "Epoch 8 train       : 100%|██████████| 9/9 [00:27<00:00,  3.00s/it, loss=640375.336879]\n",
            "Epoch 8 val         : 100%|██████████| 3/3 [00:03<00:00,  1.10s/it, loss=611861.917188]\n",
            "Epoch 9 train       : 100%|██████████| 9/9 [00:27<00:00,  3.01s/it, loss=629587.382535]\n",
            "Epoch 9 val         : 100%|██████████| 3/3 [00:03<00:00,  1.09s/it, loss=604436.926339]\n",
            "Epoch 10 train      : 100%|██████████| 9/9 [00:27<00:00,  3.01s/it, loss=620224.314716]\n",
            "Epoch 10 val        : 100%|██████████| 3/3 [00:03<00:00,  1.09s/it, loss=590828.555134]\n",
            "Epoch 11 train      : 100%|██████████| 9/9 [00:27<00:00,  3.00s/it, loss=604879.232934]\n",
            "Epoch 11 val        : 100%|██████████| 3/3 [00:03<00:00,  1.08s/it, loss=575590.342634]\n",
            "Epoch 12 train      : 100%|██████████| 9/9 [00:26<00:00,  3.00s/it, loss=589317.712544]\n",
            "Epoch 12 val        : 100%|██████████| 3/3 [00:03<00:00,  1.09s/it, loss=562106.423884]\n",
            "Epoch 13 train      : 100%|██████████| 9/9 [00:27<00:00,  3.02s/it, loss=576170.770168]\n",
            "Epoch 13 val        : 100%|██████████| 3/3 [00:03<00:00,  1.09s/it, loss=550940.120089]\n",
            "Epoch 14 train      : 100%|██████████| 9/9 [00:27<00:00,  3.02s/it, loss=565278.193484]\n",
            "Epoch 14 val        : 100%|██████████| 3/3 [00:03<00:00,  1.08s/it, loss=544112.603571]\n",
            "Epoch 15 train      : 100%|██████████| 9/9 [00:27<00:00,  3.00s/it, loss=554684.786791]\n",
            "Epoch 15 val        : 100%|██████████| 3/3 [00:03<00:00,  1.08s/it, loss=523547.124777]\n",
            "Epoch 16 train      : 100%|██████████| 9/9 [00:27<00:00,  3.02s/it, loss=534244.292553]\n",
            "Epoch 16 val        : 100%|██████████| 3/3 [00:03<00:00,  1.09s/it, loss=506897.738393]\n",
            "Epoch 17 train      : 100%|██████████| 9/9 [00:27<00:00,  3.01s/it, loss=517438.712101]\n",
            "Epoch 17 val        : 100%|██████████| 3/3 [00:03<00:00,  1.08s/it, loss=491726.587723]\n",
            "Epoch 18 train      : 100%|██████████| 9/9 [00:27<00:00,  3.01s/it, loss=503195.195922]\n",
            "Epoch 18 val        : 100%|██████████| 3/3 [00:03<00:00,  1.10s/it, loss=477583.446652]\n",
            "Epoch 19 train      : 100%|██████████| 9/9 [00:27<00:00,  3.00s/it, loss=489243.441711]\n",
            "Epoch 19 val        : 100%|██████████| 3/3 [00:03<00:00,  1.11s/it, loss=464912.197321]\n",
            "Epoch 20 train      : 100%|██████████| 9/9 [00:27<00:00,  3.01s/it, loss=476998.352615]\n",
            "Epoch 20 val        : 100%|██████████| 3/3 [00:03<00:00,  1.11s/it, loss=452619.193304]\n",
            "Epoch 21 train      : 100%|██████████| 9/9 [00:27<00:00,  3.03s/it, loss=462145.894504]\n",
            "Epoch 21 val        : 100%|██████████| 3/3 [00:03<00:00,  1.12s/it, loss=440479.998884]\n",
            "Epoch 22 train      : 100%|██████████| 9/9 [00:27<00:00,  3.02s/it, loss=451930.019504]\n",
            "Epoch 22 val        : 100%|██████████| 3/3 [00:03<00:00,  1.11s/it, loss=429991.995982]\n",
            "Epoch 23 train      : 100%|██████████| 9/9 [00:27<00:00,  3.01s/it, loss=440735.345745]\n",
            "Epoch 23 val        : 100%|██████████| 3/3 [00:03<00:00,  1.11s/it, loss=420615.647768]\n",
            "Epoch 24 train      : 100%|██████████| 9/9 [00:27<00:00,  3.02s/it, loss=431092.590869]\n",
            "Epoch 24 val        : 100%|██████████| 3/3 [00:03<00:00,  1.11s/it, loss=412579.947768]\n",
            "Epoch 25 train      : 100%|██████████| 9/9 [00:27<00:00,  3.02s/it, loss=424297.867021]\n",
            "Epoch 25 val        : 100%|██████████| 3/3 [00:03<00:00,  1.11s/it, loss=405665.747879]\n",
            "Epoch 26 train      : 100%|██████████| 9/9 [00:27<00:00,  3.02s/it, loss=417206.113697]\n",
            "Epoch 26 val        : 100%|██████████| 3/3 [00:03<00:00,  1.11s/it, loss=398520.308036]\n",
            "Epoch 27 train      : 100%|██████████| 9/9 [00:27<00:00,  3.02s/it, loss=411610.818927]\n",
            "Epoch 27 val        : 100%|██████████| 3/3 [00:03<00:00,  1.10s/it, loss=393139.647545]\n",
            "Epoch 28 train      : 100%|██████████| 9/9 [00:27<00:00,  3.02s/it, loss=405148.887411]\n",
            "Epoch 28 val        : 100%|██████████| 3/3 [00:03<00:00,  1.11s/it, loss=387848.530357]\n",
            "Epoch 29 train      : 100%|██████████| 9/9 [00:27<00:00,  3.01s/it, loss=398167.556516]\n",
            "Epoch 29 val        : 100%|██████████| 3/3 [00:03<00:00,  1.11s/it, loss=382084.485938]\n",
            "Epoch 30 train      : 100%|██████████| 9/9 [00:27<00:00,  3.01s/it, loss=394991.182624]\n",
            "Epoch 30 val        : 100%|██████████| 3/3 [00:03<00:00,  1.11s/it, loss=380156.877902]\n",
            "Epoch 31 train      : 100%|██████████| 9/9 [00:27<00:00,  3.01s/it, loss=391137.099734]\n",
            "Epoch 31 val        : 100%|██████████| 3/3 [00:03<00:00,  1.11s/it, loss=375813.866518]\n",
            "Epoch 32 train      : 100%|██████████| 9/9 [00:27<00:00,  3.01s/it, loss=386889.490913]\n",
            "Epoch 32 val        : 100%|██████████| 3/3 [00:03<00:00,  1.11s/it, loss=370196.894531]\n",
            "Epoch 33 train      : 100%|██████████| 9/9 [00:27<00:00,  3.01s/it, loss=381504.464317]\n",
            "Epoch 33 val        : 100%|██████████| 3/3 [00:03<00:00,  1.11s/it, loss=365858.243862]\n",
            "Epoch 34 train      : 100%|██████████| 9/9 [00:27<00:00,  3.02s/it, loss=377504.142287]\n",
            "Epoch 34 val        : 100%|██████████| 3/3 [00:03<00:00,  1.11s/it, loss=362572.955357]\n",
            "Epoch 35 train      : 100%|██████████| 9/9 [00:27<00:00,  3.01s/it, loss=373224.904034]\n",
            "Epoch 35 val        : 100%|██████████| 3/3 [00:03<00:00,  1.11s/it, loss=358729.158371]\n",
            "Epoch 36 train      : 100%|██████████| 9/9 [00:27<00:00,  3.05s/it, loss=369740.093085]\n",
            "Epoch 36 val        : 100%|██████████| 3/3 [00:03<00:00,  1.13s/it, loss=355524.980915]\n",
            "Epoch 37 train      : 100%|██████████| 9/9 [00:27<00:00,  3.03s/it, loss=367247.942930]\n",
            "Epoch 37 val        : 100%|██████████| 3/3 [00:03<00:00,  1.13s/it, loss=352060.137054]\n",
            "Epoch 38 train      : 100%|██████████| 9/9 [00:27<00:00,  3.03s/it, loss=363887.692376]\n",
            "Epoch 38 val        : 100%|██████████| 3/3 [00:03<00:00,  1.13s/it, loss=349263.685491]\n",
            "Epoch 39 train      : 100%|██████████| 9/9 [00:27<00:00,  3.02s/it, loss=360398.114805]\n",
            "Epoch 39 val        : 100%|██████████| 3/3 [00:03<00:00,  1.13s/it, loss=346593.121763]\n",
            "Epoch 40 train      : 100%|██████████| 9/9 [00:27<00:00,  3.02s/it, loss=357818.557402]\n",
            "Epoch 40 val        : 100%|██████████| 3/3 [00:03<00:00,  1.12s/it, loss=343457.252902]\n",
            "Epoch 41 train      : 100%|██████████| 9/9 [00:27<00:00,  3.02s/it, loss=354968.876108]\n",
            "Epoch 41 val        : 100%|██████████| 3/3 [00:03<00:00,  1.12s/it, loss=340850.830246]\n",
            "Epoch 42 train      : 100%|██████████| 9/9 [00:27<00:00,  3.02s/it, loss=351054.423537]\n",
            "Epoch 42 val        : 100%|██████████| 3/3 [00:03<00:00,  1.12s/it, loss=337778.415848]\n",
            "Epoch 43 train      : 100%|██████████| 9/9 [00:27<00:00,  3.02s/it, loss=348017.458998]\n",
            "Epoch 43 val        : 100%|██████████| 3/3 [00:03<00:00,  1.12s/it, loss=334872.230692]\n",
            "Epoch 44 train      : 100%|██████████| 9/9 [00:27<00:00,  3.03s/it, loss=346297.024712]\n",
            "Epoch 44 val        : 100%|██████████| 3/3 [00:03<00:00,  1.13s/it, loss=332091.648996]\n",
            "Epoch 45 train      : 100%|██████████| 9/9 [00:27<00:00,  3.02s/it, loss=342305.381871]\n",
            "Epoch 45 val        : 100%|██████████| 3/3 [00:03<00:00,  1.13s/it, loss=329111.085379]\n",
            "Epoch 46 train      : 100%|██████████| 9/9 [00:27<00:00,  3.03s/it, loss=339683.118573]\n",
            "Epoch 46 val        : 100%|██████████| 3/3 [00:03<00:00,  1.13s/it, loss=326486.324219]\n",
            "Epoch 47 train      : 100%|██████████| 9/9 [00:27<00:00,  3.03s/it, loss=336789.584663]\n",
            "Epoch 47 val        : 100%|██████████| 3/3 [00:03<00:00,  1.12s/it, loss=323773.679911]\n",
            "Epoch 48 train      : 100%|██████████| 9/9 [00:27<00:00,  3.02s/it, loss=334813.566822]\n",
            "Epoch 48 val        : 100%|██████████| 3/3 [00:03<00:00,  1.12s/it, loss=321514.457924]\n",
            "Epoch 49 train      : 100%|██████████| 9/9 [00:27<00:00,  3.03s/it, loss=331704.295213]\n",
            "Epoch 49 val        : 100%|██████████| 3/3 [00:03<00:00,  1.13s/it, loss=318814.367522]\n",
            "Epoch 50 train      : 100%|██████████| 9/9 [00:27<00:00,  3.03s/it, loss=328699.113918]\n",
            "Epoch 50 val        : 100%|██████████| 3/3 [00:03<00:00,  1.12s/it, loss=316090.717969]"
          ],
          "name": "stderr"
        },
        {
          "output_type": "stream",
          "text": [
            "Done! Time 0:26:41.359982\n"
          ],
          "name": "stdout"
        },
        {
          "output_type": "stream",
          "text": [
            "\n"
          ],
          "name": "stderr"
        }
      ]
    },
    {
      "cell_type": "code",
      "metadata": {
        "id": "QkYBl9H52A9p",
        "outputId": "970f36dd-0555-4281-a36e-022e90f5124a",
        "colab": {
          "base_uri": "https://localhost:8080/",
          "height": 294
        }
      },
      "source": [
        "import seaborn as sns\n",
        "sns.lineplot(y=total_loss['train'],x=list(range(len(total_loss['train']))))"
      ],
      "execution_count": 13,
      "outputs": [
        {
          "output_type": "execute_result",
          "data": {
            "text/plain": [
              "<matplotlib.axes._subplots.AxesSubplot at 0x7f09442a69e8>"
            ]
          },
          "metadata": {
            "tags": []
          },
          "execution_count": 13
        },
        {
          "output_type": "display_data",
          "data": {
            "image/png": "[encoded data removed]",
            "text/plain": [
              "<Figure size 432x288 with 1 Axes>"
            ]
          },
          "metadata": {
            "tags": [],
            "needs_background": "light"
          }
        }
      ]
    },
    {
      "cell_type": "code",
      "metadata": {
        "id": "_OtoWy6n5L9i",
        "outputId": "795f797e-7881-4439-e488-364c74566f3c",
        "colab": {
          "base_uri": "https://localhost:8080/",
          "height": 283
        }
      },
      "source": [
        "sns.lineplot(y=total_loss['val'],x=list(range(len(total_loss['val']))))"
      ],
      "execution_count": 14,
      "outputs": [
        {
          "output_type": "execute_result",
          "data": {
            "text/plain": [
              "<matplotlib.axes._subplots.AxesSubplot at 0x7f0944a54828>"
            ]
          },
          "metadata": {
            "tags": []
          },
          "execution_count": 14
        },
        {
          "output_type": "display_data",
          "data": {
            "image/png": "[encoded data removed]",
            "text/plain": [
              "<Figure size 432x288 with 1 Axes>"
            ]
          },
          "metadata": {
            "tags": [],
            "needs_background": "light"
          }
        }
      ]
    },
    {
      "cell_type": "code",
      "metadata": {
        "id": "hAyXLc5s7zlM"
      },
      "source": [
        ""
      ],
      "execution_count": null,
      "outputs": []
    }
  ]
}