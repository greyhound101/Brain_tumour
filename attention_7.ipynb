{
  "nbformat": 4,
  "nbformat_minor": 0,
  "metadata": {
    "colab": {
      "name": "attention_7.ipynb",
      "provenance": [],
      "machine_shape": "hm",
      "include_colab_link": true
    },
    "kernelspec": {
      "name": "python3",
      "display_name": "Python 3"
    },
    "accelerator": "GPU"
  },
  "cells": [
    {
      "cell_type": "markdown",
      "metadata": {
        "id": "view-in-github",
        "colab_type": "text"
      },
      "source": [
        "<a href=\"https://colab.research.google.com/github/greyhound101/internship/blob/master/attention_7.ipynb\" target=\"_parent\"><img src=\"https://colab.research.google.com/assets/colab-badge.svg\" alt=\"Open In Colab\"/></a>"
      ]
    },
    {
      "cell_type": "code",
      "metadata": {
        "id": "0LdkIU9sMbRB",
        "colab_type": "code",
        "colab": {
          "base_uri": "https://localhost:8080/",
          "height": 54
        },
        "outputId": "667e1a3b-db7b-4ea8-fe4b-f92db6b8831c"
      },
      "source": [
        "from google.colab import drive\n",
        "drive.mount('/content/gdrive')\n",
        "drive.mount(\"/content/gdrive\", force_remount=True)"
      ],
      "execution_count": 1,
      "outputs": [
        {
          "output_type": "stream",
          "text": [
            "Drive already mounted at /content/gdrive; to attempt to forcibly remount, call drive.mount(\"/content/gdrive\", force_remount=True).\n",
            "Mounted at /content/gdrive\n"
          ],
          "name": "stdout"
        }
      ]
    },
    {
      "cell_type": "markdown",
      "metadata": {
        "id": "rsiPqHMGNV6-",
        "colab_type": "text"
      },
      "source": [
        "Impoting all necessary packages"
      ]
    },
    {
      "cell_type": "code",
      "metadata": {
        "id": "7DgxaKpOMd9c",
        "colab_type": "code",
        "colab": {
          "base_uri": "https://localhost:8080/",
          "height": 35
        },
        "outputId": "2840e292-d7c7-44d8-c937-723fc2482573"
      },
      "source": [
        "import zipfile\n",
        "import h5py\n",
        "from keras.optimizers import Adam\n",
        "import cv2\n",
        "from keras.utils import to_categorical\n",
        "import glob, os\n",
        "from matplotlib import pyplot as plt\n",
        "import h5py\n",
        "from sklearn.metrics import accuracy_score\n",
        "import numpy as np\n",
        "from tqdm import tqdm\n",
        "import time\n",
        "import gc\n",
        "from keras.applications import *\n",
        "from keras.layers import *\n",
        "from keras import backend as K\n",
        "from keras.models import Model"
      ],
      "execution_count": 2,
      "outputs": [
        {
          "output_type": "stream",
          "text": [
            "Using TensorFlow backend.\n"
          ],
          "name": "stderr"
        }
      ]
    },
    {
      "cell_type": "markdown",
      "metadata": {
        "id": "f5OI7-tiNarO",
        "colab_type": "text"
      },
      "source": [
        "Loading the data"
      ]
    },
    {
      "cell_type": "code",
      "metadata": {
        "id": "w0xeyOp7NYfP",
        "colab_type": "code",
        "colab": {}
      },
      "source": [
        "path = F\"/content/gdrive/My Drive/check.npy\" \n",
        "df=np.load(path,allow_pickle=True)\n",
        "df=df.item()"
      ],
      "execution_count": 3,
      "outputs": []
    },
    {
      "cell_type": "markdown",
      "metadata": {
        "id": "T0MkL3H0Nk1z",
        "colab_type": "text"
      },
      "source": [
        "Function to shuffle data in fold and load each fold"
      ]
    },
    {
      "cell_type": "code",
      "metadata": {
        "id": "L62Y_Ub5NjNE",
        "colab_type": "code",
        "colab": {}
      },
      "source": [
        "\n",
        "#shuffle samples\n",
        "def unison_shuffled_copies(a, b):\n",
        "    assert len(a) == len(b)\n",
        "    p = np.random.permutation(len(a))\n",
        "    return a[p], b[p]\n",
        "\n",
        "\n",
        "\n",
        "#change targets\n",
        "def change(img):\n",
        "    resized = cv2.resize(img, (299,299), interpolation = cv2.INTER_AREA )\n",
        "    return resized\n",
        "\n",
        "\n",
        "\n",
        "\n",
        "#get train and test splits\n",
        "def get_trn_tst(df,tst_fold):\n",
        "  dimension=224\n",
        "  idx=np.asarray(df['fold'])\n",
        "  y=np.asarray(df['label'])\n",
        "  y-=1\n",
        "  img=np.asarray(df['image'])\n",
        "  img1=[]\n",
        "  img1=np.asarray(img)\n",
        "  del([img])\n",
        "  gc.collect()\n",
        "  trn_y=np.asarray(y[(idx!=tst_fold)])\n",
        "  trn_img=np.asarray(img1[(idx!=tst_fold)])\n",
        "  tst_y=np.asarray(y[(idx==tst_fold)])\n",
        "  tst_img=img1[idx==tst_fold]\n",
        "  trn_img=np.repeat(trn_img.reshape((trn_img.shape[0],dimension,dimension,1)),1,axis=3)\n",
        "  tst_img=np.repeat(tst_img.reshape((tst_img.shape[0],dimension,dimension,1)),1,axis=3)\n",
        "  return (trn_img.copy(),trn_y.copy()),(tst_img.copy(),tst_y.copy())\n",
        "\n"
      ],
      "execution_count": 4,
      "outputs": []
    },
    {
      "cell_type": "markdown",
      "metadata": {
        "id": "1z31haAgNowq",
        "colab_type": "text"
      },
      "source": [
        "Verfying model stricture"
      ]
    },
    {
      "cell_type": "code",
      "metadata": {
        "id": "O85qsxZgNnFh",
        "colab_type": "code",
        "colab": {}
      },
      "source": [
        "def load_model(last=True):   \n",
        "  inp=Input((224,224,1,))\n",
        "\n",
        "  x=Convolution2D(64,(3,3),padding='same')(inp)\n",
        "  x=BatchNormalization()(x)\n",
        "  x=Activation('relu')(x)\n",
        "  x=MaxPooling2D(2,2)(x)\n",
        "  \n",
        "  x=Convolution2D(64,(5,5),padding='same')(x)\n",
        "  x=BatchNormalization()(x)\n",
        "  x=Activation('relu')(x)\n",
        "  x=MaxPooling2D(2,2)(x)\n",
        "  \n",
        "  x=Convolution2D(64,(7,7),padding='same')(x)\n",
        "  x=BatchNormalization()(x)\n",
        "  x=Activation('relu')(x)\n",
        "  tot=MaxPooling2D(2,2)(x)\n",
        "  tot=SpatialDropout2D(0.3,data_format='channels_last')(tot)\n",
        "\n",
        "  x=Convolution2D(128,(2,2),padding='same')(tot)\n",
        "  x=BatchNormalization()(x)\n",
        "  a=Activation('relu')(x)\n",
        "  x=Convolution2D(128,(3,3),padding='same')(tot)\n",
        "  x=BatchNormalization()(x)\n",
        "  b=Activation('relu')(x)\n",
        "  x=Convolution2D(128,(5,5),padding='same')(tot)\n",
        "  x=BatchNormalization()(x)\n",
        "  c=Activation('relu')(x)\n",
        "  x=Convolution2D(128,(7,7),padding='same')(tot)\n",
        "  x=BatchNormalization()(x)\n",
        "  d=Activation('relu')(x)\n",
        "  x=Convolution2D(128,(9,9),padding='same')(tot)\n",
        "  x=BatchNormalization()(x)\n",
        "  f=Activation('relu')(x)\n",
        "  tot=Concatenate()([a,b,c,d,f])\n",
        "  tot=SpatialDropout2D(0.3,data_format='channels_last')(tot)\n",
        "\n",
        "\n",
        "\n",
        "\n",
        "  \n",
        "  \n",
        "  x=Convolution2D(64,(3,3),padding='same')(tot)\n",
        "  x=BatchNormalization()(x)\n",
        "  x=Activation('relu')(x)\n",
        "  x=MaxPooling2D(2,2)(x)\n",
        "  \n",
        "  x=Convolution2D(64,(5,5),padding='same')(x)\n",
        "  x=BatchNormalization()(x)\n",
        "  x=Activation('relu')(x)\n",
        "  x=MaxPooling2D(2,2)(x)\n",
        "  \n",
        "  x=Convolution2D(64,(7,7),padding='same')(x)\n",
        "  x=BatchNormalization()(x)\n",
        "  x=Activation('relu')(x)\n",
        "  tot=MaxPooling2D(2,2)(x)\n",
        "  x=GlobalAveragePooling2D()(tot)\n",
        "  x=Dropout(0.3)(x)\n",
        "\n",
        "  x=Dense(512,activation='sigmoid')(x)\n",
        "  x=Dropout(0.5)(x)\n",
        "  x=Dense(3,activation='softmax')(x)\n",
        "  model=Model(inputs=inp,outputs=x)\n",
        "  return model"
      ],
      "execution_count": 5,
      "outputs": []
    },
    {
      "cell_type": "code",
      "metadata": {
        "id": "RC5Qd46pTPIw",
        "colab_type": "code",
        "colab": {
          "base_uri": "https://localhost:8080/",
          "height": 1000
        },
        "outputId": "48ae9810-f669-4461-f104-7b802664553f"
      },
      "source": [
        "import keras\n",
        "mod=load_model()\n",
        "mod.summary()"
      ],
      "execution_count": 6,
      "outputs": [
        {
          "output_type": "stream",
          "text": [
            "Model: \"model_1\"\n",
            "__________________________________________________________________________________________________\n",
            "Layer (type)                    Output Shape         Param #     Connected to                     \n",
            "==================================================================================================\n",
            "input_1 (InputLayer)            (None, 224, 224, 1)  0                                            \n",
            "__________________________________________________________________________________________________\n",
            "conv2d_1 (Conv2D)               (None, 224, 224, 64) 640         input_1[0][0]                    \n",
            "__________________________________________________________________________________________________\n",
            "batch_normalization_1 (BatchNor (None, 224, 224, 64) 256         conv2d_1[0][0]                   \n",
            "__________________________________________________________________________________________________\n",
            "activation_1 (Activation)       (None, 224, 224, 64) 0           batch_normalization_1[0][0]      \n",
            "__________________________________________________________________________________________________\n",
            "max_pooling2d_1 (MaxPooling2D)  (None, 112, 112, 64) 0           activation_1[0][0]               \n",
            "__________________________________________________________________________________________________\n",
            "conv2d_2 (Conv2D)               (None, 112, 112, 64) 102464      max_pooling2d_1[0][0]            \n",
            "__________________________________________________________________________________________________\n",
            "batch_normalization_2 (BatchNor (None, 112, 112, 64) 256         conv2d_2[0][0]                   \n",
            "__________________________________________________________________________________________________\n",
            "activation_2 (Activation)       (None, 112, 112, 64) 0           batch_normalization_2[0][0]      \n",
            "__________________________________________________________________________________________________\n",
            "max_pooling2d_2 (MaxPooling2D)  (None, 56, 56, 64)   0           activation_2[0][0]               \n",
            "__________________________________________________________________________________________________\n",
            "conv2d_3 (Conv2D)               (None, 56, 56, 64)   200768      max_pooling2d_2[0][0]            \n",
            "__________________________________________________________________________________________________\n",
            "batch_normalization_3 (BatchNor (None, 56, 56, 64)   256         conv2d_3[0][0]                   \n",
            "__________________________________________________________________________________________________\n",
            "activation_3 (Activation)       (None, 56, 56, 64)   0           batch_normalization_3[0][0]      \n",
            "__________________________________________________________________________________________________\n",
            "max_pooling2d_3 (MaxPooling2D)  (None, 28, 28, 64)   0           activation_3[0][0]               \n",
            "__________________________________________________________________________________________________\n",
            "spatial_dropout2d_1 (SpatialDro (None, 28, 28, 64)   0           max_pooling2d_3[0][0]            \n",
            "__________________________________________________________________________________________________\n",
            "conv2d_4 (Conv2D)               (None, 28, 28, 128)  32896       spatial_dropout2d_1[0][0]        \n",
            "__________________________________________________________________________________________________\n",
            "conv2d_5 (Conv2D)               (None, 28, 28, 128)  73856       spatial_dropout2d_1[0][0]        \n",
            "__________________________________________________________________________________________________\n",
            "conv2d_6 (Conv2D)               (None, 28, 28, 128)  204928      spatial_dropout2d_1[0][0]        \n",
            "__________________________________________________________________________________________________\n",
            "conv2d_7 (Conv2D)               (None, 28, 28, 128)  401536      spatial_dropout2d_1[0][0]        \n",
            "__________________________________________________________________________________________________\n",
            "conv2d_8 (Conv2D)               (None, 28, 28, 128)  663680      spatial_dropout2d_1[0][0]        \n",
            "__________________________________________________________________________________________________\n",
            "batch_normalization_4 (BatchNor (None, 28, 28, 128)  512         conv2d_4[0][0]                   \n",
            "__________________________________________________________________________________________________\n",
            "batch_normalization_5 (BatchNor (None, 28, 28, 128)  512         conv2d_5[0][0]                   \n",
            "__________________________________________________________________________________________________\n",
            "batch_normalization_6 (BatchNor (None, 28, 28, 128)  512         conv2d_6[0][0]                   \n",
            "__________________________________________________________________________________________________\n",
            "batch_normalization_7 (BatchNor (None, 28, 28, 128)  512         conv2d_7[0][0]                   \n",
            "__________________________________________________________________________________________________\n",
            "batch_normalization_8 (BatchNor (None, 28, 28, 128)  512         conv2d_8[0][0]                   \n",
            "__________________________________________________________________________________________________\n",
            "activation_4 (Activation)       (None, 28, 28, 128)  0           batch_normalization_4[0][0]      \n",
            "__________________________________________________________________________________________________\n",
            "activation_5 (Activation)       (None, 28, 28, 128)  0           batch_normalization_5[0][0]      \n",
            "__________________________________________________________________________________________________\n",
            "activation_6 (Activation)       (None, 28, 28, 128)  0           batch_normalization_6[0][0]      \n",
            "__________________________________________________________________________________________________\n",
            "activation_7 (Activation)       (None, 28, 28, 128)  0           batch_normalization_7[0][0]      \n",
            "__________________________________________________________________________________________________\n",
            "activation_8 (Activation)       (None, 28, 28, 128)  0           batch_normalization_8[0][0]      \n",
            "__________________________________________________________________________________________________\n",
            "concatenate_1 (Concatenate)     (None, 28, 28, 640)  0           activation_4[0][0]               \n",
            "                                                                 activation_5[0][0]               \n",
            "                                                                 activation_6[0][0]               \n",
            "                                                                 activation_7[0][0]               \n",
            "                                                                 activation_8[0][0]               \n",
            "__________________________________________________________________________________________________\n",
            "spatial_dropout2d_2 (SpatialDro (None, 28, 28, 640)  0           concatenate_1[0][0]              \n",
            "__________________________________________________________________________________________________\n",
            "conv2d_9 (Conv2D)               (None, 28, 28, 64)   368704      spatial_dropout2d_2[0][0]        \n",
            "__________________________________________________________________________________________________\n",
            "batch_normalization_9 (BatchNor (None, 28, 28, 64)   256         conv2d_9[0][0]                   \n",
            "__________________________________________________________________________________________________\n",
            "activation_9 (Activation)       (None, 28, 28, 64)   0           batch_normalization_9[0][0]      \n",
            "__________________________________________________________________________________________________\n",
            "max_pooling2d_4 (MaxPooling2D)  (None, 14, 14, 64)   0           activation_9[0][0]               \n",
            "__________________________________________________________________________________________________\n",
            "conv2d_10 (Conv2D)              (None, 14, 14, 64)   102464      max_pooling2d_4[0][0]            \n",
            "__________________________________________________________________________________________________\n",
            "batch_normalization_10 (BatchNo (None, 14, 14, 64)   256         conv2d_10[0][0]                  \n",
            "__________________________________________________________________________________________________\n",
            "activation_10 (Activation)      (None, 14, 14, 64)   0           batch_normalization_10[0][0]     \n",
            "__________________________________________________________________________________________________\n",
            "max_pooling2d_5 (MaxPooling2D)  (None, 7, 7, 64)     0           activation_10[0][0]              \n",
            "__________________________________________________________________________________________________\n",
            "conv2d_11 (Conv2D)              (None, 7, 7, 64)     200768      max_pooling2d_5[0][0]            \n",
            "__________________________________________________________________________________________________\n",
            "batch_normalization_11 (BatchNo (None, 7, 7, 64)     256         conv2d_11[0][0]                  \n",
            "__________________________________________________________________________________________________\n",
            "activation_11 (Activation)      (None, 7, 7, 64)     0           batch_normalization_11[0][0]     \n",
            "__________________________________________________________________________________________________\n",
            "max_pooling2d_6 (MaxPooling2D)  (None, 3, 3, 64)     0           activation_11[0][0]              \n",
            "__________________________________________________________________________________________________\n",
            "global_average_pooling2d_1 (Glo (None, 64)           0           max_pooling2d_6[0][0]            \n",
            "__________________________________________________________________________________________________\n",
            "dropout_1 (Dropout)             (None, 64)           0           global_average_pooling2d_1[0][0] \n",
            "__________________________________________________________________________________________________\n",
            "dense_1 (Dense)                 (None, 512)          33280       dropout_1[0][0]                  \n",
            "__________________________________________________________________________________________________\n",
            "dropout_2 (Dropout)             (None, 512)          0           dense_1[0][0]                    \n",
            "__________________________________________________________________________________________________\n",
            "dense_2 (Dense)                 (None, 3)            1539        dropout_2[0][0]                  \n",
            "==================================================================================================\n",
            "Total params: 2,391,619\n",
            "Trainable params: 2,389,571\n",
            "Non-trainable params: 2,048\n",
            "__________________________________________________________________________________________________\n"
          ],
          "name": "stdout"
        }
      ]
    },
    {
      "cell_type": "markdown",
      "metadata": {
        "id": "jhQ0Y8gqO9LM",
        "colab_type": "text"
      },
      "source": [
        "Loading dictionaries to save data"
      ]
    },
    {
      "cell_type": "code",
      "metadata": {
        "id": "v924-D2yO6eR",
        "colab_type": "code",
        "colab": {}
      },
      "source": [
        "best_accuracy_last={}\n",
        "final_accuracy_last={}\n",
        "history_last={}\n",
        "answers_last={}\n",
        "predictions_last={}\n",
        "predictions_last_best={}\n",
        "times_last={}"
      ],
      "execution_count": 7,
      "outputs": []
    },
    {
      "cell_type": "markdown",
      "metadata": {
        "id": "El8PFgH5O_2L",
        "colab_type": "text"
      },
      "source": [
        "Training all layers"
      ]
    },
    {
      "cell_type": "code",
      "metadata": {
        "id": "qCtGMTnKstbT",
        "colab_type": "code",
        "colab": {}
      },
      "source": [
        "import keras\n",
        "import pandas as pd\n",
        "from keras.applications.nasnet import NASNetMobile, preprocess_input\n",
        "import imgaug as ia\n",
        "from imgaug import augmenters as iaa\n",
        "def rotate_image(image, angle):\n",
        "  image_center = tuple(np.array(image.shape[1::-1]) / 2)\n",
        "  rot_mat = cv2.getRotationMatrix2D(image_center, angle, 1.0)\n",
        "  result = cv2.warpAffine(image, rot_mat, image.shape[1::-1], flags=cv2.INTER_LINEAR)\n",
        "  return result\n",
        "def Hflip( images):\n",
        "\t\tseq = iaa.Sequential([iaa.Fliplr(1.0)])\n",
        "\t\treturn seq.augment_images(images)\n",
        "def Vflip( images):\n",
        "\t\tseq = iaa.Sequential([iaa.Flipud(1.0)])\n",
        "\t\treturn seq.augment_images(images)\n",
        "def noise(images):\n",
        "    ls=[]\n",
        "    for i in images:\n",
        "        x = np.random.normal(loc=0, scale=0.05, size=(dimension,dimension,3))\n",
        "        ls.append(i+x)\n",
        "    return ls\n",
        "def rotate(images):\n",
        "    ls=[]\n",
        "    for angle in range(-15,20,5):\n",
        "        for image in images:\n",
        "            ls.append(rotate_image(image,angle).reshape((224,224,1)))\n",
        "    return ls\n",
        "\n",
        "class DataGenerator(keras.utils.Sequence):\n",
        "  def __init__(self, images, labels, batch_size=64, image_dimensions = (96 ,96 ,3), shuffle=False, augment=False):\n",
        "    self.labels       = labels              # array of labels\n",
        "    self.images = images        # array of image paths\n",
        "    self.batch_size   = batch_size          # batch size\n",
        "    self.on_epoch_end()\n",
        "\n",
        "  def __len__(self):\n",
        "    return int(np.floor(self.labels.shape[0] / self.batch_size))\n",
        "\n",
        "  def on_epoch_end(self):\n",
        "    self.indexes = np.arange(self.labels.shape[0])\n",
        "\n",
        "  def __getitem__(self, index):\n",
        "\t\t# selects indices of data for next batch\n",
        "    indexes = self.indexes[index * self.batch_size : (index + 1) * self.batch_size]\n",
        "    # select data and load images\n",
        "    labels = self.labels.loc[indexes]\n",
        "    img = [self.images[k].astype(np.float32) for k in indexes]\n",
        "    imgH=Hflip(img)\n",
        "    imgV=Vflip(img)\n",
        "    imgR=rotate(img)\n",
        "    images=[]\n",
        "    images.extend(imgH)\n",
        "    images.extend(imgV)\n",
        "    images.extend(imgR)\n",
        "    lbl=labels.copy()\n",
        "    labels=pd.DataFrame()\n",
        "    labels=pd.concat([labels,lbl],0)\n",
        "    labels=pd.concat([labels,lbl],0)\n",
        "    labels=pd.concat([labels,lbl],0)\n",
        "    labels=pd.concat([labels,lbl],0)\n",
        "    labels=pd.concat([labels,lbl],0)\n",
        "    labels=pd.concat([labels,lbl],0)\n",
        "    labels=pd.concat([labels,lbl],0)\n",
        "    labels=pd.concat([labels,lbl],0)\n",
        "    labels=pd.concat([labels,lbl],0)\n",
        "    img=np.asarray(images)\n",
        "    #images = np.array([preprocess_input(img) for img in images])\n",
        "    return img, labels"
      ],
      "execution_count": 8,
      "outputs": []
    },
    {
      "cell_type": "code",
      "metadata": {
        "id": "bO38-WvOPBGd",
        "colab_type": "code",
        "colab": {
          "base_uri": "https://localhost:8080/",
          "height": 1000
        },
        "outputId": "db30173f-070b-499d-d3a5-c74b00e14ae1"
      },
      "source": [
        "  def upd(dk,data):\n",
        "    if dk==0:\n",
        "        dk=data\n",
        "    else:\n",
        "        for ky in data.keys():\n",
        "            dk[ky].extend(data[ky])\n",
        "    return dk\n",
        "  index=3\n",
        "  epoch=50\n",
        "  pre_acc=0\n",
        "  best=0\n",
        "  fold='fold_'+str(index)\n",
        "  trn,tst=get_trn_tst(df,index)\n",
        "  history_last[fold]=0\n",
        "\n",
        "\n",
        "  trn_x,trn_y=unison_shuffled_copies(trn[0],trn[1])\n",
        "  tst_x,tst_y=unison_shuffled_copies(tst[0],tst[1])\n",
        "\n",
        "\n",
        "\n",
        "  model=load_model()\n",
        "\n",
        "\n",
        "  \n",
        "  #compiling the model\n",
        "  model.compile(optimizer=Adam(1e-3,decay=1e-3), \n",
        "                     loss='categorical_crossentropy', \n",
        "                     metrics=['accuracy'])\n",
        "  train_data = DataGenerator(trn_x,pd.get_dummies(trn_y), batch_size=2, augment=True)\n",
        "  ln=len(trn_y)\n",
        "  del([trn_x,trn_y,trn,tst])\n",
        "  gc.collect()\n",
        "  #fitting the model\n",
        "  #timing\n",
        "  start=time.time()\n",
        "  for i in range(epoch):\n",
        "      hist=model.fit_generator(train_data,epochs=1,steps_per_epoch=ln//2,validation_data=([tst_x,pd.get_dummies(tst_y).values]))\n",
        "      history_last[fold]=upd(history_last[fold],hist.history)\n",
        "\n",
        "  end=time.time()\n",
        "  times_last[fold]=end-start\n",
        "\n",
        "  #getting the prediction \n",
        "  pre=model.predict(tst_x)\n",
        "  \n",
        "\n",
        "\n",
        "\n",
        "  #select the maximum position\n",
        "  pre=np.argmax(pre,1)\n",
        "  predictions_last[fold]=pre\n",
        "\n",
        "  \n",
        "  \n",
        "  \n",
        "  #getting the accuracy\n",
        "  new_acc=accuracy_score(pre,tst_y)\n",
        "\n",
        "  \n",
        "\n",
        "\n",
        "  #storing the predictions\n",
        "  final_accuracy_last[fold]=new_acc\n",
        "\n",
        "\n",
        "\n",
        "\n",
        "\n",
        "\n",
        "\n",
        "\n",
        "  #storing the answers\n",
        "  answers_last[fold]=tst_y\n",
        "    \n",
        "    \n",
        "    \n",
        "    \n",
        "  #freeing memory\n",
        "  del([tst_x,tst_y])\n",
        "  gc.collect()"
      ],
      "execution_count": 9,
      "outputs": [
        {
          "output_type": "stream",
          "text": [
            "Epoch 1/1\n",
            "1246/1246 [==============================] - 125s 100ms/step - loss: 0.8182 - accuracy: 0.6338 - val_loss: 0.5818 - val_accuracy: 0.7255\n",
            "Epoch 1/1\n",
            "1246/1246 [==============================] - 122s 98ms/step - loss: 0.5635 - accuracy: 0.7444 - val_loss: 0.3950 - val_accuracy: 0.8392\n",
            "Epoch 1/1\n",
            "1246/1246 [==============================] - 121s 97ms/step - loss: 0.4375 - accuracy: 0.8161 - val_loss: 0.3855 - val_accuracy: 0.8252\n",
            "Epoch 1/1\n",
            "1246/1246 [==============================] - 121s 98ms/step - loss: 0.3422 - accuracy: 0.8610 - val_loss: 0.3611 - val_accuracy: 0.8497\n",
            "Epoch 1/1\n",
            "1246/1246 [==============================] - 121s 97ms/step - loss: 0.2711 - accuracy: 0.8933 - val_loss: 0.2984 - val_accuracy: 0.8811\n",
            "Epoch 1/1\n",
            "1246/1246 [==============================] - 122s 98ms/step - loss: 0.2259 - accuracy: 0.9135 - val_loss: 0.2528 - val_accuracy: 0.9003\n",
            "Epoch 1/1\n",
            "1246/1246 [==============================] - 122s 98ms/step - loss: 0.1856 - accuracy: 0.9290 - val_loss: 0.2601 - val_accuracy: 0.8881\n",
            "Epoch 1/1\n",
            "1246/1246 [==============================] - 122s 98ms/step - loss: 0.1586 - accuracy: 0.9389 - val_loss: 0.2477 - val_accuracy: 0.8969\n",
            "Epoch 1/1\n",
            "1246/1246 [==============================] - 122s 98ms/step - loss: 0.1352 - accuracy: 0.9503 - val_loss: 0.2940 - val_accuracy: 0.8899\n",
            "Epoch 1/1\n",
            "1246/1246 [==============================] - 122s 98ms/step - loss: 0.1222 - accuracy: 0.9552 - val_loss: 0.2112 - val_accuracy: 0.9126\n",
            "Epoch 1/1\n",
            "1246/1246 [==============================] - 122s 98ms/step - loss: 0.1019 - accuracy: 0.9627 - val_loss: 0.2402 - val_accuracy: 0.9178\n",
            "Epoch 1/1\n",
            "1246/1246 [==============================] - 122s 98ms/step - loss: 0.0890 - accuracy: 0.9674 - val_loss: 0.3220 - val_accuracy: 0.8724\n",
            "Epoch 1/1\n",
            "1246/1246 [==============================] - 122s 98ms/step - loss: 0.0806 - accuracy: 0.9705 - val_loss: 0.2239 - val_accuracy: 0.9231\n",
            "Epoch 1/1\n",
            "1246/1246 [==============================] - 122s 98ms/step - loss: 0.0707 - accuracy: 0.9757 - val_loss: 0.2450 - val_accuracy: 0.9003\n",
            "Epoch 1/1\n",
            "1246/1246 [==============================] - 121s 97ms/step - loss: 0.0642 - accuracy: 0.9777 - val_loss: 0.2350 - val_accuracy: 0.9126\n",
            "Epoch 1/1\n",
            "1246/1246 [==============================] - 121s 97ms/step - loss: 0.0542 - accuracy: 0.9810 - val_loss: 0.2059 - val_accuracy: 0.9196\n",
            "Epoch 1/1\n",
            "1246/1246 [==============================] - 122s 98ms/step - loss: 0.0484 - accuracy: 0.9834 - val_loss: 0.2426 - val_accuracy: 0.9178\n",
            "Epoch 1/1\n",
            "1246/1246 [==============================] - 121s 98ms/step - loss: 0.0480 - accuracy: 0.9838 - val_loss: 0.2203 - val_accuracy: 0.9196\n",
            "Epoch 1/1\n",
            "1246/1246 [==============================] - 121s 97ms/step - loss: 0.0412 - accuracy: 0.9858 - val_loss: 0.2508 - val_accuracy: 0.9178\n",
            "Epoch 1/1\n",
            "1246/1246 [==============================] - 122s 98ms/step - loss: 0.0344 - accuracy: 0.9885 - val_loss: 0.2421 - val_accuracy: 0.9213\n",
            "Epoch 1/1\n",
            "1246/1246 [==============================] - 121s 97ms/step - loss: 0.0353 - accuracy: 0.9873 - val_loss: 0.2104 - val_accuracy: 0.9301\n",
            "Epoch 1/1\n",
            "1246/1246 [==============================] - 122s 98ms/step - loss: 0.0293 - accuracy: 0.9899 - val_loss: 0.2292 - val_accuracy: 0.9178\n",
            "Epoch 1/1\n",
            "1246/1246 [==============================] - 121s 98ms/step - loss: 0.0297 - accuracy: 0.9896 - val_loss: 0.2104 - val_accuracy: 0.9231\n",
            "Epoch 1/1\n",
            "1246/1246 [==============================] - 121s 97ms/step - loss: 0.0266 - accuracy: 0.9907 - val_loss: 0.2342 - val_accuracy: 0.9196\n",
            "Epoch 1/1\n",
            "1246/1246 [==============================] - 122s 98ms/step - loss: 0.0220 - accuracy: 0.9935 - val_loss: 0.2445 - val_accuracy: 0.9266\n",
            "Epoch 1/1\n",
            "1246/1246 [==============================] - 122s 98ms/step - loss: 0.0215 - accuracy: 0.9932 - val_loss: 0.2328 - val_accuracy: 0.9283\n",
            "Epoch 1/1\n",
            "1246/1246 [==============================] - 122s 98ms/step - loss: 0.0204 - accuracy: 0.9932 - val_loss: 0.2647 - val_accuracy: 0.9231\n",
            "Epoch 1/1\n",
            "1246/1246 [==============================] - 121s 98ms/step - loss: 0.0184 - accuracy: 0.9942 - val_loss: 0.2654 - val_accuracy: 0.9318\n",
            "Epoch 1/1\n",
            "1246/1246 [==============================] - 122s 98ms/step - loss: 0.0171 - accuracy: 0.9943 - val_loss: 0.2581 - val_accuracy: 0.9231\n",
            "Epoch 1/1\n",
            "1246/1246 [==============================] - 122s 98ms/step - loss: 0.0149 - accuracy: 0.9957 - val_loss: 0.2524 - val_accuracy: 0.9266\n",
            "Epoch 1/1\n",
            "1246/1246 [==============================] - 122s 98ms/step - loss: 0.0153 - accuracy: 0.9950 - val_loss: 0.2381 - val_accuracy: 0.9213\n",
            "Epoch 1/1\n",
            "1246/1246 [==============================] - 122s 98ms/step - loss: 0.0145 - accuracy: 0.9950 - val_loss: 0.2416 - val_accuracy: 0.9283\n",
            "Epoch 1/1\n",
            "1246/1246 [==============================] - 122s 98ms/step - loss: 0.0139 - accuracy: 0.9954 - val_loss: 0.2426 - val_accuracy: 0.9213\n",
            "Epoch 1/1\n",
            "1246/1246 [==============================] - 121s 97ms/step - loss: 0.0127 - accuracy: 0.9964 - val_loss: 0.2684 - val_accuracy: 0.9301\n",
            "Epoch 1/1\n",
            "1246/1246 [==============================] - 122s 98ms/step - loss: 0.0110 - accuracy: 0.9967 - val_loss: 0.2578 - val_accuracy: 0.9301\n",
            "Epoch 1/1\n",
            "1246/1246 [==============================] - 122s 98ms/step - loss: 0.0114 - accuracy: 0.9965 - val_loss: 0.2560 - val_accuracy: 0.9266\n",
            "Epoch 1/1\n",
            "1246/1246 [==============================] - 122s 98ms/step - loss: 0.0119 - accuracy: 0.9966 - val_loss: 0.2634 - val_accuracy: 0.9266\n",
            "Epoch 1/1\n",
            "1246/1246 [==============================] - 122s 98ms/step - loss: 0.0101 - accuracy: 0.9970 - val_loss: 0.2591 - val_accuracy: 0.9283\n",
            "Epoch 1/1\n",
            "1246/1246 [==============================] - 122s 98ms/step - loss: 0.0098 - accuracy: 0.9969 - val_loss: 0.2329 - val_accuracy: 0.9231\n",
            "Epoch 1/1\n",
            "1246/1246 [==============================] - 122s 98ms/step - loss: 0.0088 - accuracy: 0.9973 - val_loss: 0.2606 - val_accuracy: 0.9266\n",
            "Epoch 1/1\n",
            "1246/1246 [==============================] - 122s 98ms/step - loss: 0.0081 - accuracy: 0.9978 - val_loss: 0.2739 - val_accuracy: 0.9248\n",
            "Epoch 1/1\n",
            "1246/1246 [==============================] - 122s 98ms/step - loss: 0.0084 - accuracy: 0.9974 - val_loss: 0.2737 - val_accuracy: 0.9371\n",
            "Epoch 1/1\n",
            "1246/1246 [==============================] - 122s 98ms/step - loss: 0.0079 - accuracy: 0.9979 - val_loss: 0.2576 - val_accuracy: 0.9266\n",
            "Epoch 1/1\n",
            "1246/1246 [==============================] - 122s 98ms/step - loss: 0.0078 - accuracy: 0.9975 - val_loss: 0.2647 - val_accuracy: 0.9283\n",
            "Epoch 1/1\n",
            "1246/1246 [==============================] - 122s 98ms/step - loss: 0.0068 - accuracy: 0.9980 - val_loss: 0.2427 - val_accuracy: 0.9301\n",
            "Epoch 1/1\n",
            "1246/1246 [==============================] - 122s 98ms/step - loss: 0.0069 - accuracy: 0.9980 - val_loss: 0.2909 - val_accuracy: 0.9301\n",
            "Epoch 1/1\n",
            "1246/1246 [==============================] - 122s 98ms/step - loss: 0.0072 - accuracy: 0.9974 - val_loss: 0.2706 - val_accuracy: 0.9301\n",
            "Epoch 1/1\n",
            "1246/1246 [==============================] - 122s 98ms/step - loss: 0.0068 - accuracy: 0.9978 - val_loss: 0.2674 - val_accuracy: 0.9336\n",
            "Epoch 1/1\n",
            "1246/1246 [==============================] - 122s 98ms/step - loss: 0.0061 - accuracy: 0.9985 - val_loss: 0.2876 - val_accuracy: 0.9266\n",
            "Epoch 1/1\n",
            "1246/1246 [==============================] - 122s 98ms/step - loss: 0.0058 - accuracy: 0.9985 - val_loss: 0.2899 - val_accuracy: 0.9266\n"
          ],
          "name": "stdout"
        },
        {
          "output_type": "execute_result",
          "data": {
            "text/plain": [
              "44"
            ]
          },
          "metadata": {
            "tags": []
          },
          "execution_count": 9
        }
      ]
    },
    {
      "cell_type": "code",
      "metadata": {
        "id": "4tDsmA9xTYWV",
        "colab_type": "code",
        "colab": {
          "base_uri": "https://localhost:8080/",
          "height": 283
        },
        "outputId": "e7fdf3f0-306d-4527-a3d7-53da04c70455"
      },
      "source": [
        "plt.plot(history_last[fold]['loss'])"
      ],
      "execution_count": 10,
      "outputs": [
        {
          "output_type": "execute_result",
          "data": {
            "text/plain": [
              "[<matplotlib.lines.Line2D at 0x7ff5809215c0>]"
            ]
          },
          "metadata": {
            "tags": []
          },
          "execution_count": 10
        },
        {
          "output_type": "display_data",
          "data": {
            "image/png": "[encoded data removed]",
            "text/plain": [
              "<Figure size 432x288 with 1 Axes>"
            ]
          },
          "metadata": {
            "tags": [],
            "needs_background": "light"
          }
        }
      ]
    },
    {
      "cell_type": "code",
      "metadata": {
        "id": "eWsq7E05tY_n",
        "colab_type": "code",
        "colab": {}
      },
      "source": [
        "index=str(index)\n",
        "type='augment'\n",
        "model='attention'\n",
        "path = F\"/content/gdrive/My Drive/\"+model \n",
        "np.save(path+'/best_accuracy_all_fold1_wn.npy',best_accuracy_last)\n",
        "np.save(path+'/final_accuracy_all_fold1_wn.npy',final_accuracy_last)\n",
        "np.save(path+'/history_all_fold1_wn.npy',history_last)\n",
        "np.save(path+'/answers_all_fold1_wn.npy',answers_last)\n",
        "np.save(path+'/predictions_all_fold1_wn.npy',predictions_last)\n",
        "np.save(path+'/predictions_all_best_fold1_wn.npy',predictions_last_best)\n",
        "np.save(path+'/times_all_fold1_wn.npy',times_last)"
      ],
      "execution_count": 11,
      "outputs": []
    },
    {
      "cell_type": "code",
      "metadata": {
        "id": "9iggbD32hv__",
        "colab_type": "code",
        "colab": {
          "base_uri": "https://localhost:8080/",
          "height": 35
        },
        "outputId": "ab6e66cf-7e8b-4a03-fe62-3be597e9740a"
      },
      "source": [
        "new_acc"
      ],
      "execution_count": 12,
      "outputs": [
        {
          "output_type": "execute_result",
          "data": {
            "text/plain": [
              "0.9265734265734266"
            ]
          },
          "metadata": {
            "tags": []
          },
          "execution_count": 12
        }
      ]
    },
    {
      "cell_type": "code",
      "metadata": {
        "id": "pAGV0t8YbjIi",
        "colab_type": "code",
        "colab": {}
      },
      "source": [
        ""
      ],
      "execution_count": 12,
      "outputs": []
    }
  ]
}