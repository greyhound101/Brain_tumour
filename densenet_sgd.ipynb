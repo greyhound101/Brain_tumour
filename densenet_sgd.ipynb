{
  "nbformat": 4,
  "nbformat_minor": 0,
  "metadata": {
    "colab": {
      "name": "densenet_sgd.ipynb",
      "provenance": [],
      "authorship_tag": "ABX9TyN42lJdBFM3KWbaf8E6wLCH",
      "include_colab_link": true
    },
    "kernelspec": {
      "name": "python3",
      "display_name": "Python 3"
    }
  },
  "cells": [
    {
      "cell_type": "markdown",
      "metadata": {
        "id": "view-in-github",
        "colab_type": "text"
      },
      "source": [
        "<a href=\"https://colab.research.google.com/github/greyhound101/Brain_tumour/blob/master/densenet_sgd.ipynb\" target=\"_parent\"><img src=\"https://colab.research.google.com/assets/colab-badge.svg\" alt=\"Open In Colab\"/></a>"
      ]
    },
    {
      "cell_type": "code",
      "metadata": {
        "id": "En0sagf3iUqI",
        "outputId": "ebbca541-07f1-4f35-e3b5-514a8b703e76",
        "colab": {
          "base_uri": "https://localhost:8080/",
          "height": 50
        }
      },
      "source": [
        "from google.colab import drive\n",
        "drive.mount('/content/gdrive')\n",
        "drive.mount(\"/content/gdrive\", force_remount=True)"
      ],
      "execution_count": 1,
      "outputs": [
        {
          "output_type": "stream",
          "text": [
            "Mounted at /content/gdrive\n",
            "Mounted at /content/gdrive\n"
          ],
          "name": "stdout"
        }
      ]
    },
    {
      "cell_type": "code",
      "metadata": {
        "id": "ISfPnBQMiVMv",
        "outputId": "54c562cc-c594-467f-d526-8ab7d3e3d8e3",
        "colab": {
          "base_uri": "https://localhost:8080/",
          "height": 672
        }
      },
      "source": [
        "import glob\n",
        "glob.glob('/content/gdrive/My Drive/densenet/*sgd*')"
      ],
      "execution_count": 92,
      "outputs": [
        {
          "output_type": "execute_result",
          "data": {
            "text/plain": [
              "['/content/gdrive/My Drive/densenet/times_all_fold_4_densenet_sgd.npy',\n",
              " '/content/gdrive/My Drive/densenet/history_all_fold_4_densenet_sgd.npy',\n",
              " '/content/gdrive/My Drive/densenet/predictions_all_best_fold_4_densenet_sgd.npy',\n",
              " '/content/gdrive/My Drive/densenet/predictions_all_fold_4_densenet_sgd.npy',\n",
              " '/content/gdrive/My Drive/densenet/final_accuracy_all_fold4_densenet_sgd.npy',\n",
              " '/content/gdrive/My Drive/densenet/best_accuracy_all_fold_4_densenet_sgd.npy',\n",
              " '/content/gdrive/My Drive/densenet/answers_all_fold_4_densenet_sgd.npy',\n",
              " '/content/gdrive/My Drive/densenet/final_accuracy_all_fold5_densenet_sgd.npy',\n",
              " '/content/gdrive/My Drive/densenet/best_accuracy_all_fold_5_densenet_sgd.npy',\n",
              " '/content/gdrive/My Drive/densenet/predictions_all_best_fold_5_densenet_sgd.npy',\n",
              " '/content/gdrive/My Drive/densenet/answers_all_fold_5_densenet_sgd.npy',\n",
              " '/content/gdrive/My Drive/densenet/history_all_fold_5_densenet_sgd.npy',\n",
              " '/content/gdrive/My Drive/densenet/predictions_all_fold_5_densenet_sgd.npy',\n",
              " '/content/gdrive/My Drive/densenet/times_all_fold_5_densenet_sgd.npy',\n",
              " '/content/gdrive/My Drive/densenet/actual_predictions3_densenet_sgd.npy',\n",
              " '/content/gdrive/My Drive/densenet/actual_predictions_2_densenet_sgd.npy',\n",
              " '/content/gdrive/My Drive/densenet/best_accuracy_all_fold_2_densenet_sgd.npy',\n",
              " '/content/gdrive/My Drive/densenet/history_all_fold_2_densenet_sgd.npy',\n",
              " '/content/gdrive/My Drive/densenet/final_accuracy_all_fold2_densenet_sgd.npy',\n",
              " '/content/gdrive/My Drive/densenet/predictions_all_best_fold_2_densenet_sgd.npy',\n",
              " '/content/gdrive/My Drive/densenet/predictions_all_fold_2_densenet_sgd.npy',\n",
              " '/content/gdrive/My Drive/densenet/answers_all_fold_2_densenet_sgd.npy',\n",
              " '/content/gdrive/My Drive/densenet/times_all_fold_2_densenet_sgd.npy',\n",
              " '/content/gdrive/My Drive/densenet/actual_predictions_3_densenet_sgd.npy',\n",
              " '/content/gdrive/My Drive/densenet/best_accuracy_all_fold_3_densenet_sgd.npy',\n",
              " '/content/gdrive/My Drive/densenet/final_accuracy_all_fold3_densenet_sgd.npy',\n",
              " '/content/gdrive/My Drive/densenet/history_all_fold_3_densenet_sgd.npy',\n",
              " '/content/gdrive/My Drive/densenet/answers_all_fold_3_densenet_sgd.npy',\n",
              " '/content/gdrive/My Drive/densenet/predictions_all_fold_3_densenet_sgd.npy',\n",
              " '/content/gdrive/My Drive/densenet/times_all_fold_3_densenet_sgd.npy',\n",
              " '/content/gdrive/My Drive/densenet/predictions_all_best_fold_3_densenet_sgd.npy',\n",
              " '/content/gdrive/My Drive/densenet/final_predictions_1_densenet_sgd.npy',\n",
              " '/content/gdrive/My Drive/densenet/best_accuracy_all_fold_1_densenet_sgd.npy',\n",
              " '/content/gdrive/My Drive/densenet/answers_all_fold_1_densenet_sgd.npy',\n",
              " '/content/gdrive/My Drive/densenet/history_all_fold_1_densenet_sgd.npy',\n",
              " '/content/gdrive/My Drive/densenet/final_accuracy_all_fold1_densenet_sgd.npy',\n",
              " '/content/gdrive/My Drive/densenet/predictions_all_best_fold_1_densenet_sgd.npy',\n",
              " '/content/gdrive/My Drive/densenet/predictions_all_fold_1_densenet_sgd.npy',\n",
              " '/content/gdrive/My Drive/densenet/times_all_fold_1_densenet_sgd.npy']"
            ]
          },
          "metadata": {
            "tags": []
          },
          "execution_count": 92
        }
      ]
    },
    {
      "cell_type": "code",
      "metadata": {
        "id": "DPsK1aGfi_Kt",
        "outputId": "4073bcf6-c64d-4f3f-80c7-e46d64a42a7f",
        "colab": {
          "base_uri": "https://localhost:8080/",
          "height": 151
        }
      },
      "source": [
        "\n",
        "glob.glob('/content/gdrive/My Drive/densenet/*rsmprop_3*')"
      ],
      "execution_count": 5,
      "outputs": [
        {
          "output_type": "execute_result",
          "data": {
            "text/plain": [
              "['/content/gdrive/My Drive/densenet/best_accuracy_all_fold_5_densenet_rsmprop_3.npy',\n",
              " '/content/gdrive/My Drive/densenet/final_accuracy_all_fold5_densenet_rsmprop_3.npy',\n",
              " '/content/gdrive/My Drive/densenet/history_all_fold_5_densenet_rsmprop_3.npy',\n",
              " '/content/gdrive/My Drive/densenet/answers_all_fold_5_densenet_rsmprop_3.npy',\n",
              " '/content/gdrive/My Drive/densenet/predictions_all_fold_5_densenet_rsmprop_3.npy',\n",
              " '/content/gdrive/My Drive/densenet/predictions_all_best_fold_5_densenet_rsmprop_3.npy',\n",
              " '/content/gdrive/My Drive/densenet/times_all_fold_5_densenet_rsmprop_3.npy',\n",
              " '/content/gdrive/My Drive/densenet/actual_predictions5_densenet_rsmprop_3.npy']"
            ]
          },
          "metadata": {
            "tags": []
          },
          "execution_count": 5
        }
      ]
    },
    {
      "cell_type": "code",
      "metadata": {
        "id": "dovLGmcdjsu-",
        "outputId": "40aaed61-160e-46a5-f106-7d17f59c067f",
        "colab": {
          "base_uri": "https://localhost:8080/",
          "height": 34
        }
      },
      "source": [
        "np.load( '/content/gdrive/My Drive/densenet/final_accuracy_all_fold5_densenet_rsmprop_3.npy',allow_pickle=True)"
      ],
      "execution_count": 12,
      "outputs": [
        {
          "output_type": "execute_result",
          "data": {
            "text/plain": [
              "array({'fold_5': 0.9548989113530326}, dtype=object)"
            ]
          },
          "metadata": {
            "tags": []
          },
          "execution_count": 12
        }
      ]
    },
    {
      "cell_type": "code",
      "metadata": {
        "id": "w0aOY7xxj4gw",
        "outputId": "9e5ccf2e-1069-4944-88c2-aa5bbd41aaf9",
        "colab": {
          "base_uri": "https://localhost:8080/",
          "height": 34
        }
      },
      "source": [
        "np.load(  '/content/gdrive/My Drive/densenet/final_accuracy_all_fold2_densenet_rmsprop_0.npy',allow_pickle=True)"
      ],
      "execution_count": 13,
      "outputs": [
        {
          "output_type": "execute_result",
          "data": {
            "text/plain": [
              "array({'fold_2': 0.9528718703976435}, dtype=object)"
            ]
          },
          "metadata": {
            "tags": []
          },
          "execution_count": 13
        }
      ]
    },
    {
      "cell_type": "code",
      "metadata": {
        "id": "vRN1c-bpj4lL",
        "outputId": "97fed156-21d9-4aa1-cd49-9a0be870717c",
        "colab": {
          "base_uri": "https://localhost:8080/",
          "height": 34
        }
      },
      "source": [
        "np.load(  '/content/gdrive/My Drive/densenet/final_accuracy_all_fold3_densenet_rmsprop_0.npy',allow_pickle=True)"
      ],
      "execution_count": 14,
      "outputs": [
        {
          "output_type": "execute_result",
          "data": {
            "text/plain": [
              "array({'fold_3': 0.965034965034965}, dtype=object)"
            ]
          },
          "metadata": {
            "tags": []
          },
          "execution_count": 14
        }
      ]
    },
    {
      "cell_type": "code",
      "metadata": {
        "id": "3jldm3PXpLNL"
      },
      "source": [
        "import numpy as np\n",
        "fold1=list(np.load('/content/actual_predictions1_1e-3_wn (2).npy'))\n",
        "fold2=list(np.load(   '/content/gdrive/My Drive/densenet/predictions_all_fold_2_densenet_sgd.npy',allow_pickle=True).item()['fold_2'])\n",
        "fold3=list(np.load(  '/content/gdrive/My Drive/densenet/predictions_all_fold_3_densenet_sgd.npy',allow_pickle=True).item()['fold_3'])\n",
        "fold4=list(np.load('/content/actual_predictions4_1e-3_wn (2).npy'))\n",
        "fold5=list(np.load(  '/content/actual_predictions5_1e-3_wn (1).npy'))\n",
        "actual=fold1+fold2+fold3+fold4+fold5\n",
        "fold1_pre=list(np.load('/content/predictions_last_fold1_1e-3_wn (2).npy',allow_pickle=True).item()['fold_1'])\n",
        "fold2_pre=list(np.load(  '/content/gdrive/My Drive/densenet/predictions_all_fold_2_densenet_sgd.npy',allow_pickle=True).item()['fold_2'])\n",
        "fold3_pre=list(np.load(  '/content/gdrive/My Drive/densenet/predictions_all_fold_3_densenet_sgd.npy',allow_pickle=True).item()['fold_3'])\n",
        "fold4_pre=list(np.load('/content/predictions_last_fold4_1e-3_wn (2).npy',allow_pickle=True).item()['fold_4'])\n",
        "fold5_pre=list(np.load(  '/content/predictions_last_fold5_1e-3_wn (1).npy',allow_pickle=True).item()['fold_5'])\n",
        "\n",
        "predicted=fold1_pre+fold2_pre+fold3_pre+fold4_pre+fold5_pre"
      ],
      "execution_count": 102,
      "outputs": []
    },
    {
      "cell_type": "code",
      "metadata": {
        "id": "uUro6VFjwX1w"
      },
      "source": [
        "specificity:0.9720398273862706"
      ],
      "execution_count": null,
      "outputs": []
    },
    {
      "cell_type": "code",
      "metadata": {
        "id": "Mla_jZCEq-l7",
        "outputId": "5d318693-008b-4230-d0a7-8de3ee38221d",
        "colab": {
          "base_uri": "https://localhost:8080/",
          "height": 84
        }
      },
      "source": [
        "from sklearn.metrics import precision_recall_fscore_support\n",
        "precision_recall_fscore_support(actual, predicted)"
      ],
      "execution_count": 103,
      "outputs": [
        {
          "output_type": "execute_result",
          "data": {
            "text/plain": [
              "(array([0.87978864, 0.97715549, 0.95368421]),\n",
              " array([0.90859482, 0.94917681, 0.97002141]),\n",
              " array([0.89395973, 0.96296296, 0.96178344]),\n",
              " array([ 733, 1397,  934]))"
            ]
          },
          "metadata": {
            "tags": []
          },
          "execution_count": 103
        }
      ]
    },
    {
      "cell_type": "code",
      "metadata": {
        "id": "X2xnSy33pa1C",
        "outputId": "d595fe37-5580-4fad-9348-47dd02a0b010",
        "colab": {
          "base_uri": "https://localhost:8080/",
          "height": 67
        }
      },
      "source": [
        "from sklearn.metrics import confusion_matrix\n",
        "confusion_matrix(actual,predicted)"
      ],
      "execution_count": 104,
      "outputs": [
        {
          "output_type": "execute_result",
          "data": {
            "text/plain": [
              "array([[ 666,   26,   41],\n",
              "       [  68, 1326,    3],\n",
              "       [  23,    5,  906]])"
            ]
          },
          "metadata": {
            "tags": []
          },
          "execution_count": 104
        }
      ]
    },
    {
      "cell_type": "code",
      "metadata": {
        "id": "p8XY7v9FtBDp",
        "outputId": "a3514459-25e4-462c-9810-61b3c30dc8e3",
        "colab": {
          "base_uri": "https://localhost:8080/",
          "height": 34
        }
      },
      "source": [
        "(1326+8+906)/(1326+8+906+67)"
      ],
      "execution_count": 105,
      "outputs": [
        {
          "output_type": "execute_result",
          "data": {
            "text/plain": [
              "0.9709579540528825"
            ]
          },
          "metadata": {
            "tags": []
          },
          "execution_count": 105
        }
      ]
    },
    {
      "cell_type": "code",
      "metadata": {
        "id": "7duJrx5-v5cu",
        "outputId": "958309e2-6f03-4caf-acaa-55711818f3aa",
        "colab": {
          "base_uri": "https://localhost:8080/",
          "height": 34
        }
      },
      "source": [
        "(906+666+64)/(906+666+64+71)"
      ],
      "execution_count": 109,
      "outputs": [
        {
          "output_type": "execute_result",
          "data": {
            "text/plain": [
              "0.958406561218512"
            ]
          },
          "metadata": {
            "tags": []
          },
          "execution_count": 109
        }
      ]
    },
    {
      "cell_type": "code",
      "metadata": {
        "id": "PT-CRkF0v-WV",
        "outputId": "130fca46-4439-414c-9ba5-c0616c8be947",
        "colab": {
          "base_uri": "https://localhost:8080/",
          "height": 34
        }
      },
      "source": [
        "(1326+666+94)/(1326+666+94+28)"
      ],
      "execution_count": 108,
      "outputs": [
        {
          "output_type": "execute_result",
          "data": {
            "text/plain": [
              "0.9867549668874173"
            ]
          },
          "metadata": {
            "tags": []
          },
          "execution_count": 108
        }
      ]
    },
    {
      "cell_type": "code",
      "metadata": {
        "id": "jdj9T5ngwGLu",
        "outputId": "7ae60b57-a5dd-4ad7-a1fb-bff6bef11840",
        "colab": {
          "base_uri": "https://localhost:8080/",
          "height": 34
        }
      },
      "source": [
        "(0.9709579540528825+0.958406561218512+0.9867549668874173)/3"
      ],
      "execution_count": 110,
      "outputs": [
        {
          "output_type": "execute_result",
          "data": {
            "text/plain": [
              "0.9720398273862706"
            ]
          },
          "metadata": {
            "tags": []
          },
          "execution_count": 110
        }
      ]
    },
    {
      "cell_type": "code",
      "metadata": {
        "id": "SMGWkPRSwV1R"
      },
      "source": [
        ""
      ],
      "execution_count": null,
      "outputs": []
    }
  ]
}