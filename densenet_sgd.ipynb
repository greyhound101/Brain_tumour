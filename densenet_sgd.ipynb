{
  "nbformat": 4,
  "nbformat_minor": 0,
  "metadata": {
    "colab": {
      "name": "densenet_sgd.ipynb",
      "provenance": [],
      "authorship_tag": "ABX9TyNJyquo6xSjaN1soI/fZjAm",
      "include_colab_link": true
    },
    "kernelspec": {
      "name": "python3",
      "display_name": "Python 3"
    }
  },
  "cells": [
    {
      "cell_type": "markdown",
      "metadata": {
        "id": "view-in-github",
        "colab_type": "text"
      },
      "source": [
        "<a href=\"https://colab.research.google.com/github/greyhound101/Brain_tumour/blob/master/densenet_sgd.ipynb\" target=\"_parent\"><img src=\"https://colab.research.google.com/assets/colab-badge.svg\" alt=\"Open In Colab\"/></a>"
      ]
    },
    {
      "cell_type": "code",
      "metadata": {
        "id": "En0sagf3iUqI",
        "outputId": "5838309a-645e-4382-bf26-7d4622685db7",
        "colab": {
          "base_uri": "https://localhost:8080/",
          "height": 50
        }
      },
      "source": [
        "from google.colab import drive\n",
        "drive.mount('/content/gdrive')\n",
        "drive.mount(\"/content/gdrive\", force_remount=True)"
      ],
      "execution_count": 1,
      "outputs": [
        {
          "output_type": "stream",
          "text": [
            "Mounted at /content/gdrive\n",
            "Mounted at /content/gdrive\n"
          ],
          "name": "stdout"
        }
      ]
    },
    {
      "cell_type": "code",
      "metadata": {
        "id": "zHRrg_7BqLFZ",
        "outputId": "b5f48d52-3353-4abe-ec1e-1f63fb2778ed",
        "colab": {
          "base_uri": "https://localhost:8080/",
          "height": 672
        }
      },
      "source": [
        "import glob\n",
        "glob.glob('/content/gdrive/My Drive/densenet/*sgd*')"
      ],
      "execution_count": 4,
      "outputs": [
        {
          "output_type": "execute_result",
          "data": {
            "text/plain": [
              "['/content/gdrive/My Drive/densenet/times_all_fold_4_densenet_sgd.npy',\n",
              " '/content/gdrive/My Drive/densenet/history_all_fold_4_densenet_sgd.npy',\n",
              " '/content/gdrive/My Drive/densenet/predictions_all_best_fold_4_densenet_sgd.npy',\n",
              " '/content/gdrive/My Drive/densenet/predictions_all_fold_4_densenet_sgd.npy',\n",
              " '/content/gdrive/My Drive/densenet/final_accuracy_all_fold4_densenet_sgd.npy',\n",
              " '/content/gdrive/My Drive/densenet/best_accuracy_all_fold_4_densenet_sgd.npy',\n",
              " '/content/gdrive/My Drive/densenet/answers_all_fold_4_densenet_sgd.npy',\n",
              " '/content/gdrive/My Drive/densenet/final_accuracy_all_fold5_densenet_sgd.npy',\n",
              " '/content/gdrive/My Drive/densenet/best_accuracy_all_fold_5_densenet_sgd.npy',\n",
              " '/content/gdrive/My Drive/densenet/predictions_all_best_fold_5_densenet_sgd.npy',\n",
              " '/content/gdrive/My Drive/densenet/answers_all_fold_5_densenet_sgd.npy',\n",
              " '/content/gdrive/My Drive/densenet/history_all_fold_5_densenet_sgd.npy',\n",
              " '/content/gdrive/My Drive/densenet/predictions_all_fold_5_densenet_sgd.npy',\n",
              " '/content/gdrive/My Drive/densenet/times_all_fold_5_densenet_sgd.npy',\n",
              " '/content/gdrive/My Drive/densenet/actual_predictions3_densenet_sgd.npy',\n",
              " '/content/gdrive/My Drive/densenet/actual_predictions_2_densenet_sgd.npy',\n",
              " '/content/gdrive/My Drive/densenet/best_accuracy_all_fold_2_densenet_sgd.npy',\n",
              " '/content/gdrive/My Drive/densenet/history_all_fold_2_densenet_sgd.npy',\n",
              " '/content/gdrive/My Drive/densenet/final_accuracy_all_fold2_densenet_sgd.npy',\n",
              " '/content/gdrive/My Drive/densenet/predictions_all_best_fold_2_densenet_sgd.npy',\n",
              " '/content/gdrive/My Drive/densenet/predictions_all_fold_2_densenet_sgd.npy',\n",
              " '/content/gdrive/My Drive/densenet/answers_all_fold_2_densenet_sgd.npy',\n",
              " '/content/gdrive/My Drive/densenet/times_all_fold_2_densenet_sgd.npy',\n",
              " '/content/gdrive/My Drive/densenet/actual_predictions_3_densenet_sgd.npy',\n",
              " '/content/gdrive/My Drive/densenet/best_accuracy_all_fold_3_densenet_sgd.npy',\n",
              " '/content/gdrive/My Drive/densenet/final_accuracy_all_fold3_densenet_sgd.npy',\n",
              " '/content/gdrive/My Drive/densenet/history_all_fold_3_densenet_sgd.npy',\n",
              " '/content/gdrive/My Drive/densenet/answers_all_fold_3_densenet_sgd.npy',\n",
              " '/content/gdrive/My Drive/densenet/predictions_all_fold_3_densenet_sgd.npy',\n",
              " '/content/gdrive/My Drive/densenet/times_all_fold_3_densenet_sgd.npy',\n",
              " '/content/gdrive/My Drive/densenet/predictions_all_best_fold_3_densenet_sgd.npy',\n",
              " '/content/gdrive/My Drive/densenet/final_predictions_1_densenet_sgd.npy',\n",
              " '/content/gdrive/My Drive/densenet/best_accuracy_all_fold_1_densenet_sgd.npy',\n",
              " '/content/gdrive/My Drive/densenet/answers_all_fold_1_densenet_sgd.npy',\n",
              " '/content/gdrive/My Drive/densenet/history_all_fold_1_densenet_sgd.npy',\n",
              " '/content/gdrive/My Drive/densenet/final_accuracy_all_fold1_densenet_sgd.npy',\n",
              " '/content/gdrive/My Drive/densenet/predictions_all_best_fold_1_densenet_sgd.npy',\n",
              " '/content/gdrive/My Drive/densenet/predictions_all_fold_1_densenet_sgd.npy',\n",
              " '/content/gdrive/My Drive/densenet/times_all_fold_1_densenet_sgd.npy']"
            ]
          },
          "metadata": {
            "tags": []
          },
          "execution_count": 4
        }
      ]
    },
    {
      "cell_type": "code",
      "metadata": {
        "id": "3jldm3PXpLNL"
      },
      "source": [
        "import numpy as np\n",
        "fold1=list(np.load('/content/actual_predictions1_1e-3_wn (5).npy'))\n",
        "fold2=list(np.load(    '/content/gdrive/My Drive/densenet/actual_predictions_2_densenet_sgd.npy',allow_pickle=True))\n",
        "fold3=list(np.load(   '/content/gdrive/My Drive/densenet/actual_predictions3_densenet_sgd.npy',allow_pickle=True))\n",
        "fold4=list(np.load('/content/actual_predictions4_1e-3_wn (4).npy'))\n",
        "fold5=list(np.load(  '/content/actual_predictions5_1e-3_wn (4).npy'))\n",
        "actual=fold1+fold2+fold3+fold4+fold5\n",
        "fold1_pre=list(np.load('/content/predictions_last_fold1_1e-3_wn (5).npy',allow_pickle=True).item()['fold_1'])\n",
        "fold2_pre=list(np.load(  '/content/gdrive/My Drive/densenet/predictions_all_fold_2_densenet_sgd.npy',allow_pickle=True).item()['fold_2'])\n",
        "fold3_pre=list(np.load(  '/content/gdrive/My Drive/densenet/predictions_all_fold_3_densenet_sgd.npy',allow_pickle=True).item()['fold_3'])\n",
        "fold4_pre=list(np.load('/content/predictions_last_fold4_1e-3_wn (4).npy',allow_pickle=True).item()['fold_4'])\n",
        "fold5_pre=list(np.load(  '/content/predictions_last_fold5_1e-3_wn (4).npy',allow_pickle=True).item()['fold_5'])\n",
        "\n",
        "predicted=fold1_pre+fold2_pre+fold3_pre+fold4_pre+fold5_pre"
      ],
      "execution_count": 6,
      "outputs": []
    },
    {
      "cell_type": "code",
      "metadata": {
        "id": "uUro6VFjwX1w"
      },
      "source": [
        "specificity:0.9720398273862706"
      ],
      "execution_count": null,
      "outputs": []
    },
    {
      "cell_type": "code",
      "metadata": {
        "id": "Mla_jZCEq-l7",
        "outputId": "e81730ab-527e-4c92-9e24-70373e87af8f",
        "colab": {
          "base_uri": "https://localhost:8080/",
          "height": 84
        }
      },
      "source": [
        "from sklearn.metrics import precision_recall_fscore_support\n",
        "precision_recall_fscore_support(actual, predicted)"
      ],
      "execution_count": 7,
      "outputs": [
        {
          "output_type": "execute_result",
          "data": {
            "text/plain": [
              "(array([0.67371202, 0.85998526, 0.78736842]),\n",
              " array([0.72033898, 0.81837307, 0.80430108]),\n",
              " array([0.69624573, 0.83866331, 0.79574468]),\n",
              " array([ 708, 1426,  930]))"
            ]
          },
          "metadata": {
            "tags": []
          },
          "execution_count": 7
        }
      ]
    },
    {
      "cell_type": "code",
      "metadata": {
        "id": "X2xnSy33pa1C",
        "outputId": "14596c45-8ce9-4731-e49c-8eaee2f73551",
        "colab": {
          "base_uri": "https://localhost:8080/",
          "height": 67
        }
      },
      "source": [
        "from sklearn.metrics import confusion_matrix\n",
        "confusion_matrix(actual,predicted)"
      ],
      "execution_count": 8,
      "outputs": [
        {
          "output_type": "execute_result",
          "data": {
            "text/plain": [
              "array([[ 510,  102,   96],\n",
              "       [ 153, 1167,  106],\n",
              "       [  94,   88,  748]])"
            ]
          },
          "metadata": {
            "tags": []
          },
          "execution_count": 8
        }
      ]
    },
    {
      "cell_type": "code",
      "metadata": {
        "id": "p8XY7v9FtBDp",
        "outputId": "be8b120f-a27d-44ba-c48b-1c714beb1c9d",
        "colab": {
          "base_uri": "https://localhost:8080/",
          "height": 34
        }
      },
      "source": [
        "(1167+194+748)/(1167+194+748+198)"
      ],
      "execution_count": 9,
      "outputs": [
        {
          "output_type": "execute_result",
          "data": {
            "text/plain": [
              "0.9141742522756827"
            ]
          },
          "metadata": {
            "tags": []
          },
          "execution_count": 9
        }
      ]
    },
    {
      "cell_type": "code",
      "metadata": {
        "id": "7duJrx5-v5cu",
        "outputId": "19d62636-62c5-4818-f11c-5334307786f3",
        "colab": {
          "base_uri": "https://localhost:8080/",
          "height": 34
        }
      },
      "source": [
        "(510+748+190)/(510+748+190+259)"
      ],
      "execution_count": 10,
      "outputs": [
        {
          "output_type": "execute_result",
          "data": {
            "text/plain": [
              "0.8482718219097832"
            ]
          },
          "metadata": {
            "tags": []
          },
          "execution_count": 10
        }
      ]
    },
    {
      "cell_type": "code",
      "metadata": {
        "id": "PT-CRkF0v-WV",
        "outputId": "1be8b9e8-4a81-4d39-aeac-0504673028d4",
        "colab": {
          "base_uri": "https://localhost:8080/",
          "height": 34
        }
      },
      "source": [
        "(510+1167+255)/(510+1167+255+182)"
      ],
      "execution_count": 11,
      "outputs": [
        {
          "output_type": "execute_result",
          "data": {
            "text/plain": [
              "0.9139072847682119"
            ]
          },
          "metadata": {
            "tags": []
          },
          "execution_count": 11
        }
      ]
    },
    {
      "cell_type": "code",
      "metadata": {
        "id": "jdj9T5ngwGLu",
        "outputId": "5e8cda24-c87b-4b1a-c8d7-ce542f70dba0",
        "colab": {
          "base_uri": "https://localhost:8080/",
          "height": 34
        }
      },
      "source": [
        "(0.9141742522756827+0.8482718219097832+0.9139072847682119)/3"
      ],
      "execution_count": 12,
      "outputs": [
        {
          "output_type": "execute_result",
          "data": {
            "text/plain": [
              "0.8921177863178927"
            ]
          },
          "metadata": {
            "tags": []
          },
          "execution_count": 12
        }
      ]
    },
    {
      "cell_type": "code",
      "metadata": {
        "id": "SMGWkPRSwV1R"
      },
      "source": [
        ""
      ],
      "execution_count": null,
      "outputs": []
    }
  ]
}