{
  "nbformat": 4,
  "nbformat_minor": 0,
  "metadata": {
    "colab": {
      "name": "flow_from_directry",
      "provenance": [],
      "machine_shape": "hm",
      "include_colab_link": true
    },
    "kernelspec": {
      "name": "python3",
      "display_name": "Python 3"
    }
  },
  "cells": [
    {
      "cell_type": "markdown",
      "metadata": {
        "id": "view-in-github",
        "colab_type": "text"
      },
      "source": [
        "<a href=\"https://colab.research.google.com/github/greyhound101/internship/blob/master/flow_from_directry.ipynb\" target=\"_parent\"><img src=\"https://colab.research.google.com/assets/colab-badge.svg\" alt=\"Open In Colab\"/></a>"
      ]
    },
    {
      "cell_type": "code",
      "metadata": {
        "id": "eQqlrXIJej1l",
        "colab_type": "code",
        "colab": {
          "base_uri": "https://localhost:8080/",
          "height": 149
        },
        "outputId": "bea9cd28-4733-4a55-e132-c615ad15610f"
      },
      "source": [
        "from google.colab import drive\n",
        "drive.mount('/content/gdrive')\n",
        "drive.mount(\"/content/gdrive\", force_remount=True)"
      ],
      "execution_count": null,
      "outputs": [
        {
          "output_type": "stream",
          "text": [
            "Go to this URL in a browser: https://accounts.google.com/o/oauth2/auth?client_id=947318989803-6bn6qk8qdgf4n4g3pfee6491hc0brc4i.apps.googleusercontent.com&redirect_uri=urn%3aietf%3awg%3aoauth%3a2.0%3aoob&response_type=code&scope=email%20https%3a%2f%2fwww.googleapis.com%2fauth%2fdocs.test%20https%3a%2f%2fwww.googleapis.com%2fauth%2fdrive%20https%3a%2f%2fwww.googleapis.com%2fauth%2fdrive.photos.readonly%20https%3a%2f%2fwww.googleapis.com%2fauth%2fpeopleapi.readonly\n",
            "\n",
            "Enter your authorization code:\n",
            "··········\n",
            "Mounted at /content/gdrive\n",
            "Mounted at /content/gdrive\n"
          ],
          "name": "stdout"
        }
      ]
    },
    {
      "cell_type": "code",
      "metadata": {
        "id": "_WXDyhihenRg",
        "colab_type": "code",
        "colab": {
          "base_uri": "https://localhost:8080/",
          "height": 36
        },
        "outputId": "68b8f236-6ff5-4393-9453-18613f5fe6d0"
      },
      "source": [
        "import zipfile\n",
        "import h5py\n",
        "from keras.optimizers import *\n",
        "import cv2\n",
        "from keras.utils import to_categorical\n",
        "import glob, os\n",
        "from matplotlib import pyplot as plt\n",
        "import h5py\n",
        "from sklearn.metrics import accuracy_score\n",
        "import numpy as np\n",
        "from tqdm import tqdm\n",
        "import time\n",
        "import gc\n",
        "from keras.applications import *\n",
        "from keras.layers import *\n",
        "from keras import backend as K\n",
        "from keras.models import Model"
      ],
      "execution_count": null,
      "outputs": [
        {
          "output_type": "stream",
          "text": [
            "Using TensorFlow backend.\n"
          ],
          "name": "stderr"
        }
      ]
    },
    {
      "cell_type": "code",
      "metadata": {
        "id": "KQ_0F8Zfep7F",
        "colab_type": "code",
        "colab": {}
      },
      "source": [
        "path = F\"/content/gdrive/My Drive/check.npy\" \n",
        "df=np.load(path,allow_pickle=True)\n",
        "df=df.item()"
      ],
      "execution_count": null,
      "outputs": []
    },
    {
      "cell_type": "code",
      "metadata": {
        "id": "OauHZNZMerDG",
        "colab_type": "code",
        "colab": {}
      },
      "source": [
        "\n",
        "#shuffle samples\n",
        "def unison_shuffled_copies(a, b):\n",
        "    assert len(a) == len(b)\n",
        "    p = np.random.permutation(len(a))\n",
        "    return a[p], b[p]\n",
        "\n",
        "\n",
        "\n",
        "#change targets\n",
        "def change(img):\n",
        "    resized = cv2.resize(img, (224,224), interpolation = cv2.INTER_AREA )\n",
        "    return resized\n",
        "\n",
        "\n",
        "\n",
        "\n",
        "#get train and test splits\n",
        "def get_trn_tst(df,tst_fold):\n",
        "  idx=np.asarray(df['fold'])\n",
        "  y=np.asarray(df['label'])\n",
        "  y-=1\n",
        "  img=np.asarray(df['image'])\n",
        "  img1=[]\n",
        "  for i in range(len(img)):\n",
        "        img1.append(change(img[i]))\n",
        "  img1=np.asarray(img1)\n",
        "  del([img])\n",
        "  gc.collect()\n",
        "  trn_y=np.asarray(y[(idx!=tst_fold)])\n",
        "  trn_img=np.asarray(img1[(idx!=tst_fold)])\n",
        "  tst_y=np.asarray(y[(idx==tst_fold)])\n",
        "  tst_img=img1[idx==tst_fold]\n",
        "  trn_img=np.repeat(trn_img.reshape((trn_img.shape[0],224,224,1)),3,axis=3)\n",
        "  tst_img=np.repeat(tst_img.reshape((tst_img.shape[0],224,224,1)),3,axis=3)\n",
        "  return (trn_img.copy(),trn_y.copy()),(tst_img.copy(),tst_y.copy())"
      ],
      "execution_count": null,
      "outputs": []
    },
    {
      "cell_type": "code",
      "metadata": {
        "id": "9ZmPGJjAXnhZ",
        "colab_type": "code",
        "colab": {}
      },
      "source": [
        "tst_x,tst_y=tst"
      ],
      "execution_count": null,
      "outputs": []
    },
    {
      "cell_type": "code",
      "metadata": {
        "id": "b0-KSQoFX0Qg",
        "colab_type": "code",
        "colab": {}
      },
      "source": [
        "import matplotlib\n",
        "for i in range(1,6):\n",
        "  _,tst=get_trn_tst(df,i)\n",
        "  for en,lbl in enumerate(['meningioma','glioma','pituitary']):\n",
        "    data = tst_x[tst_y==en]\n",
        "    path = F\"/content/gdrive/My Drive/test/fold\"+str(i)+\"/\"+lbl \n",
        "    for itr in range(data.shape[0]):\n",
        "      matplotlib.image.imsave(path+'/'+str(itr)+'.jpg', data[itr])"
      ],
      "execution_count": null,
      "outputs": []
    },
    {
      "cell_type": "code",
      "metadata": {
        "id": "-l7lP6ntX0UJ",
        "colab_type": "code",
        "colab": {}
      },
      "source": [
        "from keras.layers import *\n",
        "import tensorflow as tf\n",
        "import random, os, sys\n",
        "import numpy as np\n",
        "from keras.models import *\n",
        "from keras.layers import *\n",
        "from keras.callbacks import *\n",
        "from keras.initializers import *\n",
        "import tensorflow as tf\n",
        "import keras"
      ],
      "execution_count": null,
      "outputs": []
    },
    {
      "cell_type": "code",
      "metadata": {
        "id": "lK18acRWX0Xh",
        "colab_type": "code",
        "colab": {}
      },
      "source": [
        "\n",
        "\n",
        "import keras\n",
        "import pandas as pd\n",
        "from keras.applications.nasnet import NASNetMobile, preprocess_input\n",
        "import imgaug as ia\n",
        "from imgaug import augmenters as iaa\n",
        "\n",
        "def rotate_image(image, angle):\n",
        "  image_center = tuple(np.array(image.shape[1::-1]) / 2)\n",
        "  rot_mat = cv2.getRotationMatrix2D(image_center, angle, 1.0)\n",
        "  result = cv2.warpAffine(image, rot_mat, image.shape[1::-1], flags=cv2.INTER_LINEAR)\n",
        "  return result\n",
        "def Hflip( images):\n",
        "\t\tseq = iaa.Sequential([iaa.Fliplr(1.0)])\n",
        "\t\treturn seq.augment_images(images)\n",
        "def Vflip( images):\n",
        "\t\tseq = iaa.Sequential([iaa.Flipud(1.0)])\n",
        "\t\treturn seq.augment_images(images)\n",
        "def rotate(images):\n",
        "    ls=[]\n",
        "    for angle in range(-15,20,5):\n",
        "        for image in images:\n",
        "            ls.append(rotate_image(image,angle))\n",
        "    return ls\n",
        "def augment(img):\n",
        "    imgH=Hflip(img)\n",
        "    imgV=Vflip(img)\n",
        "    imgR=rotate(img)\n",
        "    images=[]\n",
        "    images.extend(imgH)\n",
        "    images.extend(imgV)\n",
        "    images.extend(imgR)\n",
        "    return images\n",
        "import gc\n",
        "from tqdm import tqdm"
      ],
      "execution_count": null,
      "outputs": []
    },
    {
      "cell_type": "code",
      "metadata": {
        "id": "zlBhlB6xmAou",
        "colab_type": "code",
        "colab": {
          "base_uri": "https://localhost:8080/",
          "height": 36
        },
        "outputId": "de45f39a-aa3f-457d-f4b7-c0f440c24c16"
      },
      "source": [
        "# i=1\n",
        "# _,tst=get_trn_tst(df,i)\n",
        "tst[0].shape"
      ],
      "execution_count": null,
      "outputs": [
        {
          "output_type": "execute_result",
          "data": {
            "text/plain": [
              "(542, 224, 224, 3)"
            ]
          },
          "metadata": {
            "tags": []
          },
          "execution_count": 50
        }
      ]
    },
    {
      "cell_type": "code",
      "metadata": {
        "id": "Uo9D7_Mt01Qq",
        "colab_type": "code",
        "colab": {
          "base_uri": "https://localhost:8080/",
          "height": 204
        },
        "outputId": "fa56d08f-52e7-4911-e025-6a338aa87416"
      },
      "source": [
        "i=1\n",
        "_,tst=get_trn_tst(df,i)\n",
        "print(tst[0].shape)\n",
        "tst_x,tst_y=tst\n",
        "for en,lbl in enumerate(['meningioma','glioma','pituitary']):\n",
        "    data = tst_x[tst_y==en]\n",
        "    img=augment(data)\n",
        "    path = F\"/content/gdrive/My Drive/train/fold\"+str(i)+\"/\"+lbl \n",
        "    for itr in range(len(img)):\n",
        "      matplotlib.image.imsave(path+'/'+str(itr)+'.jpg', img[itr])\n",
        "    print(data.shape)\n",
        "    print(len(img))\n",
        "    print()\n",
        "    del([img])\n",
        "    gc.collect()"
      ],
      "execution_count": null,
      "outputs": [
        {
          "output_type": "stream",
          "text": [
            "(542, 224, 224, 3)\n",
            "(112, 224, 224, 3)\n",
            "1008\n",
            "\n",
            "(245, 224, 224, 3)\n",
            "2205\n",
            "\n",
            "(185, 224, 224, 3)\n",
            "1665\n",
            "\n"
          ],
          "name": "stdout"
        }
      ]
    },
    {
      "cell_type": "code",
      "metadata": {
        "id": "ZANS0MTnioaW",
        "colab_type": "code",
        "colab": {
          "base_uri": "https://localhost:8080/",
          "height": 204
        },
        "outputId": "c1b24174-6e22-4e87-cdd7-81736e030893"
      },
      "source": [
        "i=2\n",
        "_,tst=get_trn_tst(df,i)\n",
        "print(tst[0].shape)\n",
        "tst_x,tst_y=tst\n",
        "for en,lbl in enumerate(['meningioma','glioma','pituitary']):\n",
        "    data = tst_x[tst_y==en]\n",
        "    img=augment(data)\n",
        "    path = F\"/content/gdrive/My Drive/train/fold\"+str(i)+\"/\"+lbl \n",
        "    for itr in range(len(img)):\n",
        "      matplotlib.image.imsave(path+'/'+str(itr)+'.jpg', img[itr])\n",
        "    print(data.shape)\n",
        "    print(len(img))\n",
        "    print()\n",
        "    del([img])\n",
        "    gc.collect()"
      ],
      "execution_count": null,
      "outputs": [
        {
          "output_type": "stream",
          "text": [
            "(679, 224, 224, 3)\n",
            "(167, 224, 224, 3)\n",
            "1503\n",
            "\n",
            "(338, 224, 224, 3)\n",
            "3042\n",
            "\n",
            "(174, 224, 224, 3)\n",
            "1566\n",
            "\n"
          ],
          "name": "stdout"
        }
      ]
    },
    {
      "cell_type": "code",
      "metadata": {
        "id": "F_cJyZ5uBz27",
        "colab_type": "code",
        "colab": {
          "base_uri": "https://localhost:8080/",
          "height": 204
        },
        "outputId": "58f846c3-7d56-4d5b-f1c1-0a709259b6ab"
      },
      "source": [
        "i=3\n",
        "_,tst=get_trn_tst(df,i)\n",
        "print(tst[0].shape)\n",
        "tst_x,tst_y=tst\n",
        "for en,lbl in enumerate(['meningioma','glioma','pituitary']):\n",
        "    data = tst_x[tst_y==en]\n",
        "    img=augment(data)\n",
        "    path = F\"/content/gdrive/My Drive/train/fold\"+str(i)+\"/\"+lbl \n",
        "    for itr in range(len(img)):\n",
        "      matplotlib.image.imsave(path+'/'+str(itr)+'.jpg', img[itr])\n",
        "    print(data.shape)\n",
        "    print(len(img))\n",
        "    print()\n",
        "    del([img])\n",
        "    gc.collect()"
      ],
      "execution_count": null,
      "outputs": [
        {
          "output_type": "stream",
          "text": [
            "(572, 224, 224, 3)\n",
            "(139, 224, 224, 3)\n",
            "1251\n",
            "\n",
            "(231, 224, 224, 3)\n",
            "2079\n",
            "\n",
            "(202, 224, 224, 3)\n",
            "1818\n",
            "\n"
          ],
          "name": "stdout"
        }
      ]
    },
    {
      "cell_type": "code",
      "metadata": {
        "id": "jhrxirLRAvOq",
        "colab_type": "code",
        "colab": {
          "base_uri": "https://localhost:8080/",
          "height": 204
        },
        "outputId": "27a01439-37cc-425b-a719-e20b103a7858"
      },
      "source": [
        "i=4\n",
        "_,tst=get_trn_tst(df,i)\n",
        "print(tst[0].shape)\n",
        "tst_x,tst_y=tst\n",
        "for en,lbl in enumerate(['meningioma','glioma','pituitary']):\n",
        "    data = tst_x[tst_y==en]\n",
        "    img=augment(data)\n",
        "    path = F\"/content/gdrive/My Drive/train/fold\"+str(i)+\"/\"+lbl \n",
        "    for itr in range(len(img)):\n",
        "      matplotlib.image.imsave(path+'/'+str(itr)+'.jpg', img[itr])\n",
        "    print(data.shape)\n",
        "    print(len(img))\n",
        "    print()\n",
        "    del([img])\n",
        "    gc.collect()"
      ],
      "execution_count": null,
      "outputs": [
        {
          "output_type": "stream",
          "text": [
            "(628, 224, 224, 3)\n",
            "(124, 224, 224, 3)\n",
            "1116\n",
            "\n",
            "(325, 224, 224, 3)\n",
            "2925\n",
            "\n",
            "(179, 224, 224, 3)\n",
            "1611\n",
            "\n"
          ],
          "name": "stdout"
        }
      ]
    },
    {
      "cell_type": "code",
      "metadata": {
        "id": "2lPs2yJTwCmw",
        "colab_type": "code",
        "colab": {
          "base_uri": "https://localhost:8080/",
          "height": 409
        },
        "outputId": "694266c7-ddf4-4a71-a559-9bc56aacbd14"
      },
      "source": [
        "i=5\n",
        "_,tst=get_trn_tst(df,i)\n",
        "print(tst[0].shape)\n",
        "tst_x,tst_y=tst\n",
        "for en,lbl in enumerate(['meningioma','glioma','pituitary']):\n",
        "    data = tst_x[tst_y==en]\n",
        "    img=augment(data)\n",
        "    path = F\"/content/gdrive/My Drive/train/fold\"+str(i)+\"/\"+lbl \n",
        "    for itr in range(len(img)):\n",
        "      matplotlib.image.imsave(path+'/'+str(itr)+'.jpg', img[itr])\n",
        "    print(data.shape)\n",
        "    print(len(img))\n",
        "    print()\n",
        "    del([img])\n",
        "    gc.collect()"
      ],
      "execution_count": 13,
      "outputs": [
        {
          "output_type": "stream",
          "text": [
            "(643, 224, 224, 3)\n",
            "(166, 224, 224, 3)\n",
            "1494\n",
            "\n",
            "(287, 224, 224, 3)\n",
            "2583\n",
            "\n",
            "(190, 224, 224, 3)\n",
            "1710\n",
            "\n"
          ],
          "name": "stdout"
        },
        {
          "output_type": "execute_result",
          "data": {
            "text/plain": [
              "0"
            ]
          },
          "metadata": {
            "tags": []
          },
          "execution_count": 13
        },
        {
          "output_type": "stream",
          "text": [
            "(643, 224, 224, 3)\n",
            "(166, 224, 224, 3)\n",
            "1494\n",
            "\n",
            "(287, 224, 224, 3)\n",
            "2583\n",
            "\n",
            "(190, 224, 224, 3)\n",
            "1710\n",
            "\n"
          ],
          "name": "stdout"
        },
        {
          "output_type": "execute_result",
          "data": {
            "text/plain": [
              "0"
            ]
          },
          "metadata": {
            "tags": []
          },
          "execution_count": 13
        }
      ]
    },
    {
      "cell_type": "code",
      "metadata": {
        "id": "vy0cEjH6qQhq",
        "colab_type": "code",
        "colab": {}
      },
      "source": [
        ""
      ],
      "execution_count": null,
      "outputs": []
    }
  ]
}