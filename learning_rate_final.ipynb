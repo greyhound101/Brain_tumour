{
  "nbformat": 4,
  "nbformat_minor": 0,
  "metadata": {
    "colab": {
      "name": "learning_rate_final.ipynb",
      "provenance": [],
      "include_colab_link": true
    },
    "kernelspec": {
      "name": "python3",
      "display_name": "Python 3"
    }
  },
  "cells": [
    {
      "cell_type": "markdown",
      "metadata": {
        "id": "view-in-github",
        "colab_type": "text"
      },
      "source": [
        "<a href=\"https://colab.research.google.com/github/greyhound101/Brain_tumour/blob/master/learning_rate_final.ipynb\" target=\"_parent\"><img src=\"https://colab.research.google.com/assets/colab-badge.svg\" alt=\"Open In Colab\"/></a>"
      ]
    },
    {
      "cell_type": "code",
      "metadata": {
        "id": "0IVQUmxqAKz4",
        "outputId": "bf8babe5-1eb6-48ee-97f8-b729110f34f9",
        "colab": {
          "base_uri": "https://localhost:8080/",
          "height": 35
        }
      },
      "source": [
        "#1e-1\n",
        "(0.8973561430793157+0.9554140127388535+0.9458041958041958+0.9057437407952872+0.9261992619926199)/5"
      ],
      "execution_count": 19,
      "outputs": [
        {
          "output_type": "execute_result",
          "data": {
            "text/plain": [
              "0.9261034708820544"
            ]
          },
          "metadata": {
            "tags": []
          },
          "execution_count": 19
        }
      ]
    },
    {
      "cell_type": "code",
      "metadata": {
        "id": "UbNJv1BuODIw",
        "outputId": "172db455-28a9-49e3-b635-e2acf16683b2",
        "colab": {
          "base_uri": "https://localhost:8080/",
          "height": 35
        }
      },
      "source": [
        "#1e-2\n",
        "\n",
        "(0.9059040590405905+0.9293078055964654+0.9195804195804196+0.9363057324840764+0.9035769828926905)/5"
      ],
      "execution_count": 20,
      "outputs": [
        {
          "output_type": "execute_result",
          "data": {
            "text/plain": [
              "0.9189349999188485"
            ]
          },
          "metadata": {
            "tags": []
          },
          "execution_count": 20
        }
      ]
    },
    {
      "cell_type": "code",
      "metadata": {
        "id": "nDNzbowiOVnJ",
        "outputId": "4d3fb78a-a307-4a87-8c46-8cda49d8dda7",
        "colab": {
          "base_uri": "https://localhost:8080/",
          "height": 35
        }
      },
      "source": [
        "#1e-3\n",
        "(0.9612546125461254+0.9455081001472754+0.9545454545454546+0.9745222929936306+0.9486780715396579)/5"
      ],
      "execution_count": 21,
      "outputs": [
        {
          "output_type": "execute_result",
          "data": {
            "text/plain": [
              "0.9569017063544287"
            ]
          },
          "metadata": {
            "tags": []
          },
          "execution_count": 21
        }
      ]
    },
    {
      "cell_type": "code",
      "metadata": {
        "id": "i3Bueyq0OW3Y",
        "outputId": "daee55d4-a25e-4c32-fac0-eddb7b06810c",
        "colab": {
          "base_uri": "https://localhost:8080/",
          "height": 35
        }
      },
      "source": [
        "#1e-4\n",
        "\n",
        "\n",
        "(0.9502332814930016+0.9570063694267515+0.9545454545454546+0.959409594095941+0.9631811487481591)/5\n",
        "\n"
      ],
      "execution_count": 22,
      "outputs": [
        {
          "output_type": "execute_result",
          "data": {
            "text/plain": [
              "0.9568751696618614"
            ]
          },
          "metadata": {
            "tags": []
          },
          "execution_count": 22
        }
      ]
    },
    {
      "cell_type": "code",
      "metadata": {
        "id": "bjdlDgZN83fD",
        "outputId": "d29f8ebb-d129-42ce-9514-96e046f58b3c",
        "colab": {
          "base_uri": "https://localhost:8080/",
          "height": 35
        }
      },
      "source": [
        "#2e-1\n",
        "(\n",
        "\n",
        "0.933579335793358\n",
        "\n",
        "+\n",
        "\n",
        "0.9396170839469808\n",
        "\n",
        "+\n",
        "\n",
        "0.9370629370629371\n",
        "\n",
        "+\n",
        "\n",
        "0.9331210191082803\n",
        "\n",
        "+\n",
        "\n",
        "0.8926905132192846\n",
        "\n",
        ")/5"
      ],
      "execution_count": 23,
      "outputs": [
        {
          "output_type": "execute_result",
          "data": {
            "text/plain": [
              "0.9272141778261682"
            ]
          },
          "metadata": {
            "tags": []
          },
          "execution_count": 23
        }
      ]
    },
    {
      "cell_type": "code",
      "metadata": {
        "id": "Q44xezs_9QPy",
        "outputId": "3e0dc8ca-95fb-4d6d-916f-b9cb07881fad",
        "colab": {
          "base_uri": "https://localhost:8080/",
          "height": 35
        }
      },
      "source": [
        "#2e-2\n",
        "(\n",
        "\n",
        "0.9077490774907749\n",
        "\n",
        "+\n",
        "\n",
        "0.8998527245949927\n",
        "\n",
        "+\n",
        "\n",
        "0.9335664335664335\n",
        "\n",
        "+\n",
        "\n",
        "0.9522292993630573\n",
        "\n",
        "+\n",
        "\n",
        "0.8942457231726283\n",
        "\n",
        ")/5"
      ],
      "execution_count": 24,
      "outputs": [
        {
          "output_type": "execute_result",
          "data": {
            "text/plain": [
              "0.9175286516375774"
            ]
          },
          "metadata": {
            "tags": []
          },
          "execution_count": 24
        }
      ]
    },
    {
      "cell_type": "code",
      "metadata": {
        "id": "9T3_Vo6LArFQ",
        "outputId": "f65430ab-12c6-4660-8372-b885a03524e4",
        "colab": {
          "base_uri": "https://localhost:8080/",
          "height": 35
        }
      },
      "source": [
        "#2e-3\n",
        "(0.9458041958041958+0.93519882179676+0.9520295202952029+0.9144634525660964+0.9697452229299363)/5"
      ],
      "execution_count": 25,
      "outputs": [
        {
          "output_type": "execute_result",
          "data": {
            "text/plain": [
              "0.9434482426784383"
            ]
          },
          "metadata": {
            "tags": []
          },
          "execution_count": 25
        }
      ]
    },
    {
      "cell_type": "code",
      "metadata": {
        "id": "Ky2crzMIOr-o",
        "outputId": "cfb52188-a3ae-42af-c103-ed5de0f840c3",
        "colab": {
          "base_uri": "https://localhost:8080/",
          "height": 35
        }
      },
      "source": [
        "#2e-4\n",
        "(\n",
        "\n",
        "0.9486780715396579\n",
        "\n",
        "+\n",
        "\n",
        "0.9729299363057324\n",
        "\n",
        "+\n",
        "\n",
        "0.9667832167832168\n",
        "\n",
        "+\n",
        "\n",
        "0.9587628865979382\n",
        "\n",
        "+\n",
        "\n",
        "0.9686346863468634\n",
        "\n",
        ")/5"
      ],
      "execution_count": 26,
      "outputs": [
        {
          "output_type": "execute_result",
          "data": {
            "text/plain": [
              "0.9631577595146817"
            ]
          },
          "metadata": {
            "tags": []
          },
          "execution_count": 26
        }
      ]
    },
    {
      "cell_type": "code",
      "metadata": {
        "id": "duQ_8w3NOtkQ",
        "outputId": "abf04d7d-e6cf-4525-ecca-f19613ee0c4d",
        "colab": {
          "base_uri": "https://localhost:8080/",
          "height": 35
        }
      },
      "source": [
        "#3e-1\n",
        "(0.9035769828926905+0.9363057324840764+0.9475524475524476+0.9072164948453608+0.933579335793358)/5"
      ],
      "execution_count": 27,
      "outputs": [
        {
          "output_type": "execute_result",
          "data": {
            "text/plain": [
              "0.9256461987135867"
            ]
          },
          "metadata": {
            "tags": []
          },
          "execution_count": 27
        }
      ]
    },
    {
      "cell_type": "code",
      "metadata": {
        "id": "sgoqKU42OtnN",
        "outputId": "d764ce9a-4433-4d23-bbf1-a1acf9be18b2",
        "colab": {
          "base_uri": "https://localhost:8080/",
          "height": 35
        }
      },
      "source": [
        "#3e-2\n",
        "(0.9057437407952872+\n",
        "\n",
        "0.9261992619926199\n",
        "\n",
        "+\n",
        "\n",
        "0.9057437407952872\n",
        "\n",
        "+\n",
        "\n",
        "0.9522292993630573\n",
        "\n",
        "+\n",
        "\n",
        "0.9066874027993779\n",
        "\n",
        ")/5"
      ],
      "execution_count": 28,
      "outputs": [
        {
          "output_type": "execute_result",
          "data": {
            "text/plain": [
              "0.9193206891491259"
            ]
          },
          "metadata": {
            "tags": []
          },
          "execution_count": 28
        }
      ]
    },
    {
      "cell_type": "code",
      "metadata": {
        "id": "affbIu_VA6fd",
        "outputId": "077936d8-8985-4462-90b4-aef12ceb863a",
        "colab": {
          "base_uri": "https://localhost:8080/",
          "height": 35
        }
      },
      "source": [
        "#3e-3\n",
        "(\n",
        "\n",
        "0.9538745387453874\n",
        "\n",
        "+\n",
        "\n",
        "0.9234167893961709\n",
        "\n",
        "+0.9475524475524476+\n",
        "\n",
        "0.9522292993630573\n",
        "\n",
        "+\n",
        "\n",
        "0.8989113530326595\n",
        "\n",
        ")/5"
      ],
      "execution_count": 29,
      "outputs": [
        {
          "output_type": "execute_result",
          "data": {
            "text/plain": [
              "0.9351968856179445"
            ]
          },
          "metadata": {
            "tags": []
          },
          "execution_count": 29
        }
      ]
    },
    {
      "cell_type": "code",
      "metadata": {
        "id": "j4X6Z9QVRGJV",
        "outputId": "fb2e1276-178c-4dd8-b342-9fa1fd808c61",
        "colab": {
          "base_uri": "https://localhost:8080/",
          "height": 35
        }
      },
      "source": [
        "#3e-4\n",
        "(\n",
        "\n",
        "0.9548989113530326\n",
        "\n",
        " +\n",
        "\n",
        "0.964968152866242\n",
        "\n",
        "+ \n",
        "\n",
        "0.9632867132867133\n",
        "\n",
        "+ \n",
        "\n",
        "0.9558173784977909\n",
        "\n",
        " + \n",
        "\n",
        "0.966789667896679\n",
        "\n",
        ")/5"
      ],
      "execution_count": 33,
      "outputs": [
        {
          "output_type": "execute_result",
          "data": {
            "text/plain": [
              "0.9611521647800917"
            ]
          },
          "metadata": {
            "tags": []
          },
          "execution_count": 33
        }
      ]
    },
    {
      "cell_type": "code",
      "metadata": {
        "id": "gRc9Pw1zMrsS",
        "outputId": "3679d98e-afa7-47dc-ea36-43cb120040ad",
        "colab": {
          "base_uri": "https://localhost:8080/",
          "height": 54
        }
      },
      "source": [
        "from google.colab import drive\n",
        "drive.mount('/content/gdrive')\n",
        "drive.mount(\"/content/gdrive\", force_remount=True)"
      ],
      "execution_count": 2,
      "outputs": [
        {
          "output_type": "stream",
          "text": [
            "Mounted at /content/gdrive\n",
            "Mounted at /content/gdrive\n"
          ],
          "name": "stdout"
        }
      ]
    },
    {
      "cell_type": "code",
      "metadata": {
        "id": "mS_mCos_NFlv",
        "outputId": "1a4fba5b-03b0-4b90-8aff-931d236cf42f",
        "colab": {
          "base_uri": "https://localhost:8080/",
          "height": 35
        }
      },
      "source": [
        "import numpy as np\n",
        "acc=np.load('/content/gdrive/My Drive/densenet/final_accuracy_all_fold2_densenet_145_9.npy',allow_pickle=True)\n",
        "acc"
      ],
      "execution_count": 6,
      "outputs": [
        {
          "output_type": "execute_result",
          "data": {
            "text/plain": [
              "array({'fold_2': 0.9057437407952872}, dtype=object)"
            ]
          },
          "metadata": {
            "tags": []
          },
          "execution_count": 6
        }
      ]
    },
    {
      "cell_type": "code",
      "metadata": {
        "id": "Z_2YRJBnNlpU",
        "outputId": "60140b66-21bc-4b65-a660-2f42e7abd008",
        "colab": {
          "base_uri": "https://localhost:8080/",
          "height": 35
        }
      },
      "source": [
        ""
      ],
      "execution_count": 7,
      "outputs": [
        {
          "output_type": "execute_result",
          "data": {
            "text/plain": [
              "0.9193206891491259"
            ]
          },
          "metadata": {
            "tags": []
          },
          "execution_count": 7
        }
      ]
    },
    {
      "cell_type": "code",
      "metadata": {
        "id": "NQXAPVPGN5WM"
      },
      "source": [
        ""
      ],
      "execution_count": null,
      "outputs": []
    }
  ]
}