{
  "nbformat": 4,
  "nbformat_minor": 0,
  "metadata": {
    "colab": {
      "name": "learning_rate_final.ipynb",
      "provenance": [],
      "authorship_tag": "ABX9TyP8AR8uf0Cj7Q7Kzx+OzXk/",
      "include_colab_link": true
    },
    "kernelspec": {
      "name": "python3",
      "display_name": "Python 3"
    }
  },
  "cells": [
    {
      "cell_type": "markdown",
      "metadata": {
        "id": "view-in-github",
        "colab_type": "text"
      },
      "source": [
        "<a href=\"https://colab.research.google.com/github/greyhound101/Brain_tumour/blob/master/learning_rate_final.ipynb\" target=\"_parent\"><img src=\"https://colab.research.google.com/assets/colab-badge.svg\" alt=\"Open In Colab\"/></a>"
      ]
    },
    {
      "cell_type": "code",
      "metadata": {
        "id": "0IVQUmxqAKz4",
        "outputId": "8de45629-99d9-4f81-b31d-cdac15bbd653",
        "colab": {
          "base_uri": "https://localhost:8080/",
          "height": 35
        }
      },
      "source": [
        "#1e-1\n",
        "(0.8973561430793157+0.9554140127388535+0.9458041958041958+0.9057437407952872+0.9261992619926199)/5"
      ],
      "execution_count": 1,
      "outputs": [
        {
          "output_type": "execute_result",
          "data": {
            "text/plain": [
              "0.9261034708820544"
            ]
          },
          "metadata": {
            "tags": []
          },
          "execution_count": 1
        }
      ]
    },
    {
      "cell_type": "code",
      "metadata": {
        "id": "bjdlDgZN83fD",
        "outputId": "d8f99221-aa82-42dd-f94e-51ca847a6e29",
        "colab": {
          "base_uri": "https://localhost:8080/",
          "height": 35
        }
      },
      "source": [
        "#2e-1\n",
        "(\n",
        "\n",
        "0.933579335793358\n",
        "\n",
        "+\n",
        "\n",
        "0.9396170839469808\n",
        "\n",
        "+\n",
        "\n",
        "0.9370629370629371\n",
        "\n",
        "+\n",
        "\n",
        "0.9331210191082803\n",
        "\n",
        "+\n",
        "\n",
        "0.8926905132192846\n",
        "\n",
        ")/5"
      ],
      "execution_count": 4,
      "outputs": [
        {
          "output_type": "execute_result",
          "data": {
            "text/plain": [
              "0.9272141778261682"
            ]
          },
          "metadata": {
            "tags": []
          },
          "execution_count": 4
        }
      ]
    },
    {
      "cell_type": "code",
      "metadata": {
        "id": "3DBhZ0DG7tIr",
        "outputId": "53bdb6f8-3abf-45c5-f153-5face51f0fb9",
        "colab": {
          "base_uri": "https://localhost:8080/",
          "height": 35
        }
      },
      "source": [
        "#1e-2\n",
        "\n",
        "(0.9059040590405905+0.9293078055964654+0.9195804195804196+0.9363057324840764+0.9035769828926905)/5"
      ],
      "execution_count": 2,
      "outputs": [
        {
          "output_type": "execute_result",
          "data": {
            "text/plain": [
              "0.9189349999188485"
            ]
          },
          "metadata": {
            "tags": []
          },
          "execution_count": 2
        }
      ]
    },
    {
      "cell_type": "code",
      "metadata": {
        "id": "Q44xezs_9QPy",
        "outputId": "8e89086e-e13d-415f-a2a4-ff64cc539288",
        "colab": {
          "base_uri": "https://localhost:8080/",
          "height": 35
        }
      },
      "source": [
        "#2e-2\n",
        "(\n",
        "\n",
        "0.9077490774907749\n",
        "\n",
        "+\n",
        "\n",
        "0.8998527245949927\n",
        "\n",
        "+\n",
        "\n",
        "0.9335664335664335\n",
        "\n",
        "+\n",
        "\n",
        "0.9522292993630573\n",
        "\n",
        "+\n",
        "\n",
        "0.8942457231726283\n",
        "\n",
        ")/5"
      ],
      "execution_count": 5,
      "outputs": [
        {
          "output_type": "execute_result",
          "data": {
            "text/plain": [
              "0.9175286516375774"
            ]
          },
          "metadata": {
            "tags": []
          },
          "execution_count": 5
        }
      ]
    },
    {
      "cell_type": "code",
      "metadata": {
        "id": "hy3slpdi8N0I",
        "outputId": "1ef3e9d5-7faa-45d1-ca2c-cd6492e5c239",
        "colab": {
          "base_uri": "https://localhost:8080/",
          "height": 35
        }
      },
      "source": [
        "#1e-4\n",
        "\n",
        "\n",
        "(0.9502332814930016+0.9570063694267515+0.9545454545454546+0.959409594095941+0.9631811487481591)/5\n",
        "\n"
      ],
      "execution_count": 3,
      "outputs": [
        {
          "output_type": "execute_result",
          "data": {
            "text/plain": [
              "0.9568751696618614"
            ]
          },
          "metadata": {
            "tags": []
          },
          "execution_count": 3
        }
      ]
    },
    {
      "cell_type": "code",
      "metadata": {
        "id": "NO_y1W1N9nS-",
        "outputId": "f2b714fb-645d-41a3-c0ea-be789cf2539d",
        "colab": {
          "base_uri": "https://localhost:8080/",
          "height": 35
        }
      },
      "source": [
        "#1e-4\n",
        "(\n",
        "\n",
        "0.9486780715396579\n",
        "\n",
        "+\n",
        "\n",
        "0.9729299363057324\n",
        "\n",
        "+\n",
        "\n",
        "0.9667832167832168\n",
        "\n",
        "+\n",
        "\n",
        "0.9587628865979382\n",
        "\n",
        "+\n",
        "\n",
        "0.9686346863468634\n",
        "\n",
        ")/5"
      ],
      "execution_count": 6,
      "outputs": [
        {
          "output_type": "execute_result",
          "data": {
            "text/plain": [
              "0.9631577595146817"
            ]
          },
          "metadata": {
            "tags": []
          },
          "execution_count": 6
        }
      ]
    },
    {
      "cell_type": "code",
      "metadata": {
        "id": "x6oijVqZ82Pt",
        "outputId": "fcea2c70-764a-4f16-b1ee-d779c0699cdb",
        "colab": {
          "base_uri": "https://localhost:8080/",
          "height": 35
        }
      },
      "source": [
        "#1e-3\n",
        "(0.9612546125461254+0.9455081001472754+0.9545454545454546+0.9745222929936306+0.9486780715396579)/5"
      ],
      "execution_count": 7,
      "outputs": [
        {
          "output_type": "execute_result",
          "data": {
            "text/plain": [
              "0.9569017063544287"
            ]
          },
          "metadata": {
            "tags": []
          },
          "execution_count": 7
        }
      ]
    },
    {
      "cell_type": "code",
      "metadata": {
        "id": "9T3_Vo6LArFQ",
        "outputId": "22768d4c-2cba-4e6f-ab78-b33cfdaceac7",
        "colab": {
          "base_uri": "https://localhost:8080/",
          "height": 35
        }
      },
      "source": [
        "#2e-3\n",
        "(0.9458041958041958+0.93519882179676+0.9520295202952029)/3"
      ],
      "execution_count": 8,
      "outputs": [
        {
          "output_type": "execute_result",
          "data": {
            "text/plain": [
              "0.9443441792987196"
            ]
          },
          "metadata": {
            "tags": []
          },
          "execution_count": 8
        }
      ]
    },
    {
      "cell_type": "code",
      "metadata": {
        "id": "affbIu_VA6fd"
      },
      "source": [
        ""
      ],
      "execution_count": null,
      "outputs": []
    }
  ]
}