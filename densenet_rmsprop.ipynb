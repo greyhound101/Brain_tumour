{
  "nbformat": 4,
  "nbformat_minor": 0,
  "metadata": {
    "colab": {
      "name": "densenet_rmsprop.ipynb",
      "provenance": [],
      "authorship_tag": "ABX9TyPGq0CzuzWZgDIqyZpqNMpV",
      "include_colab_link": true
    },
    "kernelspec": {
      "name": "python3",
      "display_name": "Python 3"
    }
  },
  "cells": [
    {
      "cell_type": "markdown",
      "metadata": {
        "id": "view-in-github",
        "colab_type": "text"
      },
      "source": [
        "<a href=\"https://colab.research.google.com/github/greyhound101/Brain_tumour/blob/master/densenet_rmsprop.ipynb\" target=\"_parent\"><img src=\"https://colab.research.google.com/assets/colab-badge.svg\" alt=\"Open In Colab\"/></a>"
      ]
    },
    {
      "cell_type": "code",
      "metadata": {
        "id": "En0sagf3iUqI",
        "outputId": "ebbca541-07f1-4f35-e3b5-514a8b703e76",
        "colab": {
          "base_uri": "https://localhost:8080/",
          "height": 50
        }
      },
      "source": [
        "from google.colab import drive\n",
        "drive.mount('/content/gdrive')\n",
        "drive.mount(\"/content/gdrive\", force_remount=True)"
      ],
      "execution_count": 1,
      "outputs": [
        {
          "output_type": "stream",
          "text": [
            "Mounted at /content/gdrive\n",
            "Mounted at /content/gdrive\n"
          ],
          "name": "stdout"
        }
      ]
    },
    {
      "cell_type": "code",
      "metadata": {
        "id": "ISfPnBQMiVMv",
        "outputId": "321ec9cf-a769-41e8-cf77-ea106c6610d3",
        "colab": {
          "base_uri": "https://localhost:8080/",
          "height": 554
        }
      },
      "source": [
        "import glob\n",
        "glob.glob('/content/gdrive/My Drive/densenet/*rmsprop_0*')"
      ],
      "execution_count": 7,
      "outputs": [
        {
          "output_type": "execute_result",
          "data": {
            "text/plain": [
              "['/content/gdrive/My Drive/densenet/best_accuracy_all_fold_2_densenet_rmsprop_0.npy',\n",
              " '/content/gdrive/My Drive/densenet/final_accuracy_all_fold2_densenet_rmsprop_0.npy',\n",
              " '/content/gdrive/My Drive/densenet/history_all_fold_2_densenet_rmsprop_0.npy',\n",
              " '/content/gdrive/My Drive/densenet/answers_all_fold_2_densenet_rmsprop_0.npy',\n",
              " '/content/gdrive/My Drive/densenet/predictions_all_fold_2_densenet_rmsprop_0.npy',\n",
              " '/content/gdrive/My Drive/densenet/predictions_all_best_fold_2_densenet_rmsprop_0.npy',\n",
              " '/content/gdrive/My Drive/densenet/times_all_fold_2_densenet_rmsprop_0.npy',\n",
              " '/content/gdrive/My Drive/densenet/final_predictions_2_densenet_rmsprop_0.npy',\n",
              " '/content/gdrive/My Drive/densenet/best_accuracy_all_fold_3_densenet_rmsprop_0.npy',\n",
              " '/content/gdrive/My Drive/densenet/final_accuracy_all_fold3_densenet_rmsprop_0.npy',\n",
              " '/content/gdrive/My Drive/densenet/history_all_fold_3_densenet_rmsprop_0.npy',\n",
              " '/content/gdrive/My Drive/densenet/answers_all_fold_3_densenet_rmsprop_0.npy',\n",
              " '/content/gdrive/My Drive/densenet/predictions_all_fold_3_densenet_rmsprop_0.npy',\n",
              " '/content/gdrive/My Drive/densenet/predictions_all_best_fold_3_densenet_rmsprop_0.npy',\n",
              " '/content/gdrive/My Drive/densenet/times_all_fold_3_densenet_rmsprop_0.npy',\n",
              " '/content/gdrive/My Drive/densenet/final_predictions_3_densenet_rmsprop_0.npy',\n",
              " '/content/gdrive/My Drive/densenet/best_accuracy_all_fold_1_densenet_rmsprop_0.npy',\n",
              " '/content/gdrive/My Drive/densenet/final_accuracy_all_fold1_densenet_rmsprop_0.npy',\n",
              " '/content/gdrive/My Drive/densenet/history_all_fold_1_densenet_rmsprop_0.npy',\n",
              " '/content/gdrive/My Drive/densenet/answers_all_fold_1_densenet_rmsprop_0.npy',\n",
              " '/content/gdrive/My Drive/densenet/predictions_all_fold_1_densenet_rmsprop_0.npy',\n",
              " '/content/gdrive/My Drive/densenet/predictions_all_best_fold_1_densenet_rmsprop_0.npy',\n",
              " '/content/gdrive/My Drive/densenet/times_all_fold_1_densenet_rmsprop_0.npy',\n",
              " '/content/gdrive/My Drive/densenet/final_predictions_1_densenet_rmsprop_0.npy',\n",
              " '/content/gdrive/My Drive/densenet/best_accuracy_all_fold_4_densenet_rmsprop_0.npy',\n",
              " '/content/gdrive/My Drive/densenet/final_accuracy_all_fold4_densenet_rmsprop_0.npy',\n",
              " '/content/gdrive/My Drive/densenet/history_all_fold_4_densenet_rmsprop_0.npy',\n",
              " '/content/gdrive/My Drive/densenet/answers_all_fold_4_densenet_rmsprop_0.npy',\n",
              " '/content/gdrive/My Drive/densenet/predictions_all_fold_4_densenet_rmsprop_0.npy',\n",
              " '/content/gdrive/My Drive/densenet/predictions_all_best_fold_4_densenet_rmsprop_0.npy',\n",
              " '/content/gdrive/My Drive/densenet/times_all_fold_4_densenet_rmsprop_0.npy',\n",
              " '/content/gdrive/My Drive/densenet/final_predictions_4_densenet_rmsprop_0.npy']"
            ]
          },
          "metadata": {
            "tags": []
          },
          "execution_count": 7
        }
      ]
    },
    {
      "cell_type": "code",
      "metadata": {
        "id": "DPsK1aGfi_Kt",
        "outputId": "4073bcf6-c64d-4f3f-80c7-e46d64a42a7f",
        "colab": {
          "base_uri": "https://localhost:8080/",
          "height": 151
        }
      },
      "source": [
        "\n",
        "glob.glob('/content/gdrive/My Drive/densenet/*rsmprop_3*')"
      ],
      "execution_count": 5,
      "outputs": [
        {
          "output_type": "execute_result",
          "data": {
            "text/plain": [
              "['/content/gdrive/My Drive/densenet/best_accuracy_all_fold_5_densenet_rsmprop_3.npy',\n",
              " '/content/gdrive/My Drive/densenet/final_accuracy_all_fold5_densenet_rsmprop_3.npy',\n",
              " '/content/gdrive/My Drive/densenet/history_all_fold_5_densenet_rsmprop_3.npy',\n",
              " '/content/gdrive/My Drive/densenet/answers_all_fold_5_densenet_rsmprop_3.npy',\n",
              " '/content/gdrive/My Drive/densenet/predictions_all_fold_5_densenet_rsmprop_3.npy',\n",
              " '/content/gdrive/My Drive/densenet/predictions_all_best_fold_5_densenet_rsmprop_3.npy',\n",
              " '/content/gdrive/My Drive/densenet/times_all_fold_5_densenet_rsmprop_3.npy',\n",
              " '/content/gdrive/My Drive/densenet/actual_predictions5_densenet_rsmprop_3.npy']"
            ]
          },
          "metadata": {
            "tags": []
          },
          "execution_count": 5
        }
      ]
    },
    {
      "cell_type": "code",
      "metadata": {
        "id": "dovLGmcdjsu-",
        "outputId": "40aaed61-160e-46a5-f106-7d17f59c067f",
        "colab": {
          "base_uri": "https://localhost:8080/",
          "height": 34
        }
      },
      "source": [
        "np.load( '/content/gdrive/My Drive/densenet/final_accuracy_all_fold5_densenet_rsmprop_3.npy',allow_pickle=True)"
      ],
      "execution_count": 12,
      "outputs": [
        {
          "output_type": "execute_result",
          "data": {
            "text/plain": [
              "array({'fold_5': 0.9548989113530326}, dtype=object)"
            ]
          },
          "metadata": {
            "tags": []
          },
          "execution_count": 12
        }
      ]
    },
    {
      "cell_type": "code",
      "metadata": {
        "id": "w0aOY7xxj4gw",
        "outputId": "9e5ccf2e-1069-4944-88c2-aa5bbd41aaf9",
        "colab": {
          "base_uri": "https://localhost:8080/",
          "height": 34
        }
      },
      "source": [
        "np.load(  '/content/gdrive/My Drive/densenet/final_accuracy_all_fold2_densenet_rmsprop_0.npy',allow_pickle=True)"
      ],
      "execution_count": 13,
      "outputs": [
        {
          "output_type": "execute_result",
          "data": {
            "text/plain": [
              "array({'fold_2': 0.9528718703976435}, dtype=object)"
            ]
          },
          "metadata": {
            "tags": []
          },
          "execution_count": 13
        }
      ]
    },
    {
      "cell_type": "code",
      "metadata": {
        "id": "vRN1c-bpj4lL",
        "outputId": "97fed156-21d9-4aa1-cd49-9a0be870717c",
        "colab": {
          "base_uri": "https://localhost:8080/",
          "height": 34
        }
      },
      "source": [
        "np.load(  '/content/gdrive/My Drive/densenet/final_accuracy_all_fold3_densenet_rmsprop_0.npy',allow_pickle=True)"
      ],
      "execution_count": 14,
      "outputs": [
        {
          "output_type": "execute_result",
          "data": {
            "text/plain": [
              "array({'fold_3': 0.965034965034965}, dtype=object)"
            ]
          },
          "metadata": {
            "tags": []
          },
          "execution_count": 14
        }
      ]
    },
    {
      "cell_type": "code",
      "metadata": {
        "id": "3jldm3PXpLNL"
      },
      "source": [
        "import numpy as np\n",
        "fold1=list(np.load('/content/actual_predictions1_1e-3_wn (1).npy'))\n",
        "fold2=list(np.load(   '/content/gdrive/My Drive/densenet/final_predictions_2_densenet_rmsprop_0.npy'))\n",
        "fold3=list(np.load(  '/content/gdrive/My Drive/densenet/final_predictions_3_densenet_rmsprop_0.npy'))\n",
        "fold4=list(np.load('/content/actual_predictions4_1e-3_wn (1).npy'))\n",
        "fold5=list(np.load(  '/content/gdrive/My Drive/densenet/actual_predictions5_densenet_rsmprop_3.npy'))\n",
        "actual=fold1+fold2+fold3+fold4+fold5\n",
        "fold1_pre=list(np.load('/content/predictions_last_fold1_1e-3_wn (1).npy',allow_pickle=True).item()['fold_1'])\n",
        "fold2_pre=list(np.load(  '/content/gdrive/My Drive/densenet/predictions_all_fold_2_densenet_rmsprop_0.npy',allow_pickle=True).item()['fold_2'])\n",
        "fold3_pre=list(np.load(  '/content/gdrive/My Drive/densenet/predictions_all_fold_3_densenet_rmsprop_0.npy',allow_pickle=True).item()['fold_3'])\n",
        "fold4_pre=list(np.load('/content/predictions_last_fold4_1e-3_wn (1).npy',allow_pickle=True).item()['fold_4'])\n",
        "fold5_pre=list(np.load(  '/content/gdrive/My Drive/densenet/predictions_all_fold_5_densenet_rsmprop_3.npy',allow_pickle=True).item()['fold_5'])\n",
        "\n",
        "predicted=fold1_pre+fold2_pre+fold3_pre+fold4_pre+fold5_pre"
      ],
      "execution_count": 74,
      "outputs": []
    },
    {
      "cell_type": "code",
      "metadata": {
        "id": "K55L57vmpl4V",
        "outputId": "acdc13c6-6c2d-4fce-938c-fecd9453a3e0",
        "colab": {
          "base_uri": "https://localhost:8080/",
          "height": 34
        }
      },
      "source": [
        "len(actual),len(predicted)"
      ],
      "execution_count": 75,
      "outputs": [
        {
          "output_type": "execute_result",
          "data": {
            "text/plain": [
              "(3064, 3064)"
            ]
          },
          "metadata": {
            "tags": []
          },
          "execution_count": 75
        }
      ]
    },
    {
      "cell_type": "code",
      "metadata": {
        "id": "Mla_jZCEq-l7",
        "outputId": "87fcc049-097d-4d05-a962-658281b63499",
        "colab": {
          "base_uri": "https://localhost:8080/",
          "height": 84
        }
      },
      "source": [
        "from sklearn.metrics import precision_recall_fscore_support\n",
        "precision_recall_fscore_support(actual, predicted)"
      ],
      "execution_count": 77,
      "outputs": [
        {
          "output_type": "execute_result",
          "data": {
            "text/plain": [
              "(array([0.9279661 , 0.96999302, 0.96966414]),\n",
              " array([0.9279661 , 0.97475456, 0.96236559]),\n",
              " array([0.9279661 , 0.97236796, 0.96600108]),\n",
              " array([ 708, 1426,  930]))"
            ]
          },
          "metadata": {
            "tags": []
          },
          "execution_count": 77
        }
      ]
    },
    {
      "cell_type": "code",
      "metadata": {
        "id": "X2xnSy33pa1C",
        "outputId": "db2cfd36-fdb8-4a30-f3dd-5d911e95e73d",
        "colab": {
          "base_uri": "https://localhost:8080/",
          "height": 67
        }
      },
      "source": [
        "from sklearn.metrics import confusion_matrix\n",
        "confusion_matrix(actual,predicted)"
      ],
      "execution_count": 78,
      "outputs": [
        {
          "output_type": "execute_result",
          "data": {
            "text/plain": [
              "array([[ 657,   29,   22],\n",
              "       [  30, 1390,    6],\n",
              "       [  21,   14,  895]])"
            ]
          },
          "metadata": {
            "tags": []
          },
          "execution_count": 78
        }
      ]
    },
    {
      "cell_type": "code",
      "metadata": {
        "id": "p8XY7v9FtBDp",
        "outputId": "4d563fa0-98cf-416e-b7e6-7e1ec71a68dd",
        "colab": {
          "base_uri": "https://localhost:8080/",
          "height": 34
        }
      },
      "source": [
        "0.9799777638321746:specificity"
      ],
      "execution_count": 88,
      "outputs": [
        {
          "output_type": "execute_result",
          "data": {
            "text/plain": [
              "0.9783531409168081"
            ]
          },
          "metadata": {
            "tags": []
          },
          "execution_count": 88
        }
      ]
    }
  ]
}