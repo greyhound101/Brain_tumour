{
  "nbformat": 4,
  "nbformat_minor": 0,
  "metadata": {
    "colab": {
      "name": "lr_tune_3e-3.ipynb",
      "provenance": [],
      "include_colab_link": true
    },
    "kernelspec": {
      "name": "python3",
      "display_name": "Python 3"
    },
    "accelerator": "GPU"
  },
  "cells": [
    {
      "cell_type": "markdown",
      "metadata": {
        "id": "view-in-github",
        "colab_type": "text"
      },
      "source": [
        "<a href=\"https://colab.research.google.com/github/greyhound101/Brain_tumour/blob/master/lr_tune_3e_3.ipynb\" target=\"_parent\"><img src=\"https://colab.research.google.com/assets/colab-badge.svg\" alt=\"Open In Colab\"/></a>"
      ]
    },
    {
      "cell_type": "code",
      "metadata": {
        "id": "hyAd8cKiv5Ej",
        "outputId": "f3c2859c-5924-4814-ef67-f90a555738aa",
        "colab": {
          "base_uri": "https://localhost:8080/",
          "height": 54
        }
      },
      "source": [
        "from google.colab import drive\n",
        "drive.mount('/content/gdrive')\n",
        "drive.mount(\"/content/gdrive\", force_remount=True)"
      ],
      "execution_count": 1,
      "outputs": [
        {
          "output_type": "stream",
          "text": [
            "Drive already mounted at /content/gdrive; to attempt to forcibly remount, call drive.mount(\"/content/gdrive\", force_remount=True).\n",
            "Mounted at /content/gdrive\n"
          ],
          "name": "stdout"
        }
      ]
    },
    {
      "cell_type": "code",
      "metadata": {
        "id": "80WH-bjfv5vK"
      },
      "source": [
        "# import zipfile\n",
        "# with zipfile.ZipFile('/content/gdrive/My Drive/archive.zip', 'r') as zip_ref:\n",
        "#     zip_ref.extractall('')"
      ],
      "execution_count": 2,
      "outputs": []
    },
    {
      "cell_type": "code",
      "metadata": {
        "id": "VaWA_gNvxBJr",
        "outputId": "7584ffaa-5e25-49b9-e7df-d5517a2dc0ca",
        "colab": {
          "base_uri": "https://localhost:8080/",
          "height": 35
        }
      },
      "source": [
        "pip install pydicom"
      ],
      "execution_count": 3,
      "outputs": [
        {
          "output_type": "stream",
          "text": [
            "Requirement already satisfied: pydicom in /usr/local/lib/python3.6/dist-packages (2.0.0)\n"
          ],
          "name": "stdout"
        }
      ]
    },
    {
      "cell_type": "code",
      "metadata": {
        "id": "Re-bThzGw-vj"
      },
      "source": [
        "import copy\n",
        "from datetime import timedelta, datetime\n",
        "import imageio\n",
        "import matplotlib.pyplot as plt\n",
        "from matplotlib import cm\n",
        "import multiprocessing\n",
        "import numpy as np\n",
        "import os\n",
        "from pathlib import Path\n",
        "import pydicom\n",
        "import pytest\n",
        "import scipy.ndimage as ndimage\n",
        "from scipy.ndimage.interpolation import zoom\n",
        "from skimage import measure, morphology, segmentation\n",
        "from time import time, sleep\n",
        "from tqdm import trange, tqdm\n",
        "import torch\n",
        "import torch.nn as nn\n",
        "import torch.nn.functional as F\n",
        "from torch.utils.data import Dataset, random_split, DistributedSampler, DataLoader\n",
        "from torch.utils.tensorboard import SummaryWriter\n",
        "from torchvision import transforms\n",
        "import warnings"
      ],
      "execution_count": 4,
      "outputs": []
    },
    {
      "cell_type": "code",
      "metadata": {
        "id": "2MepiJCewTlF"
      },
      "source": [
        "class CTTensorsDataset(Dataset):\n",
        "    def __init__(self, transform=None):\n",
        "        self.tensor_files = [Path(i) for i in glob.glob('/content/ID*')]\n",
        "        self.transform = transform\n",
        "\n",
        "    def __len__(self):\n",
        "        return len(self.tensor_files)\n",
        "\n",
        "    def __getitem__(self, item):\n",
        "        if torch.is_tensor(item):\n",
        "            item = item.tolist()\n",
        "\n",
        "        image = torch.load(self.tensor_files[item])\n",
        "        if self.transform:\n",
        "            image = self.transform(image)\n",
        "\n",
        "        return {\n",
        "            'patient_id': self.tensor_files[item].stem,\n",
        "            'image': image\n",
        "        }\n",
        "\n",
        "    def mean(self):\n",
        "        cum = 0\n",
        "        for i in range(len(self)):\n",
        "            sample = self[i]['image']\n",
        "            cum += torch.mean(sample).item()\n",
        "\n",
        "        return cum / len(self)\n",
        "\n",
        "    def random_split(self, val_size: float):\n",
        "        num_val = int(val_size * len(self))\n",
        "        num_train = len(self) - num_val\n",
        "        return random_split(self, [num_train, num_val])"
      ],
      "execution_count": 5,
      "outputs": []
    },
    {
      "cell_type": "code",
      "metadata": {
        "id": "rPhMVZeywtjZ"
      },
      "source": [
        "class ZeroCenter:\n",
        "    def __init__(self, pre_calculated_mean):\n",
        "        self.pre_calculated_mean = pre_calculated_mean\n",
        "\n",
        "    def __call__(self, tensor):\n",
        "        return tensor - self.pre_calculated_mean"
      ],
      "execution_count": 6,
      "outputs": []
    },
    {
      "cell_type": "code",
      "metadata": {
        "id": "jCZEkwnKwyg9"
      },
      "source": [
        "root_dir = '/kaggle/input/osic-cached-dataset'\n",
        "test_dir = '/kaggle/input/osic-pulmonary-fibrosis-progression/test'\n",
        "model_file = '/kaggle/working/diophantus.pt'\n",
        "resize_dims = (40, 256, 256)\n",
        "clip_bounds = (-1000, 200)\n",
        "watershed_iterations = 1\n",
        "pre_calculated_mean = 0.02865046213070556\n",
        "latent_features = 10\n",
        "batch_size = 16\n",
        "learning_rate = 3e-3\n",
        "num_epochs = 10\n",
        "val_size = 0.2\n",
        "tensorboard_dir = '/kaggle/working/runs'\n",
        "\n",
        "# Device configuration\n",
        "device = torch.device('cuda' if torch.cuda.is_available() else 'cpu')"
      ],
      "execution_count": 7,
      "outputs": []
    },
    {
      "cell_type": "code",
      "metadata": {
        "id": "R1lVm3VSweak"
      },
      "source": [
        "import glob\n",
        "train = CTTensorsDataset(\n",
        "    transform=ZeroCenter(pre_calculated_mean=pre_calculated_mean)\n",
        ")\n",
        "cum = 0\n",
        "for i in range(len(train)):\n",
        "    sample = train[i]['image']\n",
        "    cum += torch.mean(sample).item()\n",
        "\n",
        "assert cum / len(train) == pytest.approx(0)"
      ],
      "execution_count": 8,
      "outputs": []
    },
    {
      "cell_type": "code",
      "metadata": {
        "id": "sTW4lnVLw2J1"
      },
      "source": [
        "class VarAutoEncoder(nn.Module):\n",
        "    def __init__(self, latent_features=latent_features):\n",
        "        super(VarAutoEncoder, self).__init__()\n",
        "        # Encoder\n",
        "        self.conv1 = nn.Conv3d(1, 16, 3)\n",
        "        self.conv2 = nn.Conv3d(16, 32, 3)\n",
        "        self.conv3 = nn.Conv3d(32, 96, 2)\n",
        "        self.conv4 = nn.Conv3d(96, 1, 1)\n",
        "        self.pool1 = nn.MaxPool3d(kernel_size=2, stride=2, return_indices=True)\n",
        "        self.pool2 = nn.MaxPool3d(kernel_size=3, stride=3, return_indices=True)\n",
        "        self.pool3 = nn.MaxPool3d(kernel_size=2, stride=2, return_indices=True)\n",
        "        self.pool4 = nn.MaxPool3d(kernel_size=2, stride=2, return_indices=True)\n",
        "        self.fc1 = nn.Linear(10 * 10, latent_features)\n",
        "        self.fc2 = nn.Linear(10 * 10, latent_features)\n",
        "        self.act=nn.LeakyReLU(0.1)\n",
        "        # Decoder\n",
        "        self.fc3 = nn.Linear(latent_features, 10 * 10)\n",
        "        self.deconv0 = nn.ConvTranspose3d(1, 96, 1)\n",
        "        self.deconv1 = nn.ConvTranspose3d(96, 32, 2)\n",
        "        self.deconv2 = nn.ConvTranspose3d(32, 16, 3)\n",
        "        self.deconv3 = nn.ConvTranspose3d(16, 1, 3)\n",
        "        self.unpool0 = nn.MaxUnpool3d(kernel_size=2, stride=2)\n",
        "        self.unpool1 = nn.MaxUnpool3d(kernel_size=2, stride=2)\n",
        "        self.unpool2 = nn.MaxUnpool3d(kernel_size=3, stride=3)\n",
        "        self.unpool3 = nn.MaxUnpool3d(kernel_size=2, stride=2)\n",
        "\n",
        "    def encode(self, x, return_partials=True):\n",
        "        # Encoder\n",
        "        x = self.act(self.conv1(x))\n",
        "        up3out_shape = x.shape\n",
        "        x, i1 = self.pool1(x)\n",
        "\n",
        "        x = self.act(self.conv2(x))\n",
        "        up2out_shape = x.shape\n",
        "        x, i2 = self.pool2(x)\n",
        "\n",
        "        x = self.act(self.conv3(x))\n",
        "        up1out_shape = x.shape\n",
        "        x, i3 = self.pool3(x)\n",
        "\n",
        "        x = self.act(self.conv4(x))\n",
        "        up0out_shape = x.shape\n",
        "        x, i4 = self.pool4(x)\n",
        "\n",
        "        x = x.view(-1, 10 * 10)\n",
        "        \n",
        "        mu = self.act(self.fc1(x))\n",
        "        log_var = self.act(self.fc2(x))\n",
        "        \n",
        "        if return_partials:\n",
        "            \n",
        "            return mu, log_var, up3out_shape, i1, up2out_shape, i2, up1out_shape, i3, \\\n",
        "                   up0out_shape, i4\n",
        "\n",
        "        else:\n",
        "            return mu, log_var\n",
        "    \n",
        "    def reparameterize(self, mu, log_var):\n",
        "        std = torch.exp(log_var/2)\n",
        "        eps = torch.randn_like(std)\n",
        "        return mu + eps * std\n",
        "    \n",
        "    def forward(self, x):\n",
        "        mu, log_var, up3out_shape, i1, up2out_shape, i2, \\\n",
        "        up1out_shape, i3, up0out_shape, i4 = self.encode(x)\n",
        "        \n",
        "        z = self.reparameterize(mu, log_var)\n",
        "       \n",
        "        # Decoder\n",
        "        x = F.relu(self.fc3(z))\n",
        "        x = x.view(-1, 1, 1, 10, 10)\n",
        "        x = self.unpool0(x, output_size=up0out_shape, indices=i4)\n",
        "        x = self.act(self.deconv0(x))\n",
        "        x = self.unpool1(x, output_size=up1out_shape, indices=i3)\n",
        "        x = self.act(self.deconv1(x))\n",
        "        x = self.unpool2(x, output_size=up2out_shape, indices=i2)\n",
        "        x = self.act(self.deconv2(x))\n",
        "        x = self.unpool3(x, output_size=up3out_shape, indices=i1)\n",
        "        x = self.act((self.deconv3(x)))\n",
        "\n",
        "        return x, mu, log_var"
      ],
      "execution_count": 9,
      "outputs": []
    },
    {
      "cell_type": "code",
      "metadata": {
        "id": "7uggc0K_w4Z0"
      },
      "source": [
        "t0 = time()\n",
        "\n",
        "# Load the data\n",
        "data = CTTensorsDataset(\n",
        "    transform=ZeroCenter(pre_calculated_mean=pre_calculated_mean)\n",
        ")\n",
        "train_set, val_set = data.random_split(val_size)\n",
        "datasets = {'train': train_set, 'val': val_set}\n",
        "dataloaders = {\n",
        "    x: DataLoader(\n",
        "        datasets[x],\n",
        "        batch_size=batch_size,\n",
        "        shuffle=(x == 'train'),\n",
        "        num_workers=2\n",
        "    ) for x in ['train', 'val']}\n",
        "\n",
        "dataset_sizes = {x: len(datasets[x]) for x in ['train', 'val']}\n",
        "\n",
        "# Prepare for training\n",
        "device = torch.device(\"cuda:0\" if torch.cuda.is_available() else \"cpu\")\n",
        "model = VarAutoEncoder(latent_features=latent_features).to(device)\n",
        "\n",
        "optimizer = torch.optim.Adam(model.parameters(), lr=learning_rate)\n",
        "best_model_wts = None\n",
        "best_loss = np.inf\n",
        "\n",
        "date_time = datetime.now().strftime(\"%Y%m%d-%H%M\")\n",
        "log_dir = Path(tensorboard_dir) / f'{date_time}'\n",
        "writer = SummaryWriter(log_dir)"
      ],
      "execution_count": 10,
      "outputs": []
    },
    {
      "cell_type": "code",
      "metadata": {
        "id": "BNn3kzUZw4cU",
        "outputId": "8758a90a-5bc9-4512-a40c-b1c5cec60455",
        "colab": {
          "base_uri": "https://localhost:8080/",
          "height": 1000
        }
      },
      "source": [
        "total_loss=  {'train':[],'val':[]}\n",
        "for epoch in range(100):\n",
        "\n",
        "    # Each epoch has a training and validation phase\n",
        "    for phase in ['train', 'val']:\n",
        "        if phase == 'train':\n",
        "            model.train()  # Set model to training mode\n",
        "        else:\n",
        "            model.eval()   # Set model to evaluate mode\n",
        "\n",
        "        running_loss = 0.0\n",
        "        running_preds = 0\n",
        "\n",
        "        # Iterate over data.\n",
        "        bar = tqdm(dataloaders[phase])\n",
        "        for inputs in bar:\n",
        "            bar.set_description(f'Epoch {epoch + 1} {phase}'.ljust(20))\n",
        "            inputs = inputs['image'].to(device, dtype=torch.float)\n",
        "\n",
        "            # zero the parameter gradients\n",
        "            optimizer.zero_grad()\n",
        "\n",
        "            # forward\n",
        "            # track history if only in train\n",
        "            with torch.set_grad_enabled(phase == 'train'):\n",
        "                outputs, mu, log_var = model(inputs)\n",
        "                \n",
        "                # For KL divergence, see Appendix B in VAE paper or http://yunjey47.tistory.com/43\n",
        "                reconst_loss = F.mse_loss(outputs, inputs, size_average=False)\n",
        "                kl_div = - 0.5 * torch.sum(1 + log_var - mu.pow(2) - log_var.exp())\n",
        "                \n",
        "                loss =  reconst_loss + kl_div\n",
        "\n",
        "                # backward + optimize only if in training phase\n",
        "                if phase == 'train':\n",
        "                    loss.backward()\n",
        "                    optimizer.step()\n",
        "\n",
        "            # statistics\n",
        "            running_loss += loss.item() * inputs.size(0)\n",
        "            running_preds += inputs.size(0)\n",
        "            bar.set_postfix(loss=f'{running_loss / running_preds:0.6f}')\n",
        "        total_loss[phase].append(loss.item()  )\n",
        "        epoch_loss = running_loss / dataset_sizes[phase]\n",
        "        writer.add_scalar(f'Loss/{phase}', epoch_loss, epoch)\n",
        "\n",
        "        # deep copy the model\n",
        "        if phase == 'val' and epoch_loss < best_loss:\n",
        "            best_loss = epoch_loss\n",
        "            best_model_wts = copy.deepcopy(model.state_dict())\n",
        "            torch.save(best_model_wts, model_file)\n",
        "\n",
        "# load best model weights\n",
        "model.load_state_dict(best_model_wts)\n",
        "\n",
        "print(f'Done! Time {timedelta(seconds=time() - t0)}')"
      ],
      "execution_count": 11,
      "outputs": [
        {
          "output_type": "stream",
          "text": [
            "Epoch 1 train       :   0%|          | 0/9 [00:00<?, ?it/s]/usr/local/lib/python3.6/dist-packages/torch/nn/_reduction.py:44: UserWarning: size_average and reduce args will be deprecated, please use reduction='sum' instead.\n",
            "  warnings.warn(warning.format(ret))\n",
            "Epoch 1 train       : 100%|██████████| 9/9 [00:28<00:00,  3.20s/it, loss=715596.833112]\n",
            "Epoch 1 val         : 100%|██████████| 3/3 [00:03<00:00,  1.12s/it, loss=582625.970089]\n",
            "Epoch 2 train       : 100%|██████████| 9/9 [00:27<00:00,  3.09s/it, loss=577717.942154]\n",
            "Epoch 2 val         : 100%|██████████| 3/3 [00:03<00:00,  1.09s/it, loss=555783.881696]\n",
            "Epoch 3 train       : 100%|██████████| 9/9 [00:27<00:00,  3.05s/it, loss=553942.117908]\n",
            "Epoch 3 val         : 100%|██████████| 3/3 [00:03<00:00,  1.09s/it, loss=522109.457813]\n",
            "Epoch 4 train       : 100%|██████████| 9/9 [00:27<00:00,  3.08s/it, loss=509319.473848]\n",
            "Epoch 4 val         : 100%|██████████| 3/3 [00:03<00:00,  1.09s/it, loss=479501.427902]\n",
            "Epoch 5 train       : 100%|██████████| 9/9 [00:27<00:00,  3.06s/it, loss=460908.111037]\n",
            "Epoch 5 val         : 100%|██████████| 3/3 [00:03<00:00,  1.08s/it, loss=417878.956250]\n",
            "Epoch 6 train       : 100%|██████████| 9/9 [00:27<00:00,  3.06s/it, loss=394255.434397]\n",
            "Epoch 6 val         : 100%|██████████| 3/3 [00:03<00:00,  1.09s/it, loss=340601.011384]\n",
            "Epoch 7 train       : 100%|██████████| 9/9 [00:27<00:00,  3.07s/it, loss=318993.259863]\n",
            "Epoch 7 val         : 100%|██████████| 3/3 [00:03<00:00,  1.09s/it, loss=278589.360938]\n",
            "Epoch 8 train       : 100%|██████████| 9/9 [00:27<00:00,  3.07s/it, loss=267431.276707]\n",
            "Epoch 8 val         : 100%|██████████| 3/3 [00:03<00:00,  1.08s/it, loss=246256.227790]\n",
            "Epoch 9 train       : 100%|██████████| 9/9 [00:27<00:00,  3.07s/it, loss=238200.298870]\n",
            "Epoch 9 val         : 100%|██████████| 3/3 [00:03<00:00,  1.09s/it, loss=227714.257143]\n",
            "Epoch 10 train      : 100%|██████████| 9/9 [00:27<00:00,  3.07s/it, loss=235637.142398]\n",
            "Epoch 10 val        : 100%|██████████| 3/3 [00:03<00:00,  1.09s/it, loss=233322.617411]\n",
            "Epoch 11 train      : 100%|██████████| 9/9 [00:27<00:00,  3.06s/it, loss=237795.367686]\n",
            "Epoch 11 val        : 100%|██████████| 3/3 [00:03<00:00,  1.12s/it, loss=233509.241741]\n",
            "Epoch 12 train      : 100%|██████████| 9/9 [00:27<00:00,  3.07s/it, loss=234921.164007]\n",
            "Epoch 12 val        : 100%|██████████| 3/3 [00:03<00:00,  1.08s/it, loss=222702.326786]\n",
            "Epoch 13 train      : 100%|██████████| 9/9 [00:27<00:00,  3.07s/it, loss=223260.448360]\n",
            "Epoch 13 val        : 100%|██████████| 3/3 [00:03<00:00,  1.09s/it, loss=212221.032924]\n",
            "Epoch 14 train      : 100%|██████████| 9/9 [00:27<00:00,  3.07s/it, loss=214121.854721]\n",
            "Epoch 14 val        : 100%|██████████| 3/3 [00:03<00:00,  1.09s/it, loss=207311.087500]\n",
            "Epoch 15 train      : 100%|██████████| 9/9 [00:27<00:00,  3.06s/it, loss=208103.548316]\n",
            "Epoch 15 val        : 100%|██████████| 3/3 [00:03<00:00,  1.09s/it, loss=198274.193192]\n",
            "Epoch 16 train      : 100%|██████████| 9/9 [00:27<00:00,  3.07s/it, loss=197675.505319]\n",
            "Epoch 16 val        : 100%|██████████| 3/3 [00:03<00:00,  1.09s/it, loss=194273.649330]\n",
            "Epoch 17 train      : 100%|██████████| 9/9 [00:27<00:00,  3.06s/it, loss=192374.362145]\n",
            "Epoch 17 val        : 100%|██████████| 3/3 [00:03<00:00,  1.08s/it, loss=184878.367188]\n",
            "Epoch 18 train      : 100%|██████████| 9/9 [00:27<00:00,  3.07s/it, loss=184892.567598]\n",
            "Epoch 18 val        : 100%|██████████| 3/3 [00:03<00:00,  1.08s/it, loss=179680.396987]\n",
            "Epoch 19 train      : 100%|██████████| 9/9 [00:27<00:00,  3.07s/it, loss=180058.135306]\n",
            "Epoch 19 val        : 100%|██████████| 3/3 [00:03<00:00,  1.10s/it, loss=175748.565737]\n",
            "Epoch 20 train      : 100%|██████████| 9/9 [00:27<00:00,  3.06s/it, loss=175460.915780]\n",
            "Epoch 20 val        : 100%|██████████| 3/3 [00:03<00:00,  1.08s/it, loss=171212.562612]\n",
            "Epoch 21 train      : 100%|██████████| 9/9 [00:27<00:00,  3.07s/it, loss=171102.650986]\n",
            "Epoch 21 val        : 100%|██████████| 3/3 [00:03<00:00,  1.10s/it, loss=167478.612165]\n",
            "Epoch 22 train      : 100%|██████████| 9/9 [00:27<00:00,  3.07s/it, loss=167996.464484]\n",
            "Epoch 22 val        : 100%|██████████| 3/3 [00:03<00:00,  1.09s/it, loss=168447.086049]\n",
            "Epoch 23 train      : 100%|██████████| 9/9 [00:27<00:00,  3.06s/it, loss=167293.980275]\n",
            "Epoch 23 val        : 100%|██████████| 3/3 [00:03<00:00,  1.09s/it, loss=165120.376674]\n",
            "Epoch 24 train      : 100%|██████████| 9/9 [00:27<00:00,  3.06s/it, loss=163998.615470]\n",
            "Epoch 24 val        : 100%|██████████| 3/3 [00:03<00:00,  1.09s/it, loss=160942.151562]\n",
            "Epoch 25 train      : 100%|██████████| 9/9 [00:27<00:00,  3.07s/it, loss=160178.213542]\n",
            "Epoch 25 val        : 100%|██████████| 3/3 [00:03<00:00,  1.09s/it, loss=161495.834263]\n",
            "Epoch 26 train      : 100%|██████████| 9/9 [00:27<00:00,  3.07s/it, loss=161567.100953]\n",
            "Epoch 26 val        : 100%|██████████| 3/3 [00:03<00:00,  1.09s/it, loss=159212.679576]\n",
            "Epoch 27 train      : 100%|██████████| 9/9 [00:27<00:00,  3.06s/it, loss=158388.059785]\n",
            "Epoch 27 val        : 100%|██████████| 3/3 [00:03<00:00,  1.08s/it, loss=155959.801228]\n",
            "Epoch 28 train      : 100%|██████████| 9/9 [00:27<00:00,  3.06s/it, loss=156319.204067]\n",
            "Epoch 28 val        : 100%|██████████| 3/3 [00:03<00:00,  1.09s/it, loss=155735.147321]\n",
            "Epoch 29 train      : 100%|██████████| 9/9 [00:27<00:00,  3.06s/it, loss=155165.561170]\n",
            "Epoch 29 val        : 100%|██████████| 3/3 [00:03<00:00,  1.08s/it, loss=153403.773884]\n",
            "Epoch 30 train      : 100%|██████████| 9/9 [00:27<00:00,  3.07s/it, loss=152609.780585]\n",
            "Epoch 30 val        : 100%|██████████| 3/3 [00:03<00:00,  1.11s/it, loss=152199.509598]\n",
            "Epoch 31 train      : 100%|██████████| 9/9 [00:27<00:00,  3.07s/it, loss=152459.538010]\n",
            "Epoch 31 val        : 100%|██████████| 3/3 [00:03<00:00,  1.11s/it, loss=150039.690290]\n",
            "Epoch 32 train      : 100%|██████████| 9/9 [00:27<00:00,  3.09s/it, loss=148528.077460]\n",
            "Epoch 32 val        : 100%|██████████| 3/3 [00:03<00:00,  1.12s/it, loss=147261.217746]\n",
            "Epoch 33 train      : 100%|██████████| 9/9 [00:27<00:00,  3.07s/it, loss=146260.063497]\n",
            "Epoch 33 val        : 100%|██████████| 3/3 [00:03<00:00,  1.11s/it, loss=143333.790569]\n",
            "Epoch 34 train      : 100%|██████████| 9/9 [00:27<00:00,  3.07s/it, loss=142853.278923]\n",
            "Epoch 34 val        : 100%|██████████| 3/3 [00:03<00:00,  1.11s/it, loss=144322.398103]\n",
            "Epoch 35 train      : 100%|██████████| 9/9 [00:27<00:00,  3.08s/it, loss=144401.698305]\n",
            "Epoch 35 val        : 100%|██████████| 3/3 [00:03<00:00,  1.12s/it, loss=143028.404632]\n",
            "Epoch 36 train      : 100%|██████████| 9/9 [00:27<00:00,  3.08s/it, loss=142890.132979]\n",
            "Epoch 36 val        : 100%|██████████| 3/3 [00:03<00:00,  1.12s/it, loss=142689.390792]\n",
            "Epoch 37 train      : 100%|██████████| 9/9 [00:27<00:00,  3.08s/it, loss=142480.610594]\n",
            "Epoch 37 val        : 100%|██████████| 3/3 [00:03<00:00,  1.12s/it, loss=142061.006250]\n",
            "Epoch 38 train      : 100%|██████████| 9/9 [00:27<00:00,  3.09s/it, loss=141376.814107]\n",
            "Epoch 38 val        : 100%|██████████| 3/3 [00:03<00:00,  1.12s/it, loss=141154.736998]\n",
            "Epoch 39 train      : 100%|██████████| 9/9 [00:27<00:00,  3.08s/it, loss=140896.340481]\n",
            "Epoch 39 val        : 100%|██████████| 3/3 [00:03<00:00,  1.12s/it, loss=139551.038504]\n",
            "Epoch 40 train      : 100%|██████████| 9/9 [00:27<00:00,  3.08s/it, loss=140046.183289]\n",
            "Epoch 40 val        : 100%|██████████| 3/3 [00:03<00:00,  1.12s/it, loss=140498.475000]\n",
            "Epoch 41 train      : 100%|██████████| 9/9 [00:27<00:00,  3.08s/it, loss=139175.010694]\n",
            "Epoch 41 val        : 100%|██████████| 3/3 [00:03<00:00,  1.12s/it, loss=138700.780580]\n",
            "Epoch 42 train      : 100%|██████████| 9/9 [00:27<00:00,  3.09s/it, loss=137987.427471]\n",
            "Epoch 42 val        : 100%|██████████| 3/3 [00:03<00:00,  1.11s/it, loss=136676.900949]\n",
            "Epoch 43 train      : 100%|██████████| 9/9 [00:27<00:00,  3.08s/it, loss=136194.065104]\n",
            "Epoch 43 val        : 100%|██████████| 3/3 [00:03<00:00,  1.12s/it, loss=135607.274107]\n",
            "Epoch 44 train      : 100%|██████████| 9/9 [00:27<00:00,  3.09s/it, loss=136036.204122]\n",
            "Epoch 44 val        : 100%|██████████| 3/3 [00:03<00:00,  1.13s/it, loss=136237.190123]\n",
            "Epoch 45 train      : 100%|██████████| 9/9 [00:27<00:00,  3.09s/it, loss=135799.946587]\n",
            "Epoch 45 val        : 100%|██████████| 3/3 [00:03<00:00,  1.14s/it, loss=135086.779464]\n",
            "Epoch 46 train      : 100%|██████████| 9/9 [00:27<00:00,  3.10s/it, loss=134817.479832]\n",
            "Epoch 46 val        : 100%|██████████| 3/3 [00:03<00:00,  1.13s/it, loss=133632.028850]\n",
            "Epoch 47 train      : 100%|██████████| 9/9 [00:27<00:00,  3.08s/it, loss=132482.238475]\n",
            "Epoch 47 val        : 100%|██████████| 3/3 [00:03<00:00,  1.13s/it, loss=131390.699386]\n",
            "Epoch 48 train      : 100%|██████████| 9/9 [00:27<00:00,  3.08s/it, loss=130432.174258]\n",
            "Epoch 48 val        : 100%|██████████| 3/3 [00:03<00:00,  1.14s/it, loss=130095.635938]\n",
            "Epoch 49 train      : 100%|██████████| 9/9 [00:27<00:00,  3.08s/it, loss=128572.292886]\n",
            "Epoch 49 val        : 100%|██████████| 3/3 [00:03<00:00,  1.14s/it, loss=128392.773382]\n",
            "Epoch 50 train      : 100%|██████████| 9/9 [00:27<00:00,  3.08s/it, loss=127191.541611]\n",
            "Epoch 50 val        : 100%|██████████| 3/3 [00:03<00:00,  1.14s/it, loss=127067.845926]\n",
            "Epoch 51 train      : 100%|██████████| 9/9 [00:27<00:00,  3.10s/it, loss=126281.949191]\n",
            "Epoch 51 val        : 100%|██████████| 3/3 [00:03<00:00,  1.14s/it, loss=124791.738170]\n",
            "Epoch 52 train      : 100%|██████████| 9/9 [00:27<00:00,  3.09s/it, loss=124773.496121]\n",
            "Epoch 52 val        : 100%|██████████| 3/3 [00:03<00:00,  1.13s/it, loss=124752.868527]\n",
            "Epoch 53 train      : 100%|██████████| 9/9 [00:27<00:00,  3.08s/it, loss=124026.015791]\n",
            "Epoch 53 val        : 100%|██████████| 3/3 [00:03<00:00,  1.12s/it, loss=125661.095759]\n",
            "Epoch 54 train      : 100%|██████████| 9/9 [00:27<00:00,  3.09s/it, loss=127219.083333]\n",
            "Epoch 54 val        : 100%|██████████| 3/3 [00:03<00:00,  1.13s/it, loss=129786.897321]\n",
            "Epoch 55 train      : 100%|██████████| 9/9 [00:27<00:00,  3.10s/it, loss=128551.129931]\n",
            "Epoch 55 val        : 100%|██████████| 3/3 [00:03<00:00,  1.14s/it, loss=126821.755469]\n",
            "Epoch 56 train      : 100%|██████████| 9/9 [00:27<00:00,  3.08s/it, loss=126966.601562]\n",
            "Epoch 56 val        : 100%|██████████| 3/3 [00:03<00:00,  1.13s/it, loss=128487.012444]\n",
            "Epoch 57 train      : 100%|██████████| 9/9 [00:27<00:00,  3.10s/it, loss=127966.077294]\n",
            "Epoch 57 val        : 100%|██████████| 3/3 [00:03<00:00,  1.13s/it, loss=126947.173326]\n",
            "Epoch 58 train      : 100%|██████████| 9/9 [00:27<00:00,  3.08s/it, loss=125756.850344]\n",
            "Epoch 58 val        : 100%|██████████| 3/3 [00:03<00:00,  1.13s/it, loss=124767.842522]\n",
            "Epoch 59 train      : 100%|██████████| 9/9 [00:27<00:00,  3.08s/it, loss=124309.196365]\n",
            "Epoch 59 val        : 100%|██████████| 3/3 [00:03<00:00,  1.13s/it, loss=123506.010882]\n",
            "Epoch 60 train      : 100%|██████████| 9/9 [00:27<00:00,  3.10s/it, loss=122940.689550]\n",
            "Epoch 60 val        : 100%|██████████| 3/3 [00:03<00:00,  1.13s/it, loss=122472.655190]\n",
            "Epoch 61 train      : 100%|██████████| 9/9 [00:27<00:00,  3.08s/it, loss=123046.104776]\n",
            "Epoch 61 val        : 100%|██████████| 3/3 [00:03<00:00,  1.13s/it, loss=123846.925056]\n",
            "Epoch 62 train      : 100%|██████████| 9/9 [00:27<00:00,  3.07s/it, loss=123164.004156]\n",
            "Epoch 62 val        : 100%|██████████| 3/3 [00:03<00:00,  1.12s/it, loss=122713.869922]\n",
            "Epoch 63 train      : 100%|██████████| 9/9 [00:27<00:00,  3.08s/it, loss=121853.405197]\n",
            "Epoch 63 val        : 100%|██████████| 3/3 [00:03<00:00,  1.12s/it, loss=122204.518917]\n",
            "Epoch 64 train      : 100%|██████████| 9/9 [00:27<00:00,  3.08s/it, loss=121642.781582]\n",
            "Epoch 64 val        : 100%|██████████| 3/3 [00:03<00:00,  1.11s/it, loss=122736.687277]\n",
            "Epoch 65 train      : 100%|██████████| 9/9 [00:27<00:00,  3.08s/it, loss=121942.528036]\n",
            "Epoch 65 val        : 100%|██████████| 3/3 [00:03<00:00,  1.13s/it, loss=122144.321150]\n",
            "Epoch 66 train      : 100%|██████████| 9/9 [00:27<00:00,  3.09s/it, loss=121214.042055]\n",
            "Epoch 66 val        : 100%|██████████| 3/3 [00:03<00:00,  1.14s/it, loss=120604.513281]\n",
            "Epoch 67 train      : 100%|██████████| 9/9 [00:27<00:00,  3.09s/it, loss=120306.834829]\n",
            "Epoch 67 val        : 100%|██████████| 3/3 [00:03<00:00,  1.13s/it, loss=120656.217634]\n",
            "Epoch 68 train      : 100%|██████████| 9/9 [00:27<00:00,  3.09s/it, loss=120301.545878]\n",
            "Epoch 68 val        : 100%|██████████| 3/3 [00:03<00:00,  1.14s/it, loss=120310.413002]\n",
            "Epoch 69 train      : 100%|██████████| 9/9 [00:27<00:00,  3.09s/it, loss=119614.279034]\n",
            "Epoch 69 val        : 100%|██████████| 3/3 [00:03<00:00,  1.12s/it, loss=120044.269866]\n",
            "Epoch 70 train      : 100%|██████████| 9/9 [00:27<00:00,  3.08s/it, loss=119028.709774]\n",
            "Epoch 70 val        : 100%|██████████| 3/3 [00:03<00:00,  1.13s/it, loss=118702.283482]\n",
            "Epoch 71 train      : 100%|██████████| 9/9 [00:27<00:00,  3.08s/it, loss=117992.033023]\n",
            "Epoch 71 val        : 100%|██████████| 3/3 [00:03<00:00,  1.14s/it, loss=118387.861328]\n",
            "Epoch 72 train      : 100%|██████████| 9/9 [00:27<00:00,  3.09s/it, loss=118261.884142]\n",
            "Epoch 72 val        : 100%|██████████| 3/3 [00:03<00:00,  1.13s/it, loss=118485.105022]\n",
            "Epoch 73 train      : 100%|██████████| 9/9 [00:27<00:00,  3.08s/it, loss=117699.524379]\n",
            "Epoch 73 val        : 100%|██████████| 3/3 [00:03<00:00,  1.13s/it, loss=117813.359263]\n",
            "Epoch 74 train      : 100%|██████████| 9/9 [00:27<00:00,  3.09s/it, loss=116606.488531]\n",
            "Epoch 74 val        : 100%|██████████| 3/3 [00:03<00:00,  1.13s/it, loss=116155.775725]\n",
            "Epoch 75 train      : 100%|██████████| 9/9 [00:27<00:00,  3.08s/it, loss=115437.724568]\n",
            "Epoch 75 val        : 100%|██████████| 3/3 [00:03<00:00,  1.13s/it, loss=116863.458538]\n",
            "Epoch 76 train      : 100%|██████████| 9/9 [00:27<00:00,  3.08s/it, loss=116163.070756]\n",
            "Epoch 76 val        : 100%|██████████| 3/3 [00:03<00:00,  1.14s/it, loss=116835.825725]\n",
            "Epoch 77 train      : 100%|██████████| 9/9 [00:27<00:00,  3.08s/it, loss=115672.805574]\n",
            "Epoch 77 val        : 100%|██████████| 3/3 [00:03<00:00,  1.13s/it, loss=115873.560547]\n",
            "Epoch 78 train      : 100%|██████████| 9/9 [00:27<00:00,  3.10s/it, loss=115217.073249]\n",
            "Epoch 78 val        : 100%|██████████| 3/3 [00:03<00:00,  1.14s/it, loss=116881.565737]\n",
            "Epoch 79 train      : 100%|██████████| 9/9 [00:27<00:00,  3.08s/it, loss=115647.197418]\n",
            "Epoch 79 val        : 100%|██████████| 3/3 [00:03<00:00,  1.15s/it, loss=115716.375725]\n",
            "Epoch 80 train      : 100%|██████████| 9/9 [00:27<00:00,  3.09s/it, loss=114434.833943]\n",
            "Epoch 80 val        : 100%|██████████| 3/3 [00:03<00:00,  1.14s/it, loss=114378.271373]\n",
            "Epoch 81 train      : 100%|██████████| 9/9 [00:27<00:00,  3.09s/it, loss=113234.973127]\n",
            "Epoch 81 val        : 100%|██████████| 3/3 [00:03<00:00,  1.16s/it, loss=114335.352344]\n",
            "Epoch 82 train      : 100%|██████████| 9/9 [00:27<00:00,  3.09s/it, loss=113041.083832]\n",
            "Epoch 82 val        : 100%|██████████| 3/3 [00:03<00:00,  1.15s/it, loss=114650.689676]\n",
            "Epoch 83 train      : 100%|██████████| 9/9 [00:27<00:00,  3.08s/it, loss=116664.399379]\n",
            "Epoch 83 val        : 100%|██████████| 3/3 [00:03<00:00,  1.14s/it, loss=119370.977790]\n",
            "Epoch 84 train      : 100%|██████████| 9/9 [00:27<00:00,  3.08s/it, loss=118421.439938]\n",
            "Epoch 84 val        : 100%|██████████| 3/3 [00:03<00:00,  1.14s/it, loss=118704.610379]\n",
            "Epoch 85 train      : 100%|██████████| 9/9 [00:27<00:00,  3.08s/it, loss=117864.925421]\n",
            "Epoch 85 val        : 100%|██████████| 3/3 [00:03<00:00,  1.13s/it, loss=117952.196038]\n",
            "Epoch 86 train      : 100%|██████████| 9/9 [00:27<00:00,  3.09s/it, loss=116176.335439]\n",
            "Epoch 86 val        : 100%|██████████| 3/3 [00:03<00:00,  1.14s/it, loss=116375.988895]\n",
            "Epoch 87 train      : 100%|██████████| 9/9 [00:27<00:00,  3.10s/it, loss=114129.116024]\n",
            "Epoch 87 val        : 100%|██████████| 3/3 [00:03<00:00,  1.13s/it, loss=113077.545368]\n",
            "Epoch 88 train      : 100%|██████████| 9/9 [00:27<00:00,  3.08s/it, loss=111766.642176]\n",
            "Epoch 88 val        : 100%|██████████| 3/3 [00:03<00:00,  1.14s/it, loss=112391.076786]\n",
            "Epoch 89 train      : 100%|██████████| 9/9 [00:27<00:00,  3.09s/it, loss=111544.702903]\n",
            "Epoch 89 val        : 100%|██████████| 3/3 [00:03<00:00,  1.14s/it, loss=111952.473772]\n",
            "Epoch 90 train      : 100%|██████████| 9/9 [00:27<00:00,  3.09s/it, loss=111274.676862]\n",
            "Epoch 90 val        : 100%|██████████| 3/3 [00:03<00:00,  1.14s/it, loss=111312.978181]\n",
            "Epoch 91 train      : 100%|██████████| 9/9 [00:27<00:00,  3.09s/it, loss=110667.776540]\n",
            "Epoch 91 val        : 100%|██████████| 3/3 [00:03<00:00,  1.15s/it, loss=111419.505078]\n",
            "Epoch 92 train      : 100%|██████████| 9/9 [00:27<00:00,  3.09s/it, loss=111764.267010]\n",
            "Epoch 92 val        : 100%|██████████| 3/3 [00:03<00:00,  1.14s/it, loss=113315.549721]\n",
            "Epoch 93 train      : 100%|██████████| 9/9 [00:27<00:00,  3.09s/it, loss=112707.842309]\n",
            "Epoch 93 val        : 100%|██████████| 3/3 [00:03<00:00,  1.14s/it, loss=113358.718248]\n",
            "Epoch 94 train      : 100%|██████████| 9/9 [00:27<00:00,  3.09s/it, loss=113162.066157]\n",
            "Epoch 94 val        : 100%|██████████| 3/3 [00:03<00:00,  1.13s/it, loss=113169.711830]\n",
            "Epoch 95 train      : 100%|██████████| 9/9 [00:27<00:00,  3.08s/it, loss=112741.413730]\n",
            "Epoch 95 val        : 100%|██████████| 3/3 [00:03<00:00,  1.13s/it, loss=113457.994475]\n",
            "Epoch 96 train      : 100%|██████████| 9/9 [00:27<00:00,  3.09s/it, loss=112909.805906]\n",
            "Epoch 96 val        : 100%|██████████| 3/3 [00:03<00:00,  1.15s/it, loss=112946.590792]\n",
            "Epoch 97 train      : 100%|██████████| 9/9 [00:27<00:00,  3.09s/it, loss=112183.716478]\n",
            "Epoch 97 val        : 100%|██████████| 3/3 [00:03<00:00,  1.14s/it, loss=112297.857254]\n",
            "Epoch 98 train      : 100%|██████████| 9/9 [00:27<00:00,  3.10s/it, loss=111559.267066]\n",
            "Epoch 98 val        : 100%|██████████| 3/3 [00:03<00:00,  1.14s/it, loss=111494.486551]\n",
            "Epoch 99 train      : 100%|██████████| 9/9 [00:27<00:00,  3.09s/it, loss=111537.511968]\n",
            "Epoch 99 val        : 100%|██████████| 3/3 [00:03<00:00,  1.15s/it, loss=112562.464397]\n",
            "Epoch 100 train     : 100%|██████████| 9/9 [00:27<00:00,  3.09s/it, loss=112872.589096]\n",
            "Epoch 100 val       : 100%|██████████| 3/3 [00:03<00:00,  1.13s/it, loss=113469.621819]"
          ],
          "name": "stderr"
        },
        {
          "output_type": "stream",
          "text": [
            "Done! Time 0:51:59.332019\n"
          ],
          "name": "stdout"
        },
        {
          "output_type": "stream",
          "text": [
            "\n"
          ],
          "name": "stderr"
        }
      ]
    },
    {
      "cell_type": "code",
      "metadata": {
        "id": "QkYBl9H52A9p",
        "outputId": "2fcd3b24-aea1-4595-c432-ee780915afae",
        "colab": {
          "base_uri": "https://localhost:8080/",
          "height": 283
        }
      },
      "source": [
        "import seaborn as sns\n",
        "sns.lineplot(y=total_loss['train'],x=list(range(len(total_loss['train']))))"
      ],
      "execution_count": 12,
      "outputs": [
        {
          "output_type": "execute_result",
          "data": {
            "text/plain": [
              "<matplotlib.axes._subplots.AxesSubplot at 0x7ffafc418588>"
            ]
          },
          "metadata": {
            "tags": []
          },
          "execution_count": 12
        },
        {
          "output_type": "display_data",
          "data": {
            "image/png": "[encoded data removed]",
            "text/plain": [
              "<Figure size 432x288 with 1 Axes>"
            ]
          },
          "metadata": {
            "tags": [],
            "needs_background": "light"
          }
        }
      ]
    },
    {
      "cell_type": "code",
      "metadata": {
        "id": "_OtoWy6n5L9i",
        "outputId": "2d2a9cfa-8651-4b67-daa8-bddfc557c77e",
        "colab": {
          "base_uri": "https://localhost:8080/",
          "height": 283
        }
      },
      "source": [
        "sns.lineplot(y=total_loss['val'],x=list(range(len(total_loss['val']))))"
      ],
      "execution_count": 13,
      "outputs": [
        {
          "output_type": "execute_result",
          "data": {
            "text/plain": [
              "<matplotlib.axes._subplots.AxesSubplot at 0x7ffafc2d4438>"
            ]
          },
          "metadata": {
            "tags": []
          },
          "execution_count": 13
        },
        {
          "output_type": "display_data",
          "data": {
            "image/png": "[encoded data removed]",
            "text/plain": [
              "<Figure size 432x288 with 1 Axes>"
            ]
          },
          "metadata": {
            "tags": [],
            "needs_background": "light"
          }
        }
      ]
    },
    {
      "cell_type": "code",
      "metadata": {
        "id": "hAyXLc5s7zlM"
      },
      "source": [
        ""
      ],
      "execution_count": 13,
      "outputs": []
    }
  ]
}