{
  "nbformat": 4,
  "nbformat_minor": 0,
  "metadata": {
    "colab": {
      "name": "batch_size_different_models.ipynb",
      "provenance": [],
      "include_colab_link": true
    },
    "kernelspec": {
      "name": "python3",
      "display_name": "Python 3"
    }
  },
  "cells": [
    {
      "cell_type": "markdown",
      "metadata": {
        "id": "view-in-github",
        "colab_type": "text"
      },
      "source": [
        "<a href=\"https://colab.research.google.com/github/greyhound101/Brain_tumour/blob/master/batch_size_different_models.ipynb\" target=\"_parent\"><img src=\"https://colab.research.google.com/assets/colab-badge.svg\" alt=\"Open In Colab\"/></a>"
      ]
    },
    {
      "cell_type": "code",
      "metadata": {
        "id": "soHPK3AQKaQs"
      },
      "source": [
        "resnet={'18':0.9320481189680679,'27':0.9525517839940362,'9':0.6781987912308667}\n",
        "alexnet={'18':0.9130591952028665,'27':0.8953962692241588,'9':0.8889679870269012}\n",
        "inception={'18':0.9126597334713951,'27':0.9567253259302856,'9':0.3851702225418748}\n",
        "mobilenet={'18':0.95639610771019,'27':0.9436519246930662,'9':0.4687794610653878}\n",
        "squeezenet={'9':0.9304196169912498,'18':0.9291285099647384,'27':0.9366380082380216}\n",
        "vgg19={'27':0.915940320177168,'18':91.83780654859214,'9':0.9180262808946333}\n",
        "vgg16={'18':0.925243423035943,'27':0.9259872004953327,'9':}\n",
        "xception={'18':0.9563831049275463,'27':0.9552603729967016,'9':}\n",
        "densenet={'18':0.9532347271424184,'27':0.9584489701100558,'9':}"
      ],
      "execution_count": null,
      "outputs": []
    }
  ]
}