{
  "nbformat": 4,
  "nbformat_minor": 0,
  "metadata": {
    "colab": {
      "name": "VGG16_all_layer_without_validation.ipynb",
      "provenance": [],
      "include_colab_link": true
    },
    "kernelspec": {
      "name": "python3",
      "display_name": "Python 3"
    }
  },
  "cells": [
    {
      "cell_type": "markdown",
      "metadata": {
        "id": "view-in-github",
        "colab_type": "text"
      },
      "source": [
        "<a href=\"https://colab.research.google.com/github/greyhound101/internship/blob/master/VGG16_all_layer_without_validation.ipynb\" target=\"_parent\"><img src=\"https://colab.research.google.com/assets/colab-badge.svg\" alt=\"Open In Colab\"/></a>"
      ]
    },
    {
      "cell_type": "code",
      "metadata": {
        "id": "63ErAVGxplUS",
        "colab_type": "code",
        "colab": {
          "base_uri": "https://localhost:8080/",
          "height": 195
        },
        "outputId": "43538bcb-1ea7-425e-fe45-3feed9a0b849"
      },
      "source": [
        "\n",
        "from zipfile import ZipFile \n",
        "  \n",
        "with ZipFile('VGG16_fold_3_decay.zip', 'r') as zip: \n",
        "    # printing all the contents of the zip file \n",
        "    zip.printdir() \n",
        "  \n",
        "    # extracting all the files \n",
        "    print('Extracting all the files now...') \n",
        "    zip.extractall() \n",
        "    print('Done!')"
      ],
      "execution_count": 11,
      "outputs": [
        {
          "output_type": "stream",
          "text": [
            "File Name                                             Modified             Size\n",
            "final_accuracy_all_fold3_VGG16_decay.npy       2020-06-06 09:30:50          397\n",
            "times_all_fold_3_VGG16_decay.npy               2020-06-06 09:30:50          305\n",
            "best_accuracy_all_fold_3_VGG16_decay.npy       2020-06-06 09:30:50          282\n",
            "history_all_fold_3_VGG16_decay.npy             2020-06-06 09:30:50         2684\n",
            "answers_all_fold_3_VGG16_decay.npy             2020-06-06 09:30:50         4961\n",
            "predictions_all_best_fold_3_VGG16_decay.npy    2020-06-06 09:30:50          282\n",
            "predictions_all_fold_3_VGG16_decay.npy         2020-06-06 09:30:50         4961\n",
            "Extracting all the files now...\n",
            "Done!\n"
          ],
          "name": "stdout"
        }
      ]
    },
    {
      "cell_type": "code",
      "metadata": {
        "id": "N7j--Lgep-6y",
        "colab_type": "code",
        "colab": {
          "base_uri": "https://localhost:8080/",
          "height": 195
        },
        "outputId": "70d460c3-2660-4dd0-9198-177c2913701f"
      },
      "source": [
        "\n",
        "from zipfile import ZipFile \n",
        "  \n",
        "with ZipFile('VGG16_fold_1_decay.zip', 'r') as zip: \n",
        "    # printing all the contents of the zip file \n",
        "    zip.printdir() \n",
        "  \n",
        "    # extracting all the files \n",
        "    print('Extracting all the files now...') \n",
        "    zip.extractall() \n",
        "    print('Done!')"
      ],
      "execution_count": 3,
      "outputs": [
        {
          "output_type": "stream",
          "text": [
            "File Name                                             Modified             Size\n",
            "best_accuracy_all_fold_1_VGG16_deacy.npy       2020-06-06 09:16:42          282\n",
            "predictions_all_best_fold_1_VGG16_deacy.npy    2020-06-06 09:16:42          282\n",
            "predictions_all_fold_1_VGG16_deacy.npy         2020-06-06 09:16:42         4721\n",
            "times_all_fold_1_VGG16_deacy.npy               2020-06-06 09:16:42          305\n",
            "final_accuracy_all_fold1_VGG16_deacy.npy       2020-06-06 09:16:42          397\n",
            "history_all_fold_1_VGG16_deacy.npy             2020-06-06 09:16:42         2684\n",
            "answers_all_fold_1_VGG16_deacy.npy             2020-06-06 09:16:42         4721\n",
            "Extracting all the files now...\n",
            "Done!\n"
          ],
          "name": "stdout"
        }
      ]
    },
    {
      "cell_type": "code",
      "metadata": {
        "id": "Jp9oXTZJp_Ll",
        "colab_type": "code",
        "colab": {
          "base_uri": "https://localhost:8080/",
          "height": 195
        },
        "outputId": "e6f320af-a295-477e-f849-f31f06fa46a6"
      },
      "source": [
        "\n",
        "from zipfile import ZipFile \n",
        "  \n",
        "with ZipFile('VGG16_fold_2_decay.zip', 'r') as zip: \n",
        "    # printing all the contents of the zip file \n",
        "    zip.printdir() \n",
        "  \n",
        "    # extracting all the files \n",
        "    print('Extracting all the files now...') \n",
        "    zip.extractall() \n",
        "    print('Done!')"
      ],
      "execution_count": 4,
      "outputs": [
        {
          "output_type": "stream",
          "text": [
            "File Name                                             Modified             Size\n",
            "best_accuracy_all_fold_2_VGG16_decay.npy       2020-06-06 08:09:40          282\n",
            "predictions_all_best_fold_2_VGG16_decay.npy    2020-06-06 08:09:40          282\n",
            "final_accuracy_all_fold2_VGG16_decay.npy       2020-06-06 08:09:40          397\n",
            "answers_all_fold_2_VGG16_decay.npy             2020-06-06 08:09:40         5817\n",
            "times_all_fold_2_VGG16_decay.npy               2020-06-06 08:09:40          305\n",
            "history_all_fold_2_VGG16_decay.npy             2020-06-06 08:09:40         2684\n",
            "predictions_all_fold_2_VGG16_decay.npy         2020-06-06 08:09:40         5817\n",
            "Extracting all the files now...\n",
            "Done!\n"
          ],
          "name": "stdout"
        }
      ]
    },
    {
      "cell_type": "code",
      "metadata": {
        "id": "Zyrkbi8up_Tj",
        "colab_type": "code",
        "colab": {
          "base_uri": "https://localhost:8080/",
          "height": 195
        },
        "outputId": "a157d4b1-554c-4096-fbd7-143cc686239e"
      },
      "source": [
        "\n",
        "from zipfile import ZipFile \n",
        "  \n",
        "with ZipFile('VGG16_fold_4_decay.zip', 'r') as zip: \n",
        "    # printing all the contents of the zip file \n",
        "    zip.printdir() \n",
        "  \n",
        "    # extracting all the files \n",
        "    print('Extracting all the files now...') \n",
        "    zip.extractall() \n",
        "    print('Done!')"
      ],
      "execution_count": 5,
      "outputs": [
        {
          "output_type": "stream",
          "text": [
            "File Name                                             Modified             Size\n",
            "predictions_all_best_fold_4_VGG16_decay.npy    2020-06-06 11:57:30          282\n",
            "best_accuracy_all_fold_4_VGG16_decay.npy       2020-06-06 11:57:30          282\n",
            "history_all_fold_4_VGG16_decay.npy             2020-06-06 11:57:30         2684\n",
            "final_accuracy_all_fold4_VGG16_decay.npy       2020-06-06 11:57:30          397\n",
            "predictions_all_fold_4_VGG16_decay.npy         2020-06-06 11:57:30         5409\n",
            "answers_all_fold_4_VGG16_decay.npy             2020-06-06 11:57:30         5409\n",
            "times_all_fold_4_VGG16_decay.npy               2020-06-06 11:57:30          305\n",
            "Extracting all the files now...\n",
            "Done!\n"
          ],
          "name": "stdout"
        }
      ]
    },
    {
      "cell_type": "code",
      "metadata": {
        "id": "nM-4sOp4p_ba",
        "colab_type": "code",
        "colab": {
          "base_uri": "https://localhost:8080/",
          "height": 195
        },
        "outputId": "c4ea5fb0-d337-4158-bc53-ee491cc56679"
      },
      "source": [
        "\n",
        "from zipfile import ZipFile \n",
        "  \n",
        "with ZipFile('VGG_16_fold_5_decay.zip', 'r') as zip: \n",
        "    # printing all the contents of the zip file \n",
        "    zip.printdir() \n",
        "  \n",
        "    # extracting all the files \n",
        "    print('Extracting all the files now...') \n",
        "    zip.extractall() \n",
        "    print('Done!')"
      ],
      "execution_count": 9,
      "outputs": [
        {
          "output_type": "stream",
          "text": [
            "File Name                                             Modified             Size\n",
            "predictions_all_best_fold_5_VGG16_decay.npy    2020-06-06 09:35:06          282\n",
            "predictions_all_fold_5_VGG16_decay.npy         2020-06-06 09:35:06         5529\n",
            "best_accuracy_all_fold_5_VGG16_decay.npy       2020-06-06 09:35:06          282\n",
            "answers_all_fold_5_VGG16_decay.npy             2020-06-06 09:35:06         5529\n",
            "final_accuracy_all_fold5_VGG16_decay.npy       2020-06-06 09:35:06          397\n",
            "history_all_fold_5_VGG16_decay.npy             2020-06-06 09:35:06         2684\n",
            "times_all_fold_5_VGG16_decay.npy               2020-06-06 09:35:06          305\n",
            "Extracting all the files now...\n",
            "Done!\n"
          ],
          "name": "stdout"
        }
      ]
    },
    {
      "cell_type": "code",
      "metadata": {
        "id": "tj_29PT2hSoN",
        "colab_type": "code",
        "outputId": "ce528518-0610-44ac-996a-141d8c228b9f",
        "colab": {
          "base_uri": "https://localhost:8080/",
          "height": 35
        }
      },
      "source": [
        "import numpy as np\n",
        "fnl_acc3=list(np.load('final_accuracy_all_fold3_VGG16_decay.npy',allow_pickle=True).item().values())[0]\n",
        "fnl_acc5=list(np.load('final_accuracy_all_fold5_VGG16_decay.npy',allow_pickle=True).item().values())[0]\n",
        "fnl_acc4=list(np.load('final_accuracy_all_fold4_VGG16_decay.npy',allow_pickle=True).item().values())[0]\n",
        "fnl_acc2=list(np.load('final_accuracy_all_fold2_VGG16_decay.npy',allow_pickle=True).item().values())[0]\n",
        "fnl_acc1=list(np.load('final_accuracy_all_fold1_VGG16_deacy.npy',allow_pickle=True).item().values())[0]\n",
        "np.mean([fnl_acc1,fnl_acc2,fnl_acc3,fnl_acc4,fnl_acc5])"
      ],
      "execution_count": 13,
      "outputs": [
        {
          "output_type": "execute_result",
          "data": {
            "text/plain": [
              "0.9477558859147301"
            ]
          },
          "metadata": {
            "tags": []
          },
          "execution_count": 13
        }
      ]
    },
    {
      "cell_type": "code",
      "metadata": {
        "id": "Y6keYSFxjQKv",
        "colab_type": "code",
        "outputId": "ca60c77a-0e70-4405-93e5-7620d2f71e72",
        "colab": {
          "base_uri": "https://localhost:8080/",
          "height": 35
        }
      },
      "source": [
        "import numpy as np\n",
        "fnl_acc3=list(np.load('times_all_fold_3_VGG16_decay.npy',allow_pickle=True).item().values())[0]\n",
        "fnl_acc5=list(np.load('times_all_fold_5_VGG16_decay.npy',allow_pickle=True).item().values())[0]\n",
        "fnl_acc4=list(np.load('times_all_fold_4_VGG16_decay.npy',allow_pickle=True).item().values())[0]\n",
        "fnl_acc2=list(np.load('times_all_fold_2_VGG16_decay.npy',allow_pickle=True).item().values())[0]\n",
        "fnl_acc1=list(np.load('times_all_fold_1_VGG16_deacy.npy',allow_pickle=True).item().values())[0]\n",
        "np.mean([fnl_acc1,fnl_acc2,fnl_acc3,fnl_acc4,fnl_acc5])"
      ],
      "execution_count": 15,
      "outputs": [
        {
          "output_type": "execute_result",
          "data": {
            "text/plain": [
              "10628.306984186172"
            ]
          },
          "metadata": {
            "tags": []
          },
          "execution_count": 15
        }
      ]
    },
    {
      "cell_type": "code",
      "metadata": {
        "id": "5z_v0ygJjTv_",
        "colab_type": "code",
        "outputId": "90367773-4af2-423b-a7e1-ca3fb8b17e8b",
        "colab": {
          "base_uri": "https://localhost:8080/",
          "height": 70
        }
      },
      "source": [
        "\n",
        "\n",
        "from sklearn.metrics import confusion_matrix\n",
        "ans_1=np.load('answers_all_fold_1_VGG16_deacy.npy',allow_pickle=True).item()\n",
        "fold_1_pre=np.load('predictions_all_fold_1_VGG16_deacy.npy',allow_pickle=True).item()\n",
        "ans_1=list(ans_1.values())[0]\n",
        "fold_1_pre=list(fold_1_pre.values())[0]\n",
        "print(confusion_matrix(ans_1,fold_1_pre))\n",
        "\n"
      ],
      "execution_count": 17,
      "outputs": [
        {
          "output_type": "stream",
          "text": [
            "[[110   2   0]\n",
            " [  6 238   1]\n",
            " [ 10   0 175]]\n"
          ],
          "name": "stdout"
        }
      ]
    },
    {
      "cell_type": "code",
      "metadata": {
        "id": "sXzslYOflDbf",
        "colab_type": "code",
        "outputId": "ff025302-b638-49b3-a876-13694ecc1b91",
        "colab": {
          "base_uri": "https://localhost:8080/",
          "height": 70
        }
      },
      "source": [
        "\n",
        "ans_1=np.load('answers_all_fold_2_VGG16_decay.npy',allow_pickle=True).item()\n",
        "fold_1_pre=np.load('predictions_all_fold_2_VGG16_decay.npy',allow_pickle=True).item()\n",
        "ans_1=list(ans_1.values())[0]\n",
        "fold_1_pre=list(fold_1_pre.values())[0]\n",
        "print(confusion_matrix(ans_1,fold_1_pre))\n",
        "\n"
      ],
      "execution_count": 21,
      "outputs": [
        {
          "output_type": "stream",
          "text": [
            "[[138  23   6]\n",
            " [ 18 314   6]\n",
            " [  2   8 164]]\n"
          ],
          "name": "stdout"
        }
      ]
    },
    {
      "cell_type": "code",
      "metadata": {
        "id": "bQeRpmCTl7X0",
        "colab_type": "code",
        "outputId": "2ccd0f64-cdb3-4c6e-8625-e2a768eee0b8",
        "colab": {
          "base_uri": "https://localhost:8080/",
          "height": 70
        }
      },
      "source": [
        "\n",
        "ans_1=np.load('answers_all_fold_3_VGG16_decay.npy',allow_pickle=True).item()\n",
        "fold_1_pre=np.load('predictions_all_fold_3_VGG16_decay.npy',allow_pickle=True).item()\n",
        "ans_1=list(ans_1.values())[0]\n",
        "fold_1_pre=list(fold_1_pre.values())[0]\n",
        "print(confusion_matrix(ans_1,fold_1_pre))\n",
        "\n"
      ],
      "execution_count": 22,
      "outputs": [
        {
          "output_type": "stream",
          "text": [
            "[[135   4   0]\n",
            " [ 13 218   0]\n",
            " [  1   1 200]]\n"
          ],
          "name": "stdout"
        }
      ]
    },
    {
      "cell_type": "code",
      "metadata": {
        "id": "wRwX__s2mEVq",
        "colab_type": "code",
        "outputId": "d973b607-bbde-4dcd-f51d-d0458a5178d0",
        "colab": {
          "base_uri": "https://localhost:8080/",
          "height": 70
        }
      },
      "source": [
        "\n",
        "ans_1=np.load('answers_all_fold_4_VGG16_decay.npy',allow_pickle=True).item()\n",
        "fold_1_pre=np.load('predictions_all_fold_4_VGG16_decay.npy',allow_pickle=True).item()\n",
        "ans_1=list(ans_1.values())[0]\n",
        "fold_1_pre=list(fold_1_pre.values())[0]\n",
        "print(confusion_matrix(ans_1,fold_1_pre))\n",
        "\n"
      ],
      "execution_count": 23,
      "outputs": [
        {
          "output_type": "stream",
          "text": [
            "[[116   5   3]\n",
            " [  7 318   0]\n",
            " [  2   0 177]]\n"
          ],
          "name": "stdout"
        }
      ]
    },
    {
      "cell_type": "code",
      "metadata": {
        "id": "3FXRTXCzmWnh",
        "colab_type": "code",
        "outputId": "f19496ff-25d7-43f3-c4de-ed8c6ffbca8a",
        "colab": {
          "base_uri": "https://localhost:8080/",
          "height": 70
        }
      },
      "source": [
        "\n",
        "ans_1=np.load('answers_all_fold_5_VGG16_decay.npy',allow_pickle=True).item()\n",
        "fold_1_pre=np.load('predictions_all_fold_5_VGG16_decay.npy',allow_pickle=True).item()\n",
        "ans_1=list(ans_1.values())[0]\n",
        "fold_1_pre=list(fold_1_pre.values())[0]\n",
        "print(confusion_matrix(ans_1,fold_1_pre))\n",
        "\n"
      ],
      "execution_count": 24,
      "outputs": [
        {
          "output_type": "stream",
          "text": [
            "[[135   8  23]\n",
            " [ 12 273   2]\n",
            " [  0   2 188]]\n"
          ],
          "name": "stdout"
        }
      ]
    },
    {
      "cell_type": "code",
      "metadata": {
        "id": "nLhLBFFsmlTz",
        "colab_type": "code",
        "colab": {}
      },
      "source": [
        "\n",
        "history={}\n",
        "history['fold1']=np.load('history_all_fold_1_VGG16_deacy.npy',allow_pickle=True).item()\n",
        "history['fold2']=np.load('history_all_fold_2_VGG16_decay.npy',allow_pickle=True).item()\n",
        "history['fold3']=np.load('history_all_fold_3_VGG16_decay.npy',allow_pickle=True).item()\n",
        "history['fold4']=np.load('history_all_fold_4_VGG16_decay.npy',allow_pickle=True).item()\n",
        "history['fold5']=np.load('history_all_fold_5_VGG16_decay.npy',allow_pickle=True).item()\n",
        "\n"
      ],
      "execution_count": 0,
      "outputs": []
    },
    {
      "cell_type": "code",
      "metadata": {
        "id": "ZNgXRGxGm47o",
        "colab_type": "code",
        "outputId": "4bb4701d-56e4-4451-ba3c-fdcb4c6aa46b",
        "colab": {
          "base_uri": "https://localhost:8080/",
          "height": 1000
        }
      },
      "source": [
        "from matplotlib import pyplot as plt\n",
        "for i in range(5):\n",
        "    fold='fold'+str(i+1)\n",
        "    fold1='fold_'+str(i+1)\n",
        "    plt.plot(history[fold][fold1]['accuracy'])\n",
        "    plt.title('loss for fold '+str(i))\n",
        "    plt.xlabel('epoch')\n",
        "    plt.ylabel('accuracy')\n",
        "    plt.title('Training all layers')\n",
        "    plt.show()"
      ],
      "execution_count": 31,
      "outputs": [
        {
          "output_type": "display_data",
          "data": {
            "image/png": "[encoded data removed]",
            "text/plain": [
              "<Figure size 432x288 with 1 Axes>"
            ]
          },
          "metadata": {
            "tags": [],
            "needs_background": "light"
          }
        },
        {
          "output_type": "display_data",
          "data": {
            "image/png": "[encoded data removed]",
            "text/plain": [
              "<Figure size 432x288 with 1 Axes>"
            ]
          },
          "metadata": {
            "tags": [],
            "needs_background": "light"
          }
        },
        {
          "output_type": "display_data",
          "data": {
            "image/png": "[encoded data removed]",
            "text/plain": [
              "<Figure size 432x288 with 1 Axes>"
            ]
          },
          "metadata": {
            "tags": [],
            "needs_background": "light"
          }
        },
        {
          "output_type": "display_data",
          "data": {
            "image/png": "[encoded data removed]",
            "text/plain": [
              "<Figure size 432x288 with 1 Axes>"
            ]
          },
          "metadata": {
            "tags": [],
            "needs_background": "light"
          }
        },
        {
          "output_type": "display_data",
          "data": {
            "image/png": "[encoded data removed]",
            "text/plain": [
              "<Figure size 432x288 with 1 Axes>"
            ]
          },
          "metadata": {
            "tags": [],
            "needs_background": "light"
          }
        }
      ]
    },
    {
      "cell_type": "code",
      "metadata": {
        "id": "K9YqE_Gkm6sm",
        "colab_type": "code",
        "outputId": "23e87596-9a8f-4c89-8469-762380b20fd1",
        "colab": {
          "base_uri": "https://localhost:8080/",
          "height": 1000
        }
      },
      "source": [
        "from matplotlib import pyplot as plt\n",
        "for i in range(5):\n",
        "    fold='fold'+str(i+1)\n",
        "    fold1='fold_'+str(i+1)\n",
        "    plt.plot(history[fold][fold1]['loss'])\n",
        "    plt.title('loss for fold '+str(i))\n",
        "    plt.xlabel('epoch')\n",
        "    plt.ylabel('loss')\n",
        "    plt.title('Training all layers')\n",
        "    plt.show()"
      ],
      "execution_count": 32,
      "outputs": [
        {
          "output_type": "display_data",
          "data": {
            "image/png": "[encoded data removed]",
            "text/plain": [
              "<Figure size 432x288 with 1 Axes>"
            ]
          },
          "metadata": {
            "tags": [],
            "needs_background": "light"
          }
        },
        {
          "output_type": "display_data",
          "data": {
            "image/png": "[encoded data removed]",
            "text/plain": [
              "<Figure size 432x288 with 1 Axes>"
            ]
          },
          "metadata": {
            "tags": [],
            "needs_background": "light"
          }
        },
        {
          "output_type": "display_data",
          "data": {
            "image/png": "[encoded data removed]",
            "text/plain": [
              "<Figure size 432x288 with 1 Axes>"
            ]
          },
          "metadata": {
            "tags": [],
            "needs_background": "light"
          }
        },
        {
          "output_type": "display_data",
          "data": {
            "image/png": "[encoded data removed]",
            "text/plain": [
              "<Figure size 432x288 with 1 Axes>"
            ]
          },
          "metadata": {
            "tags": [],
            "needs_background": "light"
          }
        },
        {
          "output_type": "display_data",
          "data": {
            "image/png": "[encoded data removed]",
            "text/plain": [
              "<Figure size 432x288 with 1 Axes>"
            ]
          },
          "metadata": {
            "tags": [],
            "needs_background": "light"
          }
        }
      ]
    },
    {
      "cell_type": "code",
      "metadata": {
        "id": "qlXSp2KQnGjK",
        "colab_type": "code",
        "colab": {}
      },
      "source": [
        ""
      ],
      "execution_count": 0,
      "outputs": []
    }
  ]
}