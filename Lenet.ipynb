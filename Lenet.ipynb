{
  "nbformat": 4,
  "nbformat_minor": 0,
  "metadata": {
    "colab": {
      "name": "Lenet.ipynb",
      "provenance": [],
      "collapsed_sections": [],
      "authorship_tag": "ABX9TyNqUjUlllyqYlTKGraBy0TA",
      "include_colab_link": true
    },
    "kernelspec": {
      "name": "python3",
      "display_name": "Python 3"
    },
    "accelerator": "GPU"
  },
  "cells": [
    {
      "cell_type": "markdown",
      "metadata": {
        "id": "view-in-github",
        "colab_type": "text"
      },
      "source": [
        "<a href=\"https://colab.research.google.com/github/greyhound101/internship/blob/master/Lenet.ipynb\" target=\"_parent\"><img src=\"https://colab.research.google.com/assets/colab-badge.svg\" alt=\"Open In Colab\"/></a>"
      ]
    },
    {
      "cell_type": "code",
      "metadata": {
        "id": "LarYphW3ZgI9",
        "colab_type": "code",
        "outputId": "e8dd811d-3d00-496e-b567-849e5d09c99b",
        "colab": {
          "base_uri": "https://localhost:8080/",
          "height": 281
        }
      },
      "source": [
        "from keras.datasets import mnist\n",
        "import matplotlib.pyplot as plt\n",
        "from sklearn.metrics import accuracy_score\n",
        "import pandas as pd\n",
        "import numpy as np\n",
        "(x_train,y_train),(x_test,y_test)=mnist.load_data()\n",
        "plt.imshow(x_train[0])"
      ],
      "execution_count": 0,
      "outputs": [
        {
          "output_type": "execute_result",
          "data": {
            "text/plain": [
              "<matplotlib.image.AxesImage at 0x7f38f7c074e0>"
            ]
          },
          "metadata": {
            "tags": []
          },
          "execution_count": 39
        },
        {
          "output_type": "display_data",
          "data": {
            "image/png": "[encoded data removed]",
            "text/plain": [
              "<Figure size 432x288 with 1 Axes>"
            ]
          },
          "metadata": {
            "tags": [],
            "needs_background": "light"
          }
        }
      ]
    },
    {
      "cell_type": "code",
      "metadata": {
        "id": "bEEC9hqmZiII",
        "colab_type": "code",
        "outputId": "7e6f440f-725a-4cdb-c63f-0ab6bacf4a1f",
        "colab": {
          "base_uri": "https://localhost:8080/",
          "height": 50
        }
      },
      "source": [
        "from keras.layers import Dense,Flatten,Dropout\n",
        "from keras.models import Model \n",
        "import keras.backend as K\n",
        "from keras.utils import to_categorical\n",
        "print(y_train.shape)\n",
        "print(x_train.shape)\n",
        "from keras.layers import Conv2D,Input,MaxPooling2D\n",
        "x_train=x_train/255\n",
        "x_test=x_test/255"
      ],
      "execution_count": 0,
      "outputs": [
        {
          "output_type": "stream",
          "text": [
            "(60000,)\n",
            "(60000, 28, 28)\n"
          ],
          "name": "stdout"
        }
      ]
    },
    {
      "cell_type": "code",
      "metadata": {
        "id": "VR_KtuJEjFGQ",
        "colab_type": "code",
        "colab": {}
      },
      "source": [
        "x_trn=[]\n",
        "x_tst=[]\n",
        "for i in range(x_train.shape[0]):\n",
        "  x_trn.append(cv2.resize(x_train[i], (32,32), interpolation = cv2.INTER_AREA))\n",
        "for i in range(x_test.shape[0]):\n",
        "  x_tst.append(cv2.resize(x_test[i], (32,32), interpolation = cv2.INTER_AREA))\n"
      ],
      "execution_count": 0,
      "outputs": []
    },
    {
      "cell_type": "code",
      "metadata": {
        "id": "pMErHaStjrKh",
        "colab_type": "code",
        "outputId": "edd1431c-a30c-4ded-e019-fde257effa7a",
        "colab": {
          "base_uri": "https://localhost:8080/",
          "height": 33
        }
      },
      "source": [
        "x_trn=np.asarray(x_trn)\n",
        "x_tst=np.asarray(x_tst)\n",
        "x_trn.shape"
      ],
      "execution_count": 0,
      "outputs": [
        {
          "output_type": "execute_result",
          "data": {
            "text/plain": [
              "(60000, 32, 32)"
            ]
          },
          "metadata": {
            "tags": []
          },
          "execution_count": 42
        }
      ]
    },
    {
      "cell_type": "code",
      "metadata": {
        "id": "SnjQ4mSEZst4",
        "colab_type": "code",
        "outputId": "3579b4d7-dd47-4051-caf1-fb085557f436",
        "colab": {
          "base_uri": "https://localhost:8080/",
          "height": 514
        }
      },
      "source": [
        "plt.imshow(x_train[0])\n",
        "plt.show()\n",
        "plt.imshow(x_trn[0])\n",
        "x_trn=x_trn.reshape((x_trn.shape[0],32,32,1))\n",
        "x_tst=x_tst.reshape((x_tst.shape[0],32,32,1))"
      ],
      "execution_count": 0,
      "outputs": [
        {
          "output_type": "display_data",
          "data": {
            "image/png": "[encoded data removed]",
            "text/plain": [
              "<Figure size 432x288 with 1 Axes>"
            ]
          },
          "metadata": {
            "tags": [],
            "needs_background": "light"
          }
        },
        {
          "output_type": "display_data",
          "data": {
            "image/png": "[encoded data removed]",
            "text/plain": [
              "<Figure size 432x288 with 1 Axes>"
            ]
          },
          "metadata": {
            "tags": [],
            "needs_background": "light"
          }
        }
      ]
    },
    {
      "cell_type": "code",
      "metadata": {
        "id": "qMqJBIP3Z5Af",
        "colab_type": "code",
        "colab": {}
      },
      "source": [
        "from keras.layers import *\n",
        "inp=Input((32,32,1))\n",
        "cnv=Conv2D(6,(5,5),input_shape=(32,32,1),activation='tanh')(inp)\n",
        "mxp=AveragePooling2D(pool_size=(2,2),strides=(2,2))(cnv)\n",
        "cnv1=Conv2D(16,(5,5),input_shape=(14,14,1),activation='tanh')(mxp)\n",
        "mxp1=AveragePooling2D(pool_size=(2,2),strides=(2,2))(cnv1)\n",
        "cnv1=Conv2D(120,(5,5),input_shape=(5,5,1),activation='tanh')(mxp1)\n",
        "dns=Dense(84,activation='relu')(cnv1)\n",
        "out=Dense(10,activation='softmax')(dns)\n",
        "mod=Model(inputs=inp,outputs=out)\n",
        "mod.compile(loss='categorical_crossentropy',optimizer='adam')"
      ],
      "execution_count": 0,
      "outputs": []
    },
    {
      "cell_type": "code",
      "metadata": {
        "id": "H0lyXQq9c9DQ",
        "colab_type": "code",
        "outputId": "b6413c90-e5e1-4f11-d479-10b0464164b7",
        "colab": {
          "base_uri": "https://localhost:8080/",
          "height": 418
        }
      },
      "source": [
        "mod.summary()"
      ],
      "execution_count": 0,
      "outputs": [
        {
          "output_type": "stream",
          "text": [
            "Model: \"model_7\"\n",
            "_________________________________________________________________\n",
            "Layer (type)                 Output Shape              Param #   \n",
            "=================================================================\n",
            "input_11 (InputLayer)        (None, 32, 32, 1)         0         \n",
            "_________________________________________________________________\n",
            "conv2d_23 (Conv2D)           (None, 28, 28, 6)         156       \n",
            "_________________________________________________________________\n",
            "average_pooling2d_14 (Averag (None, 14, 14, 6)         0         \n",
            "_________________________________________________________________\n",
            "conv2d_24 (Conv2D)           (None, 10, 10, 16)        2416      \n",
            "_________________________________________________________________\n",
            "average_pooling2d_15 (Averag (None, 5, 5, 16)          0         \n",
            "_________________________________________________________________\n",
            "conv2d_25 (Conv2D)           (None, 1, 1, 120)         48120     \n",
            "_________________________________________________________________\n",
            "dense_13 (Dense)             (None, 1, 1, 84)          10164     \n",
            "_________________________________________________________________\n",
            "dense_14 (Dense)             (None, 1, 1, 10)          850       \n",
            "=================================================================\n",
            "Total params: 61,706\n",
            "Trainable params: 61,706\n",
            "Non-trainable params: 0\n",
            "_________________________________________________________________\n"
          ],
          "name": "stdout"
        }
      ]
    },
    {
      "cell_type": "code",
      "metadata": {
        "id": "MTcT8ujThyEn",
        "colab_type": "code",
        "outputId": "9f9e0af2-1eb3-44b4-989c-defd26652611",
        "colab": {
          "base_uri": "https://localhost:8080/",
          "height": 351
        }
      },
      "source": [
        "\n",
        "mod.fit(x_trn,to_categorical(y_train).reshape((60000,1,1,10)),epochs=10,batch_size=200)\n",
        "pred=mod.predict(x_tst)"
      ],
      "execution_count": 0,
      "outputs": [
        {
          "output_type": "stream",
          "text": [
            "Epoch 1/10\n",
            "60000/60000 [==============================] - 9s 143us/step - loss: 0.3565\n",
            "Epoch 2/10\n",
            "60000/60000 [==============================] - 2s 25us/step - loss: 0.1242\n",
            "Epoch 3/10\n",
            "60000/60000 [==============================] - 2s 25us/step - loss: 0.0862\n",
            "Epoch 4/10\n",
            "60000/60000 [==============================] - 2s 25us/step - loss: 0.0661\n",
            "Epoch 5/10\n",
            "60000/60000 [==============================] - 2s 25us/step - loss: 0.0530\n",
            "Epoch 6/10\n",
            "60000/60000 [==============================] - 2s 25us/step - loss: 0.0431\n",
            "Epoch 7/10\n",
            "60000/60000 [==============================] - 2s 25us/step - loss: 0.0368\n",
            "Epoch 8/10\n",
            "60000/60000 [==============================] - 2s 25us/step - loss: 0.0303\n",
            "Epoch 9/10\n",
            "60000/60000 [==============================] - 2s 25us/step - loss: 0.0258\n",
            "Epoch 10/10\n",
            "60000/60000 [==============================] - 2s 25us/step - loss: 0.0216\n"
          ],
          "name": "stdout"
        }
      ]
    },
    {
      "cell_type": "code",
      "metadata": {
        "id": "11kISGaLlUcR",
        "colab_type": "code",
        "colab": {}
      },
      "source": [
        "pred=pred.reshape((10000,10))"
      ],
      "execution_count": 0,
      "outputs": []
    },
    {
      "cell_type": "code",
      "metadata": {
        "id": "QYBfF3qzkq95",
        "colab_type": "code",
        "outputId": "f89661f9-cd39-480b-c14a-bc3c873a20b2",
        "colab": {
          "base_uri": "https://localhost:8080/",
          "height": 33
        }
      },
      "source": [
        "\n",
        "pred_1=np.argmax(pred,1)\n",
        "print(\"validation accuracy is = \"+str(accuracy_score(y_test,pred_1)))"
      ],
      "execution_count": 0,
      "outputs": [
        {
          "output_type": "stream",
          "text": [
            "validation accuracy is = 0.9858\n"
          ],
          "name": "stdout"
        }
      ]
    },
    {
      "cell_type": "code",
      "metadata": {
        "id": "DtiT9XtjlefZ",
        "colab_type": "code",
        "colab": {}
      },
      "source": [
        ""
      ],
      "execution_count": 0,
      "outputs": []
    }
  ]
}