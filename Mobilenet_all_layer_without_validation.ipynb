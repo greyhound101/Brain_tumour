{
  "nbformat": 4,
  "nbformat_minor": 0,
  "metadata": {
    "colab": {
      "name": "Mobilenet_all_layer_without_validation.ipynb",
      "provenance": [],
      "include_colab_link": true
    },
    "kernelspec": {
      "name": "python3",
      "display_name": "Python 3"
    }
  },
  "cells": [
    {
      "cell_type": "markdown",
      "metadata": {
        "id": "view-in-github",
        "colab_type": "text"
      },
      "source": [
        "<a href=\"https://colab.research.google.com/github/greyhound101/internship/blob/master/Mobilenet_all_layer_without_validation.ipynb\" target=\"_parent\"><img src=\"https://colab.research.google.com/assets/colab-badge.svg\" alt=\"Open In Colab\"/></a>"
      ]
    },
    {
      "cell_type": "code",
      "metadata": {
        "id": "1ZQfEZfoiQYQ",
        "colab_type": "code",
        "outputId": "e5e649dd-a1d1-4eb3-d7f2-ce0119083784",
        "colab": {
          "base_uri": "https://localhost:8080/",
          "height": 195
        }
      },
      "source": [
        "from zipfile import ZipFile \n",
        "  \n",
        "with ZipFile('mobilenet_1_decay.zip', 'r') as zip: \n",
        "    # printing all the contents of the zip file \n",
        "    zip.printdir() \n",
        "  \n",
        "    # extracting all the files \n",
        "    print('Extracting all the files now...') \n",
        "    zip.extractall() \n",
        "    print('Done!')"
      ],
      "execution_count": 1,
      "outputs": [
        {
          "output_type": "stream",
          "text": [
            "File Name                                             Modified             Size\n",
            "predictions_all_best_fold1_wn.npy              2020-06-06 14:22:54          282\n",
            "final_accuracy_all_fold1_wn.npy                2020-06-06 14:22:52          397\n",
            "best_accuracy_all_fold1_wn.npy                 2020-06-06 14:22:52          282\n",
            "predictions_all_fold1_wn.npy                   2020-06-06 14:22:54         4721\n",
            "times_all_fold1_wn.npy                         2020-06-06 14:22:54          305\n",
            "answers_all_fold1_wn.npy                       2020-06-06 14:22:54         4721\n",
            "history_all_fold1_wn.npy                       2020-06-06 14:22:52         2684\n",
            "Extracting all the files now...\n",
            "Done!\n"
          ],
          "name": "stdout"
        }
      ]
    },
    {
      "cell_type": "code",
      "metadata": {
        "id": "8xsb7Kfljpyf",
        "colab_type": "code",
        "colab": {
          "base_uri": "https://localhost:8080/",
          "height": 195
        },
        "outputId": "afae07d5-180d-4871-b9a8-3d0b87249aa8"
      },
      "source": [
        "from zipfile import ZipFile \n",
        "  \n",
        "with ZipFile('mobilenet_2_decay.zip', 'r') as zip: \n",
        "    # printing all the contents of the zip file \n",
        "    zip.printdir() \n",
        "  \n",
        "    # extracting all the files \n",
        "    print('Extracting all the files now...') \n",
        "    zip.extractall() \n",
        "    print('Done!')"
      ],
      "execution_count": 2,
      "outputs": [
        {
          "output_type": "stream",
          "text": [
            "File Name                                             Modified             Size\n",
            "final_accuracy_all_fold2_wn.npy                2020-06-06 13:03:14          397\n",
            "best_accuracy_all_fold2_wn.npy                 2020-06-06 13:03:14          282\n",
            "history_all_fold2_wn.npy                       2020-06-06 13:03:14         2684\n",
            "predictions_all_best_fold2_wn.npy              2020-06-06 13:03:14          282\n",
            "predictions_all_fold2_wn.npy                   2020-06-06 13:03:14         5817\n",
            "times_all_fold2_wn.npy                         2020-06-06 13:03:14          305\n",
            "answers_all_fold2_wn.npy                       2020-06-06 13:03:14         5817\n",
            "Extracting all the files now...\n",
            "Done!\n"
          ],
          "name": "stdout"
        }
      ]
    },
    {
      "cell_type": "code",
      "metadata": {
        "id": "ykU6kwZ8jqFU",
        "colab_type": "code",
        "colab": {
          "base_uri": "https://localhost:8080/",
          "height": 195
        },
        "outputId": "ac56d49d-c05b-4948-901d-2a67fee110f8"
      },
      "source": [
        "from zipfile import ZipFile \n",
        "  \n",
        "with ZipFile('mobilenet_3_decay.zip', 'r') as zip: \n",
        "    # printing all the contents of the zip file \n",
        "    zip.printdir() \n",
        "  \n",
        "    # extracting all the files \n",
        "    print('Extracting all the files now...') \n",
        "    zip.extractall() \n",
        "    print('Done!')"
      ],
      "execution_count": 3,
      "outputs": [
        {
          "output_type": "stream",
          "text": [
            "File Name                                             Modified             Size\n",
            "best_accuracy_all_fold3_wn.npy                 2020-06-06 10:49:58          282\n",
            "predictions_all_best_fold3_wn.npy              2020-06-06 10:49:58          282\n",
            "times_all_fold3_wn.npy                         2020-06-06 10:49:58          305\n",
            "predictions_all_fold3_wn.npy                   2020-06-06 10:49:58         4961\n",
            "history_all_fold3_wn.npy                       2020-06-06 10:49:58         2684\n",
            "final_accuracy_all_fold3_wn.npy                2020-06-06 10:49:58          397\n",
            "answers_all_fold3_wn.npy                       2020-06-06 10:49:58         4961\n",
            "Extracting all the files now...\n",
            "Done!\n"
          ],
          "name": "stdout"
        }
      ]
    },
    {
      "cell_type": "code",
      "metadata": {
        "id": "3S0TOsMPjqOn",
        "colab_type": "code",
        "colab": {
          "base_uri": "https://localhost:8080/",
          "height": 195
        },
        "outputId": "fcecd6d6-3c40-49bd-a993-37e4df2c02cf"
      },
      "source": [
        "from zipfile import ZipFile \n",
        "  \n",
        "with ZipFile('mobilenet_4_decay.zip', 'r') as zip: \n",
        "    # printing all the contents of the zip file \n",
        "    zip.printdir() \n",
        "  \n",
        "    # extracting all the files \n",
        "    print('Extracting all the files now...') \n",
        "    zip.extractall() \n",
        "    print('Done!')"
      ],
      "execution_count": 4,
      "outputs": [
        {
          "output_type": "stream",
          "text": [
            "File Name                                             Modified             Size\n",
            "best_accuracy_all_fold4_wn.npy                 2020-06-06 10:50:40          282\n",
            "predictions_all_best_fold4_wn.npy              2020-06-06 10:50:40          282\n",
            "times_all_fold4_wn.npy                         2020-06-06 10:50:40          305\n",
            "final_accuracy_all_fold4_wn.npy                2020-06-06 10:50:40          397\n",
            "history_all_fold4_wn.npy                       2020-06-06 10:50:40         2684\n",
            "predictions_all_fold4_wn.npy                   2020-06-06 10:50:40         5409\n",
            "answers_all_fold4_wn.npy                       2020-06-06 10:50:40         5409\n",
            "Extracting all the files now...\n",
            "Done!\n"
          ],
          "name": "stdout"
        }
      ]
    },
    {
      "cell_type": "code",
      "metadata": {
        "id": "fO3ZRHTzjqZD",
        "colab_type": "code",
        "colab": {
          "base_uri": "https://localhost:8080/",
          "height": 195
        },
        "outputId": "64ea9692-ad3e-4623-af01-8fb9ffa5caa5"
      },
      "source": [
        "from zipfile import ZipFile \n",
        "  \n",
        "with ZipFile('mobilenet_5_decay.zip', 'r') as zip: \n",
        "    # printing all the contents of the zip file \n",
        "    zip.printdir() \n",
        "  \n",
        "    # extracting all the files \n",
        "    print('Extracting all the files now...') \n",
        "    zip.extractall() \n",
        "    print('Done!')"
      ],
      "execution_count": 5,
      "outputs": [
        {
          "output_type": "stream",
          "text": [
            "File Name                                             Modified             Size\n",
            "predictions_all_best_fold5_wn.npy              2020-06-06 10:55:12          282\n",
            "answers_all_fold5_wn.npy                       2020-06-06 10:55:12         5529\n",
            "final_accuracy_all_fold5_wn.npy                2020-06-06 10:55:12          397\n",
            "history_all_fold5_wn.npy                       2020-06-06 10:55:12         2684\n",
            "best_accuracy_all_fold5_wn.npy                 2020-06-06 10:55:12          282\n",
            "times_all_fold5_wn.npy                         2020-06-06 10:55:12          305\n",
            "predictions_all_fold5_wn.npy                   2020-06-06 10:55:12         5529\n",
            "Extracting all the files now...\n",
            "Done!\n"
          ],
          "name": "stdout"
        }
      ]
    },
    {
      "cell_type": "code",
      "metadata": {
        "id": "tj_29PT2hSoN",
        "colab_type": "code",
        "outputId": "1e6b18af-b84c-4ff5-bca1-fa7f1b6e3e7c",
        "colab": {
          "base_uri": "https://localhost:8080/",
          "height": 35
        }
      },
      "source": [
        "import numpy as np\n",
        "fnl_acc3=list(np.load('final_accuracy_all_fold1_wn.npy',allow_pickle=True).item().values())[0]\n",
        "fnl_acc5=list(np.load('final_accuracy_all_fold5_wn.npy',allow_pickle=True).item().values())[0]\n",
        "fnl_acc4=list(np.load('final_accuracy_all_fold4_wn.npy',allow_pickle=True).item().values())[0]\n",
        "fnl_acc2=list(np.load('final_accuracy_all_fold2_wn.npy',allow_pickle=True).item().values())[0]\n",
        "fnl_acc1=list(np.load('final_accuracy_all_fold1_wn.npy',allow_pickle=True).item().values())[0]\n",
        "np.mean([fnl_acc1,fnl_acc2,fnl_acc3,fnl_acc4,fnl_acc5])"
      ],
      "execution_count": 6,
      "outputs": [
        {
          "output_type": "execute_result",
          "data": {
            "text/plain": [
              "0.9352208236601267"
            ]
          },
          "metadata": {
            "tags": []
          },
          "execution_count": 6
        }
      ]
    },
    {
      "cell_type": "code",
      "metadata": {
        "id": "Y6keYSFxjQKv",
        "colab_type": "code",
        "outputId": "688b298a-de48-4559-dc49-313b198f35a5",
        "colab": {
          "base_uri": "https://localhost:8080/",
          "height": 35
        }
      },
      "source": [
        "\n",
        "fnl_acc3=list(np.load('times_all_fold1_wn.npy',allow_pickle=True).item().values())[0]\n",
        "fnl_acc5=list(np.load('times_all_fold5_wn.npy',allow_pickle=True).item().values())[0]\n",
        "fnl_acc4=list(np.load('times_all_fold4_wn.npy',allow_pickle=True).item().values())[0]\n",
        "fnl_acc2=list(np.load('times_all_fold2_wn.npy',allow_pickle=True).item().values())[0]\n",
        "fnl_acc1=list(np.load('times_all_fold1_wn.npy',allow_pickle=True).item().values())[0]\n",
        "np.mean([fnl_acc1,fnl_acc2,fnl_acc3,fnl_acc4,fnl_acc5])"
      ],
      "execution_count": 7,
      "outputs": [
        {
          "output_type": "execute_result",
          "data": {
            "text/plain": [
              "9485.65838317871"
            ]
          },
          "metadata": {
            "tags": []
          },
          "execution_count": 7
        }
      ]
    },
    {
      "cell_type": "code",
      "metadata": {
        "id": "5z_v0ygJjTv_",
        "colab_type": "code",
        "outputId": "797a0756-d16c-443b-8843-eea7bb32f944",
        "colab": {
          "base_uri": "https://localhost:8080/",
          "height": 70
        }
      },
      "source": [
        "\n",
        "\n",
        "from sklearn.metrics import confusion_matrix\n",
        "ans_1=np.load('answers_all_fold1_wn.npy',allow_pickle=True).item()\n",
        "fold_1_pre=np.load('predictions_all_fold1_wn.npy',allow_pickle=True).item()\n",
        "ans_1=list(ans_1.values())[0]\n",
        "fold_1_pre=list(fold_1_pre.values())[0]\n",
        "print(confusion_matrix(ans_1,fold_1_pre))\n",
        "\n"
      ],
      "execution_count": 8,
      "outputs": [
        {
          "output_type": "stream",
          "text": [
            "[[103   9   0]\n",
            " [  2 242   1]\n",
            " [ 16   2 167]]\n"
          ],
          "name": "stdout"
        }
      ]
    },
    {
      "cell_type": "code",
      "metadata": {
        "id": "sXzslYOflDbf",
        "colab_type": "code",
        "outputId": "30bab78f-a0b8-415c-d3cd-583e3357e802",
        "colab": {
          "base_uri": "https://localhost:8080/",
          "height": 70
        }
      },
      "source": [
        "\n",
        "ans_1=np.load('answers_all_fold2_wn.npy',allow_pickle=True).item()\n",
        "fold_1_pre=np.load('predictions_all_fold2_wn.npy',allow_pickle=True).item()\n",
        "ans_1=list(ans_1.values())[0]\n",
        "fold_1_pre=list(fold_1_pre.values())[0]\n",
        "print(confusion_matrix(ans_1,fold_1_pre))\n",
        "\n"
      ],
      "execution_count": 9,
      "outputs": [
        {
          "output_type": "stream",
          "text": [
            "[[139  16  12]\n",
            " [ 15 320   3]\n",
            " [  3   2 169]]\n"
          ],
          "name": "stdout"
        }
      ]
    },
    {
      "cell_type": "code",
      "metadata": {
        "id": "bQeRpmCTl7X0",
        "colab_type": "code",
        "outputId": "e437dee9-dc23-49da-b09b-c9ee4d13e080",
        "colab": {
          "base_uri": "https://localhost:8080/",
          "height": 70
        }
      },
      "source": [
        "\n",
        "ans_1=np.load('answers_all_fold3_wn.npy',allow_pickle=True).item()\n",
        "fold_1_pre=np.load('predictions_all_fold3_wn.npy',allow_pickle=True).item()\n",
        "ans_1=list(ans_1.values())[0]\n",
        "fold_1_pre=list(fold_1_pre.values())[0]\n",
        "print(confusion_matrix(ans_1,fold_1_pre))\n",
        "\n"
      ],
      "execution_count": 10,
      "outputs": [
        {
          "output_type": "stream",
          "text": [
            "[[129   4   6]\n",
            " [ 30 201   0]\n",
            " [  3   0 199]]\n"
          ],
          "name": "stdout"
        }
      ]
    },
    {
      "cell_type": "code",
      "metadata": {
        "id": "wRwX__s2mEVq",
        "colab_type": "code",
        "outputId": "5fd6bb8a-9ac3-442d-d498-6113dc9c8472",
        "colab": {
          "base_uri": "https://localhost:8080/",
          "height": 70
        }
      },
      "source": [
        "\n",
        "ans_1=np.load('answers_all_fold4_wn.npy',allow_pickle=True).item()\n",
        "fold_1_pre=np.load('predictions_all_fold4_wn.npy',allow_pickle=True).item()\n",
        "ans_1=list(ans_1.values())[0]\n",
        "fold_1_pre=list(fold_1_pre.values())[0]\n",
        "print(confusion_matrix(ans_1,fold_1_pre))\n",
        "\n"
      ],
      "execution_count": 11,
      "outputs": [
        {
          "output_type": "stream",
          "text": [
            "[[107  12   5]\n",
            " [  9 315   1]\n",
            " [  5   1 173]]\n"
          ],
          "name": "stdout"
        }
      ]
    },
    {
      "cell_type": "code",
      "metadata": {
        "id": "3FXRTXCzmWnh",
        "colab_type": "code",
        "outputId": "ae2cff59-e2fc-4e35-d1f9-e3a819d0de53",
        "colab": {
          "base_uri": "https://localhost:8080/",
          "height": 70
        }
      },
      "source": [
        "\n",
        "ans_1=np.load('answers_all_fold5_wn.npy',allow_pickle=True).item()\n",
        "fold_1_pre=np.load('predictions_all_fold5_wn.npy',allow_pickle=True).item()\n",
        "ans_1=list(ans_1.values())[0]\n",
        "fold_1_pre=list(fold_1_pre.values())[0]\n",
        "print(confusion_matrix(ans_1,fold_1_pre))\n",
        "\n"
      ],
      "execution_count": 12,
      "outputs": [
        {
          "output_type": "stream",
          "text": [
            "[[134   6  26]\n",
            " [ 19 268   0]\n",
            " [  2   2 186]]\n"
          ],
          "name": "stdout"
        }
      ]
    },
    {
      "cell_type": "code",
      "metadata": {
        "id": "nLhLBFFsmlTz",
        "colab_type": "code",
        "colab": {}
      },
      "source": [
        "\n",
        "history={}\n",
        "history['fold1']=np.load('history_all_fold1_wn.npy',allow_pickle=True).item()\n",
        "history['fold2']=np.load('history_all_fold2_wn.npy',allow_pickle=True).item()\n",
        "history['fold3']=np.load('history_all_fold1_wn.npy',allow_pickle=True).item()\n",
        "history['fold4']=np.load('history_all_fold4_wn.npy',allow_pickle=True).item()\n",
        "history['fold5']=np.load('history_all_fold5_wn.npy',allow_pickle=True).item()\n",
        "\n"
      ],
      "execution_count": 0,
      "outputs": []
    },
    {
      "cell_type": "code",
      "metadata": {
        "id": "bz8MV8HDlQSa",
        "colab_type": "code",
        "colab": {}
      },
      "source": [
        "history['fold3']['fold_3']=history['fold3']['fold_1']"
      ],
      "execution_count": 0,
      "outputs": []
    },
    {
      "cell_type": "code",
      "metadata": {
        "id": "ZNgXRGxGm47o",
        "colab_type": "code",
        "outputId": "27ee179b-ecbb-4eb6-92ce-b337baef112d",
        "colab": {
          "base_uri": "https://localhost:8080/",
          "height": 1000
        }
      },
      "source": [
        "from matplotlib import pyplot as plt\n",
        "for i in range(5):\n",
        "    fold='fold'+str(i+1)\n",
        "    fold1='fold_'+str(i+1)\n",
        "    plt.plot(history[fold][fold1]['accuracy'])\n",
        "    plt.title('loss for fold '+str(i))\n",
        "    plt.xlabel('epoch')\n",
        "    plt.ylabel('accuracy')\n",
        "    plt.title('Training all layers')\n",
        "    plt.show()"
      ],
      "execution_count": 18,
      "outputs": [
        {
          "output_type": "display_data",
          "data": {
            "image/png": "[encoded data removed]",
            "text/plain": [
              "<Figure size 432x288 with 1 Axes>"
            ]
          },
          "metadata": {
            "tags": [],
            "needs_background": "light"
          }
        },
        {
          "output_type": "display_data",
          "data": {
            "image/png": "[encoded data removed]",
            "text/plain": [
              "<Figure size 432x288 with 1 Axes>"
            ]
          },
          "metadata": {
            "tags": [],
            "needs_background": "light"
          }
        },
        {
          "output_type": "display_data",
          "data": {
            "image/png": "[encoded data removed]",
            "text/plain": [
              "<Figure size 432x288 with 1 Axes>"
            ]
          },
          "metadata": {
            "tags": [],
            "needs_background": "light"
          }
        },
        {
          "output_type": "display_data",
          "data": {
            "image/png": "[encoded data removed]",
            "text/plain": [
              "<Figure size 432x288 with 1 Axes>"
            ]
          },
          "metadata": {
            "tags": [],
            "needs_background": "light"
          }
        },
        {
          "output_type": "display_data",
          "data": {
            "image/png": "[encoded data removed]",
            "text/plain": [
              "<Figure size 432x288 with 1 Axes>"
            ]
          },
          "metadata": {
            "tags": [],
            "needs_background": "light"
          }
        }
      ]
    },
    {
      "cell_type": "code",
      "metadata": {
        "id": "K9YqE_Gkm6sm",
        "colab_type": "code",
        "outputId": "41fef3ee-1314-478d-fca7-67b93b62fa53",
        "colab": {
          "base_uri": "https://localhost:8080/",
          "height": 1000
        }
      },
      "source": [
        "from matplotlib import pyplot as plt\n",
        "for i in range(5):\n",
        "    fold='fold'+str(i+1)\n",
        "    fold1='fold_'+str(i+1)\n",
        "    plt.plot(history[fold][fold1]['loss'])\n",
        "    plt.title('loss for fold '+str(i))\n",
        "    plt.xlabel('epoch')\n",
        "    plt.ylabel('loss')\n",
        "    plt.title('Training all layers')\n",
        "    plt.show()"
      ],
      "execution_count": 19,
      "outputs": [
        {
          "output_type": "display_data",
          "data": {
            "image/png": "[encoded data removed]",
            "text/plain": [
              "<Figure size 432x288 with 1 Axes>"
            ]
          },
          "metadata": {
            "tags": [],
            "needs_background": "light"
          }
        },
        {
          "output_type": "display_data",
          "data": {
            "image/png": "[encoded data removed]",
            "text/plain": [
              "<Figure size 432x288 with 1 Axes>"
            ]
          },
          "metadata": {
            "tags": [],
            "needs_background": "light"
          }
        },
        {
          "output_type": "display_data",
          "data": {
            "image/png": "[encoded data removed]",
            "text/plain": [
              "<Figure size 432x288 with 1 Axes>"
            ]
          },
          "metadata": {
            "tags": [],
            "needs_background": "light"
          }
        },
        {
          "output_type": "display_data",
          "data": {
            "image/png": "[encoded data removed]",
            "text/plain": [
              "<Figure size 432x288 with 1 Axes>"
            ]
          },
          "metadata": {
            "tags": [],
            "needs_background": "light"
          }
        },
        {
          "output_type": "display_data",
          "data": {
            "image/png": "[encoded data removed]",
            "text/plain": [
              "<Figure size 432x288 with 1 Axes>"
            ]
          },
          "metadata": {
            "tags": [],
            "needs_background": "light"
          }
        }
      ]
    },
    {
      "cell_type": "code",
      "metadata": {
        "id": "qlXSp2KQnGjK",
        "colab_type": "code",
        "colab": {}
      },
      "source": [
        ""
      ],
      "execution_count": 0,
      "outputs": []
    }
  ]
}