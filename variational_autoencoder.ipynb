{
  "nbformat": 4,
  "nbformat_minor": 0,
  "metadata": {
    "colab": {
      "name": "variational_autoencoder.ipynb",
      "provenance": [],
      "authorship_tag": "ABX9TyOXzMnQVwdGpC1A4yA/O/I8",
      "include_colab_link": true
    },
    "kernelspec": {
      "name": "python3",
      "display_name": "Python 3"
    }
  },
  "cells": [
    {
      "cell_type": "markdown",
      "metadata": {
        "id": "view-in-github",
        "colab_type": "text"
      },
      "source": [
        "<a href=\"https://colab.research.google.com/github/greyhound101/Brain_tumour/blob/master/variational_autoencoder.ipynb\" target=\"_parent\"><img src=\"https://colab.research.google.com/assets/colab-badge.svg\" alt=\"Open In Colab\"/></a>"
      ]
    },
    {
      "cell_type": "code",
      "metadata": {
        "id": "w_nRmsl4HKnH",
        "outputId": "866d62a3-f6d8-4bff-d803-fda6ad1d3562",
        "colab": {
          "base_uri": "https://localhost:8080/",
          "height": 53
        }
      },
      "source": [
        "from google.colab import drive\n",
        "drive.mount('/content/gdrive')\n",
        "drive.mount(\"/content/gdrive\", force_remount=True)"
      ],
      "execution_count": 37,
      "outputs": [
        {
          "output_type": "stream",
          "text": [
            "Mounted at /content/gdrive\n",
            "Mounted at /content/gdrive\n"
          ],
          "name": "stdout"
        }
      ]
    },
    {
      "cell_type": "code",
      "metadata": {
        "id": "ns6OdoG4FF7E"
      },
      "source": [
        "import copy\n",
        "from datetime import timedelta, datetime\n",
        "import imageio\n",
        "import matplotlib.pyplot as plt\n",
        "from matplotlib import cm\n",
        "import multiprocessing\n",
        "import numpy as np\n",
        "import os\n",
        "from pathlib import Path\n",
        "import pytest\n",
        "import scipy.ndimage as ndimage\n",
        "from scipy.ndimage.interpolation import zoom\n",
        "from skimage import measure, morphology, segmentation\n",
        "from time import time, sleep\n",
        "from tqdm import trange, tqdm\n",
        "from torchvision import transforms\n",
        "import warnings\n",
        "import scipy"
      ],
      "execution_count": 38,
      "outputs": []
    },
    {
      "cell_type": "code",
      "metadata": {
        "id": "XP1oaaIRFzhP"
      },
      "source": [
        "import glob\n",
        "image_paths=glob.glob('/content/gdrive/My Drive/ID*_segmented')\n",
        "ids=[i.split('/')[-1].split('_')[0] for i in image_paths]"
      ],
      "execution_count": 39,
      "outputs": []
    },
    {
      "cell_type": "code",
      "metadata": {
        "id": "1ERrLmlNGOjc",
        "outputId": "0fce4b27-eec6-4b67-92a5-1be66ff39d12",
        "colab": {
          "base_uri": "https://localhost:8080/",
          "height": 92
        }
      },
      "source": [
        "import pandas as pd\n",
        "train = pd.read_csv('/content/gdrive/My Drive/lungs/train.csv') \n",
        "def get_tab(df):\n",
        "    vector = [(df.Age.values[0] - 30) / 30] \n",
        "    \n",
        "    if df.Sex.values[0] == 'male':\n",
        "       vector.append(0)\n",
        "    else:\n",
        "       vector.append(1)\n",
        "    \n",
        "    if df.SmokingStatus.values[0] == 'Never smoked':\n",
        "        vector.extend([0,0])\n",
        "    elif df.SmokingStatus.values[0] == 'Ex-smoker':\n",
        "        vector.extend([1,1])\n",
        "    elif df.SmokingStatus.values[0] == 'Currently smokes':\n",
        "        vector.extend([0,1])\n",
        "    else:\n",
        "        vector.extend([1,0])\n",
        "    return np.array(vector) \n",
        "A = {} \n",
        "TAB = {} \n",
        "P = [] \n",
        "for i, p in tqdm(enumerate(ids)):\n",
        "    sub = train.loc[train.Patient == p, :] \n",
        "    fvc = sub.FVC.values\n",
        "    weeks = sub.Weeks.values\n",
        "    c = np.vstack([weeks, np.ones(len(weeks))]).T\n",
        "    a, b = np.linalg.lstsq(c, fvc)[0]\n",
        "    \n",
        "    A[p] = a\n",
        "    TAB[p] = get_tab(sub)\n",
        "    P.append(p)"
      ],
      "execution_count": 40,
      "outputs": [
        {
          "output_type": "stream",
          "text": [
            "0it [00:00, ?it/s]/usr/local/lib/python3.6/dist-packages/ipykernel_launcher.py:28: FutureWarning: `rcond` parameter will change to the default of machine precision times ``max(M, N)`` where M and N are the input matrix dimensions.\n",
            "To use the future default and silence this warning we advise to pass `rcond=None`, to keep using the old, explicitly pass `rcond=-1`.\n",
            "174it [00:00, 675.62it/s]\n"
          ],
          "name": "stderr"
        }
      ]
    },
    {
      "cell_type": "code",
      "metadata": {
        "id": "hnF8-zAUGVd_"
      },
      "source": [
        "from tensorflow.keras.utils import Sequence\n",
        "class IGenerator(Sequence):\n",
        "    def __init__(self, ids,a,image_paths, tab, batch_size=32):\n",
        "        self.keys = ids\n",
        "        self.a = a\n",
        "        self.tab = tab\n",
        "        self.batch_size = batch_size\n",
        "        self.image_paths=image_paths\n",
        "        self.train_data = {}\n",
        "        \n",
        "    def __len__(self):\n",
        "        return 2000\n",
        "    \n",
        "    def __getitem__(self, idx):\n",
        "        x= []\n",
        "        a, tab = [], [] \n",
        "        keys = np.random.choice(self.keys, size = self.batch_size)\n",
        "        for k in keys:\n",
        "            #try:\n",
        "                chosen_idx=self.keys.index(k)\n",
        "                chosen_path=self.image_paths[chosen_idx]+'/image.npy'\n",
        "                print(k==chosen_path.split('/')[-2].split('_')[0])\n",
        "                img=np.load(chosen_path)\n",
        "                x.append(img)\n",
        "                a.append(self.a[k])\n",
        "                tab.append(self.tab[k])\n",
        "            \n",
        "        x,a,tab = np.array(x), np.array(a), np.array(tab)\n",
        "        x = np.expand_dims(x, axis=-1)\n",
        "        return [x, tab] , [x,a]"
      ],
      "execution_count": 70,
      "outputs": []
    },
    {
      "cell_type": "code",
      "metadata": {
        "id": "Txpz-ac3Kea4"
      },
      "source": [
        ""
      ],
      "execution_count": null,
      "outputs": []
    }
  ]
}