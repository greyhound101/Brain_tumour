{
  "nbformat": 4,
  "nbformat_minor": 0,
  "metadata": {
    "colab": {
      "name": "embedding_difference_512_e2.ipynb",
      "provenance": [],
      "authorship_tag": "ABX9TyNu1NVZPorpnfbz3e5DAfm5",
      "include_colab_link": true
    },
    "kernelspec": {
      "name": "python3",
      "display_name": "Python 3"
    }
  },
  "cells": [
    {
      "cell_type": "markdown",
      "metadata": {
        "id": "view-in-github",
        "colab_type": "text"
      },
      "source": [
        "<a href=\"https://colab.research.google.com/github/greyhound101/Brain_tumour/blob/master/embedding_difference_512_e2.ipynb\" target=\"_parent\"><img src=\"https://colab.research.google.com/assets/colab-badge.svg\" alt=\"Open In Colab\"/></a>"
      ]
    },
    {
      "cell_type": "code",
      "metadata": {
        "id": "hircqex3xTGT",
        "outputId": "35b41e8b-8a57-439c-ca3c-418b33117fdd",
        "colab": {
          "base_uri": "https://localhost:8080/",
          "height": 53
        }
      },
      "source": [
        "from google.colab import drive\n",
        "drive.mount('/content/gdrive')\n",
        "drive.mount(\"/content/gdrive\", force_remount=True)"
      ],
      "execution_count": 1,
      "outputs": [
        {
          "output_type": "stream",
          "text": [
            "Drive already mounted at /content/gdrive; to attempt to forcibly remount, call drive.mount(\"/content/gdrive\", force_remount=True).\n",
            "Mounted at /content/gdrive\n"
          ],
          "name": "stdout"
        }
      ]
    },
    {
      "cell_type": "code",
      "metadata": {
        "id": "KLXPjLDL0L5E",
        "outputId": "21abaa77-3ab2-46b8-e1df-ed036f7c55d4",
        "colab": {
          "base_uri": "https://localhost:8080/",
          "height": 35
        }
      },
      "source": [
        "pip install pydicom"
      ],
      "execution_count": 2,
      "outputs": [
        {
          "output_type": "stream",
          "text": [
            "Requirement already satisfied: pydicom in /usr/local/lib/python3.6/dist-packages (2.0.0)\n"
          ],
          "name": "stdout"
        }
      ]
    },
    {
      "cell_type": "code",
      "metadata": {
        "id": "KdCUrKuFAqIU",
        "outputId": "54c78112-9daa-49a5-ae38-99a1c1d5a487",
        "colab": {
          "base_uri": "https://localhost:8080/",
          "height": 709
        }
      },
      "source": [
        "pip install tensorflow==2.2.0"
      ],
      "execution_count": 3,
      "outputs": [
        {
          "output_type": "stream",
          "text": [
            "Requirement already satisfied: tensorflow==2.2.0 in /usr/local/lib/python3.6/dist-packages (2.2.0)\n",
            "Requirement already satisfied: gast==0.3.3 in /usr/local/lib/python3.6/dist-packages (from tensorflow==2.2.0) (0.3.3)\n",
            "Requirement already satisfied: astunparse==1.6.3 in /usr/local/lib/python3.6/dist-packages (from tensorflow==2.2.0) (1.6.3)\n",
            "Requirement already satisfied: opt-einsum>=2.3.2 in /usr/local/lib/python3.6/dist-packages (from tensorflow==2.2.0) (3.3.0)\n",
            "Requirement already satisfied: tensorboard<2.3.0,>=2.2.0 in /usr/local/lib/python3.6/dist-packages (from tensorflow==2.2.0) (2.2.2)\n",
            "Requirement already satisfied: google-pasta>=0.1.8 in /usr/local/lib/python3.6/dist-packages (from tensorflow==2.2.0) (0.2.0)\n",
            "Requirement already satisfied: tensorflow-estimator<2.3.0,>=2.2.0 in /usr/local/lib/python3.6/dist-packages (from tensorflow==2.2.0) (2.2.0)\n",
            "Requirement already satisfied: termcolor>=1.1.0 in /usr/local/lib/python3.6/dist-packages (from tensorflow==2.2.0) (1.1.0)\n",
            "Requirement already satisfied: six>=1.12.0 in /usr/local/lib/python3.6/dist-packages (from tensorflow==2.2.0) (1.15.0)\n",
            "Requirement already satisfied: protobuf>=3.8.0 in /usr/local/lib/python3.6/dist-packages (from tensorflow==2.2.0) (3.12.4)\n",
            "Requirement already satisfied: grpcio>=1.8.6 in /usr/local/lib/python3.6/dist-packages (from tensorflow==2.2.0) (1.32.0)\n",
            "Requirement already satisfied: numpy<2.0,>=1.16.0 in /usr/local/lib/python3.6/dist-packages (from tensorflow==2.2.0) (1.18.5)\n",
            "Requirement already satisfied: wheel>=0.26; python_version >= \"3\" in /usr/local/lib/python3.6/dist-packages (from tensorflow==2.2.0) (0.35.1)\n",
            "Requirement already satisfied: wrapt>=1.11.1 in /usr/local/lib/python3.6/dist-packages (from tensorflow==2.2.0) (1.12.1)\n",
            "Requirement already satisfied: scipy==1.4.1; python_version >= \"3\" in /usr/local/lib/python3.6/dist-packages (from tensorflow==2.2.0) (1.4.1)\n",
            "Requirement already satisfied: absl-py>=0.7.0 in /usr/local/lib/python3.6/dist-packages (from tensorflow==2.2.0) (0.10.0)\n",
            "Requirement already satisfied: h5py<2.11.0,>=2.10.0 in /usr/local/lib/python3.6/dist-packages (from tensorflow==2.2.0) (2.10.0)\n",
            "Requirement already satisfied: keras-preprocessing>=1.1.0 in /usr/local/lib/python3.6/dist-packages (from tensorflow==2.2.0) (1.1.2)\n",
            "Requirement already satisfied: google-auth<2,>=1.6.3 in /usr/local/lib/python3.6/dist-packages (from tensorboard<2.3.0,>=2.2.0->tensorflow==2.2.0) (1.17.2)\n",
            "Requirement already satisfied: setuptools>=41.0.0 in /usr/local/lib/python3.6/dist-packages (from tensorboard<2.3.0,>=2.2.0->tensorflow==2.2.0) (50.3.0)\n",
            "Requirement already satisfied: tensorboard-plugin-wit>=1.6.0 in /usr/local/lib/python3.6/dist-packages (from tensorboard<2.3.0,>=2.2.0->tensorflow==2.2.0) (1.7.0)\n",
            "Requirement already satisfied: werkzeug>=0.11.15 in /usr/local/lib/python3.6/dist-packages (from tensorboard<2.3.0,>=2.2.0->tensorflow==2.2.0) (1.0.1)\n",
            "Requirement already satisfied: google-auth-oauthlib<0.5,>=0.4.1 in /usr/local/lib/python3.6/dist-packages (from tensorboard<2.3.0,>=2.2.0->tensorflow==2.2.0) (0.4.1)\n",
            "Requirement already satisfied: markdown>=2.6.8 in /usr/local/lib/python3.6/dist-packages (from tensorboard<2.3.0,>=2.2.0->tensorflow==2.2.0) (3.2.2)\n",
            "Requirement already satisfied: requests<3,>=2.21.0 in /usr/local/lib/python3.6/dist-packages (from tensorboard<2.3.0,>=2.2.0->tensorflow==2.2.0) (2.23.0)\n",
            "Requirement already satisfied: pyasn1-modules>=0.2.1 in /usr/local/lib/python3.6/dist-packages (from google-auth<2,>=1.6.3->tensorboard<2.3.0,>=2.2.0->tensorflow==2.2.0) (0.2.8)\n",
            "Requirement already satisfied: cachetools<5.0,>=2.0.0 in /usr/local/lib/python3.6/dist-packages (from google-auth<2,>=1.6.3->tensorboard<2.3.0,>=2.2.0->tensorflow==2.2.0) (4.1.1)\n",
            "Requirement already satisfied: rsa<5,>=3.1.4; python_version >= \"3\" in /usr/local/lib/python3.6/dist-packages (from google-auth<2,>=1.6.3->tensorboard<2.3.0,>=2.2.0->tensorflow==2.2.0) (4.6)\n",
            "Requirement already satisfied: requests-oauthlib>=0.7.0 in /usr/local/lib/python3.6/dist-packages (from google-auth-oauthlib<0.5,>=0.4.1->tensorboard<2.3.0,>=2.2.0->tensorflow==2.2.0) (1.3.0)\n",
            "Requirement already satisfied: importlib-metadata; python_version < \"3.8\" in /usr/local/lib/python3.6/dist-packages (from markdown>=2.6.8->tensorboard<2.3.0,>=2.2.0->tensorflow==2.2.0) (2.0.0)\n",
            "Requirement already satisfied: certifi>=2017.4.17 in /usr/local/lib/python3.6/dist-packages (from requests<3,>=2.21.0->tensorboard<2.3.0,>=2.2.0->tensorflow==2.2.0) (2020.6.20)\n",
            "Requirement already satisfied: idna<3,>=2.5 in /usr/local/lib/python3.6/dist-packages (from requests<3,>=2.21.0->tensorboard<2.3.0,>=2.2.0->tensorflow==2.2.0) (2.10)\n",
            "Requirement already satisfied: chardet<4,>=3.0.2 in /usr/local/lib/python3.6/dist-packages (from requests<3,>=2.21.0->tensorboard<2.3.0,>=2.2.0->tensorflow==2.2.0) (3.0.4)\n",
            "Requirement already satisfied: urllib3!=1.25.0,!=1.25.1,<1.26,>=1.21.1 in /usr/local/lib/python3.6/dist-packages (from requests<3,>=2.21.0->tensorboard<2.3.0,>=2.2.0->tensorflow==2.2.0) (1.24.3)\n",
            "Requirement already satisfied: pyasn1<0.5.0,>=0.4.6 in /usr/local/lib/python3.6/dist-packages (from pyasn1-modules>=0.2.1->google-auth<2,>=1.6.3->tensorboard<2.3.0,>=2.2.0->tensorflow==2.2.0) (0.4.8)\n",
            "Requirement already satisfied: oauthlib>=3.0.0 in /usr/local/lib/python3.6/dist-packages (from requests-oauthlib>=0.7.0->google-auth-oauthlib<0.5,>=0.4.1->tensorboard<2.3.0,>=2.2.0->tensorflow==2.2.0) (3.1.0)\n",
            "Requirement already satisfied: zipp>=0.5 in /usr/local/lib/python3.6/dist-packages (from importlib-metadata; python_version < \"3.8\"->markdown>=2.6.8->tensorboard<2.3.0,>=2.2.0->tensorflow==2.2.0) (3.2.0)\n"
          ],
          "name": "stdout"
        }
      ]
    },
    {
      "cell_type": "code",
      "metadata": {
        "id": "w2wW7Lzjw4oJ"
      },
      "source": [
        "import numpy as np\n",
        "import pandas as pd\n",
        "import pydicom\n",
        "import os\n",
        "import random\n",
        "import matplotlib.pyplot as plt\n",
        "from tqdm import tqdm\n",
        "from PIL import Image\n",
        "from sklearn.metrics import mean_absolute_error\n",
        "from sklearn.model_selection import KFold\n",
        "import tensorflow as tf\n",
        "import tensorflow.keras.backend as K\n",
        "import tensorflow.keras.layers as L\n",
        "import tensorflow.keras.models as M"
      ],
      "execution_count": 4,
      "outputs": []
    },
    {
      "cell_type": "code",
      "metadata": {
        "id": "GxtHz0Pjw8OJ",
        "outputId": "a6b17936-f2eb-46f8-ddb8-41ff6cee1547",
        "colab": {
          "base_uri": "https://localhost:8080/",
          "height": 53
        }
      },
      "source": [
        "\n",
        "\n",
        "def seed_everything(seed=2020):\n",
        "    random.seed(seed)\n",
        "    os.environ['PYTHONHASHSEED'] = str(seed)\n",
        "    np.random.seed(seed)\n",
        "    tf.random.set_seed(seed)\n",
        "    \n",
        "seed_everything(42)\n",
        "ROOT = \"/content/gdrive/My Drive/lungs\"\n",
        "BATCH_SIZE=128\n",
        "a = pd.read_csv(f\"{ROOT}/sample_submission.csv\")\n",
        "a['Patient']=a['Patient_Week'].apply(lambda x:x.split('_')[0])\n",
        "tr = pd.read_csv(f\"{ROOT}/train.csv\")\n",
        "\n",
        "tr = pd.read_csv(f\"{ROOT}/train.csv\")\n",
        "tr.drop_duplicates(keep=False, inplace=True, subset=['Patient','Weeks'])\n",
        "chunk = pd.read_csv(f\"{ROOT}/test.csv\")\n",
        "\n",
        "\n",
        "sub = pd.read_csv(f\"{ROOT}/sample_submission.csv\")\n",
        "sub['Patient'] = sub['Patient_Week'].apply(lambda x:x.split('_')[0])\n",
        "sub['Weeks'] = sub['Patient_Week'].apply(lambda x: int(x.split('_')[-1]))\n",
        "sub =  sub[['Patient','Weeks','Confidence','Patient_Week']]\n",
        "sub = sub.merge(chunk.drop('Weeks', axis=1), on=\"Patient\")\n",
        "\n",
        "tr['WHERE'] = 'train'\n",
        "chunk['WHERE'] = 'val'\n",
        "sub['WHERE'] = 'test'\n",
        "total = tr.append([chunk, sub])\n",
        "\n",
        "print(tr.shape, chunk.shape, sub.shape, total.shape)\n",
        "print(tr.Patient.nunique(), chunk.Patient.nunique(), sub.Patient.nunique(), \n",
        "      total.Patient.nunique())\n",
        "\n"
      ],
      "execution_count": 5,
      "outputs": [
        {
          "output_type": "stream",
          "text": [
            "(1535, 8) (5, 8) (730, 10) (2270, 10)\n",
            "176 5 5 176\n"
          ],
          "name": "stdout"
        }
      ]
    },
    {
      "cell_type": "code",
      "metadata": {
        "id": "6tSzLumvw8LG"
      },
      "source": [
        "import warnings\n",
        "warnings.filterwarnings('ignore')"
      ],
      "execution_count": 6,
      "outputs": []
    },
    {
      "cell_type": "code",
      "metadata": {
        "id": "HxMvh616w8Hv",
        "outputId": "1f1db2db-31a7-4a18-8a3e-73ed380713ad",
        "colab": {
          "base_uri": "https://localhost:8080/",
          "height": 35
        }
      },
      "source": [
        "\n",
        "\n",
        "from tqdm import tqdm\n",
        "i=0\n",
        "for patient,sudo in tqdm(total.groupby(['Patient'])):\n",
        "    for limit in sudo['Weeks'].unique():\n",
        "        data=sudo.loc[sudo['Weeks']>=limit]\n",
        "        data['difference']=data['Weeks']-limit\n",
        "        data['min_week'] = data['Weeks']\n",
        "        data.loc[data.WHERE=='test','min_week'] = np.nan\n",
        "        data['min_week'] = data.groupby('Patient')['min_week'].transform('min')\n",
        "        base = data.loc[data.Weeks == data.min_week]\n",
        "        base = base[['Patient','FVC']].copy()\n",
        "        base.columns = ['Patient','min_FVC']\n",
        "        base['nb'] = 1\n",
        "        base['nb'] = base.groupby('Patient')['nb'].transform('cumsum')\n",
        "        base = base[base.nb==1]\n",
        "        base.drop('nb', axis=1, inplace=True)\n",
        "        data = data.merge(base, on='Patient', how='left')\n",
        "        data['base_week'] = data['Weeks'] - data['min_week']\n",
        "        COLS = ['Sex','SmokingStatus'] #,'Age'\n",
        "        FE = []\n",
        "        data['age'] = (data['Age'] - data['Age'].min() ) \n",
        "        data['BASE'] = (data['min_FVC'] - data['min_FVC'].min() ) \n",
        "        data['week'] = (data['base_week'] - data['base_week'].min() ) \n",
        "        data['percent'] = (data['Percent'] - data['Percent'].min() ) \n",
        "        FE += ['age','percent','week','BASE']\n",
        "        if sum(data[FE].isna().sum().values) >0 and not all(data['WHERE']=='test'):\n",
        "            print(limit,patient,data[FE].isna().sum().values)\n",
        "        i+=1\n",
        "        if i==1:\n",
        "            augmented=data\n",
        "        else:\n",
        "            augmented=pd.concat([augmented,data],0)\n",
        "\n"
      ],
      "execution_count": 7,
      "outputs": [
        {
          "output_type": "stream",
          "text": [
            "100%|██████████| 176/176 [01:03<00:00,  2.77it/s]\n"
          ],
          "name": "stderr"
        }
      ]
    },
    {
      "cell_type": "code",
      "metadata": {
        "id": "Gsxi0V2kw8E9"
      },
      "source": [
        "augmented['i']=list(range(augmented.shape[0]))"
      ],
      "execution_count": 8,
      "outputs": []
    },
    {
      "cell_type": "code",
      "metadata": {
        "id": "nB_FdGkLw8Bz"
      },
      "source": [
        "FE=['Male','Female','Ex-smoker','Never smoked','Currently smokes']\n",
        "FE += ['age','percent','week','BASE']"
      ],
      "execution_count": 9,
      "outputs": []
    },
    {
      "cell_type": "code",
      "metadata": {
        "id": "I_HFnDlAw7-4"
      },
      "source": [
        "for col in COLS:\n",
        "    for mod in augmented[col].unique():\n",
        "        FE.append(mod)\n",
        "        augmented[mod] = (augmented[col] == mod).astype(int)"
      ],
      "execution_count": 10,
      "outputs": []
    },
    {
      "cell_type": "code",
      "metadata": {
        "id": "b5ztN_IPw78A"
      },
      "source": [
        "augmented['Patient_Week']=augmented['Patient'].astype(str)+'_'+augmented['Weeks'].astype(str)"
      ],
      "execution_count": 11,
      "outputs": []
    },
    {
      "cell_type": "code",
      "metadata": {
        "id": "y1nkM6I9w75a"
      },
      "source": [
        "sub1 = augmented.loc[augmented.WHERE=='test']"
      ],
      "execution_count": 12,
      "outputs": []
    },
    {
      "cell_type": "code",
      "metadata": {
        "id": "UhRXvFYew72T"
      },
      "source": [
        "augmented['age'] = (augmented['Age']  ) / ( augmented['Age'].max() - augmented['Age'].min() )\n",
        "augmented['BASE'] = (augmented['min_FVC']  ) / ( augmented['min_FVC'].max() - augmented['min_FVC'].min() )\n",
        "augmented['week'] = (augmented['base_week']  ) / ( augmented['base_week'].max() - augmented['base_week'].min() )\n",
        "augmented['difference'] = (augmented['difference']  ) / ( augmented['difference'].max() - augmented['difference'].min() )\n",
        "augmented['percent'] = (augmented['Percent']  ) / ( augmented['Percent'].max() - augmented['Percent'].min() )"
      ],
      "execution_count": 13,
      "outputs": []
    },
    {
      "cell_type": "code",
      "metadata": {
        "id": "fRfqhF0Pw70a"
      },
      "source": [
        "\n",
        "\n",
        "tr = augmented.loc[augmented.WHERE=='train']\n",
        "chunk = augmented.loc[augmented.WHERE=='val']\n",
        "sub = augmented.loc[augmented.WHERE=='test']\n",
        "\n"
      ],
      "execution_count": 14,
      "outputs": []
    },
    {
      "cell_type": "code",
      "metadata": {
        "id": "SawWq8Kpw7xp",
        "outputId": "85cc06e8-babb-4a08-eecd-1a31b7a1bf9f",
        "colab": {
          "base_uri": "https://localhost:8080/",
          "height": 35
        }
      },
      "source": [
        "for en,(i,data) in tqdm(enumerate(sub1.groupby(['Patient_Week']))):\n",
        "    sm=sum(data['difference'])\n",
        "    data['difference']=data['difference']/sm\n",
        "    data=data.sort_values(by='difference')\n",
        "    data['difference']=data['difference'].values[::-1]\n",
        "    if en==0:\n",
        "        total=data\n",
        "    else:\n",
        "        total=pd.concat([total,data],0)"
      ],
      "execution_count": 15,
      "outputs": [
        {
          "output_type": "stream",
          "text": [
            "730it [00:13, 56.07it/s]\n"
          ],
          "name": "stderr"
        }
      ]
    },
    {
      "cell_type": "code",
      "metadata": {
        "id": "ViUmMYPHw7ua",
        "outputId": "b8103931-1f4b-461c-b36b-35f84e53de26",
        "colab": {
          "base_uri": "https://localhost:8080/",
          "height": 35
        }
      },
      "source": [
        "import gc\n",
        "del sub1\n",
        "gc.collect()"
      ],
      "execution_count": 16,
      "outputs": [
        {
          "output_type": "execute_result",
          "data": {
            "text/plain": [
              "0"
            ]
          },
          "metadata": {
            "tags": []
          },
          "execution_count": 16
        }
      ]
    },
    {
      "cell_type": "code",
      "metadata": {
        "id": "TcrVlXi9w7rR",
        "outputId": "8de9f873-abb7-4a43-b5fc-d687cc2f6ef3",
        "colab": {
          "base_uri": "https://localhost:8080/",
          "height": 35
        }
      },
      "source": [
        "tr.shape, chunk.shape, sub.shape"
      ],
      "execution_count": 17,
      "outputs": [
        {
          "output_type": "execute_result",
          "data": {
            "text/plain": [
              "((8928, 24), (109, 24), (53655, 24))"
            ]
          },
          "metadata": {
            "tags": []
          },
          "execution_count": 17
        }
      ]
    },
    {
      "cell_type": "code",
      "metadata": {
        "id": "lXlGDu41w7oq",
        "outputId": "c4062c01-922e-4014-f8d4-7b96db45552a",
        "colab": {
          "base_uri": "https://localhost:8080/",
          "height": 90
        }
      },
      "source": [
        "\n",
        "\n",
        "print(sub.shape)\n",
        "print(total.shape)\n",
        "sub=sub.dropna(subset=FE)\n",
        "total=total.dropna(subset=['week','BASE'])\n",
        "print(sub.shape)\n",
        "print(total.shape)\n",
        "\n"
      ],
      "execution_count": 18,
      "outputs": [
        {
          "output_type": "stream",
          "text": [
            "(53655, 24)\n",
            "(53655, 24)\n",
            "(39188, 24)\n",
            "(39188, 24)\n"
          ],
          "name": "stdout"
        }
      ]
    },
    {
      "cell_type": "code",
      "metadata": {
        "id": "4Azts5Uw2q4b",
        "outputId": "ce16baba-9e8f-49af-e4eb-f2d5edab7de5",
        "colab": {
          "base_uri": "https://localhost:8080/",
          "height": 35
        }
      },
      "source": [
        "sub['difference'].nunique()"
      ],
      "execution_count": 19,
      "outputs": [
        {
          "output_type": "execute_result",
          "data": {
            "text/plain": [
              "146"
            ]
          },
          "metadata": {
            "tags": []
          },
          "execution_count": 19
        }
      ]
    },
    {
      "cell_type": "code",
      "metadata": {
        "id": "jcKrtydHw7l0",
        "outputId": "c2421950-af46-4bb8-f854-7702e00bf02d",
        "colab": {
          "base_uri": "https://localhost:8080/",
          "height": 671
        }
      },
      "source": [
        "\n",
        "from tensorflow.keras.regularizers import *\n",
        "C1, C2 = tf.constant(70, dtype='float32'), tf.constant(1000, dtype=\"float32\")\n",
        "#=============================#\n",
        "def score(y_true, y_pred):\n",
        "    tf.dtypes.cast(y_true, tf.float32)\n",
        "    tf.dtypes.cast(y_pred, tf.float32)\n",
        "    sigma = y_pred[:, 2] - y_pred[:, 0]\n",
        "    fvc_pred = y_pred[:, 1]\n",
        "    \n",
        "    #sigma_clip = sigma + C1\n",
        "    sigma_clip = tf.maximum(sigma, C1)\n",
        "    delta = tf.abs(y_true[:, 0] - fvc_pred)\n",
        "    delta = tf.minimum(delta, C2)\n",
        "    sq2 = tf.sqrt( tf.dtypes.cast(2, dtype=tf.float32) )\n",
        "    metric = (delta / sigma_clip)*sq2 + tf.math.log(sigma_clip* sq2)\n",
        "    return K.mean(metric)\n",
        "#============================#\n",
        "def qloss(y_true, y_pred):\n",
        "    # Pinball loss for multiple quantiles\n",
        "    qs = [0.2, 0.50, 0.8]\n",
        "    q = tf.constant(np.array([qs]), dtype=tf.float32)\n",
        "    e = y_true - y_pred\n",
        "    v = tf.maximum(q*e, (q-1)*e)\n",
        "    return K.mean(v)\n",
        "#=============================#\n",
        "def mloss(_lambda):\n",
        "    def loss(y_true, y_pred):\n",
        "        return _lambda * qloss(y_true, y_pred) + (1 - _lambda)*score(y_true, y_pred)\n",
        "    return loss\n",
        "#=================\n",
        "def make_model(nh):\n",
        "    z = L.Input((nh,), name=\"Patient\")\n",
        "    emb = L.Input((1,))\n",
        "    emb1 = L.Embedding(input_dim=147,output_dim=512,embeddings_regularizer=l2(1e-2))(emb)\n",
        "    c = L.Concatenate()([z,L.Flatten()(emb1)])\n",
        "    x = L.Dense(100, activation=\"relu\", name=\"d1\")(c)\n",
        "    x = L.Dropout(0.2)(x)\n",
        "    x = L.Dense(100, activation=\"relu\", name=\"d2\")(x)\n",
        "    x = L.Dropout(0.2)(x)\n",
        "    #x = L.Dense(100, activation=\"relu\", name=\"d3\")(x)\n",
        "    p1 = L.Dense(3, activation=\"linear\", name=\"p1\")(x)\n",
        "    p2 = L.Dense(3, activation=\"relu\", name=\"p2\")(x)\n",
        "    preds = L.Lambda(lambda x: x[0] + tf.cumsum(x[1], axis=1), \n",
        "                     name=\"preds\")([p1, p2])\n",
        "    \n",
        "    model = M.Model([z,emb], preds, name=\"CNN\")\n",
        "    #model.compile(loss=qloss, optimizer=\"adam\", metrics=[score])\n",
        "    model.compile(loss=mloss(0.8), optimizer=tf.keras.optimizers.Adam(lr=0.1, beta_1=0.9, beta_2=0.999, epsilon=None, decay=0.01, amsgrad=False), metrics=[score])\n",
        "    return model\n",
        "\n",
        "y = tr['FVC'].values\n",
        "z = tr[FE].values\n",
        "ze = sub[FE].values\n",
        "nh = z.shape[1]\n",
        "pe = np.zeros((ze.shape[0], 3))\n",
        "pred = np.zeros((z.shape[0], 3))\n",
        "\n",
        "net = make_model(nh)\n",
        "print(net.summary())\n",
        "print(net.count_params())"
      ],
      "execution_count": 20,
      "outputs": [
        {
          "output_type": "stream",
          "text": [
            "Model: \"CNN\"\n",
            "__________________________________________________________________________________________________\n",
            "Layer (type)                    Output Shape         Param #     Connected to                     \n",
            "==================================================================================================\n",
            "input_1 (InputLayer)            [(None, 1)]          0                                            \n",
            "__________________________________________________________________________________________________\n",
            "embedding (Embedding)           (None, 1, 512)       75264       input_1[0][0]                    \n",
            "__________________________________________________________________________________________________\n",
            "Patient (InputLayer)            [(None, 14)]         0                                            \n",
            "__________________________________________________________________________________________________\n",
            "flatten (Flatten)               (None, 512)          0           embedding[0][0]                  \n",
            "__________________________________________________________________________________________________\n",
            "concatenate (Concatenate)       (None, 526)          0           Patient[0][0]                    \n",
            "                                                                 flatten[0][0]                    \n",
            "__________________________________________________________________________________________________\n",
            "d1 (Dense)                      (None, 100)          52700       concatenate[0][0]                \n",
            "__________________________________________________________________________________________________\n",
            "dropout (Dropout)               (None, 100)          0           d1[0][0]                         \n",
            "__________________________________________________________________________________________________\n",
            "d2 (Dense)                      (None, 100)          10100       dropout[0][0]                    \n",
            "__________________________________________________________________________________________________\n",
            "dropout_1 (Dropout)             (None, 100)          0           d2[0][0]                         \n",
            "__________________________________________________________________________________________________\n",
            "p1 (Dense)                      (None, 3)            303         dropout_1[0][0]                  \n",
            "__________________________________________________________________________________________________\n",
            "p2 (Dense)                      (None, 3)            303         dropout_1[0][0]                  \n",
            "__________________________________________________________________________________________________\n",
            "preds (Lambda)                  (None, 3)            0           p1[0][0]                         \n",
            "                                                                 p2[0][0]                         \n",
            "==================================================================================================\n",
            "Total params: 138,670\n",
            "Trainable params: 138,670\n",
            "Non-trainable params: 0\n",
            "__________________________________________________________________________________________________\n",
            "None\n",
            "138670\n"
          ],
          "name": "stdout"
        }
      ]
    },
    {
      "cell_type": "code",
      "metadata": {
        "id": "I2hIatd_xZM-"
      },
      "source": [
        "NFOLD = 5\n",
        "kf = KFold(n_splits=NFOLD)"
      ],
      "execution_count": 21,
      "outputs": []
    },
    {
      "cell_type": "code",
      "metadata": {
        "id": "iESuINQk-WmU",
        "outputId": "b642d687-a4cc-4069-fdfa-85841733b4f3",
        "colab": {
          "base_uri": "https://localhost:8080/",
          "height": 206
        }
      },
      "source": [
        "tr[FE].head()"
      ],
      "execution_count": 22,
      "outputs": [
        {
          "output_type": "execute_result",
          "data": {
            "text/html": [
              "<div>\n",
              "<style scoped>\n",
              "    .dataframe tbody tr th:only-of-type {\n",
              "        vertical-align: middle;\n",
              "    }\n",
              "\n",
              "    .dataframe tbody tr th {\n",
              "        vertical-align: top;\n",
              "    }\n",
              "\n",
              "    .dataframe thead th {\n",
              "        text-align: right;\n",
              "    }\n",
              "</style>\n",
              "<table border=\"1\" class=\"dataframe\">\n",
              "  <thead>\n",
              "    <tr style=\"text-align: right;\">\n",
              "      <th></th>\n",
              "      <th>Male</th>\n",
              "      <th>Female</th>\n",
              "      <th>Ex-smoker</th>\n",
              "      <th>Never smoked</th>\n",
              "      <th>Currently smokes</th>\n",
              "      <th>age</th>\n",
              "      <th>percent</th>\n",
              "      <th>week</th>\n",
              "      <th>BASE</th>\n",
              "      <th>Male</th>\n",
              "      <th>Female</th>\n",
              "      <th>Ex-smoker</th>\n",
              "      <th>Never smoked</th>\n",
              "      <th>Currently smokes</th>\n",
              "    </tr>\n",
              "  </thead>\n",
              "  <tbody>\n",
              "    <tr>\n",
              "      <th>0</th>\n",
              "      <td>1</td>\n",
              "      <td>0</td>\n",
              "      <td>1</td>\n",
              "      <td>0</td>\n",
              "      <td>0</td>\n",
              "      <td>2.025641</td>\n",
              "      <td>0.468775</td>\n",
              "      <td>0.000000</td>\n",
              "      <td>0.41547</td>\n",
              "      <td>1</td>\n",
              "      <td>0</td>\n",
              "      <td>1</td>\n",
              "      <td>0</td>\n",
              "      <td>0</td>\n",
              "    </tr>\n",
              "    <tr>\n",
              "      <th>1</th>\n",
              "      <td>1</td>\n",
              "      <td>0</td>\n",
              "      <td>1</td>\n",
              "      <td>0</td>\n",
              "      <td>0</td>\n",
              "      <td>2.025641</td>\n",
              "      <td>0.448323</td>\n",
              "      <td>0.055556</td>\n",
              "      <td>0.41547</td>\n",
              "      <td>1</td>\n",
              "      <td>0</td>\n",
              "      <td>1</td>\n",
              "      <td>0</td>\n",
              "      <td>0</td>\n",
              "    </tr>\n",
              "    <tr>\n",
              "      <th>2</th>\n",
              "      <td>1</td>\n",
              "      <td>0</td>\n",
              "      <td>1</td>\n",
              "      <td>0</td>\n",
              "      <td>0</td>\n",
              "      <td>2.025641</td>\n",
              "      <td>0.417341</td>\n",
              "      <td>0.067901</td>\n",
              "      <td>0.41547</td>\n",
              "      <td>1</td>\n",
              "      <td>0</td>\n",
              "      <td>1</td>\n",
              "      <td>0</td>\n",
              "      <td>0</td>\n",
              "    </tr>\n",
              "    <tr>\n",
              "      <th>3</th>\n",
              "      <td>1</td>\n",
              "      <td>0</td>\n",
              "      <td>1</td>\n",
              "      <td>0</td>\n",
              "      <td>0</td>\n",
              "      <td>2.025641</td>\n",
              "      <td>0.434148</td>\n",
              "      <td>0.080247</td>\n",
              "      <td>0.41547</td>\n",
              "      <td>1</td>\n",
              "      <td>0</td>\n",
              "      <td>1</td>\n",
              "      <td>0</td>\n",
              "      <td>0</td>\n",
              "    </tr>\n",
              "    <tr>\n",
              "      <th>4</th>\n",
              "      <td>1</td>\n",
              "      <td>0</td>\n",
              "      <td>1</td>\n",
              "      <td>0</td>\n",
              "      <td>0</td>\n",
              "      <td>2.025641</td>\n",
              "      <td>0.418961</td>\n",
              "      <td>0.092593</td>\n",
              "      <td>0.41547</td>\n",
              "      <td>1</td>\n",
              "      <td>0</td>\n",
              "      <td>1</td>\n",
              "      <td>0</td>\n",
              "      <td>0</td>\n",
              "    </tr>\n",
              "  </tbody>\n",
              "</table>\n",
              "</div>"
            ],
            "text/plain": [
              "   Male  Female  Ex-smoker  ...  Ex-smoker  Never smoked  Currently smokes\n",
              "0     1       0          1  ...          1             0                 0\n",
              "1     1       0          1  ...          1             0                 0\n",
              "2     1       0          1  ...          1             0                 0\n",
              "3     1       0          1  ...          1             0                 0\n",
              "4     1       0          1  ...          1             0                 0\n",
              "\n",
              "[5 rows x 14 columns]"
            ]
          },
          "metadata": {
            "tags": []
          },
          "execution_count": 22
        }
      ]
    },
    {
      "cell_type": "code",
      "metadata": {
        "id": "jkgU6TS5-eQE"
      },
      "source": [
        "tr=tr.reset_index(drop=True)"
      ],
      "execution_count": 23,
      "outputs": []
    },
    {
      "cell_type": "code",
      "metadata": {
        "id": "O58F9J3oxZJ4",
        "outputId": "daf1f2a9-504d-4223-c52d-fd7001fe1c00",
        "colab": {
          "base_uri": "https://localhost:8080/",
          "height": 1000
        }
      },
      "source": [
        "\n",
        "cnt = 0\n",
        "EPOCHS = 800\n",
        "for tr_idx, val_idx in kf.split(z):\n",
        "    cnt += 1\n",
        "    print(f\"FOLD {cnt}\")\n",
        "    net = make_model(nh)\n",
        "    hist=net.fit([z[tr_idx],tr.loc[tr_idx]['difference'].values], y[tr_idx], batch_size=BATCH_SIZE, epochs=800, \n",
        "            validation_data=([z[val_idx], tr.loc[val_idx]['difference'].values],y[val_idx]), verbose=0) #\n",
        "    plt.plot(hist.history['loss'])\n",
        "    plt.plot(hist.history['val_loss'])\n",
        "    plt.show()\n",
        "    print(\"predict val...\")\n",
        "    pred[val_idx] = net.predict([z[val_idx],tr.loc[val_idx]['difference'].values], batch_size=BATCH_SIZE, verbose=0)\n",
        "    print(\"predict test...\")\n",
        "    pe += net.predict([ze,sub['difference'].values], batch_size=BATCH_SIZE, verbose=0) / NFOLD"
      ],
      "execution_count": null,
      "outputs": [
        {
          "output_type": "stream",
          "text": [
            "FOLD 1\n"
          ],
          "name": "stdout"
        },
        {
          "output_type": "display_data",
          "data": {
            "image/png": "[encoded data removed]",
            "text/plain": [
              "<Figure size 432x288 with 1 Axes>"
            ]
          },
          "metadata": {
            "tags": [],
            "needs_background": "light"
          }
        },
        {
          "output_type": "stream",
          "text": [
            "predict val...\n",
            "predict test...\n",
            "FOLD 2\n"
          ],
          "name": "stdout"
        },
        {
          "output_type": "display_data",
          "data": {
            "image/png": "[encoded data removed]",
            "text/plain": [
              "<Figure size 432x288 with 1 Axes>"
            ]
          },
          "metadata": {
            "tags": [],
            "needs_background": "light"
          }
        },
        {
          "output_type": "stream",
          "text": [
            "predict val...\n",
            "predict test...\n",
            "FOLD 3\n"
          ],
          "name": "stdout"
        },
        {
          "output_type": "display_data",
          "data": {
            "image/png": "[encoded data removed]",
            "text/plain": [
              "<Figure size 432x288 with 1 Axes>"
            ]
          },
          "metadata": {
            "tags": [],
            "needs_background": "light"
          }
        },
        {
          "output_type": "stream",
          "text": [
            "predict val...\n",
            "predict test...\n",
            "FOLD 4\n"
          ],
          "name": "stdout"
        },
        {
          "output_type": "display_data",
          "data": {
            "image/png": "[encoded data removed]",
            "text/plain": [
              "<Figure size 432x288 with 1 Axes>"
            ]
          },
          "metadata": {
            "tags": [],
            "needs_background": "light"
          }
        },
        {
          "output_type": "stream",
          "text": [
            "predict val...\n",
            "predict test...\n",
            "FOLD 5\n"
          ],
          "name": "stdout"
        }
      ]
    },
    {
      "cell_type": "code",
      "metadata": {
        "id": "zR4_dLE2xZHI"
      },
      "source": [
        "sigma_opt = mean_absolute_error(y, pred[:, 1])\n",
        "unc = pred[:,2] - pred[:, 0]\n",
        "sigma_mean = np.mean(unc)\n",
        "print(sigma_opt, sigma_mean)"
      ],
      "execution_count": null,
      "outputs": []
    },
    {
      "cell_type": "code",
      "metadata": {
        "id": "F1iIv4L8xZEG"
      },
      "source": [
        ""
      ],
      "execution_count": null,
      "outputs": []
    },
    {
      "cell_type": "code",
      "metadata": {
        "id": "-_legUCjxZBB"
      },
      "source": [
        ""
      ],
      "execution_count": null,
      "outputs": []
    },
    {
      "cell_type": "code",
      "metadata": {
        "id": "-fjKGXKlxY-Q"
      },
      "source": [
        ""
      ],
      "execution_count": null,
      "outputs": []
    },
    {
      "cell_type": "code",
      "metadata": {
        "id": "0l3oL85ixY7P"
      },
      "source": [
        ""
      ],
      "execution_count": null,
      "outputs": []
    },
    {
      "cell_type": "code",
      "metadata": {
        "id": "E7En9aZNxY4z"
      },
      "source": [
        ""
      ],
      "execution_count": null,
      "outputs": []
    },
    {
      "cell_type": "code",
      "metadata": {
        "id": "ME3MTpMAxY1X"
      },
      "source": [
        ""
      ],
      "execution_count": null,
      "outputs": []
    }
  ]
}