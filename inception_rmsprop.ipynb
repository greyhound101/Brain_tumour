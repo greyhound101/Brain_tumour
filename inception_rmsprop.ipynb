{
  "nbformat": 4,
  "nbformat_minor": 0,
  "metadata": {
    "colab": {
      "name": "inception_rmsprop.ipynb",
      "provenance": [],
      "authorship_tag": "ABX9TyPIEst6at36KDh4o6rKwCpG",
      "include_colab_link": true
    },
    "kernelspec": {
      "name": "python3",
      "display_name": "Python 3"
    }
  },
  "cells": [
    {
      "cell_type": "markdown",
      "metadata": {
        "id": "view-in-github",
        "colab_type": "text"
      },
      "source": [
        "<a href=\"https://colab.research.google.com/github/greyhound101/Brain_tumour/blob/master/inception_rmsprop.ipynb\" target=\"_parent\"><img src=\"https://colab.research.google.com/assets/colab-badge.svg\" alt=\"Open In Colab\"/></a>"
      ]
    },
    {
      "cell_type": "code",
      "metadata": {
        "id": "qmJHRElqlUPC",
        "outputId": "629515f4-b150-4442-ad8f-6ab19bb63b2c",
        "colab": {
          "base_uri": "https://localhost:8080/",
          "height": 50
        }
      },
      "source": [
        "from google.colab import drive\n",
        "drive.mount('/content/gdrive')\n",
        "drive.mount(\"/content/gdrive\", force_remount=True)"
      ],
      "execution_count": 1,
      "outputs": [
        {
          "output_type": "stream",
          "text": [
            "Mounted at /content/gdrive\n",
            "Mounted at /content/gdrive\n"
          ],
          "name": "stdout"
        }
      ]
    },
    {
      "cell_type": "code",
      "metadata": {
        "id": "GEUsJOSilV5K",
        "outputId": "02039c22-549f-45a7-e9f4-42a8252bc40a",
        "colab": {
          "base_uri": "https://localhost:8080/",
          "height": 151
        }
      },
      "source": [
        "import glob\n",
        "glob.glob('/content/gdrive/My Drive/inception/*rmsprop_final*')"
      ],
      "execution_count": 2,
      "outputs": [
        {
          "output_type": "execute_result",
          "data": {
            "text/plain": [
              "['/content/gdrive/My Drive/inception/best_accuracy_all_fold_4_inception_rmsprop_final.npy',\n",
              " '/content/gdrive/My Drive/inception/final_accuracy_all_fold4_inception_rmsprop_final.npy',\n",
              " '/content/gdrive/My Drive/inception/history_all_fold_4_inception_rmsprop_final.npy',\n",
              " '/content/gdrive/My Drive/inception/answers_all_fold_4_inception_rmsprop_final.npy',\n",
              " '/content/gdrive/My Drive/inception/predictions_all_fold_4_inception_rmsprop_final.npy',\n",
              " '/content/gdrive/My Drive/inception/predictions_all_best_fold_4_inception_rmsprop_final.npy',\n",
              " '/content/gdrive/My Drive/inception/times_all_fold_4_inception_rmsprop_final.npy',\n",
              " '/content/gdrive/My Drive/inception/actual_predictions_4_inception_rmsprop_final.npy']"
            ]
          },
          "metadata": {
            "tags": []
          },
          "execution_count": 2
        }
      ]
    },
    {
      "cell_type": "code",
      "metadata": {
        "id": "oJdnCLfEl2fF"
      },
      "source": [
        "import numpy as np\n",
        "fold1=list(np.load('/content/actual_predictions1_1e-3_wn (3).npy'))\n",
        "fold2=list(np.load(   '/content/actual_predictions2_1e-3_wn (1).npy'))\n",
        "fold3=list(np.load(  '/content/actual_predictions3_1e-3_wn.npy'))\n",
        "fold4=list(np.load( '/content/gdrive/My Drive/inception/actual_predictions_4_inception_rmsprop_final.npy'))\n",
        "fold5=list(np.load(  '/content/actual_predictions5_1e-3_wn (2).npy'))\n",
        "actual=fold1+fold2+fold3+fold4+fold5\n",
        "fold1_pre=list(np.load('/content/predictions_last_fold1_1e-3_wn (3).npy',allow_pickle=True).item()['fold_1'])\n",
        "fold2_pre=list(np.load(  '/content/predictions_last_fold2_1e-3_wn (1).npy',allow_pickle=True).item()['fold_2'])\n",
        "fold3_pre=list(np.load(  '/content/predictions_last_fold3_1e-3_wn.npy',allow_pickle=True).item()['fold_3'])\n",
        "fold4_pre=list(np.load( '/content/gdrive/My Drive/inception/predictions_all_fold_4_inception_rmsprop_final.npy',allow_pickle=True).item()['fold_4'])\n",
        "fold5_pre=list(np.load(  '/content/predictions_last_fold5_1e-3_wn (2).npy',allow_pickle=True).item()['fold_5'])\n",
        "\n",
        "predicted=fold1_pre+fold2_pre+fold3_pre+fold4_pre+fold5_pre"
      ],
      "execution_count": 5,
      "outputs": []
    },
    {
      "cell_type": "code",
      "metadata": {
        "id": "q9OxE9SamTlQ",
        "outputId": "86daba40-a150-4c41-eae3-addadb8270e2",
        "colab": {
          "base_uri": "https://localhost:8080/",
          "height": 84
        }
      },
      "source": [
        "from sklearn.metrics import precision_recall_fscore_support\n",
        "precision_recall_fscore_support(actual, predicted)"
      ],
      "execution_count": 6,
      "outputs": [
        {
          "output_type": "execute_result",
          "data": {
            "text/plain": [
              "(array([0.90013495, 0.98210451, 0.96436285]),\n",
              " array([0.9420904 , 0.96213184, 0.96021505]),\n",
              " array([0.92063492, 0.97201559, 0.96228448]),\n",
              " array([ 708, 1426,  930]))"
            ]
          },
          "metadata": {
            "tags": []
          },
          "execution_count": 6
        }
      ]
    },
    {
      "cell_type": "code",
      "metadata": {
        "id": "OIOErGULmq_b",
        "outputId": "c9cbf381-669d-4d43-b8a6-19df9d880665",
        "colab": {
          "base_uri": "https://localhost:8080/",
          "height": 67
        }
      },
      "source": [
        "from sklearn.metrics import confusion_matrix\n",
        "confusion_matrix(actual,predicted)"
      ],
      "execution_count": 7,
      "outputs": [
        {
          "output_type": "execute_result",
          "data": {
            "text/plain": [
              "array([[ 667,   15,   26],\n",
              "       [  47, 1372,    7],\n",
              "       [  27,   10,  893]])"
            ]
          },
          "metadata": {
            "tags": []
          },
          "execution_count": 7
        }
      ]
    },
    {
      "cell_type": "code",
      "metadata": {
        "id": "ShnDLOI0msWB",
        "outputId": "656169a0-3a6a-428d-8ddf-cf271713deef",
        "colab": {
          "base_uri": "https://localhost:8080/",
          "height": 34
        }
      },
      "source": [
        "(1372+893)/(1372+893+41)"
      ],
      "execution_count": 8,
      "outputs": [
        {
          "output_type": "execute_result",
          "data": {
            "text/plain": [
              "0.9822202948829142"
            ]
          },
          "metadata": {
            "tags": []
          },
          "execution_count": 8
        }
      ]
    },
    {
      "cell_type": "code",
      "metadata": {
        "id": "TPPgTqn2m5cG",
        "outputId": "5e8549da-3532-4398-be6a-2a701d3b2aa9",
        "colab": {
          "base_uri": "https://localhost:8080/",
          "height": 34
        }
      },
      "source": [
        "(667+893+53)/(667+893+53+54)"
      ],
      "execution_count": 10,
      "outputs": [
        {
          "output_type": "execute_result",
          "data": {
            "text/plain": [
              "0.9676064787042592"
            ]
          },
          "metadata": {
            "tags": []
          },
          "execution_count": 10
        }
      ]
    },
    {
      "cell_type": "code",
      "metadata": {
        "id": "C9kre8J6nABP",
        "outputId": "37281dad-f54c-48b9-fedf-ced79fffeb54",
        "colab": {
          "base_uri": "https://localhost:8080/",
          "height": 34
        }
      },
      "source": [
        "(667+1372+62)/(667+1372+62+37)"
      ],
      "execution_count": 11,
      "outputs": [
        {
          "output_type": "execute_result",
          "data": {
            "text/plain": [
              "0.9826941066417212"
            ]
          },
          "metadata": {
            "tags": []
          },
          "execution_count": 11
        }
      ]
    },
    {
      "cell_type": "code",
      "metadata": {
        "id": "eaYHPXV0nHub",
        "outputId": "afc386e6-11be-4c28-c533-fbf92b317427",
        "colab": {
          "base_uri": "https://localhost:8080/",
          "height": 34
        }
      },
      "source": [
        "(0.9822202948829142+0.9676064787042592+0.9826941066417212)/3"
      ],
      "execution_count": 12,
      "outputs": [
        {
          "output_type": "execute_result",
          "data": {
            "text/plain": [
              "0.9775069600762981"
            ]
          },
          "metadata": {
            "tags": []
          },
          "execution_count": 12
        }
      ]
    },
    {
      "cell_type": "code",
      "metadata": {
        "id": "IQmudO_onL64"
      },
      "source": [
        ""
      ],
      "execution_count": null,
      "outputs": []
    }
  ]
}