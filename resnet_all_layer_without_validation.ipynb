{
  "nbformat": 4,
  "nbformat_minor": 0,
  "metadata": {
    "colab": {
      "name": "resnet_all_layer_without_validation.ipynb",
      "provenance": [],
      "include_colab_link": true
    },
    "kernelspec": {
      "name": "python3",
      "display_name": "Python 3"
    }
  },
  "cells": [
    {
      "cell_type": "markdown",
      "metadata": {
        "id": "view-in-github",
        "colab_type": "text"
      },
      "source": [
        "<a href=\"https://colab.research.google.com/github/greyhound101/internship/blob/master/resnet_all_layer_without_validation.ipynb\" target=\"_parent\"><img src=\"https://colab.research.google.com/assets/colab-badge.svg\" alt=\"Open In Colab\"/></a>"
      ]
    },
    {
      "cell_type": "code",
      "metadata": {
        "id": "63ErAVGxplUS",
        "colab_type": "code",
        "colab": {
          "base_uri": "https://localhost:8080/",
          "height": 195
        },
        "outputId": "eccb67d8-867c-4489-abdc-31ee7395ca23"
      },
      "source": [
        "\n",
        "from zipfile import ZipFile \n",
        "  \n",
        "with ZipFile('resnet_3_decay.zip', 'r') as zip: \n",
        "    # printing all the contents of the zip file \n",
        "    zip.printdir() \n",
        "  \n",
        "    # extracting all the files \n",
        "    print('Extracting all the files now...') \n",
        "    zip.extractall() \n",
        "    print('Done!')"
      ],
      "execution_count": 1,
      "outputs": [
        {
          "output_type": "stream",
          "text": [
            "File Name                                             Modified             Size\n",
            "best_accuracy_all_fold_3_Resnet_decay.npy      2020-06-06 14:18:32          282\n",
            "predictions_all_best_fold_3_Resnet_decay.npy   2020-06-06 14:18:32          282\n",
            "times_all_fold_3_Resnet_decay.npy              2020-06-06 14:18:32          305\n",
            "predictions_all_fold_3_Resnet_decay.npy        2020-06-06 14:18:32         4961\n",
            "history_all_fold_3_Resnet_decay.npy            2020-06-06 14:18:32         2684\n",
            "answers_all_fold_3_Resnet_decay.npy            2020-06-06 14:18:32         4961\n",
            "final_accuracy_all_fold3_Resnet_decay.npy      2020-06-06 14:18:32          397\n",
            "Extracting all the files now...\n",
            "Done!\n"
          ],
          "name": "stdout"
        }
      ]
    },
    {
      "cell_type": "code",
      "metadata": {
        "id": "N7j--Lgep-6y",
        "colab_type": "code",
        "colab": {
          "base_uri": "https://localhost:8080/",
          "height": 195
        },
        "outputId": "a84dadd7-eaac-4695-ec22-6219ea336951"
      },
      "source": [
        "\n",
        "from zipfile import ZipFile \n",
        "  \n",
        "with ZipFile('resnet_fold_1.zip', 'r') as zip: \n",
        "    # printing all the contents of the zip file \n",
        "    zip.printdir() \n",
        "  \n",
        "    # extracting all the files \n",
        "    print('Extracting all the files now...') \n",
        "    zip.extractall() \n",
        "    print('Done!')"
      ],
      "execution_count": 2,
      "outputs": [
        {
          "output_type": "stream",
          "text": [
            "File Name                                             Modified             Size\n",
            "best_accuracy_all_fold_1_Resnet_decay.npy      2020-06-06 10:48:00          282\n",
            "predictions_all_best_fold_1_Resnet_decay.npy   2020-06-06 10:48:00          282\n",
            "final_accuracy_all_fold1_Resnet_decay.npy      2020-06-06 10:48:00          397\n",
            "predictions_all_fold_1_Resnet_decay.npy        2020-06-06 10:48:00         4721\n",
            "times_all_fold_1_Resnet_decay.npy              2020-06-06 10:48:00          305\n",
            "history_all_fold_1_Resnet_decay.npy            2020-06-06 10:48:00         2684\n",
            "answers_all_fold_1_Resnet_decay.npy            2020-06-06 10:48:00         4721\n",
            "Extracting all the files now...\n",
            "Done!\n"
          ],
          "name": "stdout"
        }
      ]
    },
    {
      "cell_type": "code",
      "metadata": {
        "id": "Jp9oXTZJp_Ll",
        "colab_type": "code",
        "colab": {
          "base_uri": "https://localhost:8080/",
          "height": 195
        },
        "outputId": "6f8e0ac3-dc68-41f0-e8f9-7a851ebf3059"
      },
      "source": [
        "\n",
        "from zipfile import ZipFile \n",
        "  \n",
        "with ZipFile('resnet_fold_2.zip', 'r') as zip: \n",
        "    # printing all the contents of the zip file \n",
        "    zip.printdir() \n",
        "  \n",
        "    # extracting all the files \n",
        "    print('Extracting all the files now...') \n",
        "    zip.extractall() \n",
        "    print('Done!')"
      ],
      "execution_count": 3,
      "outputs": [
        {
          "output_type": "stream",
          "text": [
            "File Name                                             Modified             Size\n",
            "predictions_all_best_fold_2_Resnet_decay.npy   2020-06-06 10:37:34          282\n",
            "history_all_fold_2_Resnet_decay.npy            2020-06-06 10:37:34         2684\n",
            "final_accuracy_all_fold2_Resnet_decay.npy      2020-06-06 10:37:34          397\n",
            "predictions_all_fold_2_Resnet_decay.npy        2020-06-06 10:37:34         5817\n",
            "answers_all_fold_2_Resnet_decay.npy            2020-06-06 10:37:34         5817\n",
            "times_all_fold_2_Resnet_decay.npy              2020-06-06 10:37:34          305\n",
            "best_accuracy_all_fold_2_Resnet_decay.npy      2020-06-06 10:37:34          282\n",
            "Extracting all the files now...\n",
            "Done!\n"
          ],
          "name": "stdout"
        }
      ]
    },
    {
      "cell_type": "code",
      "metadata": {
        "id": "Zyrkbi8up_Tj",
        "colab_type": "code",
        "colab": {
          "base_uri": "https://localhost:8080/",
          "height": 195
        },
        "outputId": "b0d3e697-3eb6-4ef2-b6e4-532565df3122"
      },
      "source": [
        "\n",
        "from zipfile import ZipFile \n",
        "  \n",
        "with ZipFile('resnet_fold_4.zip', 'r') as zip: \n",
        "    # printing all the contents of the zip file \n",
        "    zip.printdir() \n",
        "  \n",
        "    # extracting all the files \n",
        "    print('Extracting all the files now...') \n",
        "    zip.extractall() \n",
        "    print('Done!')"
      ],
      "execution_count": 4,
      "outputs": [
        {
          "output_type": "stream",
          "text": [
            "File Name                                             Modified             Size\n",
            "best_accuracy_all_fold_4_Resnet_decay.npy      2020-06-06 11:06:30          282\n",
            "predictions_all_best_fold_4_Resnet_decay.npy   2020-06-06 11:06:30          282\n",
            "final_accuracy_all_fold4_Resnet_decay.npy      2020-06-06 11:06:30          397\n",
            "times_all_fold_4_Resnet_decay.npy              2020-06-06 11:06:30          305\n",
            "history_all_fold_4_Resnet_decay.npy            2020-06-06 11:06:30         2684\n",
            "answers_all_fold_4_Resnet_decay.npy            2020-06-06 11:06:30         5409\n",
            "predictions_all_fold_4_Resnet_decay.npy        2020-06-06 11:06:30         5409\n",
            "Extracting all the files now...\n",
            "Done!\n"
          ],
          "name": "stdout"
        }
      ]
    },
    {
      "cell_type": "code",
      "metadata": {
        "id": "nM-4sOp4p_ba",
        "colab_type": "code",
        "colab": {
          "base_uri": "https://localhost:8080/",
          "height": 195
        },
        "outputId": "572b8880-cf4a-4ac7-a155-9feae7af3e8d"
      },
      "source": [
        "\n",
        "from zipfile import ZipFile \n",
        "  \n",
        "with ZipFile('resnet_5_decay.zip', 'r') as zip: \n",
        "    # printing all the contents of the zip file \n",
        "    zip.printdir() \n",
        "  \n",
        "    # extracting all the files \n",
        "    print('Extracting all the files now...') \n",
        "    zip.extractall() \n",
        "    print('Done!')"
      ],
      "execution_count": 5,
      "outputs": [
        {
          "output_type": "stream",
          "text": [
            "File Name                                             Modified             Size\n",
            "predictions_all_best_fold_5_Resnet_decay.npy   2020-06-06 15:41:14          282\n",
            "best_accuracy_all_fold_5_Resnet_decay.npy      2020-06-06 15:41:14          282\n",
            "times_all_fold_5_Resnet_decay.npy              2020-06-06 15:41:14          305\n",
            "history_all_fold_5_Resnet_decay.npy            2020-06-06 15:41:14         2684\n",
            "answers_all_fold_5_Resnet_decay.npy            2020-06-06 15:41:14         5529\n",
            "predictions_all_fold_5_Resnet_decay.npy        2020-06-06 15:41:14         5529\n",
            "final_accuracy_all_fold5_Resnet_decay.npy      2020-06-06 15:41:14          397\n",
            "Extracting all the files now...\n",
            "Done!\n"
          ],
          "name": "stdout"
        }
      ]
    },
    {
      "cell_type": "code",
      "metadata": {
        "id": "tj_29PT2hSoN",
        "colab_type": "code",
        "outputId": "993a71d0-dc26-4b91-bb6f-5d236fdfa0b2",
        "colab": {
          "base_uri": "https://localhost:8080/",
          "height": 35
        }
      },
      "source": [
        "import numpy as np\n",
        "fnl_acc3=list(np.load('final_accuracy_all_fold3_Resnet_decay.npy',allow_pickle=True).item().values())[0]\n",
        "fnl_acc5=list(np.load('final_accuracy_all_fold5_Resnet_decay.npy',allow_pickle=True).item().values())[0]\n",
        "fnl_acc4=list(np.load('final_accuracy_all_fold4_Resnet_decay.npy',allow_pickle=True).item().values())[0]\n",
        "fnl_acc2=list(np.load('final_accuracy_all_fold2_Resnet_decay.npy',allow_pickle=True).item().values())[0]\n",
        "fnl_acc1=list(np.load('final_accuracy_all_fold1_Resnet_decay.npy',allow_pickle=True).item().values())[0]\n",
        "np.mean([fnl_acc1,fnl_acc2,fnl_acc3,fnl_acc4,fnl_acc5])"
      ],
      "execution_count": 7,
      "outputs": [
        {
          "output_type": "execute_result",
          "data": {
            "text/plain": [
              "0.9451499088256385"
            ]
          },
          "metadata": {
            "tags": []
          },
          "execution_count": 7
        }
      ]
    },
    {
      "cell_type": "code",
      "metadata": {
        "id": "Y6keYSFxjQKv",
        "colab_type": "code",
        "outputId": "8064f36e-ad90-4225-d687-b24a46295e70",
        "colab": {
          "base_uri": "https://localhost:8080/",
          "height": 35
        }
      },
      "source": [
        "import numpy as np\n",
        "fnl_acc3=list(np.load('times_all_fold_3_Resnet_decay.npy',allow_pickle=True).item().values())[0]\n",
        "fnl_acc5=list(np.load('times_all_fold_5_Resnet_decay.npy',allow_pickle=True).item().values())[0]\n",
        "fnl_acc4=list(np.load('times_all_fold_4_Resnet_decay.npy',allow_pickle=True).item().values())[0]\n",
        "fnl_acc2=list(np.load('times_all_fold_2_Resnet_decay.npy',allow_pickle=True).item().values())[0]\n",
        "fnl_acc1=list(np.load('times_all_fold_1_Resnet_decay.npy',allow_pickle=True).item().values())[0]\n",
        "np.mean([fnl_acc1,fnl_acc2,fnl_acc3,fnl_acc4,fnl_acc5])"
      ],
      "execution_count": 8,
      "outputs": [
        {
          "output_type": "execute_result",
          "data": {
            "text/plain": [
              "11628.279332017899"
            ]
          },
          "metadata": {
            "tags": []
          },
          "execution_count": 8
        }
      ]
    },
    {
      "cell_type": "code",
      "metadata": {
        "id": "5z_v0ygJjTv_",
        "colab_type": "code",
        "outputId": "c75487bf-9d13-4ca4-ae59-62c96b620b3b",
        "colab": {
          "base_uri": "https://localhost:8080/",
          "height": 70
        }
      },
      "source": [
        "\n",
        "\n",
        "from sklearn.metrics import confusion_matrix\n",
        "ans_1=np.load('answers_all_fold_1_Resnet_decay.npy',allow_pickle=True).item()\n",
        "fold_1_pre=np.load('predictions_all_fold_1_Resnet_decay.npy',allow_pickle=True).item()\n",
        "ans_1=list(ans_1.values())[0]\n",
        "fold_1_pre=list(fold_1_pre.values())[0]\n",
        "print(confusion_matrix(ans_1,fold_1_pre))\n",
        "\n"
      ],
      "execution_count": 9,
      "outputs": [
        {
          "output_type": "stream",
          "text": [
            "[[109   3   0]\n",
            " [  9 236   0]\n",
            " [  6   3 176]]\n"
          ],
          "name": "stdout"
        }
      ]
    },
    {
      "cell_type": "code",
      "metadata": {
        "id": "sXzslYOflDbf",
        "colab_type": "code",
        "outputId": "57a8e7e6-38ac-4106-8cff-ec7683afdda8",
        "colab": {
          "base_uri": "https://localhost:8080/",
          "height": 70
        }
      },
      "source": [
        "\n",
        "ans_1=np.load('answers_all_fold_2_Resnet_decay.npy',allow_pickle=True).item()\n",
        "fold_1_pre=np.load('predictions_all_fold_2_Resnet_decay.npy',allow_pickle=True).item()\n",
        "ans_1=list(ans_1.values())[0]\n",
        "fold_1_pre=list(fold_1_pre.values())[0]\n",
        "print(confusion_matrix(ans_1,fold_1_pre))\n",
        "\n"
      ],
      "execution_count": 10,
      "outputs": [
        {
          "output_type": "stream",
          "text": [
            "[[149  14   4]\n",
            " [ 11 325   2]\n",
            " [  2   6 166]]\n"
          ],
          "name": "stdout"
        }
      ]
    },
    {
      "cell_type": "code",
      "metadata": {
        "id": "bQeRpmCTl7X0",
        "colab_type": "code",
        "outputId": "181c048b-55e3-4d6e-e421-9e7375084501",
        "colab": {
          "base_uri": "https://localhost:8080/",
          "height": 70
        }
      },
      "source": [
        "\n",
        "ans_1=np.load('answers_all_fold_3_Resnet_decay.npy',allow_pickle=True).item()\n",
        "fold_1_pre=np.load('predictions_all_fold_3_Resnet_decay.npy',allow_pickle=True).item()\n",
        "ans_1=list(ans_1.values())[0]\n",
        "fold_1_pre=list(fold_1_pre.values())[0]\n",
        "print(confusion_matrix(ans_1,fold_1_pre))\n",
        "\n"
      ],
      "execution_count": 11,
      "outputs": [
        {
          "output_type": "stream",
          "text": [
            "[[126   9   4]\n",
            " [ 19 212   0]\n",
            " [  0   0 202]]\n"
          ],
          "name": "stdout"
        }
      ]
    },
    {
      "cell_type": "code",
      "metadata": {
        "id": "wRwX__s2mEVq",
        "colab_type": "code",
        "outputId": "98f6c2ea-cb19-4815-8ed8-c626e3742e5e",
        "colab": {
          "base_uri": "https://localhost:8080/",
          "height": 70
        }
      },
      "source": [
        "\n",
        "ans_1=np.load('answers_all_fold_4_Resnet_decay.npy',allow_pickle=True).item()\n",
        "fold_1_pre=np.load('predictions_all_fold_4_Resnet_decay.npy',allow_pickle=True).item()\n",
        "ans_1=list(ans_1.values())[0]\n",
        "fold_1_pre=list(fold_1_pre.values())[0]\n",
        "print(confusion_matrix(ans_1,fold_1_pre))\n",
        "\n"
      ],
      "execution_count": 12,
      "outputs": [
        {
          "output_type": "stream",
          "text": [
            "[[116   3   5]\n",
            " [  5 318   2]\n",
            " [  7   0 172]]\n"
          ],
          "name": "stdout"
        }
      ]
    },
    {
      "cell_type": "code",
      "metadata": {
        "id": "3FXRTXCzmWnh",
        "colab_type": "code",
        "outputId": "e92bcca9-bae4-498e-baa7-97a42ea72a21",
        "colab": {
          "base_uri": "https://localhost:8080/",
          "height": 70
        }
      },
      "source": [
        "\n",
        "ans_1=np.load('answers_all_fold_5_Resnet_decay.npy',allow_pickle=True).item()\n",
        "fold_1_pre=np.load('predictions_all_fold_5_Resnet_decay.npy',allow_pickle=True).item()\n",
        "ans_1=list(ans_1.values())[0]\n",
        "fold_1_pre=list(fold_1_pre.values())[0]\n",
        "print(confusion_matrix(ans_1,fold_1_pre))\n",
        "\n"
      ],
      "execution_count": 13,
      "outputs": [
        {
          "output_type": "stream",
          "text": [
            "[[129   9  28]\n",
            " [ 18 269   0]\n",
            " [  0   1 189]]\n"
          ],
          "name": "stdout"
        }
      ]
    },
    {
      "cell_type": "code",
      "metadata": {
        "id": "nLhLBFFsmlTz",
        "colab_type": "code",
        "colab": {}
      },
      "source": [
        "\n",
        "history={}\n",
        "history['fold1']=np.load('history_all_fold_1_Resnet_decay.npy',allow_pickle=True).item()\n",
        "history['fold2']=np.load('history_all_fold_2_Resnet_decay.npy',allow_pickle=True).item()\n",
        "history['fold3']=np.load('history_all_fold_3_Resnet_decay.npy',allow_pickle=True).item()\n",
        "history['fold4']=np.load('history_all_fold_4_Resnet_decay.npy',allow_pickle=True).item()\n",
        "history['fold5']=np.load('history_all_fold_5_Resnet_decay.npy',allow_pickle=True).item()\n",
        "\n"
      ],
      "execution_count": 0,
      "outputs": []
    },
    {
      "cell_type": "code",
      "metadata": {
        "id": "ZNgXRGxGm47o",
        "colab_type": "code",
        "outputId": "075838dc-7371-4251-b756-5e38f71acee2",
        "colab": {
          "base_uri": "https://localhost:8080/",
          "height": 1000
        }
      },
      "source": [
        "from matplotlib import pyplot as plt\n",
        "for i in range(5):\n",
        "    fold='fold'+str(i+1)\n",
        "    fold1='fold_'+str(i+1)\n",
        "    plt.plot(history[fold][fold1]['accuracy'])\n",
        "    plt.title('loss for fold '+str(i))\n",
        "    plt.xlabel('epoch')\n",
        "    plt.ylabel('accuracy')\n",
        "    plt.title('Training all layers')\n",
        "    plt.show()"
      ],
      "execution_count": 15,
      "outputs": [
        {
          "output_type": "display_data",
          "data": {
            "image/png": "[encoded data removed]",
            "text/plain": [
              "<Figure size 432x288 with 1 Axes>"
            ]
          },
          "metadata": {
            "tags": [],
            "needs_background": "light"
          }
        },
        {
          "output_type": "display_data",
          "data": {
            "image/png": "[encoded data removed]",
            "text/plain": [
              "<Figure size 432x288 with 1 Axes>"
            ]
          },
          "metadata": {
            "tags": [],
            "needs_background": "light"
          }
        },
        {
          "output_type": "display_data",
          "data": {
            "image/png": "[encoded data removed]",
            "text/plain": [
              "<Figure size 432x288 with 1 Axes>"
            ]
          },
          "metadata": {
            "tags": [],
            "needs_background": "light"
          }
        },
        {
          "output_type": "display_data",
          "data": {
            "image/png": "[encoded data removed]",
            "text/plain": [
              "<Figure size 432x288 with 1 Axes>"
            ]
          },
          "metadata": {
            "tags": [],
            "needs_background": "light"
          }
        },
        {
          "output_type": "display_data",
          "data": {
            "image/png": "[encoded data removed]",
            "text/plain": [
              "<Figure size 432x288 with 1 Axes>"
            ]
          },
          "metadata": {
            "tags": [],
            "needs_background": "light"
          }
        }
      ]
    },
    {
      "cell_type": "code",
      "metadata": {
        "id": "K9YqE_Gkm6sm",
        "colab_type": "code",
        "outputId": "6161f50a-8650-4984-f9ac-b780c54e12bd",
        "colab": {
          "base_uri": "https://localhost:8080/",
          "height": 1000
        }
      },
      "source": [
        "from matplotlib import pyplot as plt\n",
        "for i in range(5):\n",
        "    fold='fold'+str(i+1)\n",
        "    fold1='fold_'+str(i+1)\n",
        "    plt.plot(history[fold][fold1]['loss'])\n",
        "    plt.title('loss for fold '+str(i))\n",
        "    plt.xlabel('epoch')\n",
        "    plt.ylabel('loss')\n",
        "    plt.title('Training all layers')\n",
        "    plt.show()"
      ],
      "execution_count": 16,
      "outputs": [
        {
          "output_type": "display_data",
          "data": {
            "image/png": "[encoded data removed]",
            "text/plain": [
              "<Figure size 432x288 with 1 Axes>"
            ]
          },
          "metadata": {
            "tags": [],
            "needs_background": "light"
          }
        },
        {
          "output_type": "display_data",
          "data": {
            "image/png": "[encoded data removed]",
            "text/plain": [
              "<Figure size 432x288 with 1 Axes>"
            ]
          },
          "metadata": {
            "tags": [],
            "needs_background": "light"
          }
        },
        {
          "output_type": "display_data",
          "data": {
            "image/png": "[encoded data removed]",
            "text/plain": [
              "<Figure size 432x288 with 1 Axes>"
            ]
          },
          "metadata": {
            "tags": [],
            "needs_background": "light"
          }
        },
        {
          "output_type": "display_data",
          "data": {
            "image/png": "[encoded data removed]",
            "text/plain": [
              "<Figure size 432x288 with 1 Axes>"
            ]
          },
          "metadata": {
            "tags": [],
            "needs_background": "light"
          }
        },
        {
          "output_type": "display_data",
          "data": {
            "image/png": "[encoded data removed]",
            "text/plain": [
              "<Figure size 432x288 with 1 Axes>"
            ]
          },
          "metadata": {
            "tags": [],
            "needs_background": "light"
          }
        }
      ]
    },
    {
      "cell_type": "code",
      "metadata": {
        "id": "qlXSp2KQnGjK",
        "colab_type": "code",
        "colab": {}
      },
      "source": [
        ""
      ],
      "execution_count": 0,
      "outputs": []
    }
  ]
}