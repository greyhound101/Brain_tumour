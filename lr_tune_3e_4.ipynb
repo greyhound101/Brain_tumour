{
  "nbformat": 4,
  "nbformat_minor": 0,
  "metadata": {
    "colab": {
      "name": "lr_tune_3e-4.ipynb",
      "provenance": [],
      "authorship_tag": "ABX9TyPGoSeFJcvrkIEtJjU+s4w8",
      "include_colab_link": true
    },
    "kernelspec": {
      "name": "python3",
      "display_name": "Python 3"
    },
    "accelerator": "GPU"
  },
  "cells": [
    {
      "cell_type": "markdown",
      "metadata": {
        "id": "view-in-github",
        "colab_type": "text"
      },
      "source": [
        "<a href=\"https://colab.research.google.com/github/greyhound101/Brain_tumour/blob/master/lr_tune_3e_4.ipynb\" target=\"_parent\"><img src=\"https://colab.research.google.com/assets/colab-badge.svg\" alt=\"Open In Colab\"/></a>"
      ]
    },
    {
      "cell_type": "code",
      "metadata": {
        "id": "hyAd8cKiv5Ej",
        "outputId": "b3076701-bfd2-4b91-a05c-b14a0e3f75fe",
        "colab": {
          "base_uri": "https://localhost:8080/",
          "height": 54
        }
      },
      "source": [
        "from google.colab import drive\n",
        "drive.mount('/content/gdrive')\n",
        "drive.mount(\"/content/gdrive\", force_remount=True)"
      ],
      "execution_count": 1,
      "outputs": [
        {
          "output_type": "stream",
          "text": [
            "Drive already mounted at /content/gdrive; to attempt to forcibly remount, call drive.mount(\"/content/gdrive\", force_remount=True).\n",
            "Mounted at /content/gdrive\n"
          ],
          "name": "stdout"
        }
      ]
    },
    {
      "cell_type": "code",
      "metadata": {
        "id": "80WH-bjfv5vK"
      },
      "source": [
        "# import zipfile\n",
        "# with zipfile.ZipFile('/content/gdrive/My Drive/archive.zip', 'r') as zip_ref:\n",
        "#     zip_ref.extractall('')"
      ],
      "execution_count": 2,
      "outputs": []
    },
    {
      "cell_type": "code",
      "metadata": {
        "id": "VaWA_gNvxBJr",
        "outputId": "677c831a-2844-48c7-bb76-20fca8733d6d",
        "colab": {
          "base_uri": "https://localhost:8080/",
          "height": 35
        }
      },
      "source": [
        "pip install pydicom"
      ],
      "execution_count": 3,
      "outputs": [
        {
          "output_type": "stream",
          "text": [
            "Requirement already satisfied: pydicom in /usr/local/lib/python3.6/dist-packages (2.0.0)\n"
          ],
          "name": "stdout"
        }
      ]
    },
    {
      "cell_type": "code",
      "metadata": {
        "id": "Re-bThzGw-vj"
      },
      "source": [
        "import copy\n",
        "from datetime import timedelta, datetime\n",
        "import imageio\n",
        "import matplotlib.pyplot as plt\n",
        "from matplotlib import cm\n",
        "import multiprocessing\n",
        "import numpy as np\n",
        "import os\n",
        "from pathlib import Path\n",
        "import pydicom\n",
        "import pytest\n",
        "import scipy.ndimage as ndimage\n",
        "from scipy.ndimage.interpolation import zoom\n",
        "from skimage import measure, morphology, segmentation\n",
        "from time import time, sleep\n",
        "from tqdm import trange, tqdm\n",
        "import torch\n",
        "import torch.nn as nn\n",
        "import torch.nn.functional as F\n",
        "from torch.utils.data import Dataset, random_split, DistributedSampler, DataLoader\n",
        "from torch.utils.tensorboard import SummaryWriter\n",
        "from torchvision import transforms\n",
        "import warnings"
      ],
      "execution_count": 4,
      "outputs": []
    },
    {
      "cell_type": "code",
      "metadata": {
        "id": "2MepiJCewTlF"
      },
      "source": [
        "class CTTensorsDataset(Dataset):\n",
        "    def __init__(self, transform=None):\n",
        "        self.tensor_files = [Path(i) for i in glob.glob('/content/ID*')]\n",
        "        self.transform = transform\n",
        "\n",
        "    def __len__(self):\n",
        "        return len(self.tensor_files)\n",
        "\n",
        "    def __getitem__(self, item):\n",
        "        if torch.is_tensor(item):\n",
        "            item = item.tolist()\n",
        "\n",
        "        image = torch.load(self.tensor_files[item])\n",
        "        if self.transform:\n",
        "            image = self.transform(image)\n",
        "\n",
        "        return {\n",
        "            'patient_id': self.tensor_files[item].stem,\n",
        "            'image': image\n",
        "        }\n",
        "\n",
        "    def mean(self):\n",
        "        cum = 0\n",
        "        for i in range(len(self)):\n",
        "            sample = self[i]['image']\n",
        "            cum += torch.mean(sample).item()\n",
        "\n",
        "        return cum / len(self)\n",
        "\n",
        "    def random_split(self, val_size: float):\n",
        "        num_val = int(val_size * len(self))\n",
        "        num_train = len(self) - num_val\n",
        "        return random_split(self, [num_train, num_val])"
      ],
      "execution_count": 5,
      "outputs": []
    },
    {
      "cell_type": "code",
      "metadata": {
        "id": "rPhMVZeywtjZ"
      },
      "source": [
        "class ZeroCenter:\n",
        "    def __init__(self, pre_calculated_mean):\n",
        "        self.pre_calculated_mean = pre_calculated_mean\n",
        "\n",
        "    def __call__(self, tensor):\n",
        "        return tensor - self.pre_calculated_mean"
      ],
      "execution_count": 6,
      "outputs": []
    },
    {
      "cell_type": "code",
      "metadata": {
        "id": "jCZEkwnKwyg9"
      },
      "source": [
        "root_dir = '/kaggle/input/osic-cached-dataset'\n",
        "test_dir = '/kaggle/input/osic-pulmonary-fibrosis-progression/test'\n",
        "model_file = '/kaggle/working/diophantus.pt'\n",
        "resize_dims = (40, 256, 256)\n",
        "clip_bounds = (-1000, 200)\n",
        "watershed_iterations = 1\n",
        "pre_calculated_mean = 0.02865046213070556\n",
        "latent_features = 10\n",
        "batch_size = 16\n",
        "learning_rate = 3e-4\n",
        "num_epochs = 10\n",
        "val_size = 0.2\n",
        "tensorboard_dir = '/kaggle/working/runs'\n",
        "\n",
        "# Device configuration\n",
        "device = torch.device('cuda' if torch.cuda.is_available() else 'cpu')"
      ],
      "execution_count": 7,
      "outputs": []
    },
    {
      "cell_type": "code",
      "metadata": {
        "id": "R1lVm3VSweak"
      },
      "source": [
        "import glob\n",
        "train = CTTensorsDataset(\n",
        "    transform=ZeroCenter(pre_calculated_mean=pre_calculated_mean)\n",
        ")\n",
        "# cum = 0\n",
        "# for i in range(len(train)):\n",
        "#     sample = train[i]['image']\n",
        "#     cum += torch.mean(sample).item()\n",
        "\n",
        "# assert cum / len(train) == pytest.approx(0)"
      ],
      "execution_count": 8,
      "outputs": []
    },
    {
      "cell_type": "code",
      "metadata": {
        "id": "sTW4lnVLw2J1"
      },
      "source": [
        "class VarAutoEncoder(nn.Module):\n",
        "    def __init__(self, latent_features=latent_features):\n",
        "        super(VarAutoEncoder, self).__init__()\n",
        "        # Encoder\n",
        "        self.conv1 = nn.Conv3d(1, 16, 3)\n",
        "        self.conv2 = nn.Conv3d(16, 32, 3)\n",
        "        self.conv3 = nn.Conv3d(32, 96, 2)\n",
        "        self.conv4 = nn.Conv3d(96, 1, 1)\n",
        "        self.pool1 = nn.MaxPool3d(kernel_size=2, stride=2, return_indices=True)\n",
        "        self.pool2 = nn.MaxPool3d(kernel_size=3, stride=3, return_indices=True)\n",
        "        self.pool3 = nn.MaxPool3d(kernel_size=2, stride=2, return_indices=True)\n",
        "        self.pool4 = nn.MaxPool3d(kernel_size=2, stride=2, return_indices=True)\n",
        "        self.fc1 = nn.Linear(10 * 10, latent_features)\n",
        "        self.fc2 = nn.Linear(10 * 10, latent_features)\n",
        "        self.act=nn.LeakyReLU(0.1)\n",
        "        # Decoder\n",
        "        self.fc3 = nn.Linear(latent_features, 10 * 10)\n",
        "        self.deconv0 = nn.ConvTranspose3d(1, 96, 1)\n",
        "        self.deconv1 = nn.ConvTranspose3d(96, 32, 2)\n",
        "        self.deconv2 = nn.ConvTranspose3d(32, 16, 3)\n",
        "        self.deconv3 = nn.ConvTranspose3d(16, 1, 3)\n",
        "        self.unpool0 = nn.MaxUnpool3d(kernel_size=2, stride=2)\n",
        "        self.unpool1 = nn.MaxUnpool3d(kernel_size=2, stride=2)\n",
        "        self.unpool2 = nn.MaxUnpool3d(kernel_size=3, stride=3)\n",
        "        self.unpool3 = nn.MaxUnpool3d(kernel_size=2, stride=2)\n",
        "\n",
        "    def encode(self, x, return_partials=True):\n",
        "        # Encoder\n",
        "        x = self.act(self.conv1(x))\n",
        "        up3out_shape = x.shape\n",
        "        x, i1 = self.pool1(x)\n",
        "\n",
        "        x = self.act(self.conv2(x))\n",
        "        up2out_shape = x.shape\n",
        "        x, i2 = self.pool2(x)\n",
        "\n",
        "        x = self.act(self.conv3(x))\n",
        "        up1out_shape = x.shape\n",
        "        x, i3 = self.pool3(x)\n",
        "\n",
        "        x = self.act(self.conv4(x))\n",
        "        up0out_shape = x.shape\n",
        "        x, i4 = self.pool4(x)\n",
        "\n",
        "        x = x.view(-1, 10 * 10)\n",
        "        \n",
        "        mu = self.act(self.fc1(x))\n",
        "        log_var = self.act(self.fc2(x))\n",
        "        \n",
        "        if return_partials:\n",
        "            \n",
        "            return mu, log_var, up3out_shape, i1, up2out_shape, i2, up1out_shape, i3, \\\n",
        "                   up0out_shape, i4\n",
        "\n",
        "        else:\n",
        "            return mu, log_var\n",
        "    \n",
        "    def reparameterize(self, mu, log_var):\n",
        "        std = torch.exp(log_var/2)\n",
        "        eps = torch.randn_like(std)\n",
        "        return mu + eps * std\n",
        "    \n",
        "    def forward(self, x):\n",
        "        mu, log_var, up3out_shape, i1, up2out_shape, i2, \\\n",
        "        up1out_shape, i3, up0out_shape, i4 = self.encode(x)\n",
        "        \n",
        "        z = self.reparameterize(mu, log_var)\n",
        "       \n",
        "        # Decoder\n",
        "        x = F.relu(self.fc3(z))\n",
        "        x = x.view(-1, 1, 1, 10, 10)\n",
        "        x = self.unpool0(x, output_size=up0out_shape, indices=i4)\n",
        "        x = self.act(self.deconv0(x))\n",
        "        x = self.unpool1(x, output_size=up1out_shape, indices=i3)\n",
        "        x = self.act(self.deconv1(x))\n",
        "        x = self.unpool2(x, output_size=up2out_shape, indices=i2)\n",
        "        x = self.act(self.deconv2(x))\n",
        "        x = self.unpool3(x, output_size=up3out_shape, indices=i1)\n",
        "        x = self.act((self.deconv3(x)))\n",
        "\n",
        "        return x, mu, log_var"
      ],
      "execution_count": 9,
      "outputs": []
    },
    {
      "cell_type": "code",
      "metadata": {
        "id": "7uggc0K_w4Z0"
      },
      "source": [
        "t0 = time()\n",
        "\n",
        "# Load the data\n",
        "data = CTTensorsDataset(\n",
        "    transform=ZeroCenter(pre_calculated_mean=pre_calculated_mean)\n",
        ")\n",
        "train_set, val_set = data.random_split(val_size)\n",
        "datasets = {'train': train_set, 'val': val_set}\n",
        "dataloaders = {\n",
        "    x: DataLoader(\n",
        "        datasets[x],\n",
        "        batch_size=batch_size,\n",
        "        shuffle=(x == 'train'),\n",
        "        num_workers=2\n",
        "    ) for x in ['train', 'val']}\n",
        "\n",
        "dataset_sizes = {x: len(datasets[x]) for x in ['train', 'val']}\n",
        "\n",
        "# Prepare for training\n",
        "device = torch.device(\"cuda:0\" if torch.cuda.is_available() else \"cpu\")\n",
        "model = VarAutoEncoder(latent_features=latent_features).to(device)\n",
        "\n",
        "optimizer = torch.optim.Adam(model.parameters(), lr=learning_rate)\n",
        "best_model_wts = None\n",
        "best_loss = np.inf\n",
        "\n",
        "date_time = datetime.now().strftime(\"%Y%m%d-%H%M\")\n",
        "log_dir = Path(tensorboard_dir) / f'{date_time}'\n",
        "writer = SummaryWriter(log_dir)"
      ],
      "execution_count": 10,
      "outputs": []
    },
    {
      "cell_type": "code",
      "metadata": {
        "id": "BNn3kzUZw4cU",
        "outputId": "1154027a-6297-4572-fd3d-a3c41cdec8fd",
        "colab": {
          "base_uri": "https://localhost:8080/",
          "height": 1000
        }
      },
      "source": [
        "total_loss=  {'train':[],'val':[]}\n",
        "for epoch in range(100):\n",
        "\n",
        "    # Each epoch has a training and validation phase\n",
        "    for phase in ['train', 'val']:\n",
        "        if phase == 'train':\n",
        "            model.train()  # Set model to training mode\n",
        "        else:\n",
        "            model.eval()   # Set model to evaluate mode\n",
        "\n",
        "        running_loss = 0.0\n",
        "        running_preds = 0\n",
        "\n",
        "        # Iterate over data.\n",
        "        bar = tqdm(dataloaders[phase])\n",
        "        for inputs in bar:\n",
        "            bar.set_description(f'Epoch {epoch + 1} {phase}'.ljust(20))\n",
        "            inputs = inputs['image'].to(device, dtype=torch.float)\n",
        "\n",
        "            # zero the parameter gradients\n",
        "            optimizer.zero_grad()\n",
        "\n",
        "            # forward\n",
        "            # track history if only in train\n",
        "            with torch.set_grad_enabled(phase == 'train'):\n",
        "                outputs, mu, log_var = model(inputs)\n",
        "                \n",
        "                # For KL divergence, see Appendix B in VAE paper or http://yunjey47.tistory.com/43\n",
        "                reconst_loss = F.mse_loss(outputs, inputs, size_average=False)\n",
        "                kl_div = - 0.5 * torch.sum(1 + log_var - mu.pow(2) - log_var.exp())\n",
        "                \n",
        "                loss =  reconst_loss + kl_div\n",
        "\n",
        "                # backward + optimize only if in training phase\n",
        "                if phase == 'train':\n",
        "                    loss.backward()\n",
        "                    optimizer.step()\n",
        "\n",
        "            # statistics\n",
        "            running_loss += loss.item() * inputs.size(0)\n",
        "            running_preds += inputs.size(0)\n",
        "            bar.set_postfix(loss=f'{running_loss / running_preds:0.6f}')\n",
        "        total_loss[phase].append(loss.item()  )\n",
        "        epoch_loss = running_loss / dataset_sizes[phase]\n",
        "        writer.add_scalar(f'Loss/{phase}', epoch_loss, epoch)\n",
        "\n",
        "        # deep copy the model\n",
        "        if phase == 'val' and epoch_loss < best_loss:\n",
        "            best_loss = epoch_loss\n",
        "            best_model_wts = copy.deepcopy(model.state_dict())\n",
        "            torch.save(best_model_wts, model_file)\n",
        "\n",
        "# load best model weights\n",
        "model.load_state_dict(best_model_wts)\n",
        "\n",
        "print(f'Done! Time {timedelta(seconds=time() - t0)}')"
      ],
      "execution_count": 11,
      "outputs": [
        {
          "output_type": "stream",
          "text": [
            "Epoch 1 train       :   0%|          | 0/9 [00:05<?, ?it/s]/usr/local/lib/python3.6/dist-packages/torch/nn/_reduction.py:44: UserWarning: size_average and reduce args will be deprecated, please use reduction='sum' instead.\n",
            "  warnings.warn(warning.format(ret))\n",
            "Epoch 1 train       : 100%|██████████| 9/9 [00:33<00:00,  3.69s/it, loss=1500115.724291]\n",
            "Epoch 1 val         : 100%|██████████| 3/3 [00:12<00:00,  4.02s/it, loss=1388441.838393]\n",
            "Epoch 2 train       : 100%|██████████| 9/9 [00:34<00:00,  3.85s/it, loss=1426342.948582]\n",
            "Epoch 2 val         : 100%|██████████| 3/3 [00:12<00:00,  4.01s/it, loss=1322199.304464]\n",
            "Epoch 3 train       : 100%|██████████| 9/9 [00:27<00:00,  3.03s/it, loss=1359130.047872]\n",
            "Epoch 3 val         : 100%|██████████| 3/3 [00:03<00:00,  1.11s/it, loss=1262249.569643]\n",
            "Epoch 4 train       : 100%|██████████| 9/9 [00:27<00:00,  3.06s/it, loss=1297856.309397]\n",
            "Epoch 4 val         : 100%|██████████| 3/3 [00:03<00:00,  1.11s/it, loss=1203573.054464]\n",
            "Epoch 5 train       : 100%|██████████| 9/9 [00:27<00:00,  3.03s/it, loss=1235013.463652]\n",
            "Epoch 5 val         : 100%|██████████| 3/3 [00:03<00:00,  1.09s/it, loss=1142240.280357]\n",
            "Epoch 6 train       : 100%|██████████| 9/9 [00:27<00:00,  3.05s/it, loss=1169367.037234]\n",
            "Epoch 6 val         : 100%|██████████| 3/3 [00:03<00:00,  1.11s/it, loss=1077377.306250]\n",
            "Epoch 7 train       : 100%|██████████| 9/9 [00:27<00:00,  3.04s/it, loss=1100427.180851]\n",
            "Epoch 7 val         : 100%|██████████| 3/3 [00:03<00:00,  1.10s/it, loss=1010504.068750]\n",
            "Epoch 8 train       : 100%|██████████| 9/9 [00:27<00:00,  3.04s/it, loss=1031555.554078]\n",
            "Epoch 8 val         : 100%|██████████| 3/3 [00:03<00:00,  1.11s/it, loss=945236.887054]\n",
            "Epoch 9 train       : 100%|██████████| 9/9 [00:27<00:00,  3.04s/it, loss=963944.177748]\n",
            "Epoch 9 val         : 100%|██████████| 3/3 [00:03<00:00,  1.11s/it, loss=884000.062054]\n",
            "Epoch 10 train      : 100%|██████████| 9/9 [00:27<00:00,  3.04s/it, loss=903004.196365]\n",
            "Epoch 10 val        : 100%|██████████| 3/3 [00:03<00:00,  1.11s/it, loss=824461.612946]\n",
            "Epoch 11 train      : 100%|██████████| 9/9 [00:27<00:00,  3.04s/it, loss=843496.862589]\n",
            "Epoch 11 val        : 100%|██████████| 3/3 [00:03<00:00,  1.11s/it, loss=777332.852232]\n",
            "Epoch 12 train      : 100%|██████████| 9/9 [00:27<00:00,  3.04s/it, loss=799509.894504]\n",
            "Epoch 12 val        : 100%|██████████| 3/3 [00:03<00:00,  1.11s/it, loss=738695.685714]\n",
            "Epoch 13 train      : 100%|██████████| 9/9 [00:27<00:00,  3.05s/it, loss=763987.859043]\n",
            "Epoch 13 val        : 100%|██████████| 3/3 [00:03<00:00,  1.10s/it, loss=710841.241071]\n",
            "Epoch 14 train      : 100%|██████████| 9/9 [00:27<00:00,  3.05s/it, loss=736176.879433]\n",
            "Epoch 14 val        : 100%|██████████| 3/3 [00:03<00:00,  1.11s/it, loss=687300.726786]\n",
            "Epoch 15 train      : 100%|██████████| 9/9 [00:27<00:00,  3.04s/it, loss=715059.899823]\n",
            "Epoch 15 val        : 100%|██████████| 3/3 [00:03<00:00,  1.11s/it, loss=671829.254018]\n",
            "Epoch 16 train      : 100%|██████████| 9/9 [00:27<00:00,  3.04s/it, loss=700402.908688]\n",
            "Epoch 16 val        : 100%|██████████| 3/3 [00:03<00:00,  1.11s/it, loss=657640.271429]\n",
            "Epoch 17 train      : 100%|██████████| 9/9 [00:27<00:00,  3.04s/it, loss=685833.824911]\n",
            "Epoch 17 val        : 100%|██████████| 3/3 [00:03<00:00,  1.11s/it, loss=645453.513839]\n",
            "Epoch 18 train      : 100%|██████████| 9/9 [00:27<00:00,  3.05s/it, loss=674281.787899]\n",
            "Epoch 18 val        : 100%|██████████| 3/3 [00:03<00:00,  1.11s/it, loss=634297.275223]\n",
            "Epoch 19 train      : 100%|██████████| 9/9 [00:27<00:00,  3.04s/it, loss=661771.556294]\n",
            "Epoch 19 val        : 100%|██████████| 3/3 [00:03<00:00,  1.11s/it, loss=624308.149330]\n",
            "Epoch 20 train      : 100%|██████████| 9/9 [00:27<00:00,  3.04s/it, loss=651846.023936]\n",
            "Epoch 20 val        : 100%|██████████| 3/3 [00:03<00:00,  1.11s/it, loss=614812.972098]\n",
            "Epoch 21 train      : 100%|██████████| 9/9 [00:27<00:00,  3.05s/it, loss=641562.533245]\n",
            "Epoch 21 val        : 100%|██████████| 3/3 [00:03<00:00,  1.11s/it, loss=605969.785491]\n",
            "Epoch 22 train      : 100%|██████████| 9/9 [00:27<00:00,  3.05s/it, loss=631828.741135]\n",
            "Epoch 22 val        : 100%|██████████| 3/3 [00:03<00:00,  1.12s/it, loss=597164.775000]\n",
            "Epoch 23 train      : 100%|██████████| 9/9 [00:27<00:00,  3.05s/it, loss=622174.157358]\n",
            "Epoch 23 val        : 100%|██████████| 3/3 [00:03<00:00,  1.11s/it, loss=587997.580134]\n",
            "Epoch 24 train      : 100%|██████████| 9/9 [00:27<00:00,  3.03s/it, loss=612748.711658]\n",
            "Epoch 24 val        : 100%|██████████| 3/3 [00:03<00:00,  1.12s/it, loss=577128.356027]\n",
            "Epoch 25 train      : 100%|██████████| 9/9 [00:27<00:00,  3.04s/it, loss=599203.727394]\n",
            "Epoch 25 val        : 100%|██████████| 3/3 [00:03<00:00,  1.12s/it, loss=562980.608705]\n",
            "Epoch 26 train      : 100%|██████████| 9/9 [00:27<00:00,  3.04s/it, loss=580615.628103]\n",
            "Epoch 26 val        : 100%|██████████| 3/3 [00:03<00:00,  1.12s/it, loss=546269.986384]\n",
            "Epoch 27 train      : 100%|██████████| 9/9 [00:27<00:00,  3.04s/it, loss=565434.579566]\n",
            "Epoch 27 val        : 100%|██████████| 3/3 [00:03<00:00,  1.12s/it, loss=532313.039509]\n",
            "Epoch 28 train      : 100%|██████████| 9/9 [00:27<00:00,  3.04s/it, loss=551113.862589]\n",
            "Epoch 28 val        : 100%|██████████| 3/3 [00:03<00:00,  1.11s/it, loss=521203.791964]\n",
            "Epoch 29 train      : 100%|██████████| 9/9 [00:27<00:00,  3.05s/it, loss=537343.956117]\n",
            "Epoch 29 val        : 100%|██████████| 3/3 [00:03<00:00,  1.12s/it, loss=509090.566071]\n",
            "Epoch 30 train      : 100%|██████████| 9/9 [00:27<00:00,  3.05s/it, loss=525250.575798]\n",
            "Epoch 30 val        : 100%|██████████| 3/3 [00:03<00:00,  1.12s/it, loss=497800.937277]\n",
            "Epoch 31 train      : 100%|██████████| 9/9 [00:27<00:00,  3.05s/it, loss=514587.840204]\n",
            "Epoch 31 val        : 100%|██████████| 3/3 [00:03<00:00,  1.12s/it, loss=487483.003125]\n",
            "Epoch 32 train      : 100%|██████████| 9/9 [00:27<00:00,  3.05s/it, loss=501094.665559]\n",
            "Epoch 32 val        : 100%|██████████| 3/3 [00:03<00:00,  1.11s/it, loss=476106.638616]\n",
            "Epoch 33 train      : 100%|██████████| 9/9 [00:27<00:00,  3.05s/it, loss=489419.306294]\n",
            "Epoch 33 val        : 100%|██████████| 3/3 [00:03<00:00,  1.11s/it, loss=464830.148661]\n",
            "Epoch 34 train      : 100%|██████████| 9/9 [00:27<00:00,  3.05s/it, loss=479215.034353]\n",
            "Epoch 34 val        : 100%|██████████| 3/3 [00:03<00:00,  1.11s/it, loss=455791.936384]\n",
            "Epoch 35 train      : 100%|██████████| 9/9 [00:27<00:00,  3.04s/it, loss=468592.909131]\n",
            "Epoch 35 val        : 100%|██████████| 3/3 [00:03<00:00,  1.11s/it, loss=445678.733705]\n",
            "Epoch 36 train      : 100%|██████████| 9/9 [00:27<00:00,  3.05s/it, loss=456932.907137]\n",
            "Epoch 36 val        : 100%|██████████| 3/3 [00:03<00:00,  1.11s/it, loss=432936.073884]\n",
            "Epoch 37 train      : 100%|██████████| 9/9 [00:27<00:00,  3.05s/it, loss=444386.785904]\n",
            "Epoch 37 val        : 100%|██████████| 3/3 [00:03<00:00,  1.12s/it, loss=421994.485714]\n",
            "Epoch 38 train      : 100%|██████████| 9/9 [00:27<00:00,  3.04s/it, loss=432584.630541]\n",
            "Epoch 38 val        : 100%|██████████| 3/3 [00:03<00:00,  1.11s/it, loss=411646.929688]\n",
            "Epoch 39 train      : 100%|██████████| 9/9 [00:27<00:00,  3.04s/it, loss=422141.082890]\n",
            "Epoch 39 val        : 100%|██████████| 3/3 [00:03<00:00,  1.11s/it, loss=401595.429464]\n",
            "Epoch 40 train      : 100%|██████████| 9/9 [00:27<00:00,  3.04s/it, loss=412492.461436]\n",
            "Epoch 40 val        : 100%|██████████| 3/3 [00:03<00:00,  1.11s/it, loss=393516.197321]\n",
            "Epoch 41 train      : 100%|██████████| 9/9 [00:27<00:00,  3.05s/it, loss=403455.085771]\n",
            "Epoch 41 val        : 100%|██████████| 3/3 [00:03<00:00,  1.11s/it, loss=385094.687054]\n",
            "Epoch 42 train      : 100%|██████████| 9/9 [00:27<00:00,  3.05s/it, loss=394757.580452]\n",
            "Epoch 42 val        : 100%|██████████| 3/3 [00:03<00:00,  1.12s/it, loss=376940.395089]\n",
            "Epoch 43 train      : 100%|██████████| 9/9 [00:27<00:00,  3.05s/it, loss=385614.749113]\n",
            "Epoch 43 val        : 100%|██████████| 3/3 [00:03<00:00,  1.11s/it, loss=368956.125446]\n",
            "Epoch 44 train      : 100%|██████████| 9/9 [00:27<00:00,  3.05s/it, loss=378759.766401]\n",
            "Epoch 44 val        : 100%|██████████| 3/3 [00:03<00:00,  1.11s/it, loss=361263.650223]\n",
            "Epoch 45 train      : 100%|██████████| 9/9 [00:27<00:00,  3.04s/it, loss=371033.886082]\n",
            "Epoch 45 val        : 100%|██████████| 3/3 [00:03<00:00,  1.11s/it, loss=355830.694866]\n",
            "Epoch 46 train      : 100%|██████████| 9/9 [00:27<00:00,  3.05s/it, loss=365001.394725]\n",
            "Epoch 46 val        : 100%|██████████| 3/3 [00:03<00:00,  1.12s/it, loss=349647.450670]\n",
            "Epoch 47 train      : 100%|██████████| 9/9 [00:27<00:00,  3.05s/it, loss=358546.519282]\n",
            "Epoch 47 val        : 100%|██████████| 3/3 [00:03<00:00,  1.12s/it, loss=343804.553795]\n",
            "Epoch 48 train      : 100%|██████████| 9/9 [00:27<00:00,  3.05s/it, loss=352468.145833]\n",
            "Epoch 48 val        : 100%|██████████| 3/3 [00:03<00:00,  1.11s/it, loss=338328.422991]\n",
            "Epoch 49 train      : 100%|██████████| 9/9 [00:27<00:00,  3.05s/it, loss=346625.783688]\n",
            "Epoch 49 val        : 100%|██████████| 3/3 [00:03<00:00,  1.11s/it, loss=333430.725446]\n",
            "Epoch 50 train      : 100%|██████████| 9/9 [00:27<00:00,  3.05s/it, loss=341897.984707]\n",
            "Epoch 50 val        : 100%|██████████| 3/3 [00:03<00:00,  1.12s/it, loss=328628.055580]\n",
            "Epoch 51 train      : 100%|██████████| 9/9 [00:27<00:00,  3.04s/it, loss=337021.147606]\n",
            "Epoch 51 val        : 100%|██████████| 3/3 [00:03<00:00,  1.11s/it, loss=324231.331696]\n",
            "Epoch 52 train      : 100%|██████████| 9/9 [00:27<00:00,  3.04s/it, loss=331498.529477]\n",
            "Epoch 52 val        : 100%|██████████| 3/3 [00:03<00:00,  1.10s/it, loss=320129.186942]\n",
            "Epoch 53 train      : 100%|██████████| 9/9 [00:27<00:00,  3.04s/it, loss=328059.835328]\n",
            "Epoch 53 val        : 100%|██████████| 3/3 [00:03<00:00,  1.10s/it, loss=316235.750000]\n",
            "Epoch 54 train      : 100%|██████████| 9/9 [00:27<00:00,  3.04s/it, loss=323727.194592]\n",
            "Epoch 54 val        : 100%|██████████| 3/3 [00:03<00:00,  1.09s/it, loss=312587.915960]\n",
            "Epoch 55 train      : 100%|██████████| 9/9 [00:27<00:00,  3.03s/it, loss=319737.330230]\n",
            "Epoch 55 val        : 100%|██████████| 3/3 [00:03<00:00,  1.11s/it, loss=309057.937165]\n",
            "Epoch 56 train      : 100%|██████████| 9/9 [00:27<00:00,  3.05s/it, loss=316379.518174]\n",
            "Epoch 56 val        : 100%|██████████| 3/3 [00:03<00:00,  1.11s/it, loss=305571.866183]\n",
            "Epoch 57 train      : 100%|██████████| 9/9 [00:27<00:00,  3.04s/it, loss=312376.021720]\n",
            "Epoch 57 val        : 100%|██████████| 3/3 [00:03<00:00,  1.10s/it, loss=302350.909152]\n",
            "Epoch 58 train      : 100%|██████████| 9/9 [00:27<00:00,  3.03s/it, loss=309915.162566]\n",
            "Epoch 58 val        : 100%|██████████| 3/3 [00:03<00:00,  1.10s/it, loss=299385.880580]\n",
            "Epoch 59 train      : 100%|██████████| 9/9 [00:27<00:00,  3.04s/it, loss=306612.090869]\n",
            "Epoch 59 val        : 100%|██████████| 3/3 [00:03<00:00,  1.10s/it, loss=296555.650112]\n",
            "Epoch 60 train      : 100%|██████████| 9/9 [00:27<00:00,  3.03s/it, loss=302897.314716]\n",
            "Epoch 60 val        : 100%|██████████| 3/3 [00:03<00:00,  1.09s/it, loss=293611.440625]\n",
            "Epoch 61 train      : 100%|██████████| 9/9 [00:27<00:00,  3.03s/it, loss=300622.520390]\n",
            "Epoch 61 val        : 100%|██████████| 3/3 [00:03<00:00,  1.09s/it, loss=290875.329241]\n",
            "Epoch 62 train      : 100%|██████████| 9/9 [00:27<00:00,  3.03s/it, loss=298565.081449]\n",
            "Epoch 62 val        : 100%|██████████| 3/3 [00:03<00:00,  1.08s/it, loss=288134.816406]\n",
            "Epoch 63 train      : 100%|██████████| 9/9 [00:27<00:00,  3.02s/it, loss=294209.871121]\n",
            "Epoch 63 val        : 100%|██████████| 3/3 [00:03<00:00,  1.08s/it, loss=285147.329688]\n",
            "Epoch 64 train      : 100%|██████████| 9/9 [00:27<00:00,  3.03s/it, loss=291549.193595]\n",
            "Epoch 64 val        : 100%|██████████| 3/3 [00:03<00:00,  1.08s/it, loss=282128.357366]\n",
            "Epoch 65 train      : 100%|██████████| 9/9 [00:27<00:00,  3.03s/it, loss=288883.191933]\n",
            "Epoch 65 val        : 100%|██████████| 3/3 [00:03<00:00,  1.08s/it, loss=279344.039286]\n",
            "Epoch 66 train      : 100%|██████████| 9/9 [00:27<00:00,  3.04s/it, loss=285806.294880]\n",
            "Epoch 66 val        : 100%|██████████| 3/3 [00:03<00:00,  1.08s/it, loss=277072.480134]\n",
            "Epoch 67 train      : 100%|██████████| 9/9 [00:27<00:00,  3.03s/it, loss=284146.917221]\n",
            "Epoch 67 val        : 100%|██████████| 3/3 [00:03<00:00,  1.08s/it, loss=274632.778237]\n",
            "Epoch 68 train      : 100%|██████████| 9/9 [00:27<00:00,  3.02s/it, loss=280315.041556]\n",
            "Epoch 68 val        : 100%|██████████| 3/3 [00:03<00:00,  1.07s/it, loss=272640.029018]\n",
            "Epoch 69 train      : 100%|██████████| 9/9 [00:27<00:00,  3.03s/it, loss=279115.018063]\n",
            "Epoch 69 val        : 100%|██████████| 3/3 [00:03<00:00,  1.08s/it, loss=270288.099219]\n",
            "Epoch 70 train      : 100%|██████████| 9/9 [00:27<00:00,  3.03s/it, loss=276174.631095]\n",
            "Epoch 70 val        : 100%|██████████| 3/3 [00:03<00:00,  1.10s/it, loss=268561.047545]\n",
            "Epoch 71 train      : 100%|██████████| 9/9 [00:27<00:00,  3.03s/it, loss=274427.410904]\n",
            "Epoch 71 val        : 100%|██████████| 3/3 [00:03<00:00,  1.12s/it, loss=266481.443415]\n",
            "Epoch 72 train      : 100%|██████████| 9/9 [00:27<00:00,  3.04s/it, loss=272939.786680]\n",
            "Epoch 72 val        : 100%|██████████| 3/3 [00:03<00:00,  1.10s/it, loss=264706.070982]\n",
            "Epoch 73 train      : 100%|██████████| 9/9 [00:27<00:00,  3.04s/it, loss=269627.864583]\n",
            "Epoch 73 val        : 100%|██████████| 3/3 [00:03<00:00,  1.10s/it, loss=263002.786607]\n",
            "Epoch 74 train      : 100%|██████████| 9/9 [00:27<00:00,  3.03s/it, loss=268686.795767]\n",
            "Epoch 74 val        : 100%|██████████| 3/3 [00:03<00:00,  1.10s/it, loss=261389.434375]\n",
            "Epoch 75 train      : 100%|██████████| 9/9 [00:27<00:00,  3.03s/it, loss=267056.446698]\n",
            "Epoch 75 val        : 100%|██████████| 3/3 [00:03<00:00,  1.09s/it, loss=260171.108817]\n",
            "Epoch 76 train      : 100%|██████████| 9/9 [00:27<00:00,  3.03s/it, loss=265899.005319]\n",
            "Epoch 76 val        : 100%|██████████| 3/3 [00:03<00:00,  1.09s/it, loss=258932.323549]\n",
            "Epoch 77 train      : 100%|██████████| 9/9 [00:27<00:00,  3.03s/it, loss=264922.188054]\n",
            "Epoch 77 val        : 100%|██████████| 3/3 [00:03<00:00,  1.10s/it, loss=257774.166741]\n",
            "Epoch 78 train      : 100%|██████████| 9/9 [00:27<00:00,  3.03s/it, loss=263472.067154]\n",
            "Epoch 78 val        : 100%|██████████| 3/3 [00:03<00:00,  1.10s/it, loss=256909.759821]\n",
            "Epoch 79 train      : 100%|██████████| 9/9 [00:27<00:00,  3.04s/it, loss=262535.546321]\n",
            "Epoch 79 val        : 100%|██████████| 3/3 [00:03<00:00,  1.10s/it, loss=256098.487723]\n",
            "Epoch 80 train      : 100%|██████████| 9/9 [00:27<00:00,  3.03s/it, loss=262605.266401]\n",
            "Epoch 80 val        : 100%|██████████| 3/3 [00:03<00:00,  1.10s/it, loss=255494.172991]\n",
            "Epoch 81 train      : 100%|██████████| 9/9 [00:27<00:00,  3.03s/it, loss=261966.002992]\n",
            "Epoch 81 val        : 100%|██████████| 3/3 [00:03<00:00,  1.09s/it, loss=255746.300558]\n",
            "Epoch 82 train      : 100%|██████████| 9/9 [00:27<00:00,  3.03s/it, loss=263269.511192]\n",
            "Epoch 82 val        : 100%|██████████| 3/3 [00:03<00:00,  1.09s/it, loss=257314.899777]\n",
            "Epoch 83 train      : 100%|██████████| 9/9 [00:27<00:00,  3.03s/it, loss=265242.931516]\n",
            "Epoch 83 val        : 100%|██████████| 3/3 [00:03<00:00,  1.10s/it, loss=258951.003460]\n",
            "Epoch 84 train      : 100%|██████████| 9/9 [00:27<00:00,  3.04s/it, loss=263731.820257]\n",
            "Epoch 84 val        : 100%|██████████| 3/3 [00:03<00:00,  1.10s/it, loss=254591.247210]\n",
            "Epoch 85 train      : 100%|██████████| 9/9 [00:27<00:00,  3.03s/it, loss=258959.340869]\n",
            "Epoch 85 val        : 100%|██████████| 3/3 [00:03<00:00,  1.10s/it, loss=251039.335714]\n",
            "Epoch 86 train      : 100%|██████████| 9/9 [00:27<00:00,  3.03s/it, loss=255013.346853]\n",
            "Epoch 86 val        : 100%|██████████| 3/3 [00:03<00:00,  1.09s/it, loss=245870.621205]\n",
            "Epoch 87 train      : 100%|██████████| 9/9 [00:27<00:00,  3.03s/it, loss=249538.899379]\n",
            "Epoch 87 val        : 100%|██████████| 3/3 [00:03<00:00,  1.10s/it, loss=240307.038839]\n",
            "Epoch 88 train      : 100%|██████████| 9/9 [00:27<00:00,  3.03s/it, loss=245067.484375]\n",
            "Epoch 88 val        : 100%|██████████| 3/3 [00:03<00:00,  1.10s/it, loss=238251.878460]\n",
            "Epoch 89 train      : 100%|██████████| 9/9 [00:27<00:00,  3.03s/it, loss=241690.513963]\n",
            "Epoch 89 val        : 100%|██████████| 3/3 [00:03<00:00,  1.09s/it, loss=235177.667634]\n",
            "Epoch 90 train      : 100%|██████████| 9/9 [00:27<00:00,  3.04s/it, loss=240336.478391]\n",
            "Epoch 90 val        : 100%|██████████| 3/3 [00:03<00:00,  1.10s/it, loss=234884.084598]\n",
            "Epoch 91 train      : 100%|██████████| 9/9 [00:27<00:00,  3.03s/it, loss=240703.631649]\n",
            "Epoch 91 val        : 100%|██████████| 3/3 [00:03<00:00,  1.09s/it, loss=234540.902455]\n",
            "Epoch 92 train      : 100%|██████████| 9/9 [00:27<00:00,  3.03s/it, loss=238473.587323]\n",
            "Epoch 92 val        : 100%|██████████| 3/3 [00:03<00:00,  1.09s/it, loss=234886.549107]\n",
            "Epoch 93 train      : 100%|██████████| 9/9 [00:27<00:00,  3.02s/it, loss=238270.986370]\n",
            "Epoch 93 val        : 100%|██████████| 3/3 [00:03<00:00,  1.09s/it, loss=230519.771094]\n",
            "Epoch 94 train      : 100%|██████████| 9/9 [00:27<00:00,  3.03s/it, loss=237544.378435]\n",
            "Epoch 94 val        : 100%|██████████| 3/3 [00:03<00:00,  1.09s/it, loss=232359.625670]\n",
            "Epoch 95 train      : 100%|██████████| 9/9 [00:27<00:00,  3.03s/it, loss=236024.568041]\n",
            "Epoch 95 val        : 100%|██████████| 3/3 [00:03<00:00,  1.09s/it, loss=232138.546987]\n",
            "Epoch 96 train      : 100%|██████████| 9/9 [00:27<00:00,  3.03s/it, loss=234379.426197]\n",
            "Epoch 96 val        : 100%|██████████| 3/3 [00:03<00:00,  1.10s/it, loss=227719.476339]\n",
            "Epoch 97 train      : 100%|██████████| 9/9 [00:27<00:00,  3.02s/it, loss=232937.741467]\n",
            "Epoch 97 val        : 100%|██████████| 3/3 [00:03<00:00,  1.10s/it, loss=228464.183371]\n",
            "Epoch 98 train      : 100%|██████████| 9/9 [00:27<00:00,  3.02s/it, loss=231311.390957]\n",
            "Epoch 98 val        : 100%|██████████| 3/3 [00:03<00:00,  1.10s/it, loss=225757.054911]\n",
            "Epoch 99 train      : 100%|██████████| 9/9 [00:27<00:00,  3.03s/it, loss=228848.920988]\n",
            "Epoch 99 val        : 100%|██████████| 3/3 [00:03<00:00,  1.09s/it, loss=223521.362835]\n",
            "Epoch 100 train     : 100%|██████████| 9/9 [00:27<00:00,  3.03s/it, loss=227019.516068]\n",
            "Epoch 100 val       : 100%|██████████| 3/3 [00:03<00:00,  1.10s/it, loss=220795.663728]"
          ],
          "name": "stderr"
        },
        {
          "output_type": "stream",
          "text": [
            "Done! Time 0:51:46.109964\n"
          ],
          "name": "stdout"
        },
        {
          "output_type": "stream",
          "text": [
            "\n"
          ],
          "name": "stderr"
        }
      ]
    },
    {
      "cell_type": "code",
      "metadata": {
        "id": "QkYBl9H52A9p",
        "outputId": "973db006-7c9f-40cb-99a3-59c3e984aa47",
        "colab": {
          "base_uri": "https://localhost:8080/",
          "height": 294
        }
      },
      "source": [
        "import seaborn as sns\n",
        "sns.lineplot(y=total_loss['train'],x=list(range(len(total_loss['train']))))"
      ],
      "execution_count": 12,
      "outputs": [
        {
          "output_type": "execute_result",
          "data": {
            "text/plain": [
              "<matplotlib.axes._subplots.AxesSubplot at 0x7f8ed07d2208>"
            ]
          },
          "metadata": {
            "tags": []
          },
          "execution_count": 12
        },
        {
          "output_type": "display_data",
          "data": {
            "image/png": "[encoded data removed]",
            "text/plain": [
              "<Figure size 432x288 with 1 Axes>"
            ]
          },
          "metadata": {
            "tags": [],
            "needs_background": "light"
          }
        }
      ]
    },
    {
      "cell_type": "code",
      "metadata": {
        "id": "_OtoWy6n5L9i",
        "outputId": "cea4051e-0972-47ed-cc13-7765dfc8d9a4",
        "colab": {
          "base_uri": "https://localhost:8080/",
          "height": 283
        }
      },
      "source": [
        "sns.lineplot(y=total_loss['val'],x=list(range(len(total_loss['val']))))"
      ],
      "execution_count": 13,
      "outputs": [
        {
          "output_type": "execute_result",
          "data": {
            "text/plain": [
              "<matplotlib.axes._subplots.AxesSubplot at 0x7f8ed0712e80>"
            ]
          },
          "metadata": {
            "tags": []
          },
          "execution_count": 13
        },
        {
          "output_type": "display_data",
          "data": {
            "image/png": "[encoded data removed]",
            "text/plain": [
              "<Figure size 432x288 with 1 Axes>"
            ]
          },
          "metadata": {
            "tags": [],
            "needs_background": "light"
          }
        }
      ]
    },
    {
      "cell_type": "code",
      "metadata": {
        "id": "JL0-CSdIR5Rt"
      },
      "source": [
        ""
      ],
      "execution_count": null,
      "outputs": []
    }
  ]
}