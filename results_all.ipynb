{
  "nbformat": 4,
  "nbformat_minor": 0,
  "metadata": {
    "colab": {
      "name": "results_all.ipynb",
      "provenance": [],
      "authorship_tag": "ABX9TyMadyhkLFcQ6k2Zo3qp2SDH",
      "include_colab_link": true
    },
    "kernelspec": {
      "name": "python3",
      "display_name": "Python 3"
    }
  },
  "cells": [
    {
      "cell_type": "markdown",
      "metadata": {
        "id": "view-in-github",
        "colab_type": "text"
      },
      "source": [
        "<a href=\"https://colab.research.google.com/github/greyhound101/internship/blob/master/results_all.ipynb\" target=\"_parent\"><img src=\"https://colab.research.google.com/assets/colab-badge.svg\" alt=\"Open In Colab\"/></a>"
      ]
    },
    {
      "cell_type": "markdown",
      "metadata": {
        "id": "vR6APZls7_TW",
        "colab_type": "text"
      },
      "source": [
        "Accuracy"
      ]
    },
    {
      "cell_type": "code",
      "metadata": {
        "id": "qf6o3DvW7f6Y",
        "colab_type": "code",
        "outputId": "8815b45f-73de-4462-b813-bfad9c6b7ff8",
        "colab": {
          "base_uri": "https://localhost:8080/",
          "height": 462
        }
      },
      "source": [
        "import pandas as pd\n",
        "inceptionv3_best=[95.6,51.1]\n",
        "inceptionv3_final=[91.8,50]\n",
        "mobilenet_best=[95.6,65.6]\n",
        "mobilenet_final=[93.8,56.9]\n",
        "vgg16_best=[91.6,86.9]\n",
        "vgg16_final=[91.1,85.8]\n",
        "vgg19_final=[89.9,84.2]\n",
        "vgg19_best=[90.6,85.6]\n",
        "squeezenet_best=[94.6,78.4]\n",
        "squeezenet_final=[93.4,76.2]\n",
        "densenet_best=[95.7,56.4]\n",
        "densenet_final=[92.1,55.0]\n",
        "resnet_best=[95.0,43.1]\n",
        "resnet_final=[92.9,23.0]\n",
        "accuracy_results=pd.DataFrame()\n",
        "accuracy_results['inceptionv3_best']=inceptionv3_best\n",
        "accuracy_results['inceptionv3_final']=inceptionv3_final\n",
        "accuracy_results['mobilenet_best']=mobilenet_best\n",
        "accuracy_results['mobilenet_final']=mobilenet_final\n",
        "accuracy_results['vgg16_best']=vgg16_best\n",
        "accuracy_results['vgg16_final']=vgg16_final\n",
        "accuracy_results['vgg19_best']=vgg19_best\n",
        "accuracy_results['vgg19_final']=vgg19_final\n",
        "accuracy_results['squeezenet_best']=squeezenet_best\n",
        "accuracy_results['squeezenet_final']=squeezenet_final\n",
        "accuracy_results['densenet_best']=densenet_best\n",
        "accuracy_results['densenet_final']=densenet_final\n",
        "accuracy_results['resnet_best']=resnet_best\n",
        "accuracy_results['resnet_final']=resnet_final\n",
        "accuracy_results.index=['all_layers','final_layer']\n",
        "accuracy_results.T"
      ],
      "execution_count": 1,
      "outputs": [
        {
          "output_type": "execute_result",
          "data": {
            "text/html": [
              "<div>\n",
              "<style scoped>\n",
              "    .dataframe tbody tr th:only-of-type {\n",
              "        vertical-align: middle;\n",
              "    }\n",
              "\n",
              "    .dataframe tbody tr th {\n",
              "        vertical-align: top;\n",
              "    }\n",
              "\n",
              "    .dataframe thead th {\n",
              "        text-align: right;\n",
              "    }\n",
              "</style>\n",
              "<table border=\"1\" class=\"dataframe\">\n",
              "  <thead>\n",
              "    <tr style=\"text-align: right;\">\n",
              "      <th></th>\n",
              "      <th>all_layers</th>\n",
              "      <th>final_layer</th>\n",
              "    </tr>\n",
              "  </thead>\n",
              "  <tbody>\n",
              "    <tr>\n",
              "      <th>inceptionv3_best</th>\n",
              "      <td>95.6</td>\n",
              "      <td>51.1</td>\n",
              "    </tr>\n",
              "    <tr>\n",
              "      <th>inceptionv3_final</th>\n",
              "      <td>91.8</td>\n",
              "      <td>50.0</td>\n",
              "    </tr>\n",
              "    <tr>\n",
              "      <th>mobilenet_best</th>\n",
              "      <td>95.6</td>\n",
              "      <td>65.6</td>\n",
              "    </tr>\n",
              "    <tr>\n",
              "      <th>mobilenet_final</th>\n",
              "      <td>93.8</td>\n",
              "      <td>56.9</td>\n",
              "    </tr>\n",
              "    <tr>\n",
              "      <th>vgg16_best</th>\n",
              "      <td>91.6</td>\n",
              "      <td>86.9</td>\n",
              "    </tr>\n",
              "    <tr>\n",
              "      <th>vgg16_final</th>\n",
              "      <td>91.1</td>\n",
              "      <td>85.8</td>\n",
              "    </tr>\n",
              "    <tr>\n",
              "      <th>vgg19_best</th>\n",
              "      <td>90.6</td>\n",
              "      <td>85.6</td>\n",
              "    </tr>\n",
              "    <tr>\n",
              "      <th>vgg19_final</th>\n",
              "      <td>89.9</td>\n",
              "      <td>84.2</td>\n",
              "    </tr>\n",
              "    <tr>\n",
              "      <th>squeezenet_best</th>\n",
              "      <td>94.6</td>\n",
              "      <td>78.4</td>\n",
              "    </tr>\n",
              "    <tr>\n",
              "      <th>squeezenet_final</th>\n",
              "      <td>93.4</td>\n",
              "      <td>76.2</td>\n",
              "    </tr>\n",
              "    <tr>\n",
              "      <th>densenet_best</th>\n",
              "      <td>95.7</td>\n",
              "      <td>56.4</td>\n",
              "    </tr>\n",
              "    <tr>\n",
              "      <th>densenet_final</th>\n",
              "      <td>92.1</td>\n",
              "      <td>55.0</td>\n",
              "    </tr>\n",
              "    <tr>\n",
              "      <th>resnet_best</th>\n",
              "      <td>95.0</td>\n",
              "      <td>43.1</td>\n",
              "    </tr>\n",
              "    <tr>\n",
              "      <th>resnet_final</th>\n",
              "      <td>92.9</td>\n",
              "      <td>23.0</td>\n",
              "    </tr>\n",
              "  </tbody>\n",
              "</table>\n",
              "</div>"
            ],
            "text/plain": [
              "                   all_layers  final_layer\n",
              "inceptionv3_best         95.6         51.1\n",
              "inceptionv3_final        91.8         50.0\n",
              "mobilenet_best           95.6         65.6\n",
              "mobilenet_final          93.8         56.9\n",
              "vgg16_best               91.6         86.9\n",
              "vgg16_final              91.1         85.8\n",
              "vgg19_best               90.6         85.6\n",
              "vgg19_final              89.9         84.2\n",
              "squeezenet_best          94.6         78.4\n",
              "squeezenet_final         93.4         76.2\n",
              "densenet_best            95.7         56.4\n",
              "densenet_final           92.1         55.0\n",
              "resnet_best              95.0         43.1\n",
              "resnet_final             92.9         23.0"
            ]
          },
          "metadata": {
            "tags": []
          },
          "execution_count": 1
        }
      ]
    },
    {
      "cell_type": "markdown",
      "metadata": {
        "id": "agpo6UBqARG6",
        "colab_type": "text"
      },
      "source": [
        "Time"
      ]
    },
    {
      "cell_type": "code",
      "metadata": {
        "id": "AI_BKTwG_gWF",
        "colab_type": "code",
        "outputId": "195e7812-a889-4d6a-bd1a-7dd0f6185807",
        "colab": {
          "base_uri": "https://localhost:8080/",
          "height": 254
        }
      },
      "source": [
        "import pandas as pd\n",
        "inceptionv3=[2056,1652]\n",
        "mobilenet=[1053,354]\n",
        "vgg16=[1218,1073]\n",
        "vgg19=[1406,1223]\n",
        "squeezenet=[4761,3691]\n",
        "densenet=[2126,766]\n",
        "resnet=[1665,1298]\n",
        "accuracy_results=pd.DataFrame()\n",
        "accuracy_results['inceptionv3']=inceptionv3\n",
        "accuracy_results['mobilenet']=mobilenet\n",
        "accuracy_results['vgg16']=vgg16\n",
        "accuracy_results['vgg19']=vgg19\n",
        "accuracy_results['squeezenet']=squeezenet\n",
        "accuracy_results['densenet']=densenet\n",
        "accuracy_results['resnet']=resnet\n",
        "accuracy_results.index=['all_layers','final_layer']\n",
        "accuracy_results.T"
      ],
      "execution_count": 2,
      "outputs": [
        {
          "output_type": "execute_result",
          "data": {
            "text/html": [
              "<div>\n",
              "<style scoped>\n",
              "    .dataframe tbody tr th:only-of-type {\n",
              "        vertical-align: middle;\n",
              "    }\n",
              "\n",
              "    .dataframe tbody tr th {\n",
              "        vertical-align: top;\n",
              "    }\n",
              "\n",
              "    .dataframe thead th {\n",
              "        text-align: right;\n",
              "    }\n",
              "</style>\n",
              "<table border=\"1\" class=\"dataframe\">\n",
              "  <thead>\n",
              "    <tr style=\"text-align: right;\">\n",
              "      <th></th>\n",
              "      <th>all_layers</th>\n",
              "      <th>final_layer</th>\n",
              "    </tr>\n",
              "  </thead>\n",
              "  <tbody>\n",
              "    <tr>\n",
              "      <th>inceptionv3</th>\n",
              "      <td>2056</td>\n",
              "      <td>1652</td>\n",
              "    </tr>\n",
              "    <tr>\n",
              "      <th>mobilenet</th>\n",
              "      <td>1053</td>\n",
              "      <td>354</td>\n",
              "    </tr>\n",
              "    <tr>\n",
              "      <th>vgg16</th>\n",
              "      <td>1218</td>\n",
              "      <td>1073</td>\n",
              "    </tr>\n",
              "    <tr>\n",
              "      <th>vgg19</th>\n",
              "      <td>1406</td>\n",
              "      <td>1223</td>\n",
              "    </tr>\n",
              "    <tr>\n",
              "      <th>squeezenet</th>\n",
              "      <td>4761</td>\n",
              "      <td>3691</td>\n",
              "    </tr>\n",
              "    <tr>\n",
              "      <th>densenet</th>\n",
              "      <td>2126</td>\n",
              "      <td>766</td>\n",
              "    </tr>\n",
              "    <tr>\n",
              "      <th>resnet</th>\n",
              "      <td>1665</td>\n",
              "      <td>1298</td>\n",
              "    </tr>\n",
              "  </tbody>\n",
              "</table>\n",
              "</div>"
            ],
            "text/plain": [
              "             all_layers  final_layer\n",
              "inceptionv3        2056         1652\n",
              "mobilenet          1053          354\n",
              "vgg16              1218         1073\n",
              "vgg19              1406         1223\n",
              "squeezenet         4761         3691\n",
              "densenet           2126          766\n",
              "resnet             1665         1298"
            ]
          },
          "metadata": {
            "tags": []
          },
          "execution_count": 2
        }
      ]
    },
    {
      "cell_type": "markdown",
      "metadata": {
        "id": "fO-LdXKMU-0X",
        "colab_type": "text"
      },
      "source": [
        "With augmentation accuracy"
      ]
    },
    {
      "cell_type": "code",
      "metadata": {
        "id": "flyS0Or__mev",
        "colab_type": "code",
        "colab": {
          "base_uri": "https://localhost:8080/",
          "height": 77
        },
        "outputId": "6ae03380-79ed-4ac1-a150-4d4847752e3a"
      },
      "source": [
        "inception=pd.DataFrame([93.9,60.5])\n",
        "inception.index=['all_layers','last_layer']\n",
        "inception.columns=['inception']\n",
        "inception.T"
      ],
      "execution_count": 7,
      "outputs": [
        {
          "output_type": "execute_result",
          "data": {
            "text/html": [
              "<div>\n",
              "<style scoped>\n",
              "    .dataframe tbody tr th:only-of-type {\n",
              "        vertical-align: middle;\n",
              "    }\n",
              "\n",
              "    .dataframe tbody tr th {\n",
              "        vertical-align: top;\n",
              "    }\n",
              "\n",
              "    .dataframe thead th {\n",
              "        text-align: right;\n",
              "    }\n",
              "</style>\n",
              "<table border=\"1\" class=\"dataframe\">\n",
              "  <thead>\n",
              "    <tr style=\"text-align: right;\">\n",
              "      <th></th>\n",
              "      <th>all_layers</th>\n",
              "      <th>last_layer</th>\n",
              "    </tr>\n",
              "  </thead>\n",
              "  <tbody>\n",
              "    <tr>\n",
              "      <th>inception</th>\n",
              "      <td>93.9</td>\n",
              "      <td>60.5</td>\n",
              "    </tr>\n",
              "  </tbody>\n",
              "</table>\n",
              "</div>"
            ],
            "text/plain": [
              "           all_layers  last_layer\n",
              "inception        93.9        60.5"
            ]
          },
          "metadata": {
            "tags": []
          },
          "execution_count": 7
        }
      ]
    },
    {
      "cell_type": "markdown",
      "metadata": {
        "id": "kZKgWh54WAun",
        "colab_type": "text"
      },
      "source": [
        "With augmentation time"
      ]
    },
    {
      "cell_type": "code",
      "metadata": {
        "id": "BxqQ5dmtVhmI",
        "colab_type": "code",
        "colab": {
          "base_uri": "https://localhost:8080/",
          "height": 77
        },
        "outputId": "f880560f-de75-406e-99af-5d48ffa21469"
      },
      "source": [
        "inception=pd.DataFrame([8743,3565])\n",
        "inception.index=['all_layers','last_layer']\n",
        "inception.columns=['inception']\n",
        "inception.T"
      ],
      "execution_count": 8,
      "outputs": [
        {
          "output_type": "execute_result",
          "data": {
            "text/html": [
              "<div>\n",
              "<style scoped>\n",
              "    .dataframe tbody tr th:only-of-type {\n",
              "        vertical-align: middle;\n",
              "    }\n",
              "\n",
              "    .dataframe tbody tr th {\n",
              "        vertical-align: top;\n",
              "    }\n",
              "\n",
              "    .dataframe thead th {\n",
              "        text-align: right;\n",
              "    }\n",
              "</style>\n",
              "<table border=\"1\" class=\"dataframe\">\n",
              "  <thead>\n",
              "    <tr style=\"text-align: right;\">\n",
              "      <th></th>\n",
              "      <th>all_layers</th>\n",
              "      <th>last_layer</th>\n",
              "    </tr>\n",
              "  </thead>\n",
              "  <tbody>\n",
              "    <tr>\n",
              "      <th>inception</th>\n",
              "      <td>8743</td>\n",
              "      <td>3565</td>\n",
              "    </tr>\n",
              "  </tbody>\n",
              "</table>\n",
              "</div>"
            ],
            "text/plain": [
              "           all_layers  last_layer\n",
              "inception        8743        3565"
            ]
          },
          "metadata": {
            "tags": []
          },
          "execution_count": 8
        }
      ]
    },
    {
      "cell_type": "code",
      "metadata": {
        "id": "8GKSchMkV9NA",
        "colab_type": "code",
        "colab": {}
      },
      "source": [
        ""
      ],
      "execution_count": 0,
      "outputs": []
    }
  ]
}