{
  "nbformat": 4,
  "nbformat_minor": 0,
  "metadata": {
    "colab": {
      "name": "segmented_64.ipynb",
      "provenance": [],
      "authorship_tag": "ABX9TyM6Z6gvTaHJN5sq0MvTvq+V",
      "include_colab_link": true
    },
    "kernelspec": {
      "name": "python3",
      "display_name": "Python 3"
    }
  },
  "cells": [
    {
      "cell_type": "markdown",
      "metadata": {
        "id": "view-in-github",
        "colab_type": "text"
      },
      "source": [
        "<a href=\"https://colab.research.google.com/github/greyhound101/Brain_tumour/blob/master/segmented_64.ipynb\" target=\"_parent\"><img src=\"https://colab.research.google.com/assets/colab-badge.svg\" alt=\"Open In Colab\"/></a>"
      ]
    },
    {
      "cell_type": "code",
      "metadata": {
        "id": "0BT5TbEI6f0w",
        "outputId": "81b2b66e-8e05-4e2c-dcd6-723a572541c7",
        "colab": {
          "base_uri": "https://localhost:8080/",
          "height": 35
        }
      },
      "source": [
        "pip install pydicom"
      ],
      "execution_count": 1,
      "outputs": [
        {
          "output_type": "stream",
          "text": [
            "Requirement already satisfied: pydicom in /usr/local/lib/python3.6/dist-packages (2.0.0)\n"
          ],
          "name": "stdout"
        }
      ]
    },
    {
      "cell_type": "code",
      "metadata": {
        "id": "tQ4Iss0d7SLU"
      },
      "source": [
        "import copy\n",
        "from datetime import timedelta, datetime\n",
        "import imageio\n",
        "import matplotlib.pyplot as plt\n",
        "from matplotlib import cm\n",
        "import multiprocessing\n",
        "import numpy as np\n",
        "import os\n",
        "from pathlib import Path\n",
        "import pydicom\n",
        "import pytest\n",
        "import scipy.ndimage as ndimage\n",
        "from scipy.ndimage.interpolation import zoom\n",
        "from skimage import measure, morphology, segmentation\n",
        "from time import time, sleep\n",
        "from tqdm import trange, tqdm\n",
        "from torchvision import transforms\n",
        "import warnings\n",
        "import scipy"
      ],
      "execution_count": 2,
      "outputs": []
    },
    {
      "cell_type": "code",
      "metadata": {
        "id": "eKW4GVn27Tjb",
        "outputId": "a1600e66-9e04-40e6-ef8f-4ac94c8ef277",
        "colab": {
          "base_uri": "https://localhost:8080/",
          "height": 53
        }
      },
      "source": [
        "from google.colab import drive\n",
        "drive.mount('/content/gdrive')\n",
        "drive.mount(\"/content/gdrive\", force_remount=True)"
      ],
      "execution_count": 3,
      "outputs": [
        {
          "output_type": "stream",
          "text": [
            "Drive already mounted at /content/gdrive; to attempt to forcibly remount, call drive.mount(\"/content/gdrive\", force_remount=True).\n",
            "Mounted at /content/gdrive\n"
          ],
          "name": "stdout"
        }
      ]
    },
    {
      "cell_type": "code",
      "metadata": {
        "id": "P8AH88bj7VTy",
        "outputId": "81c988e2-e613-43d2-a059-85c8afaaf1e7",
        "colab": {
          "base_uri": "https://localhost:8080/",
          "height": 35
        }
      },
      "source": [
        "import glob\n",
        "a=list(glob.glob('/content/gdrive/My Drive/*_segmented'))\n",
        "len(a)"
      ],
      "execution_count": 4,
      "outputs": [
        {
          "output_type": "execute_result",
          "data": {
            "text/plain": [
              "174"
            ]
          },
          "metadata": {
            "tags": []
          },
          "execution_count": 4
        }
      ]
    },
    {
      "cell_type": "code",
      "metadata": {
        "id": "nxoYzOfr7Wzf"
      },
      "source": [
        "class Normalize:\n",
        "    def __init__(self, bounds=(-1000, 500)):\n",
        "        self.min = min(bounds)\n",
        "        self.max = max(bounds)\n",
        "\n",
        "    def __call__(self, sample):\n",
        "        image, data = sample['image'], sample['metadata']\n",
        "        image = image.astype(np.float)\n",
        "        image = (image - self.min) / (self.max - self.min)\n",
        "        return {'image': image, 'metadata': data}"
      ],
      "execution_count": 5,
      "outputs": []
    },
    {
      "cell_type": "code",
      "metadata": {
        "id": "77UhUY3N7dyP"
      },
      "source": [
        "class CropBoundingBox:\n",
        "    def bounding_box(self,img3d: np.array):\n",
        "        mid_img = img3d[int(img3d.shape[0] / 2)]\n",
        "        same_first_row = (mid_img[0, :] == mid_img[0, 0]).all()\n",
        "        same_first_col = (mid_img[:, 0] == mid_img[0, 0]).all()\n",
        "        if same_first_col and same_first_row:\n",
        "            return True\n",
        "        else:\n",
        "            return False\n",
        "\n",
        "    def __call__(self, sample):\n",
        "        image, data = sample['image'], sample['metadata']\n",
        "        if not self.bounding_box(image):\n",
        "            return sample\n",
        "        mid_img = image[int(image.shape[0] / 2)]\n",
        "        r_min, r_max = None, None\n",
        "        c_min, c_max = None, None\n",
        "        for row in range(mid_img.shape[0]):\n",
        "            if not (mid_img[row, :] == mid_img[0, 0]).all() and r_min is None:\n",
        "                r_min = row\n",
        "            if (mid_img[row, :] == mid_img[0, 0]).all() and r_max is None \\\n",
        "                    and r_min is not None:\n",
        "                r_max = row\n",
        "                break\n",
        "\n",
        "        for col in range(mid_img.shape[1]):\n",
        "            if not (mid_img[:, col] == mid_img[0, 0]).all() and c_min is None:\n",
        "                c_min = col\n",
        "            if (mid_img[:, col] == mid_img[0, 0]).all() and c_max is None \\\n",
        "                    and c_min is not None:\n",
        "                c_max = col\n",
        "                break\n",
        "\n",
        "        image = image[:, r_min:r_max, c_min:c_max]\n",
        "        return {'image': image, 'metadata': data}"
      ],
      "execution_count": 6,
      "outputs": []
    },
    {
      "cell_type": "code",
      "metadata": {
        "id": "g2_Y7vLq7fX3"
      },
      "source": [
        "class ConvertToHU:\n",
        "    def __call__(self, sample):\n",
        "        image, data = sample['image'], sample['metadata']\n",
        "        img_type = data.ImageType\n",
        "        \n",
        "        intercept = data.RescaleIntercept\n",
        "        slope = data.RescaleSlope\n",
        "        image = (image * slope + intercept).astype(np.int16)\n",
        "        return {'image': image, 'metadata': data}"
      ],
      "execution_count": 7,
      "outputs": []
    },
    {
      "cell_type": "code",
      "metadata": {
        "id": "n_ZgOYtK7g7w"
      },
      "source": [
        "class Clip:\n",
        "    def __init__(self, bounds=(-1000, 500)):\n",
        "        self.min = min(bounds)\n",
        "        self.max = max(bounds)\n",
        "\n",
        "    def __call__(self, sample):\n",
        "        image, data = sample['image'], sample['metadata']\n",
        "        image[image < self.min] = self.min\n",
        "        image[image > self.max] = self.max\n",
        "        return {'image': image, 'metadata': data}"
      ],
      "execution_count": 8,
      "outputs": []
    },
    {
      "cell_type": "code",
      "metadata": {
        "id": "8Y9vdGxp7iYg"
      },
      "source": [
        "class MaskWatershed:\n",
        "    def __init__(self, min_hu, iterations, show_tqdm):\n",
        "        self.min_hu = min_hu\n",
        "        self.iterations = iterations\n",
        "        self.show_tqdm = show_tqdm\n",
        "\n",
        "    def __call__(self, sample):\n",
        "        image, data = sample['image'], sample['metadata']\n",
        "\n",
        "        stack = []\n",
        "        if self.show_tqdm:\n",
        "            bar = trange(image.shape[0])\n",
        "            bar.set_description(f'Masking CT scan {data.PatientID}')\n",
        "        else:\n",
        "            bar = range(image.shape[0])\n",
        "        for slice_idx in bar:\n",
        "            sliced = image[slice_idx]\n",
        "            stack.append(self.seperate_lungs(sliced, self.min_hu,\n",
        "                                             self.iterations))\n",
        "\n",
        "\n",
        "        return {\n",
        "            'image': np.stack(stack),\n",
        "            'metadata': sample['metadata']\n",
        "        }\n",
        "\n",
        "    @staticmethod\n",
        "    def seperate_lungs(image, min_hu, iterations):\n",
        "        h, w = image.shape[0], image.shape[1]\n",
        "\n",
        "        marker_internal, marker_external, marker_watershed = MaskWatershed.generate_markers(image)\n",
        "\n",
        "        # Sobel-Gradient\n",
        "        sobel_filtered_dx = ndimage.sobel(image, 1)\n",
        "        sobel_filtered_dy = ndimage.sobel(image, 0)\n",
        "        sobel_gradient = np.hypot(sobel_filtered_dx, sobel_filtered_dy)\n",
        "        sobel_gradient *= 255.0 / np.max(sobel_gradient)\n",
        "\n",
        "        watershed = morphology.watershed(sobel_gradient, marker_watershed)\n",
        "\n",
        "        outline = ndimage.morphological_gradient(watershed, size=(3,3))\n",
        "        outline = outline.astype(bool)\n",
        "\n",
        "        # Structuring element used for the filter\n",
        "        blackhat_struct = [[0, 0, 1, 1, 1, 0, 0],\n",
        "                           [0, 1, 1, 1, 1, 1, 0],\n",
        "                           [1, 1, 1, 1, 1, 1, 1],\n",
        "                           [1, 1, 1, 1, 1, 1, 1],\n",
        "                           [1, 1, 1, 1, 1, 1, 1],\n",
        "                           [0, 1, 1, 1, 1, 1, 0],\n",
        "                           [0, 0, 1, 1, 1, 0, 0]]\n",
        "\n",
        "        blackhat_struct = ndimage.iterate_structure(blackhat_struct, 4)\n",
        "\n",
        "        # Perform Black Top-hat filter\n",
        "        outline += ndimage.black_tophat(outline, structure=blackhat_struct)\n",
        "\n",
        "        lungfilter = np.bitwise_or(marker_internal, outline)\n",
        "        lungfilter = ndimage.morphology.binary_closing(lungfilter, structure=np.ones((5,5)), iterations=1)\n",
        "\n",
        "        segmented = np.where(lungfilter == 1, image, min_hu * np.ones((h, w)))\n",
        "\n",
        "        return segmented  #, lungfilter, outline, watershed, sobel_gradient\n",
        "\n",
        "    @staticmethod\n",
        "    def generate_markers(image, threshold=-400):\n",
        "        h, w = image.shape[0], image.shape[1]\n",
        "\n",
        "        marker_internal = image < threshold\n",
        "        marker_internal = segmentation.clear_border(marker_internal)\n",
        "        marker_internal_labels = measure.label(marker_internal)\n",
        "\n",
        "        areas = [r.area for r in measure.regionprops(marker_internal_labels)]\n",
        "        areas.sort()\n",
        "\n",
        "        if len(areas) > 2:\n",
        "            for region in measure.regionprops(marker_internal_labels):\n",
        "                if region.area < areas[-2]:\n",
        "                    for coordinates in region.coords:\n",
        "                        marker_internal_labels[coordinates[0], coordinates[1]] = 0\n",
        "\n",
        "        marker_internal = marker_internal_labels > 0\n",
        "\n",
        "        # Creation of the External Marker\n",
        "        external_a = ndimage.binary_dilation(marker_internal, iterations=10)\n",
        "        external_b = ndimage.binary_dilation(marker_internal, iterations=55)\n",
        "        marker_external = external_b ^ external_a\n",
        "\n",
        "        # Creation of the Watershed Marker\n",
        "        marker_watershed = np.zeros((h, w), dtype=np.int)\n",
        "        marker_watershed += marker_internal * 255\n",
        "        marker_watershed += marker_external * 128\n",
        "\n",
        "        return marker_internal, marker_external, marker_watershed"
      ],
      "execution_count": 9,
      "outputs": []
    },
    {
      "cell_type": "code",
      "metadata": {
        "id": "SG-36ulU7quD"
      },
      "source": [
        "import glob\n",
        "class Resize:\n",
        "    def __init__(self, output_size):\n",
        "        assert isinstance(output_size, tuple)\n",
        "        self.output_size = np.array(output_size)\n",
        "    def __call__(self, sample):\n",
        "        image, data = sample['image'], sample['metadata'] \n",
        "        z_spa = data.SliceThickness \n",
        "        \n",
        "        \n",
        "        pix_spa = [float(i) for i in list(data.PixelSpacing)] \n",
        "        spacing = np.array([z_spa]+pix_spa, dtype=np.float32) \n",
        "        real_size = spacing * image.shape \n",
        "        image = scipy.ndimage.interpolation.zoom(image, spacing, mode='nearest') \n",
        "        resize_factor = self.output_size / image.shape  \n",
        "        image = scipy.ndimage.interpolation.zoom(image, resize_factor, mode='nearest') \n",
        "        return {'image': image, 'metadata': data}"
      ],
      "execution_count": 10,
      "outputs": []
    },
    {
      "cell_type": "code",
      "metadata": {
        "id": "sopIHULt7qrg"
      },
      "source": [
        "import numpy as np\n",
        "from keras.utils import Sequence\n",
        "class CTScansDataset(Sequence):\n",
        "    def __init__(self,patients, transform=None):\n",
        "        self.patients = ['/content/gdrive/My Drive/'+id for id in patients]\n",
        "        self.transform = transform\n",
        "\n",
        "    def __len__(self):\n",
        "        return len(self.patients)\n",
        "\n",
        "    def __getitem__(self, idx):\n",
        "\n",
        "        image, metadata = self.load_scan(self.patients[idx])\n",
        "        sample = {'image': image, 'metadata': metadata}\n",
        "        if self.transform:\n",
        "            sample = self.transform(sample)\n",
        "\n",
        "        return sample\n",
        "\n",
        "    def save(self, path):\n",
        "        t0 = time()\n",
        "        Path(path).mkdir(exist_ok=True, parents=True)\n",
        "        sleep(1)\n",
        "        cum = 0\n",
        "\n",
        "        bar = trange(len(self))\n",
        "        for i in bar:\n",
        "            sample = self[i]\n",
        "            image, data = sample['image'], sample['metadata']\n",
        "            cum += torch.mean(image).item()\n",
        "\n",
        "            bar.set_description(f'Saving CT scan {data.PatientID}')\n",
        "            fname = Path(path) / f'{data.PatientID}.pt'\n",
        "            torch.save(image, fname)\n",
        "\n",
        "        sleep(1)\n",
        "        bar.close()\n",
        "    def get_patient(self, patient_id):\n",
        "        patient_ids = [str(p.split('/')[-1]) for p in self.patients]\n",
        "        return self.__getitem__(patient_ids.index(patient_id))\n",
        "\n",
        "    @staticmethod\n",
        "    def load_scan(path):\n",
        "      \n",
        "        slices = [pydicom.dcmread(p) for p in glob.glob(path+'/*.dcm')]\n",
        "        try:\n",
        "            slices.sort(key=lambda x: float(x.ImagePositionPatient[2]))\n",
        "        except AttributeError:\n",
        "            warnings.warn(f'Patient {slices[0].PatientID} CT scan does not '\n",
        "                          f'have \"ImagePositionPatient\". Assuming filenames '\n",
        "                          f'in the right scan order.')\n",
        "        image=[]\n",
        "        for s in slices:\n",
        "          try:\n",
        "            image.append(s.pixel_array.astype(float))\n",
        "          except:\n",
        "            pass\n",
        "        image = np.stack(image)\n",
        "        return image, slices[0]"
      ],
      "execution_count": 11,
      "outputs": []
    },
    {
      "cell_type": "code",
      "metadata": {
        "id": "cFLgXiTx8Evh",
        "outputId": "d9ddb0a8-d4bb-473a-e784-d54ffaf878c3",
        "colab": {
          "base_uri": "https://localhost:8080/",
          "height": 206
        }
      },
      "source": [
        "import pandas as pd\n",
        "train = pd.read_csv('/content/gdrive/My Drive/lungs/train.csv') \n",
        "train.head()"
      ],
      "execution_count": 12,
      "outputs": [
        {
          "output_type": "execute_result",
          "data": {
            "text/html": [
              "<div>\n",
              "<style scoped>\n",
              "    .dataframe tbody tr th:only-of-type {\n",
              "        vertical-align: middle;\n",
              "    }\n",
              "\n",
              "    .dataframe tbody tr th {\n",
              "        vertical-align: top;\n",
              "    }\n",
              "\n",
              "    .dataframe thead th {\n",
              "        text-align: right;\n",
              "    }\n",
              "</style>\n",
              "<table border=\"1\" class=\"dataframe\">\n",
              "  <thead>\n",
              "    <tr style=\"text-align: right;\">\n",
              "      <th></th>\n",
              "      <th>Patient</th>\n",
              "      <th>Weeks</th>\n",
              "      <th>FVC</th>\n",
              "      <th>Percent</th>\n",
              "      <th>Age</th>\n",
              "      <th>Sex</th>\n",
              "      <th>SmokingStatus</th>\n",
              "    </tr>\n",
              "  </thead>\n",
              "  <tbody>\n",
              "    <tr>\n",
              "      <th>0</th>\n",
              "      <td>ID00007637202177411956430</td>\n",
              "      <td>-4</td>\n",
              "      <td>2315</td>\n",
              "      <td>58.253649</td>\n",
              "      <td>79</td>\n",
              "      <td>Male</td>\n",
              "      <td>Ex-smoker</td>\n",
              "    </tr>\n",
              "    <tr>\n",
              "      <th>1</th>\n",
              "      <td>ID00007637202177411956430</td>\n",
              "      <td>5</td>\n",
              "      <td>2214</td>\n",
              "      <td>55.712129</td>\n",
              "      <td>79</td>\n",
              "      <td>Male</td>\n",
              "      <td>Ex-smoker</td>\n",
              "    </tr>\n",
              "    <tr>\n",
              "      <th>2</th>\n",
              "      <td>ID00007637202177411956430</td>\n",
              "      <td>7</td>\n",
              "      <td>2061</td>\n",
              "      <td>51.862104</td>\n",
              "      <td>79</td>\n",
              "      <td>Male</td>\n",
              "      <td>Ex-smoker</td>\n",
              "    </tr>\n",
              "    <tr>\n",
              "      <th>3</th>\n",
              "      <td>ID00007637202177411956430</td>\n",
              "      <td>9</td>\n",
              "      <td>2144</td>\n",
              "      <td>53.950679</td>\n",
              "      <td>79</td>\n",
              "      <td>Male</td>\n",
              "      <td>Ex-smoker</td>\n",
              "    </tr>\n",
              "    <tr>\n",
              "      <th>4</th>\n",
              "      <td>ID00007637202177411956430</td>\n",
              "      <td>11</td>\n",
              "      <td>2069</td>\n",
              "      <td>52.063412</td>\n",
              "      <td>79</td>\n",
              "      <td>Male</td>\n",
              "      <td>Ex-smoker</td>\n",
              "    </tr>\n",
              "  </tbody>\n",
              "</table>\n",
              "</div>"
            ],
            "text/plain": [
              "                     Patient  Weeks   FVC    Percent  Age   Sex SmokingStatus\n",
              "0  ID00007637202177411956430     -4  2315  58.253649   79  Male     Ex-smoker\n",
              "1  ID00007637202177411956430      5  2214  55.712129   79  Male     Ex-smoker\n",
              "2  ID00007637202177411956430      7  2061  51.862104   79  Male     Ex-smoker\n",
              "3  ID00007637202177411956430      9  2144  53.950679   79  Male     Ex-smoker\n",
              "4  ID00007637202177411956430     11  2069  52.063412   79  Male     Ex-smoker"
            ]
          },
          "metadata": {
            "tags": []
          },
          "execution_count": 12
        }
      ]
    },
    {
      "cell_type": "code",
      "metadata": {
        "id": "xRmUAjaE7qod"
      },
      "source": [
        "resize_dims = (40, 64,64)\n",
        "clip_bounds = (-1000, 200)\n",
        "test = CTScansDataset(\n",
        "    train['Patient'].unique(),\n",
        "    transform=transforms.Compose([\n",
        "        CropBoundingBox(),\n",
        "        ConvertToHU(),\n",
        "        Resize(resize_dims),\n",
        "        Clip(bounds=clip_bounds),\n",
        "        MaskWatershed(min_hu=min(clip_bounds), iterations=1, show_tqdm=False),\n",
        "        Normalize(bounds=clip_bounds)\n",
        "    ]))"
      ],
      "execution_count": 13,
      "outputs": []
    },
    {
      "cell_type": "code",
      "metadata": {
        "id": "RCFnTNUL7qll",
        "outputId": "57bd2928-96be-4c2a-c6a9-b7570adac145",
        "colab": {
          "base_uri": "https://localhost:8080/",
          "height": 1000
        }
      },
      "source": [
        "ls=[]\n",
        "check=[]\n",
        "for en,i in tqdm(enumerate(train['Patient'].unique())):\n",
        "  try:\n",
        "    a=test.__getitem__(en)\n",
        "    destination='/content/gdrive/My Drive/'+i+'_segmented_64'\n",
        "    try:\n",
        "      os.mkdir(destination)\n",
        "    except Exception as e: \n",
        "      print(e)\n",
        "      print(i) \n",
        "    np.save(destination+'/image.npy',a['image'])  \n",
        "    np.save(destination+'/metadata.npy',a['metadata']) \n",
        "    print(a['image'].shape)\n",
        "    print(i)\n",
        "    if sum(sum(sum(a['image'])))==0:\n",
        "      check.append(i)\n",
        "    ls.append(i)\n",
        "  except Exception as e: \n",
        "    print(e)\n",
        "    print(i)"
      ],
      "execution_count": 15,
      "outputs": [
        {
          "output_type": "stream",
          "text": [
            "1it [00:05,  5.38s/it]"
          ],
          "name": "stderr"
        },
        {
          "output_type": "stream",
          "text": [
            "(40, 64, 64)\n",
            "ID00007637202177411956430\n"
          ],
          "name": "stdout"
        },
        {
          "output_type": "stream",
          "text": [
            "\r2it [01:37, 31.36s/it]"
          ],
          "name": "stderr"
        },
        {
          "output_type": "stream",
          "text": [
            "File is missing DICOM File Meta Information header or the 'DICM' prefix is missing from the header. Use force=True to force reading.\n",
            "ID00009637202177434476278\n"
          ],
          "name": "stdout"
        },
        {
          "output_type": "stream",
          "text": [
            "\r3it [02:44, 42.24s/it]"
          ],
          "name": "stderr"
        },
        {
          "output_type": "stream",
          "text": [
            "(40, 64, 64)\n",
            "ID00010637202177584971671\n",
            "need at least one array to stack\n",
            "ID00011637202177653955184\n"
          ],
          "name": "stdout"
        },
        {
          "output_type": "stream",
          "text": [
            "\r5it [03:28, 36.03s/it]"
          ],
          "name": "stderr"
        },
        {
          "output_type": "stream",
          "text": [
            "(40, 64, 64)\n",
            "ID00012637202177665765362\n"
          ],
          "name": "stdout"
        },
        {
          "output_type": "stream",
          "text": [
            "\r6it [03:51, 32.20s/it]"
          ],
          "name": "stderr"
        },
        {
          "output_type": "stream",
          "text": [
            "(40, 64, 64)\n",
            "ID00014637202177757139317\n"
          ],
          "name": "stdout"
        },
        {
          "output_type": "stream",
          "text": [
            "\r7it [06:57, 78.27s/it]"
          ],
          "name": "stderr"
        },
        {
          "output_type": "stream",
          "text": [
            "(40, 64, 64)\n",
            "ID00015637202177877247924\n"
          ],
          "name": "stdout"
        },
        {
          "output_type": "stream",
          "text": [
            "\r8it [07:17, 60.93s/it]"
          ],
          "name": "stderr"
        },
        {
          "output_type": "stream",
          "text": [
            "(40, 64, 64)\n",
            "ID00019637202178323708467\n"
          ],
          "name": "stdout"
        },
        {
          "output_type": "stream",
          "text": [
            "\r9it [11:37, 120.64s/it]"
          ],
          "name": "stderr"
        },
        {
          "output_type": "stream",
          "text": [
            "(40, 64, 64)\n",
            "ID00020637202178344345685\n"
          ],
          "name": "stdout"
        },
        {
          "output_type": "stream",
          "text": [
            "\r10it [11:55, 89.71s/it]"
          ],
          "name": "stderr"
        },
        {
          "output_type": "stream",
          "text": [
            "(40, 64, 64)\n",
            "ID00023637202179104603099\n"
          ],
          "name": "stdout"
        },
        {
          "output_type": "stream",
          "text": [
            "\r11it [12:13, 68.34s/it]"
          ],
          "name": "stderr"
        },
        {
          "output_type": "stream",
          "text": [
            "(40, 64, 64)\n",
            "ID00025637202179541264076\n"
          ],
          "name": "stdout"
        },
        {
          "output_type": "stream",
          "text": [
            "/usr/local/lib/python3.6/dist-packages/ipykernel_launcher.py:49: UserWarning: Patient ID00026637202179561894768 CT scan does not have \"ImagePositionPatient\". Assuming filenames in the right scan order.\n",
            "12it [14:56, 96.86s/it]"
          ],
          "name": "stderr"
        },
        {
          "output_type": "stream",
          "text": [
            "(40, 64, 64)\n",
            "ID00026637202179561894768\n"
          ],
          "name": "stdout"
        },
        {
          "output_type": "stream",
          "text": [
            "\r13it [19:25, 148.33s/it]"
          ],
          "name": "stderr"
        },
        {
          "output_type": "stream",
          "text": [
            "(40, 64, 64)\n",
            "ID00027637202179689871102\n"
          ],
          "name": "stdout"
        },
        {
          "output_type": "stream",
          "text": [
            "\r14it [23:34, 178.55s/it]"
          ],
          "name": "stderr"
        },
        {
          "output_type": "stream",
          "text": [
            "(40, 64, 64)\n",
            "ID00030637202181211009029\n"
          ],
          "name": "stdout"
        },
        {
          "output_type": "stream",
          "text": [
            "\r15it [25:41, 162.97s/it]"
          ],
          "name": "stderr"
        },
        {
          "output_type": "stream",
          "text": [
            "(40, 64, 64)\n",
            "ID00032637202181710233084\n"
          ],
          "name": "stdout"
        },
        {
          "output_type": "stream",
          "text": [
            "\r16it [30:39, 203.54s/it]"
          ],
          "name": "stderr"
        },
        {
          "output_type": "stream",
          "text": [
            "(40, 64, 64)\n",
            "ID00035637202182204917484\n"
          ],
          "name": "stdout"
        },
        {
          "output_type": "stream",
          "text": [
            "\r17it [34:20, 208.71s/it]"
          ],
          "name": "stderr"
        },
        {
          "output_type": "stream",
          "text": [
            "(40, 64, 64)\n",
            "ID00038637202182690843176\n"
          ],
          "name": "stdout"
        },
        {
          "output_type": "stream",
          "text": [
            "\r18it [39:31, 239.47s/it]"
          ],
          "name": "stderr"
        },
        {
          "output_type": "stream",
          "text": [
            "(40, 64, 64)\n",
            "ID00042637202184406822975\n"
          ],
          "name": "stdout"
        },
        {
          "output_type": "stream",
          "text": [
            "\r19it [40:36, 187.10s/it]"
          ],
          "name": "stderr"
        },
        {
          "output_type": "stream",
          "text": [
            "(40, 64, 64)\n",
            "ID00047637202184938901501\n"
          ],
          "name": "stdout"
        },
        {
          "output_type": "stream",
          "text": [
            "\r20it [40:53, 136.17s/it]"
          ],
          "name": "stderr"
        },
        {
          "output_type": "stream",
          "text": [
            "(40, 64, 64)\n",
            "ID00048637202185016727717\n"
          ],
          "name": "stdout"
        },
        {
          "output_type": "stream",
          "text": [
            "\r21it [42:11, 118.61s/it]"
          ],
          "name": "stderr"
        },
        {
          "output_type": "stream",
          "text": [
            "(40, 64, 64)\n",
            "ID00051637202185848464638\n"
          ],
          "name": "stdout"
        },
        {
          "output_type": "stream",
          "text": [
            "\r22it [45:49, 148.55s/it]"
          ],
          "name": "stderr"
        },
        {
          "output_type": "stream",
          "text": [
            "(40, 64, 64)\n",
            "ID00052637202186188008618\n"
          ],
          "name": "stdout"
        },
        {
          "output_type": "stream",
          "text": [
            "\r23it [48:23, 150.10s/it]"
          ],
          "name": "stderr"
        },
        {
          "output_type": "stream",
          "text": [
            "(40, 64, 64)\n",
            "ID00060637202187965290703\n"
          ],
          "name": "stdout"
        },
        {
          "output_type": "stream",
          "text": [
            "\r24it [51:14, 156.42s/it]"
          ],
          "name": "stderr"
        },
        {
          "output_type": "stream",
          "text": [
            "(40, 64, 64)\n",
            "ID00061637202188184085559\n"
          ],
          "name": "stdout"
        },
        {
          "output_type": "stream",
          "text": [
            "\r25it [51:33, 115.28s/it]"
          ],
          "name": "stderr"
        },
        {
          "output_type": "stream",
          "text": [
            "(40, 64, 64)\n",
            "ID00062637202188654068490\n"
          ],
          "name": "stdout"
        },
        {
          "output_type": "stream",
          "text": [
            "\r26it [54:52, 140.33s/it]"
          ],
          "name": "stderr"
        },
        {
          "output_type": "stream",
          "text": [
            "(40, 64, 64)\n",
            "ID00067637202189903532242\n"
          ],
          "name": "stdout"
        },
        {
          "output_type": "stream",
          "text": [
            "\r27it [56:21, 124.88s/it]"
          ],
          "name": "stderr"
        },
        {
          "output_type": "stream",
          "text": [
            "(40, 64, 64)\n",
            "ID00068637202190879923934\n"
          ],
          "name": "stdout"
        },
        {
          "output_type": "stream",
          "text": [
            "\r28it [56:37, 92.27s/it] "
          ],
          "name": "stderr"
        },
        {
          "output_type": "stream",
          "text": [
            "(40, 64, 64)\n",
            "ID00072637202198161894406\n"
          ],
          "name": "stdout"
        },
        {
          "output_type": "stream",
          "text": [
            "\r29it [1:00:18, 130.76s/it]"
          ],
          "name": "stderr"
        },
        {
          "output_type": "stream",
          "text": [
            "(40, 64, 64)\n",
            "ID00073637202198167792918\n"
          ],
          "name": "stdout"
        },
        {
          "output_type": "stream",
          "text": [
            "\r30it [1:03:05, 141.69s/it]"
          ],
          "name": "stderr"
        },
        {
          "output_type": "stream",
          "text": [
            "(40, 64, 64)\n",
            "ID00075637202198610425520\n"
          ],
          "name": "stdout"
        },
        {
          "output_type": "stream",
          "text": [
            "\r31it [1:04:05, 117.33s/it]"
          ],
          "name": "stderr"
        },
        {
          "output_type": "stream",
          "text": [
            "(40, 64, 64)\n",
            "ID00076637202199015035026\n"
          ],
          "name": "stdout"
        },
        {
          "output_type": "stream",
          "text": [
            "\r32it [1:05:07, 100.73s/it]"
          ],
          "name": "stderr"
        },
        {
          "output_type": "stream",
          "text": [
            "(40, 64, 64)\n",
            "ID00077637202199102000916\n"
          ],
          "name": "stdout"
        },
        {
          "output_type": "stream",
          "text": [
            "\r33it [1:13:24, 219.61s/it]"
          ],
          "name": "stderr"
        },
        {
          "output_type": "stream",
          "text": [
            "File is missing DICOM File Meta Information header or the 'DICM' prefix is missing from the header. Use force=True to force reading.\n",
            "ID00078637202199415319443\n"
          ],
          "name": "stdout"
        },
        {
          "output_type": "stream",
          "text": [
            "\r34it [1:16:08, 202.87s/it]"
          ],
          "name": "stderr"
        },
        {
          "output_type": "stream",
          "text": [
            "(40, 64, 64)\n",
            "ID00082637202201836229724\n"
          ],
          "name": "stdout"
        },
        {
          "output_type": "stream",
          "text": [
            "\r35it [1:16:28, 147.89s/it]"
          ],
          "name": "stderr"
        },
        {
          "output_type": "stream",
          "text": [
            "(40, 64, 64)\n",
            "ID00086637202203494931510\n"
          ],
          "name": "stdout"
        },
        {
          "output_type": "stream",
          "text": [
            "\r36it [1:16:51, 110.60s/it]"
          ],
          "name": "stderr"
        },
        {
          "output_type": "stream",
          "text": [
            "(40, 64, 64)\n",
            "ID00089637202204675567570\n"
          ],
          "name": "stdout"
        },
        {
          "output_type": "stream",
          "text": [
            "\r37it [1:17:56, 96.94s/it] "
          ],
          "name": "stderr"
        },
        {
          "output_type": "stream",
          "text": [
            "(40, 64, 64)\n",
            "ID00090637202204766623410\n"
          ],
          "name": "stdout"
        },
        {
          "output_type": "stream",
          "text": [
            "\r38it [1:18:19, 74.77s/it]"
          ],
          "name": "stderr"
        },
        {
          "output_type": "stream",
          "text": [
            "(40, 64, 64)\n",
            "ID00093637202205278167493\n"
          ],
          "name": "stdout"
        },
        {
          "output_type": "stream",
          "text": [
            "\r39it [1:18:36, 57.36s/it]"
          ],
          "name": "stderr"
        },
        {
          "output_type": "stream",
          "text": [
            "(40, 64, 64)\n",
            "ID00094637202205333947361\n"
          ],
          "name": "stdout"
        },
        {
          "output_type": "stream",
          "text": [
            "\r40it [1:18:53, 45.26s/it]"
          ],
          "name": "stderr"
        },
        {
          "output_type": "stream",
          "text": [
            "(40, 64, 64)\n",
            "ID00099637202206203080121\n"
          ],
          "name": "stdout"
        },
        {
          "output_type": "stream",
          "text": [
            "\r41it [1:21:02, 70.44s/it]"
          ],
          "name": "stderr"
        },
        {
          "output_type": "stream",
          "text": [
            "(40, 64, 64)\n",
            "ID00102637202206574119190\n"
          ],
          "name": "stdout"
        },
        {
          "output_type": "stream",
          "text": [
            "\r42it [1:25:33, 130.53s/it]"
          ],
          "name": "stderr"
        },
        {
          "output_type": "stream",
          "text": [
            "(40, 64, 64)\n",
            "ID00104637202208063407045\n"
          ],
          "name": "stdout"
        },
        {
          "output_type": "stream",
          "text": [
            "/usr/local/lib/python3.6/dist-packages/ipykernel_launcher.py:37: RuntimeWarning: divide by zero encountered in true_divide\n",
            "/usr/local/lib/python3.6/dist-packages/ipykernel_launcher.py:37: RuntimeWarning: invalid value encountered in multiply\n",
            "\r43it [1:26:25, 106.81s/it]"
          ],
          "name": "stderr"
        },
        {
          "output_type": "stream",
          "text": [
            "(40, 64, 64)\n",
            "ID00105637202208831864134\n"
          ],
          "name": "stdout"
        },
        {
          "output_type": "stream",
          "text": [
            "\r44it [1:31:26, 165.20s/it]"
          ],
          "name": "stderr"
        },
        {
          "output_type": "stream",
          "text": [
            "(40, 64, 64)\n",
            "ID00108637202209619669361\n"
          ],
          "name": "stdout"
        },
        {
          "output_type": "stream",
          "text": [
            "\r45it [1:34:31, 171.09s/it]"
          ],
          "name": "stderr"
        },
        {
          "output_type": "stream",
          "text": [
            "(40, 64, 64)\n",
            "ID00109637202210454292264\n"
          ],
          "name": "stdout"
        },
        {
          "output_type": "stream",
          "text": [
            "\r46it [1:36:44, 159.78s/it]"
          ],
          "name": "stderr"
        },
        {
          "output_type": "stream",
          "text": [
            "(40, 64, 64)\n",
            "ID00110637202210673668310\n"
          ],
          "name": "stdout"
        },
        {
          "output_type": "stream",
          "text": [
            "\r47it [1:39:29, 161.31s/it]"
          ],
          "name": "stderr"
        },
        {
          "output_type": "stream",
          "text": [
            "(40, 64, 64)\n",
            "ID00111637202210956877205\n"
          ],
          "name": "stdout"
        },
        {
          "output_type": "stream",
          "text": [
            "\r48it [1:39:50, 119.29s/it]"
          ],
          "name": "stderr"
        },
        {
          "output_type": "stream",
          "text": [
            "(40, 64, 64)\n",
            "ID00115637202211874187958\n"
          ],
          "name": "stdout"
        },
        {
          "output_type": "stream",
          "text": [
            "\r49it [1:40:09, 88.98s/it] "
          ],
          "name": "stderr"
        },
        {
          "output_type": "stream",
          "text": [
            "(40, 64, 64)\n",
            "ID00117637202212360228007\n"
          ],
          "name": "stdout"
        },
        {
          "output_type": "stream",
          "text": [
            "\r50it [1:41:18, 82.97s/it]"
          ],
          "name": "stderr"
        },
        {
          "output_type": "stream",
          "text": [
            "(40, 64, 64)\n",
            "ID00119637202215426335765\n"
          ],
          "name": "stdout"
        },
        {
          "output_type": "stream",
          "text": [
            "\r51it [1:42:01, 71.18s/it]"
          ],
          "name": "stderr"
        },
        {
          "output_type": "stream",
          "text": [
            "(40, 64, 64)\n",
            "ID00122637202216437668965\n"
          ],
          "name": "stdout"
        },
        {
          "output_type": "stream",
          "text": [
            "\r52it [1:44:19, 91.13s/it]"
          ],
          "name": "stderr"
        },
        {
          "output_type": "stream",
          "text": [
            "(40, 64, 64)\n",
            "ID00123637202217151272140\n"
          ],
          "name": "stdout"
        },
        {
          "output_type": "stream",
          "text": [
            "\r53it [1:47:59, 129.82s/it]"
          ],
          "name": "stderr"
        },
        {
          "output_type": "stream",
          "text": [
            "(40, 64, 64)\n",
            "ID00124637202217596410344\n"
          ],
          "name": "stdout"
        },
        {
          "output_type": "stream",
          "text": [
            "\r54it [1:48:15, 95.65s/it] "
          ],
          "name": "stderr"
        },
        {
          "output_type": "stream",
          "text": [
            "(40, 64, 64)\n",
            "ID00125637202218590429387\n"
          ],
          "name": "stdout"
        },
        {
          "output_type": "stream",
          "text": [
            "\r55it [1:48:27, 70.64s/it]"
          ],
          "name": "stderr"
        },
        {
          "output_type": "stream",
          "text": [
            "(40, 64, 64)\n",
            "ID00126637202218610655908\n"
          ],
          "name": "stdout"
        },
        {
          "output_type": "stream",
          "text": [
            "\r56it [1:48:57, 58.48s/it]"
          ],
          "name": "stderr"
        },
        {
          "output_type": "stream",
          "text": [
            "(40, 64, 64)\n",
            "ID00127637202219096738943\n"
          ],
          "name": "stdout"
        },
        {
          "output_type": "stream",
          "text": [
            "/usr/local/lib/python3.6/dist-packages/ipykernel_launcher.py:49: UserWarning: Patient ID00128637202219474716089 CT scan does not have \"ImagePositionPatient\". Assuming filenames in the right scan order.\n",
            "57it [1:49:30, 50.72s/it]"
          ],
          "name": "stderr"
        },
        {
          "output_type": "stream",
          "text": [
            "(40, 64, 64)\n",
            "ID00128637202219474716089\n"
          ],
          "name": "stdout"
        },
        {
          "output_type": "stream",
          "text": [
            "\r58it [1:49:49, 41.11s/it]"
          ],
          "name": "stderr"
        },
        {
          "output_type": "stream",
          "text": [
            "(40, 64, 64)\n",
            "ID00129637202219868188000\n"
          ],
          "name": "stdout"
        },
        {
          "output_type": "stream",
          "text": [
            "\r59it [1:50:34, 42.28s/it]"
          ],
          "name": "stderr"
        },
        {
          "output_type": "stream",
          "text": [
            "(40, 64, 64)\n",
            "ID00130637202220059448013\n"
          ],
          "name": "stdout"
        },
        {
          "output_type": "stream",
          "text": [
            "\r60it [1:52:59, 73.25s/it]"
          ],
          "name": "stderr"
        },
        {
          "output_type": "stream",
          "text": [
            "(40, 64, 64)\n",
            "ID00131637202220424084844\n",
            "need at least one array to stack\n",
            "ID00132637202222178761324\n"
          ],
          "name": "stdout"
        },
        {
          "output_type": "stream",
          "text": [
            "\r62it [1:53:29, 55.82s/it]"
          ],
          "name": "stderr"
        },
        {
          "output_type": "stream",
          "text": [
            "(40, 64, 64)\n",
            "ID00133637202223847701934\n"
          ],
          "name": "stdout"
        },
        {
          "output_type": "stream",
          "text": [
            "\r63it [1:57:46, 116.02s/it]"
          ],
          "name": "stderr"
        },
        {
          "output_type": "stream",
          "text": [
            "(40, 64, 64)\n",
            "ID00134637202223873059688\n"
          ],
          "name": "stdout"
        },
        {
          "output_type": "stream",
          "text": [
            "\r64it [2:00:53, 137.39s/it]"
          ],
          "name": "stderr"
        },
        {
          "output_type": "stream",
          "text": [
            "(40, 64, 64)\n",
            "ID00135637202224630271439\n"
          ],
          "name": "stdout"
        },
        {
          "output_type": "stream",
          "text": [
            "\r65it [2:04:33, 162.18s/it]"
          ],
          "name": "stderr"
        },
        {
          "output_type": "stream",
          "text": [
            "(40, 64, 64)\n",
            "ID00136637202224951350618\n"
          ],
          "name": "stdout"
        },
        {
          "output_type": "stream",
          "text": [
            "\r66it [2:07:33, 167.54s/it]"
          ],
          "name": "stderr"
        },
        {
          "output_type": "stream",
          "text": [
            "(40, 64, 64)\n",
            "ID00138637202231603868088\n"
          ],
          "name": "stdout"
        },
        {
          "output_type": "stream",
          "text": [
            "\r67it [2:08:26, 133.10s/it]"
          ],
          "name": "stderr"
        },
        {
          "output_type": "stream",
          "text": [
            "(40, 64, 64)\n",
            "ID00139637202231703564336\n"
          ],
          "name": "stdout"
        },
        {
          "output_type": "stream",
          "text": [
            "\r68it [2:11:39, 151.18s/it]"
          ],
          "name": "stderr"
        },
        {
          "output_type": "stream",
          "text": [
            "(40, 64, 64)\n",
            "ID00140637202231728595149\n"
          ],
          "name": "stdout"
        },
        {
          "output_type": "stream",
          "text": [
            "\r69it [2:13:56, 146.96s/it]"
          ],
          "name": "stderr"
        },
        {
          "output_type": "stream",
          "text": [
            "(40, 64, 64)\n",
            "ID00149637202232704462834\n"
          ],
          "name": "stdout"
        },
        {
          "output_type": "stream",
          "text": [
            "\r70it [2:14:15, 108.48s/it]"
          ],
          "name": "stderr"
        },
        {
          "output_type": "stream",
          "text": [
            "(40, 64, 64)\n",
            "ID00161637202235731948764\n"
          ],
          "name": "stdout"
        },
        {
          "output_type": "stream",
          "text": [
            "\r71it [2:14:25, 78.93s/it] "
          ],
          "name": "stderr"
        },
        {
          "output_type": "stream",
          "text": [
            "(40, 64, 64)\n",
            "ID00165637202237320314458\n"
          ],
          "name": "stdout"
        },
        {
          "output_type": "stream",
          "text": [
            "\r72it [2:16:30, 92.69s/it]"
          ],
          "name": "stderr"
        },
        {
          "output_type": "stream",
          "text": [
            "(40, 64, 64)\n",
            "ID00167637202237397919352\n"
          ],
          "name": "stdout"
        },
        {
          "output_type": "stream",
          "text": [
            "\r73it [2:19:26, 117.65s/it]"
          ],
          "name": "stderr"
        },
        {
          "output_type": "stream",
          "text": [
            "(40, 64, 64)\n",
            "ID00168637202237852027833\n"
          ],
          "name": "stdout"
        },
        {
          "output_type": "stream",
          "text": [
            "\r74it [2:20:49, 107.23s/it]"
          ],
          "name": "stderr"
        },
        {
          "output_type": "stream",
          "text": [
            "(40, 64, 64)\n",
            "ID00169637202238024117706\n"
          ],
          "name": "stdout"
        },
        {
          "output_type": "stream",
          "text": [
            "\r75it [2:22:30, 105.44s/it]"
          ],
          "name": "stderr"
        },
        {
          "output_type": "stream",
          "text": [
            "(40, 64, 64)\n",
            "ID00170637202238079193844\n"
          ],
          "name": "stdout"
        },
        {
          "output_type": "stream",
          "text": [
            "\r76it [2:22:49, 79.57s/it] "
          ],
          "name": "stderr"
        },
        {
          "output_type": "stream",
          "text": [
            "(40, 64, 64)\n",
            "ID00172637202238316925179\n"
          ],
          "name": "stdout"
        },
        {
          "output_type": "stream",
          "text": [
            "\r77it [2:29:57, 183.98s/it]"
          ],
          "name": "stderr"
        },
        {
          "output_type": "stream",
          "text": [
            "(40, 64, 64)\n",
            "ID00173637202238329754031\n"
          ],
          "name": "stdout"
        },
        {
          "output_type": "stream",
          "text": [
            "\r78it [2:35:20, 225.81s/it]"
          ],
          "name": "stderr"
        },
        {
          "output_type": "stream",
          "text": [
            "(40, 64, 64)\n",
            "ID00180637202240177410333\n"
          ],
          "name": "stdout"
        },
        {
          "output_type": "stream",
          "text": [
            "\r79it [2:35:56, 168.93s/it]"
          ],
          "name": "stderr"
        },
        {
          "output_type": "stream",
          "text": [
            "(40, 64, 64)\n",
            "ID00183637202241995351650\n"
          ],
          "name": "stdout"
        },
        {
          "output_type": "stream",
          "text": [
            "\r80it [2:36:53, 135.11s/it]"
          ],
          "name": "stderr"
        },
        {
          "output_type": "stream",
          "text": [
            "(40, 64, 64)\n",
            "ID00184637202242062969203\n"
          ],
          "name": "stdout"
        },
        {
          "output_type": "stream",
          "text": [
            "\r81it [2:40:35, 161.19s/it]"
          ],
          "name": "stderr"
        },
        {
          "output_type": "stream",
          "text": [
            "(40, 64, 64)\n",
            "ID00186637202242472088675\n"
          ],
          "name": "stdout"
        },
        {
          "output_type": "stream",
          "text": [
            "\r82it [2:44:12, 178.05s/it]"
          ],
          "name": "stderr"
        },
        {
          "output_type": "stream",
          "text": [
            "(40, 64, 64)\n",
            "ID00190637202244450116191\n"
          ],
          "name": "stdout"
        },
        {
          "output_type": "stream",
          "text": [
            "\r83it [2:46:38, 168.42s/it]"
          ],
          "name": "stderr"
        },
        {
          "output_type": "stream",
          "text": [
            "(40, 64, 64)\n",
            "ID00192637202245493238298\n"
          ],
          "name": "stdout"
        },
        {
          "output_type": "stream",
          "text": [
            "\r84it [2:48:12, 146.01s/it]"
          ],
          "name": "stderr"
        },
        {
          "output_type": "stream",
          "text": [
            "(40, 64, 64)\n",
            "ID00196637202246668775836\n"
          ],
          "name": "stdout"
        },
        {
          "output_type": "stream",
          "text": [
            "\r85it [2:49:23, 123.47s/it]"
          ],
          "name": "stderr"
        },
        {
          "output_type": "stream",
          "text": [
            "(40, 64, 64)\n",
            "ID00197637202246865691526\n"
          ],
          "name": "stdout"
        },
        {
          "output_type": "stream",
          "text": [
            "\r86it [2:50:36, 108.51s/it]"
          ],
          "name": "stderr"
        },
        {
          "output_type": "stream",
          "text": [
            "(40, 64, 64)\n",
            "ID00199637202248141386743\n"
          ],
          "name": "stdout"
        },
        {
          "output_type": "stream",
          "text": [
            "\r87it [2:57:54, 207.46s/it]"
          ],
          "name": "stderr"
        },
        {
          "output_type": "stream",
          "text": [
            "(40, 64, 64)\n",
            "ID00202637202249376026949\n"
          ],
          "name": "stdout"
        },
        {
          "output_type": "stream",
          "text": [
            "\r88it [2:58:47, 161.02s/it]"
          ],
          "name": "stderr"
        },
        {
          "output_type": "stream",
          "text": [
            "(40, 64, 64)\n",
            "ID00207637202252526380974\n"
          ],
          "name": "stdout"
        },
        {
          "output_type": "stream",
          "text": [
            "\r89it [3:01:36, 163.35s/it]"
          ],
          "name": "stderr"
        },
        {
          "output_type": "stream",
          "text": [
            "(40, 64, 64)\n",
            "ID00210637202257228694086\n"
          ],
          "name": "stdout"
        },
        {
          "output_type": "stream",
          "text": [
            "\r90it [3:04:31, 166.84s/it]"
          ],
          "name": "stderr"
        },
        {
          "output_type": "stream",
          "text": [
            "(40, 64, 64)\n",
            "ID00213637202257692916109\n"
          ],
          "name": "stdout"
        },
        {
          "output_type": "stream",
          "text": [
            "\r91it [3:04:45, 120.95s/it]"
          ],
          "name": "stderr"
        },
        {
          "output_type": "stream",
          "text": [
            "(40, 64, 64)\n",
            "ID00214637202257820847190\n"
          ],
          "name": "stdout"
        },
        {
          "output_type": "stream",
          "text": [
            "\r92it [3:05:01, 89.58s/it] "
          ],
          "name": "stderr"
        },
        {
          "output_type": "stream",
          "text": [
            "(40, 64, 64)\n",
            "ID00216637202257988213445\n"
          ],
          "name": "stdout"
        },
        {
          "output_type": "stream",
          "text": [
            "\r93it [3:05:56, 79.19s/it]"
          ],
          "name": "stderr"
        },
        {
          "output_type": "stream",
          "text": [
            "(40, 64, 64)\n",
            "ID00218637202258156844710\n"
          ],
          "name": "stdout"
        },
        {
          "output_type": "stream",
          "text": [
            "\r94it [3:09:49, 125.22s/it]"
          ],
          "name": "stderr"
        },
        {
          "output_type": "stream",
          "text": [
            "(40, 64, 64)\n",
            "ID00219637202258203123958\n"
          ],
          "name": "stdout"
        },
        {
          "output_type": "stream",
          "text": [
            "\r95it [3:14:09, 165.71s/it]"
          ],
          "name": "stderr"
        },
        {
          "output_type": "stream",
          "text": [
            "(40, 64, 64)\n",
            "ID00221637202258717315571\n"
          ],
          "name": "stdout"
        },
        {
          "output_type": "stream",
          "text": [
            "\r96it [3:14:46, 127.04s/it]"
          ],
          "name": "stderr"
        },
        {
          "output_type": "stream",
          "text": [
            "(40, 64, 64)\n",
            "ID00222637202259066229764\n"
          ],
          "name": "stdout"
        },
        {
          "output_type": "stream",
          "text": [
            "\r97it [3:15:19, 98.90s/it] "
          ],
          "name": "stderr"
        },
        {
          "output_type": "stream",
          "text": [
            "(40, 64, 64)\n",
            "ID00224637202259281193413\n"
          ],
          "name": "stdout"
        },
        {
          "output_type": "stream",
          "text": [
            "\r98it [3:17:24, 106.87s/it]"
          ],
          "name": "stderr"
        },
        {
          "output_type": "stream",
          "text": [
            "(40, 64, 64)\n",
            "ID00225637202259339837603\n"
          ],
          "name": "stdout"
        },
        {
          "output_type": "stream",
          "text": [
            "\r99it [3:20:36, 132.39s/it]"
          ],
          "name": "stderr"
        },
        {
          "output_type": "stream",
          "text": [
            "(40, 64, 64)\n",
            "ID00228637202259965313869\n"
          ],
          "name": "stdout"
        },
        {
          "output_type": "stream",
          "text": [
            "\r100it [3:20:49, 96.55s/it]"
          ],
          "name": "stderr"
        },
        {
          "output_type": "stream",
          "text": [
            "(40, 64, 64)\n",
            "ID00229637202260254240583\n"
          ],
          "name": "stdout"
        },
        {
          "output_type": "stream",
          "text": [
            "\r101it [3:21:46, 84.57s/it]"
          ],
          "name": "stderr"
        },
        {
          "output_type": "stream",
          "text": [
            "(40, 64, 64)\n",
            "ID00232637202260377586117\n"
          ],
          "name": "stdout"
        },
        {
          "output_type": "stream",
          "text": [
            "\r102it [3:25:42, 129.96s/it]"
          ],
          "name": "stderr"
        },
        {
          "output_type": "stream",
          "text": [
            "(40, 64, 64)\n",
            "ID00233637202260580149633\n"
          ],
          "name": "stdout"
        },
        {
          "output_type": "stream",
          "text": [
            "\r103it [3:26:21, 102.79s/it]"
          ],
          "name": "stderr"
        },
        {
          "output_type": "stream",
          "text": [
            "(40, 64, 64)\n",
            "ID00234637202261078001846\n"
          ],
          "name": "stdout"
        },
        {
          "output_type": "stream",
          "text": [
            "\r104it [3:29:21, 125.81s/it]"
          ],
          "name": "stderr"
        },
        {
          "output_type": "stream",
          "text": [
            "(40, 64, 64)\n",
            "ID00235637202261451839085\n"
          ],
          "name": "stdout"
        },
        {
          "output_type": "stream",
          "text": [
            "\r105it [3:29:42, 94.37s/it] "
          ],
          "name": "stderr"
        },
        {
          "output_type": "stream",
          "text": [
            "(40, 64, 64)\n",
            "ID00240637202264138860065\n"
          ],
          "name": "stdout"
        },
        {
          "output_type": "stream",
          "text": [
            "\r106it [3:32:21, 113.96s/it]"
          ],
          "name": "stderr"
        },
        {
          "output_type": "stream",
          "text": [
            "(40, 64, 64)\n",
            "ID00241637202264294508775\n"
          ],
          "name": "stdout"
        },
        {
          "output_type": "stream",
          "text": [
            "\r107it [3:32:36, 84.13s/it] "
          ],
          "name": "stderr"
        },
        {
          "output_type": "stream",
          "text": [
            "(40, 64, 64)\n",
            "ID00242637202264759739921\n"
          ],
          "name": "stdout"
        },
        {
          "output_type": "stream",
          "text": [
            "\r108it [3:32:48, 62.51s/it]"
          ],
          "name": "stderr"
        },
        {
          "output_type": "stream",
          "text": [
            "(40, 64, 64)\n",
            "ID00248637202266698862378\n"
          ],
          "name": "stdout"
        },
        {
          "output_type": "stream",
          "text": [
            "\r109it [3:35:56, 100.11s/it]"
          ],
          "name": "stderr"
        },
        {
          "output_type": "stream",
          "text": [
            "(40, 64, 64)\n",
            "ID00249637202266730854017\n"
          ],
          "name": "stdout"
        },
        {
          "output_type": "stream",
          "text": [
            "\r110it [3:36:14, 75.55s/it] "
          ],
          "name": "stderr"
        },
        {
          "output_type": "stream",
          "text": [
            "(40, 64, 64)\n",
            "ID00251637202267455595113\n"
          ],
          "name": "stdout"
        },
        {
          "output_type": "stream",
          "text": [
            "\r111it [3:36:33, 58.57s/it]"
          ],
          "name": "stderr"
        },
        {
          "output_type": "stream",
          "text": [
            "(40, 64, 64)\n",
            "ID00255637202267923028520\n"
          ],
          "name": "stdout"
        },
        {
          "output_type": "stream",
          "text": [
            "\r112it [3:37:40, 60.98s/it]"
          ],
          "name": "stderr"
        },
        {
          "output_type": "stream",
          "text": [
            "(40, 64, 64)\n",
            "ID00264637202270643353440\n"
          ],
          "name": "stdout"
        },
        {
          "output_type": "stream",
          "text": [
            "\r113it [3:38:27, 56.86s/it]"
          ],
          "name": "stderr"
        },
        {
          "output_type": "stream",
          "text": [
            "(40, 64, 64)\n",
            "ID00267637202270790561585\n"
          ],
          "name": "stdout"
        },
        {
          "output_type": "stream",
          "text": [
            "\r114it [3:39:12, 53.36s/it]"
          ],
          "name": "stderr"
        },
        {
          "output_type": "stream",
          "text": [
            "(40, 64, 64)\n",
            "ID00273637202271319294586\n"
          ],
          "name": "stdout"
        },
        {
          "output_type": "stream",
          "text": [
            "\r115it [3:41:54, 85.80s/it]"
          ],
          "name": "stderr"
        },
        {
          "output_type": "stream",
          "text": [
            "(40, 64, 64)\n",
            "ID00275637202271440119890\n"
          ],
          "name": "stdout"
        },
        {
          "output_type": "stream",
          "text": [
            "\r116it [3:42:11, 65.33s/it]"
          ],
          "name": "stderr"
        },
        {
          "output_type": "stream",
          "text": [
            "(40, 64, 64)\n",
            "ID00276637202271694539978\n"
          ],
          "name": "stdout"
        },
        {
          "output_type": "stream",
          "text": [
            "\r117it [3:42:30, 51.41s/it]"
          ],
          "name": "stderr"
        },
        {
          "output_type": "stream",
          "text": [
            "(40, 64, 64)\n",
            "ID00279637202272164826258\n"
          ],
          "name": "stdout"
        },
        {
          "output_type": "stream",
          "text": [
            "\r118it [3:45:55, 97.40s/it]"
          ],
          "name": "stderr"
        },
        {
          "output_type": "stream",
          "text": [
            "(40, 64, 64)\n",
            "ID00283637202278714365037\n"
          ],
          "name": "stdout"
        },
        {
          "output_type": "stream",
          "text": [
            "\r119it [3:46:19, 75.31s/it]"
          ],
          "name": "stderr"
        },
        {
          "output_type": "stream",
          "text": [
            "(40, 64, 64)\n",
            "ID00285637202278913507108\n"
          ],
          "name": "stdout"
        },
        {
          "output_type": "stream",
          "text": [
            "\r120it [3:46:37, 58.24s/it]"
          ],
          "name": "stderr"
        },
        {
          "output_type": "stream",
          "text": [
            "(40, 64, 64)\n",
            "ID00288637202279148973731\n"
          ],
          "name": "stdout"
        },
        {
          "output_type": "stream",
          "text": [
            "\r121it [3:49:21, 89.85s/it]"
          ],
          "name": "stderr"
        },
        {
          "output_type": "stream",
          "text": [
            "(40, 64, 64)\n",
            "ID00290637202279304677843\n"
          ],
          "name": "stdout"
        },
        {
          "output_type": "stream",
          "text": [
            "\r122it [3:54:39, 158.42s/it]"
          ],
          "name": "stderr"
        },
        {
          "output_type": "stream",
          "text": [
            "(40, 64, 64)\n",
            "ID00291637202279398396106\n"
          ],
          "name": "stdout"
        },
        {
          "output_type": "stream",
          "text": [
            "\r123it [3:55:03, 118.15s/it]"
          ],
          "name": "stderr"
        },
        {
          "output_type": "stream",
          "text": [
            "(40, 64, 64)\n",
            "ID00294637202279614924243\n"
          ],
          "name": "stdout"
        },
        {
          "output_type": "stream",
          "text": [
            "\r124it [3:55:23, 88.62s/it] "
          ],
          "name": "stderr"
        },
        {
          "output_type": "stream",
          "text": [
            "(40, 64, 64)\n",
            "ID00296637202279895784347\n"
          ],
          "name": "stdout"
        },
        {
          "output_type": "stream",
          "text": [
            "\r125it [3:55:44, 68.37s/it]"
          ],
          "name": "stderr"
        },
        {
          "output_type": "stream",
          "text": [
            "(40, 64, 64)\n",
            "ID00298637202280361773446\n"
          ],
          "name": "stdout"
        },
        {
          "output_type": "stream",
          "text": [
            "\r126it [3:56:36, 63.54s/it]"
          ],
          "name": "stderr"
        },
        {
          "output_type": "stream",
          "text": [
            "(40, 64, 64)\n",
            "ID00299637202280383305867\n"
          ],
          "name": "stdout"
        },
        {
          "output_type": "stream",
          "text": [
            "\r127it [3:57:26, 59.41s/it]"
          ],
          "name": "stderr"
        },
        {
          "output_type": "stream",
          "text": [
            "(40, 64, 64)\n",
            "ID00305637202281772703145\n"
          ],
          "name": "stdout"
        },
        {
          "output_type": "stream",
          "text": [
            "\r128it [3:57:48, 48.14s/it]"
          ],
          "name": "stderr"
        },
        {
          "output_type": "stream",
          "text": [
            "(40, 64, 64)\n",
            "ID00307637202282126172865\n"
          ],
          "name": "stdout"
        },
        {
          "output_type": "stream",
          "text": [
            "\r129it [4:03:19, 132.90s/it]"
          ],
          "name": "stderr"
        },
        {
          "output_type": "stream",
          "text": [
            "(40, 64, 64)\n",
            "ID00309637202282195513787\n"
          ],
          "name": "stdout"
        },
        {
          "output_type": "stream",
          "text": [
            "\r130it [4:06:57, 158.68s/it]"
          ],
          "name": "stderr"
        },
        {
          "output_type": "stream",
          "text": [
            "(40, 64, 64)\n",
            "ID00312637202282607344793\n"
          ],
          "name": "stdout"
        },
        {
          "output_type": "stream",
          "text": [
            "\r131it [4:11:31, 193.29s/it]"
          ],
          "name": "stderr"
        },
        {
          "output_type": "stream",
          "text": [
            "(40, 64, 64)\n",
            "ID00317637202283194142136\n"
          ],
          "name": "stdout"
        },
        {
          "output_type": "stream",
          "text": [
            "\r132it [4:11:56, 142.82s/it]"
          ],
          "name": "stderr"
        },
        {
          "output_type": "stream",
          "text": [
            "(40, 64, 64)\n",
            "ID00319637202283897208687\n"
          ],
          "name": "stdout"
        },
        {
          "output_type": "stream",
          "text": [
            "\r133it [4:13:07, 121.21s/it]"
          ],
          "name": "stderr"
        },
        {
          "output_type": "stream",
          "text": [
            "(40, 64, 64)\n",
            "ID00322637202284842245491\n"
          ],
          "name": "stdout"
        },
        {
          "output_type": "stream",
          "text": [
            "\r134it [4:15:33, 128.71s/it]"
          ],
          "name": "stderr"
        },
        {
          "output_type": "stream",
          "text": [
            "(40, 64, 64)\n",
            "ID00323637202285211956970\n"
          ],
          "name": "stdout"
        },
        {
          "output_type": "stream",
          "text": [
            "\r135it [4:18:08, 136.48s/it]"
          ],
          "name": "stderr"
        },
        {
          "output_type": "stream",
          "text": [
            "(40, 64, 64)\n",
            "ID00329637202285906759848\n"
          ],
          "name": "stdout"
        },
        {
          "output_type": "stream",
          "text": [
            "\r136it [4:19:15, 115.53s/it]"
          ],
          "name": "stderr"
        },
        {
          "output_type": "stream",
          "text": [
            "(40, 64, 64)\n",
            "ID00331637202286306023714\n"
          ],
          "name": "stdout"
        },
        {
          "output_type": "stream",
          "text": [
            "\r137it [4:19:34, 86.69s/it] "
          ],
          "name": "stderr"
        },
        {
          "output_type": "stream",
          "text": [
            "(40, 64, 64)\n",
            "ID00335637202286784464927\n"
          ],
          "name": "stdout"
        },
        {
          "output_type": "stream",
          "text": [
            "\r138it [4:19:57, 67.63s/it]"
          ],
          "name": "stderr"
        },
        {
          "output_type": "stream",
          "text": [
            "(40, 64, 64)\n",
            "ID00336637202286801879145\n"
          ],
          "name": "stdout"
        },
        {
          "output_type": "stream",
          "text": [
            "\r139it [4:20:58, 65.52s/it]"
          ],
          "name": "stderr"
        },
        {
          "output_type": "stream",
          "text": [
            "(40, 64, 64)\n",
            "ID00337637202286839091062\n"
          ],
          "name": "stdout"
        },
        {
          "output_type": "stream",
          "text": [
            "\r140it [4:21:31, 55.82s/it]"
          ],
          "name": "stderr"
        },
        {
          "output_type": "stream",
          "text": [
            "(40, 64, 64)\n",
            "ID00339637202287377736231\n"
          ],
          "name": "stdout"
        },
        {
          "output_type": "stream",
          "text": [
            "\r141it [4:21:51, 45.18s/it]"
          ],
          "name": "stderr"
        },
        {
          "output_type": "stream",
          "text": [
            "(40, 64, 64)\n",
            "ID00340637202287399835821\n"
          ],
          "name": "stdout"
        },
        {
          "output_type": "stream",
          "text": [
            "\r142it [4:22:28, 42.58s/it]"
          ],
          "name": "stderr"
        },
        {
          "output_type": "stream",
          "text": [
            "(40, 64, 64)\n",
            "ID00341637202287410878488\n"
          ],
          "name": "stdout"
        },
        {
          "output_type": "stream",
          "text": [
            "\r143it [4:22:46, 35.34s/it]"
          ],
          "name": "stderr"
        },
        {
          "output_type": "stream",
          "text": [
            "(40, 64, 64)\n",
            "ID00342637202287526592911\n"
          ],
          "name": "stdout"
        },
        {
          "output_type": "stream",
          "text": [
            "\r144it [4:23:14, 33.12s/it]"
          ],
          "name": "stderr"
        },
        {
          "output_type": "stream",
          "text": [
            "(40, 64, 64)\n",
            "ID00343637202287577133798\n"
          ],
          "name": "stdout"
        },
        {
          "output_type": "stream",
          "text": [
            "\r145it [4:25:24, 61.99s/it]"
          ],
          "name": "stderr"
        },
        {
          "output_type": "stream",
          "text": [
            "(40, 64, 64)\n",
            "ID00344637202287684217717\n"
          ],
          "name": "stdout"
        },
        {
          "output_type": "stream",
          "text": [
            "\r146it [4:25:48, 50.63s/it]"
          ],
          "name": "stderr"
        },
        {
          "output_type": "stream",
          "text": [
            "(40, 64, 64)\n",
            "ID00351637202289476567312\n"
          ],
          "name": "stdout"
        },
        {
          "output_type": "stream",
          "text": [
            "\r147it [4:26:11, 42.46s/it]"
          ],
          "name": "stderr"
        },
        {
          "output_type": "stream",
          "text": [
            "(40, 64, 64)\n",
            "ID00355637202295106567614\n"
          ],
          "name": "stdout"
        },
        {
          "output_type": "stream",
          "text": [
            "\r148it [4:29:23, 87.24s/it]"
          ],
          "name": "stderr"
        },
        {
          "output_type": "stream",
          "text": [
            "(40, 64, 64)\n",
            "ID00358637202295388077032\n"
          ],
          "name": "stdout"
        },
        {
          "output_type": "stream",
          "text": [
            "\r149it [4:32:33, 118.01s/it]"
          ],
          "name": "stderr"
        },
        {
          "output_type": "stream",
          "text": [
            "(40, 64, 64)\n",
            "ID00360637202295712204040\n"
          ],
          "name": "stdout"
        },
        {
          "output_type": "stream",
          "text": [
            "\r150it [4:32:54, 88.89s/it] "
          ],
          "name": "stderr"
        },
        {
          "output_type": "stream",
          "text": [
            "(40, 64, 64)\n",
            "ID00364637202296074419422\n"
          ],
          "name": "stdout"
        },
        {
          "output_type": "stream",
          "text": [
            "\r151it [4:33:44, 77.19s/it]"
          ],
          "name": "stderr"
        },
        {
          "output_type": "stream",
          "text": [
            "(40, 64, 64)\n",
            "ID00365637202296085035729\n"
          ],
          "name": "stdout"
        },
        {
          "output_type": "stream",
          "text": [
            "\r152it [4:36:41, 107.29s/it]"
          ],
          "name": "stderr"
        },
        {
          "output_type": "stream",
          "text": [
            "(40, 64, 64)\n",
            "ID00367637202296290303449\n"
          ],
          "name": "stdout"
        },
        {
          "output_type": "stream",
          "text": [
            "\r153it [4:40:21, 141.17s/it]"
          ],
          "name": "stderr"
        },
        {
          "output_type": "stream",
          "text": [
            "(40, 64, 64)\n",
            "ID00368637202296470751086\n"
          ],
          "name": "stdout"
        },
        {
          "output_type": "stream",
          "text": [
            "\r154it [4:42:30, 137.40s/it]"
          ],
          "name": "stderr"
        },
        {
          "output_type": "stream",
          "text": [
            "(40, 64, 64)\n",
            "ID00370637202296737666151\n"
          ],
          "name": "stdout"
        },
        {
          "output_type": "stream",
          "text": [
            "\r155it [4:45:55, 157.78s/it]"
          ],
          "name": "stderr"
        },
        {
          "output_type": "stream",
          "text": [
            "(40, 64, 64)\n",
            "ID00371637202296828615743\n"
          ],
          "name": "stdout"
        },
        {
          "output_type": "stream",
          "text": [
            "\r156it [4:50:04, 184.94s/it]"
          ],
          "name": "stderr"
        },
        {
          "output_type": "stream",
          "text": [
            "(40, 64, 64)\n",
            "ID00376637202297677828573\n"
          ],
          "name": "stdout"
        },
        {
          "output_type": "stream",
          "text": [
            "\r157it [4:53:25, 189.99s/it]"
          ],
          "name": "stderr"
        },
        {
          "output_type": "stream",
          "text": [
            "(40, 64, 64)\n",
            "ID00378637202298597306391\n"
          ],
          "name": "stdout"
        },
        {
          "output_type": "stream",
          "text": [
            "\r158it [4:57:29, 206.20s/it]"
          ],
          "name": "stderr"
        },
        {
          "output_type": "stream",
          "text": [
            "(40, 64, 64)\n",
            "ID00381637202299644114027\n"
          ],
          "name": "stdout"
        },
        {
          "output_type": "stream",
          "text": [
            "\r159it [4:57:48, 150.09s/it]"
          ],
          "name": "stderr"
        },
        {
          "output_type": "stream",
          "text": [
            "(40, 64, 64)\n",
            "ID00383637202300493233675\n"
          ],
          "name": "stdout"
        },
        {
          "output_type": "stream",
          "text": [
            "\r160it [5:02:41, 192.70s/it]"
          ],
          "name": "stderr"
        },
        {
          "output_type": "stream",
          "text": [
            "(40, 64, 64)\n",
            "ID00388637202301028491611\n"
          ],
          "name": "stdout"
        },
        {
          "output_type": "stream",
          "text": [
            "\r161it [5:03:29, 149.29s/it]"
          ],
          "name": "stderr"
        },
        {
          "output_type": "stream",
          "text": [
            "(40, 64, 64)\n",
            "ID00392637202302319160044\n"
          ],
          "name": "stdout"
        },
        {
          "output_type": "stream",
          "text": [
            "\r162it [5:08:14, 190.21s/it]"
          ],
          "name": "stderr"
        },
        {
          "output_type": "stream",
          "text": [
            "(40, 64, 64)\n",
            "ID00393637202302431697467\n"
          ],
          "name": "stdout"
        },
        {
          "output_type": "stream",
          "text": [
            "\r163it [5:08:43, 141.72s/it]"
          ],
          "name": "stderr"
        },
        {
          "output_type": "stream",
          "text": [
            "(40, 64, 64)\n",
            "ID00398637202303897337979\n"
          ],
          "name": "stdout"
        },
        {
          "output_type": "stream",
          "text": [
            "\r164it [5:11:24, 147.53s/it]"
          ],
          "name": "stderr"
        },
        {
          "output_type": "stream",
          "text": [
            "(40, 64, 64)\n",
            "ID00400637202305055099402\n"
          ],
          "name": "stdout"
        },
        {
          "output_type": "stream",
          "text": [
            "\r165it [5:11:40, 108.23s/it]"
          ],
          "name": "stderr"
        },
        {
          "output_type": "stream",
          "text": [
            "(40, 64, 64)\n",
            "ID00401637202305320178010\n"
          ],
          "name": "stdout"
        },
        {
          "output_type": "stream",
          "text": [
            "\r166it [5:11:59, 81.26s/it] "
          ],
          "name": "stderr"
        },
        {
          "output_type": "stream",
          "text": [
            "(40, 64, 64)\n",
            "ID00405637202308359492977\n"
          ],
          "name": "stdout"
        },
        {
          "output_type": "stream",
          "text": [
            "\r167it [5:12:32, 66.85s/it]"
          ],
          "name": "stderr"
        },
        {
          "output_type": "stream",
          "text": [
            "(40, 64, 64)\n",
            "ID00407637202308788732304\n"
          ],
          "name": "stdout"
        },
        {
          "output_type": "stream",
          "text": [
            "\r168it [5:13:09, 57.83s/it]"
          ],
          "name": "stderr"
        },
        {
          "output_type": "stream",
          "text": [
            "(40, 64, 64)\n",
            "ID00408637202308839708961\n"
          ],
          "name": "stdout"
        },
        {
          "output_type": "stream",
          "text": [
            "\r169it [5:15:48, 88.30s/it]"
          ],
          "name": "stderr"
        },
        {
          "output_type": "stream",
          "text": [
            "(40, 64, 64)\n",
            "ID00411637202309374271828\n"
          ],
          "name": "stdout"
        },
        {
          "output_type": "stream",
          "text": [
            "\r170it [5:18:34, 111.54s/it]"
          ],
          "name": "stderr"
        },
        {
          "output_type": "stream",
          "text": [
            "(40, 64, 64)\n",
            "ID00414637202310318891556\n"
          ],
          "name": "stdout"
        },
        {
          "output_type": "stream",
          "text": [
            "\r171it [5:19:24, 92.98s/it] "
          ],
          "name": "stderr"
        },
        {
          "output_type": "stream",
          "text": [
            "(40, 64, 64)\n",
            "ID00417637202310901214011\n"
          ],
          "name": "stdout"
        },
        {
          "output_type": "stream",
          "text": [
            "\r172it [5:19:44, 71.27s/it]"
          ],
          "name": "stderr"
        },
        {
          "output_type": "stream",
          "text": [
            "(40, 64, 64)\n",
            "ID00419637202311204720264\n"
          ],
          "name": "stdout"
        },
        {
          "output_type": "stream",
          "text": [
            "\r173it [5:20:27, 62.67s/it]"
          ],
          "name": "stderr"
        },
        {
          "output_type": "stream",
          "text": [
            "(40, 64, 64)\n",
            "ID00421637202311550012437\n"
          ],
          "name": "stdout"
        },
        {
          "output_type": "stream",
          "text": [
            "\r174it [5:24:51, 123.21s/it]"
          ],
          "name": "stderr"
        },
        {
          "output_type": "stream",
          "text": [
            "(40, 64, 64)\n",
            "ID00422637202311677017371\n"
          ],
          "name": "stdout"
        },
        {
          "output_type": "stream",
          "text": [
            "\r175it [5:27:37, 135.81s/it]"
          ],
          "name": "stderr"
        },
        {
          "output_type": "stream",
          "text": [
            "(40, 64, 64)\n",
            "ID00423637202312137826377\n"
          ],
          "name": "stdout"
        },
        {
          "output_type": "stream",
          "text": [
            "176it [5:31:31, 113.02s/it]"
          ],
          "name": "stderr"
        },
        {
          "output_type": "stream",
          "text": [
            "(40, 64, 64)\n",
            "ID00426637202313170790466\n"
          ],
          "name": "stdout"
        },
        {
          "output_type": "stream",
          "text": [
            "\n"
          ],
          "name": "stderr"
        }
      ]
    },
    {
      "cell_type": "code",
      "metadata": {
        "id": "PzJnTIvG8F5-"
      },
      "source": [
        ""
      ],
      "execution_count": 15,
      "outputs": []
    }
  ]
}